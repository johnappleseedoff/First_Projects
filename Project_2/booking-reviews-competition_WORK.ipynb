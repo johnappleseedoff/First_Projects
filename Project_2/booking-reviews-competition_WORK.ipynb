{
 "cells": [
  {
   "cell_type": "code",
   "execution_count": 1,
   "metadata": {
    "collapsed": false,
    "pycharm": {
     "name": "#%%Capture\n"
    }
   },
   "outputs": [],
   "source": [
    "%%capture  \n",
    "import numpy as np  \n",
    "import pandas as pd  \n",
    "import re  \n",
    "import chardet.universaldetector\n",
    "import calendar\n",
    "from IPython.display import display\n",
    "pd.set_option(\"display.max_colwidth\", None)\n",
    "from rich import print    \n",
    "from pprint import pprint\n",
    "import category_encoders as ce\n",
    "from sklearn import preprocessing\n",
    "from sklearn.feature_selection import f_classif\n",
    "from textblob import TextBlob, Blobber\n",
    "from textblob.sentiments import NaiveBayesAnalyzer\n",
    "from afinn import Afinn  \n",
    "import nltk  \n",
    "nltk.download([\n",
    "    \"names\",\n",
    "    \"stopwords\",\n",
    "    \"vader_lexicon\",\n",
    "    \"wordnet\",\n",
    "    \"movie_reviews\"\n",
    "    \"omw-1.4\",\n",
    "    \"punkt\",\n",
    "    \"averaged_perceptron_tagger\"\n",
    "])  \n",
    "from nltk.corpus import wordnet\n",
    "from nltk.stem.wordnet import WordNetLemmatizer\n",
    "from nltk.sentiment.vader import SentimentIntensityAnalyzer\n",
    "\n",
    "# Visualization\n",
    "import matplotlib.pyplot as plt  \n",
    "import seaborn as sns  \n",
    "%matplotlib inline  \n",
    "import plotly  \n",
    "import plotly.express as px  \n",
    "import plotly.graph_objects as go\n",
    "import plotly.figure_factory as ff  \n",
    "from plotly.subplots import make_subplots\n",
    "from plotly.offline import init_notebook_mode, iplot\n",
    "init_notebook_mode(connected=True)\n",
    "\n",
    "# Import geo services  \n",
    "import geopy  \n",
    "from geopy import distance  \n",
    "from geopy.geocoders import Bing  # library import  \n",
    "geolocator = Bing(\n",
    "    api_key=\"ArAEkjZybNV7puDe4lgO9FsX8VssJ57er2SG0SvcuN3YxL0bZ5U9wZUtPlddLrVx\"\n",
    ")  \n",
    "import folium  \n",
    "from folium import Marker  \n",
    "from folium.plugins import MarkerCluster  \n",
    "\n",
    "# Modules for data split, train and evaluation of model\n",
    "from sklearn.model_selection import train_test_split\n",
    "from sklearn.ensemble import RandomForestRegressor\n",
    "from sklearn import metrics"
   ]
  },
  {
   "cell_type": "code",
   "execution_count": 2,
   "metadata": {
    "collapsed": false,
    "pycharm": {
     "name": "#%%\n"
    }
   },
   "outputs": [],
   "source": [
    "# Set constants  \n",
    "RANDOM_SEED = 42  # random seed set\n",
    "DATA_DIR = \"Data/\""
   ]
  },
  {
   "cell_type": "code",
   "execution_count": 3,
   "metadata": {
    "collapsed": false,
    "pycharm": {
     "name": "#%%\n"
    }
   },
   "outputs": [],
   "source": [
    "# Load data  \n",
    "df_train = pd.read_csv(DATA_DIR + \"hotels_train.csv\")\n",
    "df_test = pd.read_csv(DATA_DIR + \"hotels_test.csv\")\n",
    "sample_submission = pd.read_csv(DATA_DIR + \"submission.csv\")"
   ]
  },
  {
   "cell_type": "code",
   "execution_count": 4,
   "metadata": {
    "collapsed": false,
    "pycharm": {
     "name": "#%%\n"
    }
   },
   "outputs": [],
   "source": [
    "# Join train and test data for feature engineering  \n",
    "df_train[\"sample\"] = 1  # train data mark  \n",
    "df_test[\"sample\"] = 0  # test data mark  \n",
    "df_test[\"reviewer_score\"] = 0  # the target variable in test data set 0  \n",
    "\n",
    "data = pd.concat(                           # join datasets\n",
    "                 [df_train, df_test],       \n",
    "                 sort=False\n",
    "                 ).reset_index(drop=True)"
   ]
  },
  {
   "cell_type": "code",
   "execution_count": 5,
   "metadata": {
    "collapsed": false,
    "pycharm": {
     "name": "#%%\n"
    }
   },
   "outputs": [
    {
     "name": "stdout",
     "output_type": "stream",
     "text": [
      "<class 'pandas.core.frame.DataFrame'>\n",
      "RangeIndex: 515738 entries, 0 to 515737\n",
      "Data columns (total 18 columns):\n",
      " #   Column                                      Non-Null Count   Dtype  \n",
      "---  ------                                      --------------   -----  \n",
      " 0   hotel_address                               515738 non-null  object \n",
      " 1   additional_number_of_scoring                515738 non-null  int64  \n",
      " 2   review_date                                 515738 non-null  object \n",
      " 3   average_score                               515738 non-null  float64\n",
      " 4   hotel_name                                  515738 non-null  object \n",
      " 5   reviewer_nationality                        515738 non-null  object \n",
      " 6   negative_review                             515738 non-null  object \n",
      " 7   review_total_negative_word_counts           515738 non-null  int64  \n",
      " 8   total_number_of_reviews                     515738 non-null  int64  \n",
      " 9   positive_review                             515738 non-null  object \n",
      " 10  review_total_positive_word_counts           515738 non-null  int64  \n",
      " 11  total_number_of_reviews_reviewer_has_given  515738 non-null  int64  \n",
      " 12  reviewer_score                              515738 non-null  float64\n",
      " 13  tags                                        515738 non-null  object \n",
      " 14  days_since_review                           515738 non-null  object \n",
      " 15  lat                                         512470 non-null  float64\n",
      " 16  lng                                         512470 non-null  float64\n",
      " 17  sample                                      515738 non-null  int64  \n",
      "dtypes: float64(4), int64(6), object(8)\n",
      "memory usage: 70.8+ MB\n"
     ]
    }
   ],
   "source": [
    "data.info()  "
   ]
  },
  {
   "cell_type": "markdown",
   "metadata": {
    "collapsed": false,
    "pycharm": {
     "name": "#%% md\n"
    }
   },
   "source": [
    "### \"The Features Of The Hotels\"\n",
    "Look at missing data in **latitudes** and **longitudes** of hotels geo positions:"
   ]
  },
  {
   "cell_type": "code",
   "execution_count": 6,
   "metadata": {
    "collapsed": false,
    "pycharm": {
     "name": "#%%\n"
    }
   },
   "outputs": [],
   "source": [
    "# Missing data count  \n",
    "def get_nan_cols(df):\n",
    "    \"\"\"\" Count missing data in dataframe by feature in percents \"\"\"  \n",
    "    \n",
    "    features_null_percent = df.isnull().mean().round(5) * 100  \n",
    "    cols_with_null = features_null_percent[\n",
    "                        features_null_percent > 0].sort_values(ascending=False)  \n",
    "    display(cols_with_null)  "
   ]
  },
  {
   "cell_type": "code",
   "execution_count": 8,
   "metadata": {
    "collapsed": false,
    "pycharm": {
     "name": "#%%\n"
    }
   },
   "outputs": [
    {
     "data": {
      "text/html": [
       "<pre style=\"white-space:pre;overflow-x:auto;line-height:normal;font-family:Menlo,'DejaVu Sans Mono',consolas,'Courier New',monospace\"><span style=\"color: #800080; text-decoration-color: #800080\">Percents of missing data</span>\n",
       "</pre>\n"
      ],
      "text/plain": [
       "\u001b[35mPercents of missing data\u001b[0m\n"
      ]
     },
     "metadata": {},
     "output_type": "display_data"
    },
    {
     "data": {
      "text/plain": [
       "lat    0.634\n",
       "lng    0.634\n",
       "dtype: float64"
      ]
     },
     "metadata": {},
     "output_type": "display_data"
    },
    {
     "data": {
      "text/html": [
       "<pre style=\"white-space:pre;overflow-x:auto;line-height:normal;font-family:Menlo,'DejaVu Sans Mono',consolas,'Courier New',monospace\">\n",
       "</pre>\n"
      ],
      "text/plain": [
       "\n"
      ]
     },
     "metadata": {},
     "output_type": "display_data"
    },
    {
     "data": {
      "text/html": [
       "<pre style=\"white-space:pre;overflow-x:auto;line-height:normal;font-family:Menlo,'DejaVu Sans Mono',consolas,'Courier New',monospace\"><span style=\"color: #800080; text-decoration-color: #800080\">Number of rows with missing data: </span><span style=\"color: #800080; text-decoration-color: #800080; font-weight: bold\">3268</span>\n",
       "</pre>\n"
      ],
      "text/plain": [
       "\u001b[35mNumber of rows with missing data: \u001b[0m\u001b[1;35m3268\u001b[0m\n"
      ]
     },
     "metadata": {},
     "output_type": "display_data"
    }
   ],
   "source": [
    "# Look at missing data  \n",
    "print(\"[magenta]Percents of missing data\")\n",
    "get_nan_cols(data)  \n",
    "num = data[(data[\"lat\"].isna()) | (data[\"lng\"].isna())].shape[0]\n",
    "print()\n",
    "print(f\"[magenta]Number of rows with missing data: [magenta bold]{num}\")"
   ]
  },
  {
   "cell_type": "code",
   "execution_count": null,
   "metadata": {},
   "outputs": [],
   "source": [
    "hotels_null = pd.read_csv(DATA_DIR + \"long_lang.csv\", index_col=\"Unnamed: 0\")"
   ]
  },
  {
   "cell_type": "code",
   "execution_count": 9,
   "metadata": {
    "collapsed": false,
    "pycharm": {
     "name": "#%%\n"
    }
   },
   "outputs": [],
   "source": [
    "# Add filled data to main dataframe  \n",
    "data = data.merge(hotels_null, how=\"left\", on=\"hotel_name\")  \n",
    "data[\"lat\"] = data[\"lat_x\"].fillna(data[\"lat_y\"])  # fix latitude  \n",
    "data[\"lng\"] = data[\"lng_x\"].fillna(data[\"lng_y\"])  # fix longitude  \n",
    "\n",
    "# Drop unnecessary columns  \n",
    "data.drop(\n",
    "    columns=[\"lat_x\", \"lng_x\", \"lat_y\", \"lng_y\", \"hotel_address_y\"], \n",
    "    inplace=True\n",
    ")  \n",
    "\n",
    "# Some makeup))\n",
    "data.rename(\n",
    "    columns={\"hotel_address_x\":\"hotel_address\"}, \n",
    "    inplace=True\n",
    ")    "
   ]
  },
  {
   "cell_type": "markdown",
   "metadata": {
    "collapsed": false,
    "pycharm": {
     "name": "#%% md\n"
    }
   },
   "source": [
    "Unique hotels throughout dataframe"
   ]
  },
  {
   "cell_type": "code",
   "execution_count": 10,
   "metadata": {
    "collapsed": false,
    "pycharm": {
     "name": "#%%\n"
    }
   },
   "outputs": [],
   "source": [
    "# Filter unique hotels in dataframe\n",
    "hotels_unique = data[\n",
    "                     [\"hotel_address\", \"hotel_name\", \"lat\", \"lng\"]\n",
    "                    ].drop_duplicates()  \n",
    "\n",
    "# Add the map  \n",
    "#m_1 = folium.Map(\n",
    "#    tiles=\"openstreetmap\", \n",
    "#    zoom_start=5, \n",
    "#    location=[48.779124, 9.180090]\n",
    "#)\n",
    "\n",
    "# Add points to the map  \n",
    "#hotels = MarkerCluster()  \n",
    "#for idx, row in hotels_unique.iterrows():\n",
    "#    hotels.add_child(Marker([row[\"lat\"], row[\"lng\"]]))  \n",
    "#m_1.add_child(hotels)  \n",
    "#m_1  "
   ]
  },
  {
   "cell_type": "markdown",
   "metadata": {
    "collapsed": false,
    "pycharm": {
     "name": "#%% md\n"
    }
   },
   "source": [
    "There are 1494 unique hotels with unique addresses in 6 cities. 2 new features would be created:<br>\n",
    "city of hotel and distance to centre of city from hotel<br>\n",
    "Data of city centres was get from: https://simplemaps.com/data/world-cities"
   ]
  },
  {
   "cell_type": "code",
   "execution_count": 11,
   "metadata": {
    "collapsed": false,
    "pycharm": {
     "name": "#%%\n"
    }
   },
   "outputs": [
    {
     "data": {
      "text/html": [
       "<pre style=\"white-space:pre;overflow-x:auto;line-height:normal;font-family:Menlo,'DejaVu Sans Mono',consolas,'Courier New',monospace\"><span style=\"color: #800080; text-decoration-color: #800080\">Dataset with centres coordinates</span>\n",
       "</pre>\n"
      ],
      "text/plain": [
       "\u001b[35mDataset with centres coordinates\u001b[0m\n"
      ]
     },
     "metadata": {},
     "output_type": "display_data"
    },
    {
     "data": {
      "text/html": [
       "<div>\n",
       "<style scoped>\n",
       "    .dataframe tbody tr th:only-of-type {\n",
       "        vertical-align: middle;\n",
       "    }\n",
       "\n",
       "    .dataframe tbody tr th {\n",
       "        vertical-align: top;\n",
       "    }\n",
       "\n",
       "    .dataframe thead th {\n",
       "        text-align: right;\n",
       "    }\n",
       "</style>\n",
       "<table border=\"1\" class=\"dataframe\">\n",
       "  <thead>\n",
       "    <tr style=\"text-align: right;\">\n",
       "      <th></th>\n",
       "      <th>hotel_country</th>\n",
       "      <th>hotel_city</th>\n",
       "      <th>cent_lat</th>\n",
       "      <th>cent_lng</th>\n",
       "    </tr>\n",
       "  </thead>\n",
       "  <tbody>\n",
       "    <tr>\n",
       "      <th>0</th>\n",
       "      <td>United Kingdom</td>\n",
       "      <td>London</td>\n",
       "      <td>51.5072</td>\n",
       "      <td>-0.1275</td>\n",
       "    </tr>\n",
       "    <tr>\n",
       "      <th>1</th>\n",
       "      <td>France</td>\n",
       "      <td>Paris</td>\n",
       "      <td>48.8566</td>\n",
       "      <td>2.3522</td>\n",
       "    </tr>\n",
       "    <tr>\n",
       "      <th>2</th>\n",
       "      <td>Netherlands</td>\n",
       "      <td>Amsterdam</td>\n",
       "      <td>52.3667</td>\n",
       "      <td>4.8833</td>\n",
       "    </tr>\n",
       "    <tr>\n",
       "      <th>3</th>\n",
       "      <td>Italy</td>\n",
       "      <td>Milan</td>\n",
       "      <td>45.4669</td>\n",
       "      <td>9.1900</td>\n",
       "    </tr>\n",
       "    <tr>\n",
       "      <th>4</th>\n",
       "      <td>Austria</td>\n",
       "      <td>Vienna</td>\n",
       "      <td>48.2083</td>\n",
       "      <td>16.3725</td>\n",
       "    </tr>\n",
       "    <tr>\n",
       "      <th>5</th>\n",
       "      <td>Spain</td>\n",
       "      <td>Barcelona</td>\n",
       "      <td>41.3825</td>\n",
       "      <td>2.1769</td>\n",
       "    </tr>\n",
       "  </tbody>\n",
       "</table>\n",
       "</div>"
      ],
      "text/plain": [
       "    hotel_country hotel_city  cent_lat  cent_lng\n",
       "0  United Kingdom     London   51.5072   -0.1275\n",
       "1          France      Paris   48.8566    2.3522\n",
       "2     Netherlands  Amsterdam   52.3667    4.8833\n",
       "3           Italy      Milan   45.4669    9.1900\n",
       "4         Austria     Vienna   48.2083   16.3725\n",
       "5           Spain  Barcelona   41.3825    2.1769"
      ]
     },
     "metadata": {},
     "output_type": "display_data"
    }
   ],
   "source": [
    "# Set city of hotel\n",
    "def get_city_hotel(address):\n",
    "    \"\"\"Get city from address\"\"\"  \n",
    "    \n",
    "    if \"United Kingdom\" in address:\n",
    "        city = \"London\"  \n",
    "    else:\n",
    "        city = address.split()[-2]  \n",
    "    return city\n",
    "\n",
    "# The city of the hotel feature\n",
    "hotels_unique[\"hotel_city\"] = hotels_unique[\n",
    "                                        \"hotel_address\"].apply(get_city_hotel)\n",
    "\n",
    "\n",
    "\n",
    "# Import data of the centres of the cities\n",
    "centres_data = pd.read_csv(DATA_DIR + \"centres.csv\")\n",
    "print(\"[magenta]Dataset with centres coordinates\")\n",
    "display(centres_data)  \n",
    "\n",
    "# Add centres of the cities  \n",
    "hotels_unique = hotels_unique.merge(centres_data, how=\"left\", on=\"hotel_city\")  \n",
    "\n",
    "# Create distance to centre feature\n",
    "hotels_unique[\"cent_dist\"] = hotels_unique.apply(\n",
    "                                            lambda x: \n",
    "                                            distance.distance(           \n",
    "                                                (x[\"lat\"], x[\"lng\"]),\n",
    "                                                (x[\"cent_lat\"], x[\"cent_lng\"])\n",
    "                                            ).km, \n",
    "                                            axis=1\n",
    ")  \n",
    "\n",
    "# Add data to main dataframe  \n",
    "data = data.merge(hotels_unique, how=\"left\", on=[\"hotel_name\", \"lat\", \"lng\"])\n",
    "\n",
    "# Drop unnecessary columns \n",
    "data.drop([\n",
    "    \"hotel_address_x\", \"hotel_address_y\", \"lat\", \"lng\", \"cent_lat\", \n",
    "    \"cent_lng\",\"hotel_country\"\n",
    "    ], \n",
    "    axis=1, \n",
    "    inplace=True\n",
    ")  \n",
    "\n",
    "# Add city names to distinguish hotels with similar names  \n",
    "data[\"hotel_name\"] = data.apply(\n",
    "                            lambda x: \n",
    "                            (x[\"hotel_name\"] + \", \" + x[\"hotel_city\"]), \n",
    "                            axis=1\n",
    ")"
   ]
  },
  {
   "cell_type": "markdown",
   "metadata": {
    "collapsed": false,
    "pycharm": {
     "name": "#%% md\n"
    }
   },
   "source": [
    "Encode hotel names"
   ]
  },
  {
   "cell_type": "code",
   "execution_count": 12,
   "metadata": {
    "collapsed": false,
    "pycharm": {
     "name": "#%%\n"
    }
   },
   "outputs": [
    {
     "data": {
      "text/html": [
       "<pre style=\"white-space:pre;overflow-x:auto;line-height:normal;font-family:Menlo,'DejaVu Sans Mono',consolas,'Courier New',monospace\"><span style=\"color: #800080; text-decoration-color: #800080\">Number of filtered hotels: </span><span style=\"color: #800080; text-decoration-color: #800080; font-weight: bold\">211</span>\n",
       "</pre>\n"
      ],
      "text/plain": [
       "\u001b[35mNumber of filtered hotels: \u001b[0m\u001b[1;35m211\u001b[0m\n"
      ]
     },
     "metadata": {},
     "output_type": "display_data"
    },
    {
     "data": {
      "text/html": [
       "<pre style=\"white-space:pre;overflow-x:auto;line-height:normal;font-family:Menlo,'DejaVu Sans Mono',consolas,'Courier New',monospace\"><span style=\"color: #800080; text-decoration-color: #800080\">Number of result hotels categories: </span><span style=\"color: #800080; text-decoration-color: #800080; font-weight: bold\">212</span>\n",
       "</pre>\n"
      ],
      "text/plain": [
       "\u001b[35mNumber of result hotels categories: \u001b[0m\u001b[1;35m212\u001b[0m\n"
      ]
     },
     "metadata": {},
     "output_type": "display_data"
    }
   ],
   "source": [
    "# Choose unique hotels\n",
    "mask = data[\"sample\"] == 1 # as reviewers_score = 0 on sample = 0\n",
    "hotels_unique = data[mask].groupby(\n",
    "                                [\"hotel_name\", \"total_number_of_reviews\"]\n",
    "                                )[\"reviewer_score\"].agg(\n",
    "                                    [\"mean\"]\n",
    "                                    ).reset_index().rename(\n",
    "                                        columns={\"mean\":\"mean_rev_score\"}\n",
    ")  \n",
    "\n",
    "mask_hotel = (hotels_unique[\"mean_rev_score\"] >= 9) &\\\n",
    "                                (hotels_unique[\"total_number_of_reviews\"] > 350)  \n",
    "filtered_hotels = hotels_unique[mask_hotel]\n",
    "print(f\"[magenta]Number of filtered hotels: [magenta bold]{len(filtered_hotels)}\")\n",
    "\n",
    "# Create filtered hotel names feature\n",
    "hotels_unique[\"h_name_fix\"] = hotels_unique[\"hotel_name\"].apply(\n",
    "                                lambda name: name\n",
    "                                if name in filtered_hotels[\"hotel_name\"].values\n",
    "                                else \"other\"\n",
    ")  \n",
    "\n",
    "uh = hotels_unique[\"h_name_fix\"].nunique()  \n",
    "print(f\"[magenta]Number of result hotels categories: [magenta bold]{uh}\")\n",
    "\n",
    "# Hotel names encode  \n",
    "hotels_unique[\"h_name_fix\"] = hotels_unique[\"h_name_fix\"].astype(\"category\")  # for encoding\n",
    "\n",
    "ord_encoder = ce.OrdinalEncoder()  \n",
    "hotels_temp = ord_encoder.fit_transform(hotels_unique[[\"h_name_fix\"]])  \n",
    "hotels_temp.rename(columns = {\"h_name_fix\":\"hotel_enc\"}, inplace = True)  # to distinguish features  \n",
    "hotels_unique = pd.concat([hotels_unique, hotels_temp], axis=1)   \n",
    "\n",
    "# Drop unnecessary column  \n",
    "hotels_unique.drop([\"h_name_fix\", \"mean_rev_score\"], axis=1, inplace=True)  \n",
    "\n",
    "# Gather data into main dataframe  \n",
    "data = data.merge(hotels_unique, how=\"left\", on=[\n",
    "                                    \"hotel_name\", \"total_number_of_reviews\"\n",
    "                                    ]\n",
    ")"
   ]
  },
  {
   "cell_type": "markdown",
   "metadata": {
    "collapsed": false,
    "pycharm": {
     "name": "#%% md\n"
    }
   },
   "source": [
    "Encode hotel cities"
   ]
  },
  {
   "cell_type": "markdown",
   "metadata": {
    "collapsed": false,
    "pycharm": {
     "name": "#%% md\n"
    }
   },
   "source": [
    "Divide cities into 3 groups by reviewers' scores:\n",
    "1. Barcelona & Vienna: 3\n",
    "2. Amsterdam & Milan: 2\n",
    "3. London & Paris: 1"
   ]
  },
  {
   "cell_type": "code",
   "execution_count": 13,
   "metadata": {
    "collapsed": false,
    "pycharm": {
     "name": "#%%\n"
    }
   },
   "outputs": [],
   "source": [
    "def city_enc(city):\n",
    "    \"\"\" Encode cities \"\"\"\n",
    "    \n",
    "    if (city == \"Barcelona\") or (city == \"Vienna\"):\n",
    "        result = 3  \n",
    "    if (city == \"Amsterdam\") or (city == \"Milan\"):\n",
    "        result = 2  \n",
    "    if (city == \"London\") or (city == \"Paris\"):\n",
    "        result = 1  \n",
    "    return result\n",
    "\n",
    "data[\"hotel_city_enc\"] = data[\"hotel_city\"].apply(city_enc)   "
   ]
  },
  {
   "cell_type": "markdown",
   "metadata": {
    "collapsed": false,
    "pycharm": {
     "name": "#%% md\n"
    }
   },
   "source": [
    "As we know average_score and reviewers score, so we can calculate their ratio.<br>\n",
    "If the ratio is less than 1, then the average score of the hotel is growning, and we would mark it with 1.<br>\n",
    "In other cases(ratio is equal or more than 1) it will be marked with 0."
   ]
  },
  {
   "cell_type": "code",
   "execution_count": 14,
   "metadata": {
    "collapsed": false,
    "pycharm": {
     "name": "#%%\n"
    }
   },
   "outputs": [
    {
     "data": {
      "text/html": [
       "<pre style=\"white-space:pre;overflow-x:auto;line-height:normal;font-family:Menlo,'DejaVu Sans Mono',consolas,'Courier New',monospace\"><span style=\"color: #800080; text-decoration-color: #800080\">Result pivot_table</span>\n",
       "</pre>\n"
      ],
      "text/plain": [
       "\u001b[35mResult pivot_table\u001b[0m\n"
      ]
     },
     "metadata": {},
     "output_type": "display_data"
    },
    {
     "data": {
      "text/html": [
       "<div>\n",
       "<style scoped>\n",
       "    .dataframe tbody tr th:only-of-type {\n",
       "        vertical-align: middle;\n",
       "    }\n",
       "\n",
       "    .dataframe tbody tr th {\n",
       "        vertical-align: top;\n",
       "    }\n",
       "\n",
       "    .dataframe thead th {\n",
       "        text-align: right;\n",
       "    }\n",
       "</style>\n",
       "<table border=\"1\" class=\"dataframe\">\n",
       "  <thead>\n",
       "    <tr style=\"text-align: right;\">\n",
       "      <th></th>\n",
       "      <th>hotel_name</th>\n",
       "      <th>average_score</th>\n",
       "      <th>mean_rev_score</th>\n",
       "      <th>growth_index</th>\n",
       "      <th>hotel_growth_enc</th>\n",
       "    </tr>\n",
       "  </thead>\n",
       "  <tbody>\n",
       "    <tr>\n",
       "      <th>0</th>\n",
       "      <td>11 Cadogan Gardens, London</td>\n",
       "      <td>8.7</td>\n",
       "      <td>8.988182</td>\n",
       "      <td>0.968</td>\n",
       "      <td>1</td>\n",
       "    </tr>\n",
       "    <tr>\n",
       "      <th>1</th>\n",
       "      <td>1K Hotel, Paris</td>\n",
       "      <td>7.7</td>\n",
       "      <td>7.932432</td>\n",
       "      <td>0.971</td>\n",
       "      <td>1</td>\n",
       "    </tr>\n",
       "    <tr>\n",
       "      <th>2</th>\n",
       "      <td>25hours Hotel beim MuseumsQuartier, Vienna</td>\n",
       "      <td>8.8</td>\n",
       "      <td>8.998614</td>\n",
       "      <td>0.978</td>\n",
       "      <td>1</td>\n",
       "    </tr>\n",
       "    <tr>\n",
       "      <th>3</th>\n",
       "      <td>41, London</td>\n",
       "      <td>9.6</td>\n",
       "      <td>9.729870</td>\n",
       "      <td>0.987</td>\n",
       "      <td>1</td>\n",
       "    </tr>\n",
       "    <tr>\n",
       "      <th>4</th>\n",
       "      <td>45 Park Lane Dorchester Collection, London</td>\n",
       "      <td>9.4</td>\n",
       "      <td>9.534783</td>\n",
       "      <td>0.986</td>\n",
       "      <td>1</td>\n",
       "    </tr>\n",
       "    <tr>\n",
       "      <th>...</th>\n",
       "      <td>...</td>\n",
       "      <td>...</td>\n",
       "      <td>...</td>\n",
       "      <td>...</td>\n",
       "      <td>...</td>\n",
       "    </tr>\n",
       "    <tr>\n",
       "      <th>1489</th>\n",
       "      <td>citizenM London Bankside, London</td>\n",
       "      <td>9.1</td>\n",
       "      <td>9.110308</td>\n",
       "      <td>0.999</td>\n",
       "      <td>1</td>\n",
       "    </tr>\n",
       "    <tr>\n",
       "      <th>1490</th>\n",
       "      <td>citizenM London Shoreditch, London</td>\n",
       "      <td>9.1</td>\n",
       "      <td>9.096314</td>\n",
       "      <td>1.000</td>\n",
       "      <td>0</td>\n",
       "    </tr>\n",
       "    <tr>\n",
       "      <th>1491</th>\n",
       "      <td>citizenM Tower of London, London</td>\n",
       "      <td>9.1</td>\n",
       "      <td>9.124259</td>\n",
       "      <td>0.997</td>\n",
       "      <td>1</td>\n",
       "    </tr>\n",
       "    <tr>\n",
       "      <th>1492</th>\n",
       "      <td>every hotel Piccadilly, London</td>\n",
       "      <td>8.8</td>\n",
       "      <td>8.975980</td>\n",
       "      <td>0.980</td>\n",
       "      <td>1</td>\n",
       "    </tr>\n",
       "    <tr>\n",
       "      <th>1493</th>\n",
       "      <td>pentahotel Vienna, Vienna</td>\n",
       "      <td>8.5</td>\n",
       "      <td>8.370526</td>\n",
       "      <td>1.015</td>\n",
       "      <td>0</td>\n",
       "    </tr>\n",
       "  </tbody>\n",
       "</table>\n",
       "<p>1494 rows × 5 columns</p>\n",
       "</div>"
      ],
      "text/plain": [
       "                                      hotel_name  average_score  \\\n",
       "0                     11 Cadogan Gardens, London            8.7   \n",
       "1                                1K Hotel, Paris            7.7   \n",
       "2     25hours Hotel beim MuseumsQuartier, Vienna            8.8   \n",
       "3                                     41, London            9.6   \n",
       "4     45 Park Lane Dorchester Collection, London            9.4   \n",
       "...                                          ...            ...   \n",
       "1489            citizenM London Bankside, London            9.1   \n",
       "1490          citizenM London Shoreditch, London            9.1   \n",
       "1491            citizenM Tower of London, London            9.1   \n",
       "1492              every hotel Piccadilly, London            8.8   \n",
       "1493                   pentahotel Vienna, Vienna            8.5   \n",
       "\n",
       "      mean_rev_score  growth_index  hotel_growth_enc  \n",
       "0           8.988182         0.968                 1  \n",
       "1           7.932432         0.971                 1  \n",
       "2           8.998614         0.978                 1  \n",
       "3           9.729870         0.987                 1  \n",
       "4           9.534783         0.986                 1  \n",
       "...              ...           ...               ...  \n",
       "1489        9.110308         0.999                 1  \n",
       "1490        9.096314         1.000                 0  \n",
       "1491        9.124259         0.997                 1  \n",
       "1492        8.975980         0.980                 1  \n",
       "1493        8.370526         1.015                 0  \n",
       "\n",
       "[1494 rows x 5 columns]"
      ]
     },
     "metadata": {},
     "output_type": "display_data"
    }
   ],
   "source": [
    "# Filter necessary data   \n",
    "mask = data[\"sample\"] == 1 # as reviewers_score = 0 on sample = 0\n",
    "average_pivot = data[mask].groupby(\n",
    "                                [\"hotel_name\", \"average_score\"]\n",
    "                                )[\"reviewer_score\"].agg(\n",
    "                                    [\"mean\"]\n",
    "                                    ).reset_index().rename(\n",
    "                                        columns={\"mean\":\"mean_rev_score\"}\n",
    ")  \n",
    "\n",
    "# Calculate ratio of scores  \n",
    "average_pivot[\"growth_index\"] = round(\n",
    "                                    average_pivot[\"average_score\"]/\n",
    "                                    average_pivot[\"mean_rev_score\"], \n",
    "                                    3\n",
    ")  \n",
    "\n",
    "# Mark growth  \n",
    "average_pivot[\"hotel_growth_enc\"] = average_pivot[\"growth_index\"].apply(\n",
    "                                                    lambda x: 1 if x < 1 else 0\n",
    ")  \n",
    "print(f\"[magenta]Result pivot_table\")\n",
    "display(average_pivot)  \n",
    "\n",
    "# Drop unnecessary columns  \n",
    "average_pivot.drop([\"mean_rev_score\", \"growth_index\"], axis=1, inplace=True)  \n",
    "\n",
    "# Add new feature to main dataframe  \n",
    "data = data.merge(average_pivot, how=\"left\", on=[\"hotel_name\", \"average_score\"])  "
   ]
  },
  {
   "cell_type": "markdown",
   "metadata": {
    "collapsed": false,
    "pycharm": {
     "name": "#%% md\n"
    }
   },
   "source": [
    "### \"Fantastic Reviewers and Where to Find Them\""
   ]
  },
  {
   "cell_type": "markdown",
   "metadata": {
    "collapsed": false,
    "pycharm": {
     "name": "#%% md\n"
    }
   },
   "source": [
    "We have features: **additional_number_of_scoring**(scores without reviews) and **total_number_of_reviews**(scores with reviews).<br>\n",
    "Well, scores without reviews are rather **suspicious**, so let's calculate the ratio of number of scores without reviews and number of all scores. "
   ]
  },
  {
   "cell_type": "code",
   "execution_count": 15,
   "metadata": {
    "collapsed": false,
    "pycharm": {
     "name": "#%%\n"
    }
   },
   "outputs": [
    {
     "data": {
      "text/html": [
       "<pre style=\"white-space:pre;overflow-x:auto;line-height:normal;font-family:Menlo,'DejaVu Sans Mono',consolas,'Courier New',monospace\"><span style=\"color: #800080; text-decoration-color: #800080\">Unique ratio values</span>\n",
       "</pre>\n"
      ],
      "text/plain": [
       "\u001b[35mUnique ratio values\u001b[0m\n"
      ]
     },
     "metadata": {},
     "output_type": "display_data"
    },
    {
     "name": "stdout",
     "output_type": "stream",
     "text": [
      "19.0    44158\n",
      "9.0     39392\n",
      "18.0    35716\n",
      "20.0    33675\n",
      "8.0     30608\n",
      "11.0    29992\n",
      "10.0    27238\n",
      "13.0    26718\n",
      "23.0    25481\n",
      "16.0    24901\n",
      "12.0    24686\n",
      "15.0    24123\n",
      "14.0    23839\n",
      "7.0     23550\n",
      "21.0    22627\n",
      "17.0    18701\n",
      "22.0    14956\n",
      "24.0    12717\n",
      "6.0     11907\n",
      "5.0      8697\n",
      "25.0     8228\n",
      "4.0      1932\n",
      "26.0     1521\n",
      "28.0      166\n",
      "2.0        94\n",
      "3.0        78\n",
      "27.0       37\n",
      "Name: score_ratio, dtype: int64\n"
     ]
    },
    {
     "data": {
      "text/html": [
       "<pre style=\"white-space:pre;overflow-x:auto;line-height:normal;font-family:Menlo,'DejaVu Sans Mono',consolas,'Courier New',monospace\">\n",
       "</pre>\n"
      ],
      "text/plain": [
       "\n"
      ]
     },
     "metadata": {},
     "output_type": "display_data"
    },
    {
     "data": {
      "text/html": [
       "<pre style=\"white-space:pre;overflow-x:auto;line-height:normal;font-family:Menlo,'DejaVu Sans Mono',consolas,'Courier New',monospace\"><span style=\"color: #800080; text-decoration-color: #800080\">Amount of hotels by level of suspicion</span>\n",
       "</pre>\n"
      ],
      "text/plain": [
       "\u001b[35mAmount of hotels by level of suspicion\u001b[0m\n"
      ]
     },
     "metadata": {},
     "output_type": "display_data"
    },
    {
     "data": {
      "text/plain": [
       "0    430005\n",
       "1     75781\n",
       "2      9952\n",
       "Name: suspicion_enc, dtype: int64"
      ]
     },
     "execution_count": 15,
     "metadata": {},
     "output_type": "execute_result"
    }
   ],
   "source": [
    "# Number of all scores\n",
    "all_scores = data[\"additional_number_of_scoring\"] + data[\"total_number_of_reviews\"]  \n",
    "\n",
    "# Calculate ratio of scores in percents  \n",
    "data[\"score_ratio\"] = round(                                  \n",
    "                            data[\"additional_number_of_scoring\"]/all_scores, \n",
    "                            2\n",
    "                           ) * 100  \n",
    "print(f\"[magenta]Unique ratio values\")\n",
    "pprint(data[\"score_ratio\"].value_counts(), width=79, compact=True)  \n",
    "\n",
    "\"\"\" \n",
    "    There are different values from 2 percents to 28 percents.\n",
    "    I think it is very suspicious, when ratio was higher than 25 percents.\n",
    "    So let's divide ratios in 3 groups:\n",
    "    ratio <= 20%, 20 < ratio < 25, ratio >= 25%  \n",
    "    \n",
    "\"\"\"\n",
    "\n",
    "# Encode level of suspicion  \n",
    "def ratio_encoding(ratio):\n",
    "    \"\"\" Encode level of suspicion \"\"\"  \n",
    "    \n",
    "    if ratio <= 20:\n",
    "        x = 0  \n",
    "    if (ratio > 20) and (ratio < 25):\n",
    "        x = 1  \n",
    "    if ratio >= 25:\n",
    "        x = 2  \n",
    "    return x  \n",
    "\n",
    "\n",
    "data[\"suspicion_enc\"] = data[\"score_ratio\"].apply(ratio_encoding)  \n",
    "\n",
    "data.drop([\"score_ratio\"], axis=1, inplace=True)  \n",
    "\n",
    "print()  \n",
    "print(f\"[magenta]Amount of hotels by level of suspicion\")\n",
    "data[\"suspicion_enc\"].value_counts()  # amount of hotels by level of suspicion  "
   ]
  },
  {
   "cell_type": "markdown",
   "metadata": {
    "collapsed": false,
    "pycharm": {
     "name": "#%% md\n"
    }
   },
   "source": []
  },
  {
   "cell_type": "code",
   "execution_count": 16,
   "metadata": {
    "collapsed": false,
    "pycharm": {
     "name": "#%%\n"
    }
   },
   "outputs": [],
   "source": [
    "# Review_date fix  \n",
    "data[\"review_date\"] = pd.to_datetime(data[\"review_date\"])\n",
    "data[\"review_month\"] = data[\"review_date\"].apply(lambda x: x.month)\n",
    "\n",
    "# Days_since_review fix  \n",
    "data[\"days_since_review\"] = data[\"days_since_review\"].apply(\n",
    "                                               lambda x: int(x.split()[0])\n",
    ")  \n",
    "\n",
    "# Drop unnecessary columns\n",
    "data.drop([\"review_date\"], axis=1, inplace=True)"
   ]
  },
  {
   "cell_type": "markdown",
   "metadata": {
    "collapsed": false,
    "pycharm": {
     "name": "#%% md\n"
    }
   },
   "source": [
    "Now we will look at **reviewer nationality**.<br>\n",
    "Reviewers' nationalities(countries) would be associated with their continents and thеn encoded.<br>\n",
    "The data of countries and their continents was downloaded from: https://worldpopulationreview.com/country-rankings/list-of-countries-by-continent<br>\n",
    "and adapted for our purposes. "
   ]
  },
  {
   "cell_type": "code",
   "execution_count": 19,
   "metadata": {
    "collapsed": false,
    "pycharm": {
     "name": "#%%\n"
    }
   },
   "outputs": [
    {
     "data": {
      "text/html": [
       "<pre style=\"white-space:pre;overflow-x:auto;line-height:normal;font-family:Menlo,'DejaVu Sans Mono',consolas,'Courier New',monospace\"><span style=\"color: #800080; text-decoration-color: #800080\">Data of countries by continents</span>\n",
       "</pre>\n"
      ],
      "text/plain": [
       "\u001b[35mData of countries by continents\u001b[0m\n"
      ]
     },
     "metadata": {},
     "output_type": "display_data"
    },
    {
     "data": {
      "text/html": [
       "<div>\n",
       "<style scoped>\n",
       "    .dataframe tbody tr th:only-of-type {\n",
       "        vertical-align: middle;\n",
       "    }\n",
       "\n",
       "    .dataframe tbody tr th {\n",
       "        vertical-align: top;\n",
       "    }\n",
       "\n",
       "    .dataframe thead th {\n",
       "        text-align: right;\n",
       "    }\n",
       "</style>\n",
       "<table border=\"1\" class=\"dataframe\">\n",
       "  <thead>\n",
       "    <tr style=\"text-align: right;\">\n",
       "      <th></th>\n",
       "      <th>country</th>\n",
       "      <th>continent</th>\n",
       "    </tr>\n",
       "  </thead>\n",
       "  <tbody>\n",
       "    <tr>\n",
       "      <th>0</th>\n",
       "      <td>Algeria</td>\n",
       "      <td>Africa</td>\n",
       "    </tr>\n",
       "    <tr>\n",
       "      <th>1</th>\n",
       "      <td>Angola</td>\n",
       "      <td>Africa</td>\n",
       "    </tr>\n",
       "    <tr>\n",
       "      <th>2</th>\n",
       "      <td>Benin</td>\n",
       "      <td>Africa</td>\n",
       "    </tr>\n",
       "    <tr>\n",
       "      <th>3</th>\n",
       "      <td>Botswana</td>\n",
       "      <td>Africa</td>\n",
       "    </tr>\n",
       "    <tr>\n",
       "      <th>4</th>\n",
       "      <td>Burkina Faso</td>\n",
       "      <td>Africa</td>\n",
       "    </tr>\n",
       "    <tr>\n",
       "      <th>...</th>\n",
       "      <td>...</td>\n",
       "      <td>...</td>\n",
       "    </tr>\n",
       "    <tr>\n",
       "      <th>229</th>\n",
       "      <td>Paraguay</td>\n",
       "      <td>South America</td>\n",
       "    </tr>\n",
       "    <tr>\n",
       "      <th>230</th>\n",
       "      <td>Peru</td>\n",
       "      <td>South America</td>\n",
       "    </tr>\n",
       "    <tr>\n",
       "      <th>231</th>\n",
       "      <td>Suriname</td>\n",
       "      <td>South America</td>\n",
       "    </tr>\n",
       "    <tr>\n",
       "      <th>232</th>\n",
       "      <td>Uruguay</td>\n",
       "      <td>South America</td>\n",
       "    </tr>\n",
       "    <tr>\n",
       "      <th>233</th>\n",
       "      <td>Venezuela</td>\n",
       "      <td>South America</td>\n",
       "    </tr>\n",
       "  </tbody>\n",
       "</table>\n",
       "<p>234 rows × 2 columns</p>\n",
       "</div>"
      ],
      "text/plain": [
       "          country      continent\n",
       "0         Algeria         Africa\n",
       "1          Angola         Africa\n",
       "2           Benin         Africa\n",
       "3        Botswana         Africa\n",
       "4    Burkina Faso         Africa\n",
       "..            ...            ...\n",
       "229      Paraguay  South America\n",
       "230          Peru  South America\n",
       "231      Suriname  South America\n",
       "232       Uruguay  South America\n",
       "233     Venezuela  South America\n",
       "\n",
       "[234 rows x 2 columns]"
      ]
     },
     "metadata": {},
     "output_type": "display_data"
    },
    {
     "data": {
      "text/html": [
       "<pre style=\"white-space:pre;overflow-x:auto;line-height:normal;font-family:Menlo,'DejaVu Sans Mono',consolas,'Courier New',monospace\"><span style=\"color: #800080; text-decoration-color: #800080\">Columns with nulls</span>\n",
       "</pre>\n"
      ],
      "text/plain": [
       "\u001b[35mColumns with nulls\u001b[0m\n"
      ]
     },
     "metadata": {},
     "output_type": "display_data"
    },
    {
     "data": {
      "text/plain": [
       "country      0.254\n",
       "continent    0.254\n",
       "dtype: float64"
      ]
     },
     "metadata": {},
     "output_type": "display_data"
    },
    {
     "data": {
      "text/html": [
       "<pre style=\"white-space:pre;overflow-x:auto;line-height:normal;font-family:Menlo,'DejaVu Sans Mono',consolas,'Courier New',monospace\">\n",
       "</pre>\n"
      ],
      "text/plain": [
       "\n"
      ]
     },
     "metadata": {},
     "output_type": "display_data"
    },
    {
     "data": {
      "text/html": [
       "<pre style=\"white-space:pre;overflow-x:auto;line-height:normal;font-family:Menlo,'DejaVu Sans Mono',consolas,'Courier New',monospace\"><span style=\"color: #800080; text-decoration-color: #800080\">Null data</span>\n",
       "</pre>\n"
      ],
      "text/plain": [
       "\u001b[35mNull data\u001b[0m\n"
      ]
     },
     "metadata": {},
     "output_type": "display_data"
    },
    {
     "data": {
      "text/plain": [
       "                                        523\n",
       "Macedonia                               282\n",
       "Abkhazia Georgia                        153\n",
       "United States Minor Outlying Islands     74\n",
       "Kosovo                                   72\n",
       "Palestinian Territory                    54\n",
       "Cura ao                                  41\n",
       "U S Virgin Islands                       17\n",
       "Antigua Barbuda                          14\n",
       "Turks Caicos Islands                     14\n",
       "St Maarten                               11\n",
       "Democratic Republic of the Congo          9\n",
       "Swaziland                                 8\n",
       "Crimea                                    6\n",
       "Falkland Islands Malvinas                 6\n",
       "East Timor                                4\n",
       "Bonaire St Eustatius and Saba             3\n",
       "Saint Barts                               3\n",
       "Congo                                     3\n",
       "Antarctica                                3\n",
       "Central Africa Republic                   3\n",
       "Saint Vincent Grenadines                  2\n",
       "Cocos K I                                 2\n",
       "St Pierre and Miquelon                    2\n",
       "Svalbard Jan Mayen                        1\n",
       "Name: reviewer_nationality, dtype: int64"
      ]
     },
     "metadata": {},
     "output_type": "display_data"
    }
   ],
   "source": [
    "# Load data of countries by continents  \n",
    "continents = pd.read_csv(DATA_DIR + \"continents.csv\")\n",
    "print(\"[magenta]Data of countries by continents\")\n",
    "display(continents)  \n",
    "\n",
    "# This is necessary as I found out later \n",
    "data[\"reviewer_nationality\"] = data[\"reviewer_nationality\"].apply(\n",
    "                                                            lambda x: x.strip()\n",
    ")  \n",
    "\n",
    "# Add data to main dataframe  \n",
    "data = data.merge(\n",
    "                  continents, \n",
    "                  how=\"left\", \n",
    "                  left_on=\"reviewer_nationality\", \n",
    "                  right_on=\"country\"\n",
    ")  \n",
    "\n",
    "# Now let's check our data\n",
    "print(\"[magenta]Columns with nulls\")\n",
    "get_nan_cols(data)  \n",
    "print()  \n",
    "print(\"[magenta]Null data\")\n",
    "display(data.loc[data[\"continent\"].isna(), \"reviewer_nationality\"].value_counts())\n",
    "\n",
    "# Oooops! We have NaN data for unrecognized countries\n",
    "# But the amount of missing values is rather small, \n",
    "# so just let's fill them with mode\n",
    "data[\"continent\"].fillna(data[\"continent\"].mode()[0], inplace=True)\n",
    "\n",
    "# Now let's look at the distribution of reviewers score by continents\n",
    "#mask = data[\"sample\"] == 1 # as reviewers_score = 0 on sample = 0\n",
    "#fig = px.box(\n",
    "#      data[mask],\n",
    "#      x=\"reviewer_score\",\n",
    "#      y=\"continent\",\n",
    "#      color=\"continent\", \n",
    "#      width=1300,\n",
    "#      height=600,\n",
    "#      labels={\"reviewer_score\":\"Reviewers' Scores\"}\n",
    "#)  \n",
    "#fig.update_layout(\n",
    "#      font_family=\"Helvetica\",\n",
    "#      title={\n",
    "#            \"text\":\"Distribution of reviewers' scores by reviewers' continents\",\n",
    "#            \"x\":0.1, \"xanchor\":\"left\",\n",
    "#            \"y\":0.98, \"yanchor\":\"top\",\n",
    "#            },\n",
    "#      xaxis=dict(tickfont_size=14),\n",
    "#      yaxis=dict(tickfont_size=14, title=\"\"),\n",
    "#      legend=dict(\n",
    "#            title=\"continets:\", \n",
    "#            orientation=\"h\", \n",
    "#            y=1, yanchor=\"bottom\", \n",
    "#            x=1, xanchor=\"right\"\n",
    "#            )\n",
    "#)  \n",
    "#iplot(fig)  "
   ]
  },
  {
   "cell_type": "markdown",
   "metadata": {
    "collapsed": false,
    "pycharm": {
     "name": "#%% md\n"
    }
   },
   "source": [
    "As we can see above, there is very clear differentiation of reviewers scores by continents.<br>\n",
    "Now let's encode continents by scoring"
   ]
  },
  {
   "cell_type": "code",
   "execution_count": 20,
   "metadata": {
    "collapsed": false,
    "pycharm": {
     "name": "#%%\n"
    }
   },
   "outputs": [],
   "source": [
    "# Encode continents  \n",
    "def continents_encode(continent):\n",
    "    \"\"\" Encode reviewers' continents \"\"\"  \n",
    "    \n",
    "    if continent == \"North America\":\n",
    "        x = 6  \n",
    "    if continent == \"Oceania\":\n",
    "        x = 5  \n",
    "    if continent == \"South America\":\n",
    "        x = 4  \n",
    "    if continent == \"Africa\":\n",
    "        x = 3  \n",
    "    if continent == \"Europe\":\n",
    "        x = 2  \n",
    "    if continent == \"Asia\":\n",
    "        x = 1\n",
    "    return x  \n",
    "\n",
    "\n",
    "data[\"rev_continent_enc\"] = data[\"continent\"].apply(continents_encode) # encode reviewers' continents\n",
    "\n",
    "# Drop unnecessary columns\n",
    "data.drop([\"reviewer_nationality\", \"country\", \"continent\"], axis=1, inplace=True)"
   ]
  },
  {
   "cell_type": "markdown",
   "metadata": {
    "collapsed": false,
    "pycharm": {
     "name": "#%% md\n"
    }
   },
   "source": [
    "**\"TAGS\"**"
   ]
  },
  {
   "cell_type": "code",
   "execution_count": 21,
   "metadata": {
    "collapsed": false,
    "pycharm": {
     "name": "#%%\n"
    }
   },
   "outputs": [
    {
     "data": {
      "text/html": [
       "<pre style=\"white-space:pre;overflow-x:auto;line-height:normal;font-family:Menlo,'DejaVu Sans Mono',consolas,'Courier New',monospace\"><span style=\"color: #800080; text-decoration-color: #800080\">The minimum number of tags: </span><span style=\"color: #800080; text-decoration-color: #800080; font-weight: bold\">1</span>\n",
       "</pre>\n"
      ],
      "text/plain": [
       "\u001b[35mThe minimum number of tags: \u001b[0m\u001b[1;35m1\u001b[0m\n"
      ]
     },
     "metadata": {},
     "output_type": "display_data"
    },
    {
     "name": "stdout",
     "output_type": "stream",
     "text": [
      "69242                         [couple]\n",
      "98745     [family with young children]\n",
      "180550                         [group]\n",
      "337200                        [couple]\n",
      "380363                        [couple]\n",
      "413505                         [group]\n",
      "Name: tag_list, dtype: object\n"
     ]
    },
    {
     "data": {
      "text/html": [
       "<pre style=\"white-space:pre;overflow-x:auto;line-height:normal;font-family:Menlo,'DejaVu Sans Mono',consolas,'Courier New',monospace\">\n",
       "</pre>\n"
      ],
      "text/plain": [
       "\n"
      ]
     },
     "metadata": {},
     "output_type": "display_data"
    },
    {
     "data": {
      "text/html": [
       "<pre style=\"white-space:pre;overflow-x:auto;line-height:normal;font-family:Menlo,'DejaVu Sans Mono',consolas,'Courier New',monospace\"><span style=\"color: #800080; text-decoration-color: #800080\">The maximum number of tags: </span><span style=\"color: #800080; text-decoration-color: #800080; font-weight: bold\">6</span>\n",
       "</pre>\n"
      ],
      "text/plain": [
       "\u001b[35mThe maximum number of tags: \u001b[0m\u001b[1;35m6\u001b[0m\n"
      ]
     },
     "metadata": {},
     "output_type": "display_data"
    },
    {
     "name": "stdout",
     "output_type": "stream",
     "text": [
      "698                  [with a pet, leisure trip, solo traveler, standard double room, stayed 2 nights, submitted from a mobile device]\n",
      "1276                           [with a pet, leisure trip, group, superior twin room, stayed 3 nights, submitted from a mobile device]\n",
      "1407             [with a pet, leisure trip, family with young children, family room, stayed 3 nights, submitted from a mobile device]\n",
      "2102        [with a pet, business trip, couple, king room with city view top floors, stayed 2 nights, submitted from a mobile device]\n",
      "2281                                      [with a pet, leisure trip, group, 2 rooms, stayed 3 nights, submitted from a mobile device]\n",
      "                                                                     ...                                                             \n",
      "512523              [with a pet, leisure trip, couple, standard double or twin room, stayed 3 nights, submitted from a mobile device]\n",
      "512524              [with a pet, leisure trip, couple, standard double or twin room, stayed 3 nights, submitted from a mobile device]\n",
      "514353                         [with a pet, leisure trip, group, standard twin room, stayed 4 nights, submitted from a mobile device]\n",
      "514813          [with a pet, business trip, family with older children, double room, stayed 7 nights, submitted from a mobile device]\n",
      "515123    [with a pet, leisure trip, family with young children, deluxe studio suite, stayed 1 night, submitted from a mobile device]\n",
      "Name: tag_list, Length: 755, dtype: object\n"
     ]
    }
   ],
   "source": [
    "# Tags overview  \n",
    "def raw_tag_grab(tag):\n",
    "    \"\"\" Get list of tags from raw string \"\"\"  \n",
    "    \n",
    "    tag = tag.lower().lstrip(\"[' \").rstrip(\" ']\").replace(\"' \", \"\").replace(\" '\", \"\")\n",
    "    lst = tag.split(\",\")\n",
    "    tag_list = list(map(lambda t: t.strip(), lst))  \n",
    "    return tag_list  \n",
    "\n",
    "# Make column with list of tags  \n",
    "data[\"tag_list\"] = data[\"tags\"].apply(raw_tag_grab)  \n",
    "\n",
    "# Make column with number of tags  \n",
    "data[\"num_tag\"] = data[\"tag_list\"].apply(lambda tag_list: len(tag_list))  \n",
    "\n",
    "# Look at the structure of the tags  \n",
    "mn = data[\"num_tag\"].min()  \n",
    "print(f\"[magenta]The minimum number of tags: [magenta bold]{mn}\")\n",
    "print(data.loc[data[\"num_tag\"] == 1, \"tag_list\"])  \n",
    "\n",
    "print()  \n",
    "mx = data[\"num_tag\"].max()  \n",
    "print(f\"[magenta]The maximum number of tags: [magenta bold]{mx}\")\n",
    "print(data.loc[data[\"num_tag\"] == 6, \"tag_list\"])  "
   ]
  },
  {
   "cell_type": "markdown",
   "metadata": {
    "collapsed": false,
    "pycharm": {
     "name": "#%% md\n"
    }
   },
   "source": [
    "**The maximum** number of tags is **6**. They have the structure:\n",
    " - with pet * \n",
    " - type of trip *\n",
    " - type of reviewer\n",
    " - room description *\n",
    " - amount of stayed nights *\n",
    " - hotel room was submitted from a mobile device *<br>\n",
    "\n",
    "\\* - *maybe nothing if less than the maximum*\n",
    "\n",
    "**The minimum** number of tags is **1**, there is only type of reviewer.<br>\n",
    "Now we can encode this tags"
   ]
  },
  {
   "cell_type": "code",
   "execution_count": 22,
   "metadata": {
    "collapsed": false,
    "pycharm": {
     "name": "#%%\n"
    }
   },
   "outputs": [
    {
     "data": {
      "text/html": [
       "<pre style=\"white-space:pre;overflow-x:auto;line-height:normal;font-family:Menlo,'DejaVu Sans Mono',consolas,'Courier New',monospace\"><span style=\"color: #800080; text-decoration-color: #800080\">Number of reviewers with pet: </span><span style=\"color: #800080; text-decoration-color: #800080; font-weight: bold\">1405</span>\n",
       "</pre>\n"
      ],
      "text/plain": [
       "\u001b[35mNumber of reviewers with pet: \u001b[0m\u001b[1;35m1405\u001b[0m\n"
      ]
     },
     "metadata": {},
     "output_type": "display_data"
    },
    {
     "data": {
      "text/html": [
       "<pre style=\"white-space:pre;overflow-x:auto;line-height:normal;font-family:Menlo,'DejaVu Sans Mono',consolas,'Courier New',monospace\"><span style=\"color: #800080; text-decoration-color: #800080\">Number of reviewers on a business trip: </span><span style=\"color: #800080; text-decoration-color: #800080; font-weight: bold\">82939</span>\n",
       "</pre>\n"
      ],
      "text/plain": [
       "\u001b[35mNumber of reviewers on a business trip: \u001b[0m\u001b[1;35m82939\u001b[0m\n"
      ]
     },
     "metadata": {},
     "output_type": "display_data"
    },
    {
     "data": {
      "text/html": [
       "<pre style=\"white-space:pre;overflow-x:auto;line-height:normal;font-family:Menlo,'DejaVu Sans Mono',consolas,'Courier New',monospace\"><span style=\"color: #800080; text-decoration-color: #800080\">Number of reviewers stayed for </span><span style=\"color: #800080; text-decoration-color: #800080; font-weight: bold\">1</span><span style=\"color: #800080; text-decoration-color: #800080\"> night: </span><span style=\"color: #800080; text-decoration-color: #800080; font-weight: bold\">193645</span>\n",
       "</pre>\n"
      ],
      "text/plain": [
       "\u001b[35mNumber of reviewers stayed for \u001b[0m\u001b[1;35m1\u001b[0m\u001b[35m night: \u001b[0m\u001b[1;35m193645\u001b[0m\n"
      ]
     },
     "metadata": {},
     "output_type": "display_data"
    },
    {
     "data": {
      "text/html": [
       "<pre style=\"white-space:pre;overflow-x:auto;line-height:normal;font-family:Menlo,'DejaVu Sans Mono',consolas,'Courier New',monospace\"><span style=\"color: #800080; text-decoration-color: #800080\">Number of reviewers submitted from a mobile device: </span><span style=\"color: #800080; text-decoration-color: #800080; font-weight: bold\">307640</span>\n",
       "</pre>\n"
      ],
      "text/plain": [
       "\u001b[35mNumber of reviewers submitted from a mobile device: \u001b[0m\u001b[1;35m307640\u001b[0m\n"
      ]
     },
     "metadata": {},
     "output_type": "display_data"
    }
   ],
   "source": [
    "# Encode with a pet tag  \n",
    "def pet_tag_set(tag_list):\n",
    "    \"\"\" Encode pet_tag \"\"\"  \n",
    "    \n",
    "    if \"with a pet\" in tag_list:\n",
    "        pet = 1  \n",
    "        tag_list.remove(\"with a pet\")  \n",
    "    else:\n",
    "        pet = 0  \n",
    "    return pet  \n",
    "\n",
    "\n",
    "# Encode type of trip tag  \n",
    "def trip_tag_set(tag_list):\n",
    "    \"\"\" Encode trip_tag \"\"\"  \n",
    "    \n",
    "    if \"leisure trip\" in tag_list:\n",
    "        trip = 2  \n",
    "        tag_list.remove(\"leisure trip\")  \n",
    "    elif \"business trip\" in tag_list:\n",
    "        trip = 1  \n",
    "        tag_list.remove(\"business trip\")  \n",
    "    else:\n",
    "        trip = 0  \n",
    "    return trip  \n",
    "\n",
    "\n",
    "# Encode number of stayed nights tag  \n",
    "def nights_tag_set(tag_list):\n",
    "    \"\"\" Encode nights_tag \"\"\"  \n",
    "    \n",
    "    for tag in tag_list:\n",
    "        if re.match(r\"stayed\\s\\d+\\snights?\", tag):\n",
    "            nights = int(re.findall(r\".(\\d+).*\", tag)[0])  \n",
    "            tag_list.remove(tag)  \n",
    "        else:\n",
    "                nights = 0  \n",
    "    return nights  \n",
    "\n",
    "\n",
    "# Encode submitted from a mobile device tag  \n",
    "def mob_dev_tag_set(tag_list):\n",
    "    \"\"\" Encode mob_dev_tag \"\"\"  \n",
    "    \n",
    "    if \"submitted from a mobile device\" in tag_list:\n",
    "        mob_dev = 1  \n",
    "        tag_list.remove(\"submitted from a mobile device\")  \n",
    "    else:\n",
    "        mob_dev = 0  \n",
    "    return mob_dev  \n",
    "\n",
    "\n",
    "# Apply functions and print some values  \n",
    "data[\"pet_tag\"] = data[\"tag_list\"].apply(pet_tag_set)   \n",
    "sum_pet = data[\"pet_tag\"].sum()  \n",
    "print(f\"[magenta]Number of reviewers with pet: [magenta bold]{sum_pet}\")\n",
    "\n",
    "data[\"trip_tag\"] = data[\"tag_list\"].apply(trip_tag_set)  \n",
    "bus_trip = data.loc[data[\"trip_tag\"] == 1, \"trip_tag\"].count()  \n",
    "print(f\"[magenta]Number of reviewers on a business trip: [magenta bold]{bus_trip}\")\n",
    "\n",
    "data[\"nights_tag\"] = data[\"tag_list\"].apply(nights_tag_set)  \n",
    "nght = data.loc[data[\"nights_tag\"] == 1, \"nights_tag\"].count()  \n",
    "print(f\"[magenta]Number of reviewers stayed for 1 night: [magenta bold]{nght}\")\n",
    "\n",
    "data[\"mob_dev_tag\"] = data[\"tag_list\"].apply(mob_dev_tag_set)  \n",
    "mob_dev = data[\"mob_dev_tag\"].sum()  \n",
    "print(\n",
    "    f\"[magenta]Number of reviewers submitted from a mobile device: \\\n",
    "[magenta bold]{mob_dev}\"\n",
    ")"
   ]
  },
  {
   "cell_type": "code",
   "execution_count": 23,
   "metadata": {
    "collapsed": false,
    "pycharm": {
     "name": "#%%\n"
    }
   },
   "outputs": [
    {
     "data": {
      "text/html": [
       "<pre style=\"white-space:pre;overflow-x:auto;line-height:normal;font-family:Menlo,'DejaVu Sans Mono',consolas,'Courier New',monospace\"><span style=\"color: #800080; text-decoration-color: #800080\">Number of unique types of rooms: </span><span style=\"color: #800080; text-decoration-color: #800080; font-weight: bold\">2380</span>\n",
       "</pre>\n"
      ],
      "text/plain": [
       "\u001b[35mNumber of unique types of rooms: \u001b[0m\u001b[1;35m2380\u001b[0m\n"
      ]
     },
     "metadata": {},
     "output_type": "display_data"
    },
    {
     "data": {
      "text/html": [
       "<pre style=\"white-space:pre;overflow-x:auto;line-height:normal;font-family:Menlo,'DejaVu Sans Mono',consolas,'Courier New',monospace\"><span style=\"color: #800080; text-decoration-color: #800080\">Unique reviewers' types:</span>\n",
       "<span style=\"color: #800080; text-decoration-color: #800080; font-weight: bold\">{</span><span style=\"color: #800080; text-decoration-color: #800080; font-weight: bold\">'solo traveler'</span><span style=\"color: #800080; text-decoration-color: #800080; font-weight: bold\">, </span><span style=\"color: #800080; text-decoration-color: #800080; font-weight: bold\">'family with young children'</span><span style=\"color: #800080; text-decoration-color: #800080; font-weight: bold\">, </span><span style=\"color: #800080; text-decoration-color: #800080; font-weight: bold\">'family with older children'</span><span style=\"color: #800080; text-decoration-color: #800080; font-weight: bold\">, </span><span style=\"color: #800080; text-decoration-color: #800080; font-weight: bold\">'group'</span><span style=\"color: #800080; text-decoration-color: #800080; font-weight: bold\">, </span><span style=\"color: #800080; text-decoration-color: #800080; font-weight: bold\">'travelers with friends'</span><span style=\"color: #800080; text-decoration-color: #800080; font-weight: bold\">, </span>\n",
       "<span style=\"color: #800080; text-decoration-color: #800080; font-weight: bold\">'couple'</span><span style=\"color: #800080; text-decoration-color: #800080; font-weight: bold\">}</span>\n",
       "</pre>\n"
      ],
      "text/plain": [
       "\u001b[35mUnique reviewers' types:\u001b[0m\n",
       "\u001b[1;35m{\u001b[0m\u001b[1;35m'solo traveler'\u001b[0m\u001b[1;35m, \u001b[0m\u001b[1;35m'family with young children'\u001b[0m\u001b[1;35m, \u001b[0m\u001b[1;35m'family with older children'\u001b[0m\u001b[1;35m, \u001b[0m\u001b[1;35m'group'\u001b[0m\u001b[1;35m, \u001b[0m\u001b[1;35m'travelers with friends'\u001b[0m\u001b[1;35m, \u001b[0m\n",
       "\u001b[1;35m'couple'\u001b[0m\u001b[1;35m}\u001b[0m\n"
      ]
     },
     "metadata": {},
     "output_type": "display_data"
    }
   ],
   "source": [
    "# Get sets of unique reviewers' types and types of rooms  \n",
    "room_set = set()  \n",
    "traveller_set = set()  \n",
    "\n",
    "def room_type_grab(tag_list):\n",
    "    \"\"\" Fill set of types of rooms tag \"\"\"  \n",
    "    global room_set  \n",
    "    if len(tag_list) > 1:\n",
    "        room_set.add(tag_list[1])  \n",
    "        \n",
    "def trav_type_grab(tag_list):\n",
    "    \"\"\" Fill set of reviewers' types tag \"\"\"  \n",
    "    global traveller_set  \n",
    "    traveller_set.add(tag_list[0])  \n",
    "\n",
    "\n",
    "# Apply functions and print results\n",
    "data[\"tag_list\"].apply(room_type_grab)  \n",
    "print(f\"[magenta]Number of unique types of rooms: [magenta bold]{len(room_set)}\")\n",
    "\n",
    "data[\"tag_list\"].apply(trav_type_grab)  \n",
    "print(f\"[magenta]Unique reviewers' types:\\n[magenta bold]{traveller_set}\")\n",
    "\n",
    "# Create reviewer's type feature  \n",
    "data[\"rev_type\"] = data[\"tag_list\"].apply(\n",
    "                                          lambda x: x[0] \n",
    "                                          if (x[0] in traveller_set) \n",
    "                                          else \"other\"\n",
    ")    \n",
    "\n",
    "# Create features from type_of_room tag  \n",
    "def type_of_room_set(tag_list):\n",
    "    \"\"\" Create type of room feature \"\"\"  \n",
    "    \n",
    "    types = [\"premier\", \"superior\", \"deluxe\", \"classic\", \"guestroom\", \"standard\", \n",
    "            \"king\", \"queen\", \"club\", \"luxury\", \"suite\", \"executive\", \"junior\", \n",
    "            \"family\", \"basic\"]  \n",
    "    for tp in types:\n",
    "        if len(tag_list) > 1:\n",
    "            if tp in tag_list[1]:\n",
    "                return tp  \n",
    "            if (\"no window\" in tag_list[1]) or (\"without window\" in tag_list[1]):\n",
    "                return \"no window\"  \n",
    "    return \"other\"  \n",
    "\n",
    "# Create type of room feature\n",
    "data[\"room_type\"] = data[\"tag_list\"].apply(type_of_room_set)  \n",
    "\n",
    "# Create double rooms feature  \n",
    "data[\"roomX2\"] = data[\"tag_list\"].apply(\n",
    "                                        lambda x: 1                                \n",
    "                                        if ((len(x)>1) and (\n",
    "                                            (\"double\" in x[1]) or  \n",
    "                                            (\"twin\" in x[1]) or \n",
    "                                            (\"duplex\" in x[1])\n",
    "                                            )\n",
    "                                           ) \n",
    "                                        else 0\n",
    ")  \n",
    "\n",
    "# Create triple rooms feature  \n",
    "data[\"roomX3\"] = data[\"tag_list\"].apply(\n",
    "                                        lambda x: 1                           \n",
    "                                        if ((len(x)>1) and (\"triple\" in x[1])) \n",
    "                                        else 0\n",
    ")  \n",
    "\n",
    "# Create quadruple rooms feature  \n",
    "data[\"roomX4\"] = data[\"tag_list\"].apply(\n",
    "                                        lambda x: 1                              \n",
    "                                        if ((len(x)>1) and (\"quadruple\" in x[1])) \n",
    "                                        else 0\n",
    ")  \n",
    "\n",
    "# Create rooms with nice view feature  \n",
    "data[\"with_view\"] = data[\"tag_list\"].apply(\n",
    "                                           lambda x: 1                          \n",
    "                                           if ((len(x)>1) and (\"view\" in x[1])) \n",
    "                                           else 0\n",
    ")  "
   ]
  },
  {
   "cell_type": "code",
   "execution_count": 24,
   "metadata": {
    "collapsed": false,
    "pycharm": {
     "name": "#%%\n"
    }
   },
   "outputs": [],
   "source": [
    "# Encode reviewers' types and types of rooms  \n",
    "# Reviewers' types  \n",
    "rev_encoder = ce.OneHotEncoder(cols=[\"rev_type\"], use_cat_names=True)  \n",
    "rev_data= rev_encoder.fit_transform(data[\"rev_type\"])  \n",
    "data = pd.concat([data, rev_data], axis=1)  \n",
    "\n",
    "# Types of rooms\n",
    "room_encoder = ce.OneHotEncoder(cols=[\"room_type\"], use_cat_names=True)  \n",
    "room_data = room_encoder.fit_transform(data[\"room_type\"])  \n",
    "data = pd.concat([data, room_data], axis=1)  \n",
    "\n",
    "\n",
    "# Make heavy light  \n",
    "data[\n",
    "     [\"hotel_city_enc\", \"hotel_growth_enc\", \"suspicion_enc\",\n",
    "      \"rev_continent_enc\", \"num_tag\", \"pet_tag\", \"trip_tag\", \"nights_tag\", \n",
    "      \"mob_dev_tag\", \"roomX2\", \"roomX3\", \"roomX4\", \"with_view\", \n",
    "      \"rev_type_couple\", \"rev_type_solo traveler\", \n",
    "      \"rev_type_family with young children\",\"rev_type_group\", \n",
    "      \"rev_type_family with older children\", \"rev_type_travelers with friends\", \n",
    "      \"room_type_suite\", \"room_type_standard\", \"room_type_other\", \n",
    "      \"room_type_superior\", \"room_type_king\", \"room_type_luxury\", \n",
    "      \"room_type_executive\", \"room_type_family\", \"room_type_deluxe\", \n",
    "      \"room_type_no window\", \"room_type_premier\", \"room_type_basic\", \n",
    "      \"room_type_classic\", \"room_type_queen\", \"room_type_guestroom\", \n",
    "      \"room_type_club\", \"room_type_junior\"]\n",
    "    ] = data[\n",
    "             [\"hotel_city_enc\", \"hotel_growth_enc\",\n",
    "              \"suspicion_enc\", \"rev_continent_enc\", \"num_tag\", \"pet_tag\", \n",
    "              \"trip_tag\", \"nights_tag\", \"mob_dev_tag\", \"roomX2\", \"roomX3\", \n",
    "              \"roomX4\", \"with_view\", \"rev_type_couple\", \"rev_type_solo traveler\", \n",
    "              \"rev_type_family with young children\",\"rev_type_group\", \n",
    "              \"rev_type_family with older children\", \n",
    "              \"rev_type_travelers with friends\", \"room_type_suite\", \n",
    "              \"room_type_standard\", \"room_type_other\", \"room_type_superior\", \n",
    "              \"room_type_king\", \"room_type_luxury\", \"room_type_executive\", \n",
    "              \"room_type_family\", \"room_type_deluxe\", \"room_type_no window\", \n",
    "              \"room_type_premier\", \"room_type_basic\", \"room_type_classic\", \n",
    "              \"room_type_queen\", \"room_type_guestroom\", \"room_type_club\", \n",
    "              \"room_type_junior\"]\n",
    "            ].astype(\"int8\")  "
   ]
  },
  {
   "cell_type": "code",
   "execution_count": null,
   "metadata": {
    "collapsed": false,
    "pycharm": {
     "name": "#%%\n"
    }
   },
   "outputs": [],
   "source": [
    "# Distribution of reviewers' scores by lengths of tags\n",
    "#mask = data[\"sample\"] == 1 # as reviewers_score = 0 on sample = 0  \n",
    "##fig = go.Figure()  \n",
    "#fig.add_trace(go.Box(\n",
    "#       y=data.loc[mask & (data[\"num_tag\"] == 1), \"reviewer_score\"], \n",
    "#       name=\" 1 tag \"\n",
    "#       )\n",
    "#),  \n",
    "#fig.add_trace(go.Box(\n",
    "#       y=data.loc[mask & (data[\"num_tag\"] == 2), \"reviewer_score\"], \n",
    "#       name=\" 2 tags \"\n",
    "#       )\n",
    "#),  \n",
    "#fig.add_trace(go.Box(\n",
    "#       y=data.loc[mask & (data[\"num_tag\"] == 3), \"reviewer_score\"], \n",
    "#       name=\" 3 tags \"\n",
    "#       )\n",
    "#),  \n",
    "#fig.add_trace(go.Box(\n",
    "#       y=data.loc[mask & (data[\"num_tag\"] == 4), \"reviewer_score\"], \n",
    "#       name=\" 4 tags \"\n",
    "#       )\n",
    "#),  \n",
    "#fig.add_trace(go.Box(\n",
    "#       y=data.loc[mask & (data[\"num_tag\"] == 5), \"reviewer_score\"], \n",
    "#       name=\" 5 tags \"\n",
    "#       )\n",
    "#),  \n",
    "#fig.add_trace(go.Box(\n",
    "#       y=data.loc[mask & (data[\"num_tag\"] == 6), \"reviewer_score\"], \n",
    "#       name=\" 6 tags \"\n",
    "#       )\n",
    "#)\n",
    "#fig.update_layout(\n",
    "#       font_family=\"Helvetica\",\n",
    "#       title={\n",
    "#              \"text\":\"Distribution of reviewers' scores by number of tags\",\n",
    "#              \"x\":0.07, \"xanchor\":\"left\",\n",
    "#              \"y\":0.9, \"yanchor\":\"top\",\n",
    "#              },\n",
    "#       xaxis=dict(tickfont_size=14),\n",
    "#       yaxis=dict(tickfont_size=14, title=\"Score\"),\n",
    "#       legend=dict(\n",
    "#              title=\"number of tags:\", \n",
    "#              orientation=\"h\", \n",
    "#              y=1, yanchor=\"bottom\", \n",
    "#              x=1, xanchor=\"right\"\n",
    "#              ),\n",
    "#       width= 1300,\n",
    "#       height= 600\n",
    "#)  \n",
    "#iplot(fig)"
   ]
  },
  {
   "cell_type": "code",
   "execution_count": 25,
   "metadata": {
    "collapsed": false,
    "pycharm": {
     "name": "#%%\n"
    }
   },
   "outputs": [],
   "source": [
    "\n",
    "# There is direct correlation between reviewers' scores and number of tags\n",
    "# So, let's encode them  \n",
    "def num_tag_enc(length):\n",
    "    \n",
    "    if length == 1:\n",
    "        result = 1  \n",
    "    elif length == 2:\n",
    "        result = 2  \n",
    "    elif (length >= 3) and (length <= 5):\n",
    "        result = 3  \n",
    "    elif length == 6:\n",
    "        result = 4  \n",
    "    return result  \n",
    "\n",
    "data[\"num_tag_enc\"] = data[\"num_tag\"].apply(num_tag_enc)  "
   ]
  },
  {
   "cell_type": "code",
   "execution_count": null,
   "metadata": {
    "collapsed": false,
    "pycharm": {
     "name": "#%%\n"
    }
   },
   "outputs": [],
   "source": [
    "# Distribution of reviewers' scores by reviewers' types\n",
    "#mask = data[\"sample\"] == 1 # as reviewers_score = 0 on sample = 0  \n",
    "#rev_types_pivot = pd.pivot_table(\n",
    "#                                 data[mask],\n",
    "#                                 index=\"rev_type\", \n",
    "#                                 values=\"reviewer_score\", \n",
    "#                                 aggfunc=\"mean\"\n",
    "#                                ).reset_index()\n",
    "#\n",
    "#\n",
    "#fig = px.bar(\n",
    "#      rev_types_pivot,\n",
    "#      x=\"rev_type\",\n",
    "#      y=round(rev_types_pivot[\"reviewer_score\"], 3),\n",
    "#      color=\"rev_type\",\n",
    "#      labels={\"rev_type\":\"Reviewers' types\"},\n",
    "#      width=1000,\n",
    "#      height=600,\n",
    "#      text_auto=True\n",
    "#)\n",
    "#fig.update_layout(\n",
    "#      font_family=\"Helvetica\",\n",
    "#      title={\n",
    "#            \"text\":\"Distribution of reviewers' scores by reviewers' types\",\n",
    "#            \"x\":0.07, \"xanchor\":\"left\",\n",
    "#            \"y\":0.97, \"yanchor\":\"top\",\n",
    "#            },\n",
    "#      xaxis=dict(tickfont_size=14),\n",
    "#      yaxis=dict(tickfont_size=14, title=\"Scores\"),\n",
    "#      legend=dict(title=\"reviewers' types:\")\n",
    "#)  \n",
    "#fig.update_traces(textfont_size=14, textposition=\"outside\")  \n",
    "#iplot(fig)  "
   ]
  },
  {
   "cell_type": "markdown",
   "metadata": {
    "collapsed": false,
    "pycharm": {
     "name": "#%% md\n"
    }
   },
   "source": [
    "Mean of reviewers' scores are mostly similar for each type of travellers. But the **lowest values** are for **solo travellers**<br>\n",
    "and for **families with young children**. I think we have such result because people from this types have **less emotional involovement**<br>\n",
    "and so they are **more critical**."
   ]
  },
  {
   "cell_type": "code",
   "execution_count": null,
   "metadata": {
    "collapsed": false,
    "pycharm": {
     "name": "#%%\n"
    }
   },
   "outputs": [],
   "source": [
    "# Distribution of reviewers' scores by types of rooms\n",
    "#mask = data[\"sample\"] == 1 # as reviewers_score = 0 on sample = 0\n",
    "#room_types_pivot = pd.pivot_table(\n",
    "#                                  data[mask],\n",
    "#                                  index=\"room_type\", \n",
    "#                                  values=\"reviewer_score\", \n",
    "#                                  aggfunc=\"mean\"\n",
    "#                                 ).reset_index()\n",
    "#\n",
    "#\n",
    "#fig = px.bar(\n",
    "#       room_types_pivot,\n",
    "#       x=\"room_type\",\n",
    "#       y=round(room_types_pivot[\"reviewer_score\"], 2),\n",
    "#       color=\"room_type\",\n",
    "#       labels={\"room_type\":\"Types of Rooms\"},\n",
    "#       width=1300,\n",
    "#       height=500,\n",
    "#       text_auto=True\n",
    "#)\n",
    "#fig.update_layout(\n",
    "#       font_family=\"Helvetica\",\n",
    "#       title={\n",
    "#              \"text\":\"Distribution of reviewers' scores by types of rooms\",\n",
    "#              \"x\":0.07, \"xanchor\":\"left\",\n",
    "#              \"y\":0.97, \"yanchor\":\"top\",},\n",
    "#       xaxis=dict(tickfont_size=14),\n",
    "#       yaxis=dict(tickfont_size=14, title = \"Scores\"),\n",
    "#       legend=dict(title=\"types of rooms:\")\n",
    "#)  \n",
    "#fig.update_traces(textfont_size=14, textposition=\"outside\")  \n",
    "#iplot(fig) "
   ]
  },
  {
   "cell_type": "markdown",
   "metadata": {
    "collapsed": false,
    "pycharm": {
     "name": "#%% md\n"
    }
   },
   "source": [
    "On the plot above we can mark such a thing: **the lowest scores** are for tags, which charcterize the rooms like **basic, guestroom or room without window**.<br> On the other hand **the highest scores** are for tags, which tell us about **premium segment** of rooms.<br>\n",
    "I think, it’s pretty obvious."
   ]
  },
  {
   "cell_type": "code",
   "execution_count": 26,
   "metadata": {
    "collapsed": false,
    "pycharm": {
     "name": "#%%\n"
    }
   },
   "outputs": [],
   "source": [
    "# Drop unnecessary columns  \n",
    "data.drop(\n",
    "    [\"tags\" ,\"tag_list\", \"room_type\", \"rev_type\", \"num_tag\"], \n",
    "    axis=1, \n",
    "    inplace=True\n",
    ")  "
   ]
  },
  {
   "cell_type": "markdown",
   "metadata": {
    "collapsed": false,
    "pycharm": {
     "name": "#%% md\n"
    }
   },
   "source": [
    "### Reviews: \"No Negative\" and \"No Positive\" "
   ]
  },
  {
   "cell_type": "code",
   "execution_count": 27,
   "metadata": {
    "collapsed": false,
    "pycharm": {
     "name": "#%%\n"
    }
   },
   "outputs": [],
   "source": [
    "# Some necessary code  \n",
    "# Create a list of stopwords\n",
    "garbage = nltk.corpus.stopwords.words(\"english\")\n",
    "garbage.extend([w.lower() for w in nltk.corpus.names.words()])\n",
    "\n",
    "# Lemmatize with POS Tag\n",
    "# For more correct lemmatization\n",
    "#def get_wordnet_pos(word):\n",
    "#    \"\"\" Map POS tag to first character lemmatize() accepts \"\"\"\n",
    "#\n",
    "#    tag = nltk.pos_tag([word])[0][1][0].upper()\n",
    "#    tag_dict = {\"J\": wordnet.ADJ,\n",
    "#               \"N\": wordnet.NOUN,\n",
    "#               \"V\": wordnet.VERB,\n",
    "#               \"R\": wordnet.ADV}\n",
    "#    return tag_dict.get(tag, wordnet.NOUN)\n",
    "\n",
    "# Initialize Lemmatizer\n",
    "#lemmatizer = WordNetLemmatizer()"
   ]
  },
  {
   "cell_type": "code",
   "execution_count": 43,
   "metadata": {
    "collapsed": false,
    "pycharm": {
     "name": "#%%\n"
    }
   },
   "outputs": [
    {
     "data": {
      "text/html": [
       "<pre style=\"white-space:pre;overflow-x:auto;line-height:normal;font-family:Menlo,'DejaVu Sans Mono',consolas,'Courier New',monospace\"><span style=\"color: #008080; text-decoration-color: #008080\">Initial number of words in positive_fd dictionary:</span> <span style=\"color: #008080; text-decoration-color: #008080; font-weight: bold\">46533</span>\n",
       "</pre>\n"
      ],
      "text/plain": [
       "\u001b[36mInitial number of words in positive_fd dictionary:\u001b[0m \u001b[1;36m46533\u001b[0m\n"
      ]
     },
     "metadata": {},
     "output_type": "display_data"
    },
    {
     "data": {
      "text/html": [
       "<pre style=\"white-space:pre;overflow-x:auto;line-height:normal;font-family:Menlo,'DejaVu Sans Mono',consolas,'Courier New',monospace\"><span style=\"color: #008080; text-decoration-color: #008080\">Initial number of words in negative_fd dictionary:</span> <span style=\"color: #008080; text-decoration-color: #008080; font-weight: bold\">50292</span>\n",
       "</pre>\n"
      ],
      "text/plain": [
       "\u001b[36mInitial number of words in negative_fd dictionary:\u001b[0m \u001b[1;36m50292\u001b[0m\n"
      ]
     },
     "metadata": {},
     "output_type": "display_data"
    },
    {
     "data": {
      "text/html": [
       "<pre style=\"white-space:pre;overflow-x:auto;line-height:normal;font-family:Menlo,'DejaVu Sans Mono',consolas,'Courier New',monospace\"><span style=\"color: #008080; text-decoration-color: #008080\">Number of words in common_words set:</span> <span style=\"color: #008080; text-decoration-color: #008080; font-weight: bold\">22992</span>\n",
       "</pre>\n"
      ],
      "text/plain": [
       "\u001b[36mNumber of words in common_words set:\u001b[0m \u001b[1;36m22992\u001b[0m\n"
      ]
     },
     "metadata": {},
     "output_type": "display_data"
    },
    {
     "data": {
      "text/html": [
       "<pre style=\"white-space:pre;overflow-x:auto;line-height:normal;font-family:Menlo,'DejaVu Sans Mono',consolas,'Courier New',monospace\"><span style=\"color: #008080; text-decoration-color: #008080\">Result number of words in positive_fd dictionary:</span> <span style=\"color: #008080; text-decoration-color: #008080; font-weight: bold\">23541</span>\n",
       "</pre>\n"
      ],
      "text/plain": [
       "\u001b[36mResult number of words in positive_fd dictionary:\u001b[0m \u001b[1;36m23541\u001b[0m\n"
      ]
     },
     "metadata": {},
     "output_type": "display_data"
    },
    {
     "data": {
      "text/html": [
       "<pre style=\"white-space:pre;overflow-x:auto;line-height:normal;font-family:Menlo,'DejaVu Sans Mono',consolas,'Courier New',monospace\"><span style=\"color: #008080; text-decoration-color: #008080\">Result number of words in negative_fd dictionary:</span> <span style=\"color: #008080; text-decoration-color: #008080; font-weight: bold\">27300</span>\n",
       "</pre>\n"
      ],
      "text/plain": [
       "\u001b[36mResult number of words in negative_fd dictionary:\u001b[0m \u001b[1;36m27300\u001b[0m\n"
      ]
     },
     "metadata": {},
     "output_type": "display_data"
    },
    {
     "data": {
      "text/html": [
       "<pre style=\"white-space:pre;overflow-x:auto;line-height:normal;font-family:Menlo,'DejaVu Sans Mono',consolas,'Courier New',monospace\"><span style=\"color: #008080; text-decoration-color: #008080\">Default number of words in Sentiment Intensity Analyzer lexicon:</span> <span style=\"color: #008080; text-decoration-color: #008080; font-weight: bold\">7502</span>\n",
       "</pre>\n"
      ],
      "text/plain": [
       "\u001b[36mDefault number of words in Sentiment Intensity Analyzer lexicon:\u001b[0m \u001b[1;36m7502\u001b[0m\n"
      ]
     },
     "metadata": {},
     "output_type": "display_data"
    },
    {
     "data": {
      "text/html": [
       "<pre style=\"white-space:pre;overflow-x:auto;line-height:normal;font-family:Menlo,'DejaVu Sans Mono',consolas,'Courier New',monospace\"><span style=\"color: #008080; text-decoration-color: #008080\">Number of words in Sentiment Intensity Analyzer lexicon after update:</span> <span style=\"color: #008080; text-decoration-color: #008080; font-weight: bold\">7954</span>\n",
       "</pre>\n"
      ],
      "text/plain": [
       "\u001b[36mNumber of words in Sentiment Intensity Analyzer lexicon after update:\u001b[0m \u001b[1;36m7954\u001b[0m\n"
      ]
     },
     "metadata": {},
     "output_type": "display_data"
    }
   ],
   "source": [
    "# Some magic for better sentiment analysis\n",
    "positive_words = list()\n",
    "negative_words = list()\n",
    "\n",
    "# Get unique positive words\n",
    "def get_pos_words(text):\n",
    "    global positive_words\n",
    "    lst = text.split(\" \")\n",
    "    word_list = list(map(lambda w: w.strip(), lst))\n",
    "    for word in word_list:\n",
    "        positive_words.append(word)\n",
    "    return None\n",
    "\n",
    "# Get unique negative words\n",
    "def get_neg_words(text):\n",
    "    global negative_words\n",
    "    lst = text.split(\" \")\n",
    "    word_list = list(map(lambda w: w.strip(), lst))\n",
    "    for word in word_list:\n",
    "        negative_words.append(word)\n",
    "    return None\n",
    "\n",
    "data[\"positive_review_fixed\"].apply(get_pos_words)\n",
    "data[\"negative_review_fixed\"].apply(get_neg_words)\n",
    "\n",
    "# Create frequency distributions for each list of words \n",
    "# and remove common words for both\n",
    "positive_fd = nltk.FreqDist(positive_words)\n",
    "negative_fd = nltk.FreqDist(negative_words)\n",
    "\n",
    "print(\n",
    "    F\"[cyan]Initial number of words in positive_fd dictionary:[/cyan] \\\n",
    "[cyan bold]{len(positive_fd)}[/cyan bold]\"\n",
    ")\n",
    "print(\n",
    "    F\"[cyan]Initial number of words in negative_fd dictionary:[/cyan] \\\n",
    "[cyan bold]{len(negative_fd)}[/cyan bold]\"\n",
    ")\n",
    "\n",
    "common_words = set(positive_fd).intersection(negative_fd)\n",
    "for word in common_words:\n",
    "    del positive_fd[word]\n",
    "    del negative_fd[word]\n",
    "    \n",
    "print(\n",
    "    F\"[cyan]Number of words in common_words set:[/cyan] \\\n",
    "[cyan bold]{len(common_words)}[/cyan bold]\"\n",
    ")\n",
    "print(\n",
    "    F\"[cyan]Result number of words in positive_fd dictionary:[/cyan] \\\n",
    "[cyan bold]{len(positive_fd)}[/cyan bold]\"\n",
    ")\n",
    "print(\n",
    "    F\"[cyan]Result number of words in negative_fd dictionary:[/cyan] \\\n",
    "[cyan bold]{len(negative_fd)}[/cyan bold]\"\n",
    ")\n",
    "\n",
    "# Update nltk lexicon\n",
    "# Choose 100 most common words from each fd-dictionary and add them\n",
    "# into nltk lexicon\n",
    "\n",
    "top_pos = {word for word, count in positive_fd.most_common(100)}\n",
    "top_neg = {word for word, count in negative_fd.most_common(100)}\n",
    "\n",
    "sia = SentimentIntensityAnalyzer()\n",
    "print(\n",
    "    F\"[cyan]Default number of words in Sentiment Intensity Analyzer \\\n",
    "lexicon:[/cyan] [cyan bold]{len(sia.lexicon)}[/cyan bold]\"\n",
    ")\n",
    "\n",
    "# Update positive words\n",
    "for word in top_pos:\n",
    "    if word in sia.lexicon:\n",
    "        sia.lexicon[word] += 1\n",
    "    else:\n",
    "        sia.lexicon[word] = 1\n",
    "\n",
    "# Update negative words\n",
    "for word in top_neg:\n",
    "    if word in sia.lexicon:\n",
    "        sia.lexicon[word] -= 1\n",
    "    else:\n",
    "        sia.lexicon[word] = -1\n",
    "\n",
    "print(\n",
    "    f\"[magenta]Number of words in Sentiment Intensity Analyzer lexicon after update:[/cyan] \\\n",
    "[cyan bold]{len(sia.lexicon)}[/cyan bold]\"\n",
    ")"
   ]
  },
  {
   "cell_type": "code",
   "execution_count": 28,
   "metadata": {
    "collapsed": false,
    "pycharm": {
     "name": "#%%\n"
    }
   },
   "outputs": [
    {
     "name": "stdout",
     "output_type": "stream",
     "text": [
      "CPU times: user 17min 14s, sys: 1.25 s, total: 17min 15s\n",
      "Wall time: 17min 16s\n"
     ]
    }
   ],
   "source": [
    "%%time\n",
    "# Sentiment Intensity Analyzer with NLTK\n",
    "sia = SentimentIntensityAnalyzer()\n",
    "\n",
    "# Negative reviews Sentiment Intensity Analysis\n",
    "data[\"negrev_sia_neg\"] = data[\"negative_review\"].apply(\n",
    "                                lambda x: sia.polarity_scores(x)[\"neg\"]\n",
    ")\n",
    "data[\"negrev_sia_neu\"] = data[\"negative_review\"].apply(\n",
    "                                lambda x: sia.polarity_scores(x)[\"neu\"]\n",
    ")\n",
    "data[\"negrev_sia_pos\"] = data[\"negative_review\"].apply(\n",
    "                                lambda x: sia.polarity_scores(x)[\"pos\"]\n",
    ")\n",
    "data[\"negrev_sia_compound\"] = data[\"negative_review\"].apply(\n",
    "                                lambda x: sia.polarity_scores(x)[\"compound\"]\n",
    ")\n",
    "\n",
    "# Positive reviews Sentiment Intensity Analysis\n",
    "data[\"posrev_sia_neg\"] = data[\"positive_review\"].apply(\n",
    "                                lambda x: sia.polarity_scores(x)[\"neg\"]\n",
    ")\n",
    "data[\"posrev_sia_neu\"] = data[\"positive_review\"].apply(\n",
    "                                lambda x: sia.polarity_scores(x)[\"neu\"]\n",
    ")\n",
    "data[\"posrev_sia_pos\"] = data[\"positive_review\"].apply(\n",
    "                                lambda x: sia.polarity_scores(x)[\"pos\"]\n",
    ")\n",
    "data[\"posrev_sia_compound\"] = data[\"positive_review\"].apply(\n",
    "                                lambda x: sia.polarity_scores(x)[\"compound\"]\n",
    ")"
   ]
  },
  {
   "cell_type": "code",
   "execution_count": 29,
   "metadata": {
    "collapsed": false,
    "pycharm": {
     "name": "#%%\n"
    }
   },
   "outputs": [
    {
     "name": "stdout",
     "output_type": "stream",
     "text": [
      "CPU times: user 5min 34s, sys: 896 ms, total: 5min 35s\n",
      "Wall time: 5min 49s\n"
     ]
    }
   ],
   "source": [
    "%%time\n",
    "# Analyze data with Blobber\n",
    "tb = Blobber(analyzer=NaiveBayesAnalyzer())\n",
    "\n",
    "data[\"posrev_tb_neg\"] = data[\"positive_review\"].apply(\n",
    "                                        lambda x: tb(x).sentiment.p_neg\n",
    ")\n",
    "data[\"posrev_tb_negclass\"] = data[\"posrev_tb_neg\"].apply(\n",
    "                                        lambda x: 1 if x > 0.5 else 0\n",
    ")\n",
    "data[\"negrev_tb_neg\"] = data[\"negative_review\"].apply(\n",
    "                                        lambda x: tb(x).sentiment.p_neg\n",
    ")\n",
    "data[\"negrev_tb_negclass\"] = data[\"negrev_tb_neg\"].apply(\n",
    "                                        lambda x: 1 if x > 0.5 else 0\n",
    ")"
   ]
  },
  {
   "cell_type": "code",
   "execution_count": 30,
   "metadata": {
    "collapsed": false,
    "pycharm": {
     "name": "#%%\n"
    }
   },
   "outputs": [
    {
     "name": "stdout",
     "output_type": "stream",
     "text": [
      "CPU times: user 19min 29s, sys: 1.74 s, total: 19min 30s\n",
      "Wall time: 19min 31s\n"
     ]
    }
   ],
   "source": [
    "%%time\n",
    "# Positive review fix\n",
    "def get_pos_rev(text):\n",
    "    \"\"\" Prepare positive review for sentiment analysis \"\"\"\n",
    "\n",
    "    rev_str = str()\n",
    "    neg_set = {                                                  # values mean negative\n",
    "        \"no positive\", \"na\", \"n a\", \"\", \" \", \"nil\", \"no\", \"non\",\n",
    "        \"nada\", \"nope\", \"zero\", \"none\", \"null\", \"none really\",\n",
    "        \"no thing\", \"nothing\", \"nothing really\"\n",
    "    }\n",
    "\n",
    "    # Correct some values for better analysis\n",
    "    text = text.lower().strip()\n",
    "    if len(text) <= 15:\n",
    "        text = str(TextBlob(text).correct()) # correct spell\n",
    "\n",
    "    for i in neg_set:\n",
    "        if text == i:\n",
    "            text = \"negative\"\n",
    "\n",
    "    # Filter review text\n",
    "    rev_lst = [word.strip() for word in nltk.word_tokenize(text)]\n",
    "    for word in rev_lst:\n",
    "        if word.isalpha() and (word not in garbage) and\\\n",
    "                (len(word) > 1) and ((word != \"\") or (word != \" \")):\n",
    "            #word = lemmatizer.lemmatize(word)#, get_wordnet_pos(word))\n",
    "            rev_str = rev_str + word + \" \"\n",
    "    return rev_str\n",
    "\n",
    "\n",
    "data[\"positive_review_fixed\"] = data[\"positive_review\"].apply(get_pos_rev)"
   ]
  },
  {
   "cell_type": "code",
   "execution_count": 31,
   "metadata": {
    "collapsed": false,
    "pycharm": {
     "name": "#%%\n"
    }
   },
   "outputs": [
    {
     "name": "stdout",
     "output_type": "stream",
     "text": [
      "CPU times: user 16min 41s, sys: 1.46 s, total: 16min 42s\n",
      "Wall time: 16min 43s\n"
     ]
    }
   ],
   "source": [
    "%%time\n",
    "# Negative review fix\n",
    "def get_neg_rev(text):\n",
    "    \"\"\" Prepare negative review for sentiment analysis \"\"\"\n",
    "\n",
    "    rev_str = str()\n",
    "    pos_set = {                                                  # values mean positive\n",
    "        \"no negative\", \"na\", \"n a\", \"\", \" \", \"nil\", \"no\", \"non\",\n",
    "        \"nada\", \"nope\", \"zero\", \"none\", \"null\", \"no complaints\"\n",
    "        \"keinerlei beanstandung\", \"none really\", \"no thing\",\n",
    "        \"nothing\", \"nothing really\"\n",
    "    }\n",
    "\n",
    "    # Correct some values for better analysis\n",
    "    text = text.lower().strip()\n",
    "    if len(text) <= 15:\n",
    "        text = str(TextBlob(text).correct())  # correct spell\n",
    "\n",
    "    for i in pos_set:\n",
    "        if text == i:\n",
    "            text = \"positive\"\n",
    "\n",
    "    # Filter review text\n",
    "    rev_lst = [word.strip() for word in nltk.word_tokenize(text)]\n",
    "    for word in rev_lst:\n",
    "        if word.isalpha() and (word not in garbage) and\\\n",
    "                (len(word) > 1) and ((word != \"\") or (word != \" \")):\n",
    "            #word = lemmatizer.lemmatize(word)#, get_wordnet_pos(word))\n",
    "            rev_str = rev_str + word + \" \"\n",
    "    return rev_str\n",
    "\n",
    "\n",
    "data[\"negative_review_fixed\"] = data[\"negative_review\"].apply(get_neg_rev)"
   ]
  },
  {
   "cell_type": "code",
   "execution_count": 32,
   "metadata": {
    "collapsed": false,
    "pycharm": {
     "name": "#%%\n"
    }
   },
   "outputs": [
    {
     "name": "stdout",
     "output_type": "stream",
     "text": [
      "CPU times: user 7min 42s, sys: 580 ms, total: 7min 43s\n",
      "Wall time: 7min 43s\n"
     ]
    }
   ],
   "source": [
    "%%time\n",
    "# Count polarity and subjectivity with TextBlob\n",
    "data[\"negrev_tb_pol\"] = data[\"negative_review_fixed\"].apply(\n",
    "                                    lambda x: TextBlob(x).sentiment.polarity\n",
    ")\n",
    "data[\"negrev_tb_sub\"] = data[\"negative_review_fixed\"].apply(\n",
    "                                    lambda x: TextBlob(x).sentiment.subjectivity\n",
    ")\n",
    "data[\"posrev_tb_pol\"] = data[\"positive_review_fixed\"].apply(\n",
    "                                    lambda x: TextBlob(x).sentiment.polarity\n",
    ")\n",
    "data[\"posrev_tb_sub\"] = data[\"positive_review_fixed\"].apply(\n",
    "                                    lambda x: TextBlob(x).sentiment.subjectivity\n",
    ")"
   ]
  },
  {
   "cell_type": "code",
   "execution_count": 33,
   "metadata": {
    "collapsed": false,
    "pycharm": {
     "name": "#%%\n"
    }
   },
   "outputs": [
    {
     "name": "stdout",
     "output_type": "stream",
     "text": [
      "CPU times: user 13min 35s, sys: 1.3 s, total: 13min 36s\n",
      "Wall time: 13min 36s\n"
     ]
    }
   ],
   "source": [
    "%%time\n",
    "# Afinn text analyzer\n",
    "\n",
    "data[\"negative_review_tmp\"] = data[\"negative_review\"].apply(\n",
    "                                              lambda x: x.replace(\"No Negative\", \"\")\n",
    ")\n",
    "data[\"positive_review_tmp\"] = data[\"positive_review\"].apply(\n",
    "                                              lambda x: x.replace(\"No Positive\", \"\")\n",
    ")\n",
    "afinn = Afinn()\n",
    "data[\"review_sum\"] = data[\"negative_review_tmp\"] + \" \" + data[\"positive_review_tmp\"]\n",
    "data[\"afinn_score\"] = data[\"review_sum\"].apply(lambda x: afinn.score(x))\n",
    "\n",
    "# Limit the range of values by Tukey method\n",
    "#def set_boundaries(df, feature):\n",
    "#    \"\"\" Set boundaries of the range of values \"\"\"\n",
    "#    x = df[feature]\n",
    "#    quartile_1, quartile_3 = x.quantile(0.25), x.quantile(0.75),\n",
    "#    iqr = quartile_3 - quartile_1\n",
    "#    lower_bound = quartile_1 - (iqr * 1.5)\n",
    "#    upper_bound = quartile_3 + (iqr * 1.5)\n",
    "#   return lower_bound, upper_bound\n",
    "\n",
    "\n",
    "#lower_bound, upper_bound = set_boundaries(data, \"afinn_score\")\n",
    "\n",
    "#data[\"afinn_score\"] = data[\"afinn_score\"].apply(\n",
    "#                                lambda x: lower_bound\n",
    "#                                if x < lower_bound\n",
    "#                                else (upper_bound if x > upper_bound else x)\n",
    "#)"
   ]
  },
  {
   "cell_type": "code",
   "execution_count": null,
   "metadata": {
    "collapsed": false,
    "pycharm": {
     "name": "#%%\n"
    }
   },
   "outputs": [],
   "source": []
  },
  {
   "cell_type": "markdown",
   "metadata": {
    "collapsed": false,
    "pycharm": {
     "name": "#%% md\n"
    }
   },
   "source": [
    "### Reviews: \"The Number\"\n",
    "Correlation of number of words in reviews and reviewers' scores"
   ]
  },
  {
   "cell_type": "code",
   "execution_count": 34,
   "metadata": {
    "collapsed": false,
    "pycharm": {
     "name": "#%%\n"
    }
   },
   "outputs": [],
   "source": [
    "mask = data[\"sample\"] == 1 # as reviewers_score = 0 on sample = 0\n",
    "data_grp = data[mask].groupby([\"reviewer_score\"])[[\n",
    "                            \"review_total_negative_word_counts\",\n",
    "                            \"review_total_positive_word_counts\"\n",
    "                            ]].agg({\n",
    "                                \"review_total_negative_word_counts\":[\"max\", \"mean\"],\n",
    "                                \"review_total_positive_word_counts\":[\"max\", \"mean\"],\n",
    "                                }).reset_index()\n",
    "\n",
    "nw_max = list(data_grp[\"review_total_negative_word_counts\"][\"max\"].values)\n",
    "nw_mean = list(round(data_grp[\"review_total_negative_word_counts\"][\"mean\"]).values)\n",
    "\n",
    "pw_max = list(data_grp[\"review_total_positive_word_counts\"][\"max\"].values)\n",
    "pw_mean = list(round(data_grp[\"review_total_positive_word_counts\"][\"mean\"]).values)\n",
    "\n",
    "scores = list(map(str, data_grp[\"reviewer_score\"].values))"
   ]
  },
  {
   "cell_type": "code",
   "execution_count": null,
   "metadata": {
    "collapsed": false,
    "pycharm": {
     "name": "#%%\n"
    }
   },
   "outputs": [],
   "source": [
    "# Plot the mean and the maximum of negative and positive words counts\n",
    "#fig = make_subplots(rows=2, cols=2, specs=[[{'type': 'polar'}]*2]*2)\n",
    "#fig.add_trace(go.Scatterpolar(\n",
    "#    name = \"Mean negative words count\",\n",
    "#    r = nw_mean,\n",
    "#    theta = scores,\n",
    "#), 1, 1)\n",
    "#fig.add_trace(go.Scatterpolar(\n",
    "#    name = \"Max negative words count\",\n",
    "#    r = nw_max,\n",
    "#    theta = scores,\n",
    "#), 2, 1)\n",
    "#fig.add_trace(go.Scatterpolar(\n",
    "#    name = \"Mean positive words count\",\n",
    "#    r = pw_mean,\n",
    "#    theta = scores,\n",
    "#), 1, 2)\n",
    "#fig.add_trace(go.Scatterpolar(\n",
    "#    name = \"Max positive words count\",\n",
    "#    r = pw_max,\n",
    "#    theta = scores,\n",
    "#), 2, 2)\n",
    "#fig.update_traces(fill='toself')\n",
    "#fig.update_layout(\n",
    "#    font_family=\"Helvetica\",\n",
    "#    title={\n",
    "#        \"text\":\"Correlation of words count and scores\",\n",
    "#        \"x\":0.45, \"xanchor\":\"center\"\n",
    "#        },\n",
    "#    height=1000,\n",
    "#    \n",
    "#    polar = dict(\n",
    "#        radialaxis_angle = 90,\n",
    "#        angularaxis = dict(\n",
    "#            direction = \"clockwise\",\n",
    "#            period = 6)\n",
    "#    ),\n",
    "#    polar2 = dict(\n",
    "#        radialaxis_angle = 90,\n",
    "#        angularaxis = dict(\n",
    "#            direction = \"clockwise\",\n",
    "#            period = 6),\n",
    "#    ),\n",
    "#    polar3 = dict(\n",
    "#        radialaxis_angle = 90,\n",
    "#        angularaxis = dict(\n",
    "#            direction = \"clockwise\",\n",
    "#            period = 6)\n",
    "#    ),\n",
    "#    polar4 = dict(\n",
    "#        radialaxis_angle = 90,\n",
    "#        angularaxis = dict(\n",
    "#            direction = \"clockwise\",\n",
    "#            period = 6)\n",
    "#    )\n",
    "#)\n",
    "#iplot(fig)"
   ]
  },
  {
   "cell_type": "markdown",
   "metadata": {
    "collapsed": false,
    "pycharm": {
     "name": "#%% md\n"
    }
   },
   "source": [
    "As we can see above, there are two types of correlations:<br>\n",
    " - positive correlation for positive words count(as the **larger** number of **positive** words the **higher score**)\n",
    " - negative correlation for negative words count(as the **larger** number of **negative** words the **lower score**)\n",
    "\n",
    "This is obvious enough.<br>\n",
    "So, we can make new feature: difference words. It will be normalized difference of numbers of positive and negative words."
   ]
  },
  {
   "cell_type": "code",
   "execution_count": 35,
   "metadata": {
    "collapsed": false,
    "pycharm": {
     "name": "#%%\n"
    }
   },
   "outputs": [],
   "source": [
    "# Count difference of numbers of positive and negative words\n",
    "data[\"diff_words\"] = data[\"review_total_positive_word_counts\"] -\\\n",
    "                                 data[\"review_total_negative_word_counts\"]\n",
    "\n",
    "# Normalize difference\n",
    "mm_scaler = preprocessing.MinMaxScaler()\n",
    "data[\"diff_words_norm\"] = pd.DataFrame(\n",
    "    mm_scaler.fit_transform(pd.DataFrame(data[\"diff_words\"])),\n",
    "    columns=[\"diff_words\"]\n",
    ")\n",
    "\n",
    "# Positive words prevalence marker\n",
    "data[\"pos_words_marker\"] = data[\"diff_words\"].apply(lambda x: 1 if x > 0 else 0)\n",
    "\n",
    "# Number of positive words to all words ratio\n",
    "data[\"word_counts_sum\"] = data[\"review_total_positive_word_counts\"] +\\\n",
    "                                    data[\"review_total_negative_word_counts\"]\n",
    "\n",
    "# If sum of words is 0, ratio will be equal 0.5\n",
    "data[\"pos_words_ratio\"] = data.apply(\n",
    "                            lambda x: 0.5\n",
    "                            if x[\"word_counts_sum\"] == 0\n",
    "                            else x[\"review_total_positive_word_counts\"] / \\\n",
    "                                                        x[\"word_counts_sum\"],\n",
    "                            axis=1\n",
    ")\n",
    "\n",
    "# Drop unnecessary columns\n",
    "data.drop([\"diff_words\", \"word_counts_sum\"], axis=1, inplace=True)"
   ]
  },
  {
   "cell_type": "markdown",
   "metadata": {
    "collapsed": false,
    "pycharm": {
     "name": "#%% md\n"
    }
   },
   "source": [
    "We shall **not change** feature **'total_number_of_reviews_reviewer_has_given'**, because it is numeric and has less then 200 unique values, so **we can use it as it is**."
   ]
  },
  {
   "cell_type": "code",
   "execution_count": 50,
   "metadata": {
    "collapsed": false,
    "pycharm": {
     "name": "#%%\n"
    }
   },
   "outputs": [],
   "source": [
    "#pd.set_option('display.max_rows', 10)\n",
    "#**********************************************************************72****79"
   ]
  },
  {
   "cell_type": "code",
   "execution_count": 36,
   "metadata": {
    "collapsed": false,
    "pycharm": {
     "name": "#%%\n"
    }
   },
   "outputs": [
    {
     "data": {
      "text/plain": [
       "Series([], dtype: float64)"
      ]
     },
     "metadata": {},
     "output_type": "display_data"
    }
   ],
   "source": [
    "get_nan_cols(data)"
   ]
  },
  {
   "cell_type": "code",
   "execution_count": 37,
   "metadata": {
    "collapsed": false,
    "pycharm": {
     "name": "#%%\n"
    }
   },
   "outputs": [
    {
     "name": "stdout",
     "output_type": "stream",
     "text": [
      "<class 'pandas.core.frame.DataFrame'>\n",
      "Int64Index: 515738 entries, 0 to 515737\n",
      "Data columns (total 77 columns):\n",
      " #   Column                                      Non-Null Count   Dtype  \n",
      "---  ------                                      --------------   -----  \n",
      " 0   additional_number_of_scoring                515738 non-null  int64  \n",
      " 1   average_score                               515738 non-null  float64\n",
      " 2   hotel_name                                  515738 non-null  object \n",
      " 3   negative_review                             515738 non-null  object \n",
      " 4   review_total_negative_word_counts           515738 non-null  int64  \n",
      " 5   total_number_of_reviews                     515738 non-null  int64  \n",
      " 6   positive_review                             515738 non-null  object \n",
      " 7   review_total_positive_word_counts           515738 non-null  int64  \n",
      " 8   total_number_of_reviews_reviewer_has_given  515738 non-null  int64  \n",
      " 9   reviewer_score                              515738 non-null  float64\n",
      " 10  days_since_review                           515738 non-null  int64  \n",
      " 11  sample                                      515738 non-null  int64  \n",
      " 12  hotel_city                                  515738 non-null  object \n",
      " 13  cent_dist                                   515738 non-null  float64\n",
      " 14  hotel_enc                                   515738 non-null  int64  \n",
      " 15  hotel_city_enc                              515738 non-null  int8   \n",
      " 16  hotel_growth_enc                            515738 non-null  int8   \n",
      " 17  suspicion_enc                               515738 non-null  int8   \n",
      " 18  review_month                                515738 non-null  int64  \n",
      " 19  rev_continent_enc                           515738 non-null  int8   \n",
      " 20  pet_tag                                     515738 non-null  int8   \n",
      " 21  trip_tag                                    515738 non-null  int8   \n",
      " 22  nights_tag                                  515738 non-null  int8   \n",
      " 23  mob_dev_tag                                 515738 non-null  int8   \n",
      " 24  roomX2                                      515738 non-null  int8   \n",
      " 25  roomX3                                      515738 non-null  int8   \n",
      " 26  roomX4                                      515738 non-null  int8   \n",
      " 27  with_view                                   515738 non-null  int8   \n",
      " 28  rev_type_couple                             515738 non-null  int8   \n",
      " 29  rev_type_solo traveler                      515738 non-null  int8   \n",
      " 30  rev_type_family with young children         515738 non-null  int8   \n",
      " 31  rev_type_group                              515738 non-null  int8   \n",
      " 32  rev_type_family with older children         515738 non-null  int8   \n",
      " 33  rev_type_travelers with friends             515738 non-null  int8   \n",
      " 34  room_type_suite                             515738 non-null  int8   \n",
      " 35  room_type_standard                          515738 non-null  int8   \n",
      " 36  room_type_other                             515738 non-null  int8   \n",
      " 37  room_type_superior                          515738 non-null  int8   \n",
      " 38  room_type_king                              515738 non-null  int8   \n",
      " 39  room_type_luxury                            515738 non-null  int8   \n",
      " 40  room_type_executive                         515738 non-null  int8   \n",
      " 41  room_type_family                            515738 non-null  int8   \n",
      " 42  room_type_deluxe                            515738 non-null  int8   \n",
      " 43  room_type_no window                         515738 non-null  int8   \n",
      " 44  room_type_premier                           515738 non-null  int8   \n",
      " 45  room_type_basic                             515738 non-null  int8   \n",
      " 46  room_type_classic                           515738 non-null  int8   \n",
      " 47  room_type_queen                             515738 non-null  int8   \n",
      " 48  room_type_guestroom                         515738 non-null  int8   \n",
      " 49  room_type_club                              515738 non-null  int8   \n",
      " 50  room_type_junior                            515738 non-null  int8   \n",
      " 51  num_tag_enc                                 515738 non-null  int64  \n",
      " 52  negrev_sia_neg                              515738 non-null  float64\n",
      " 53  negrev_sia_neu                              515738 non-null  float64\n",
      " 54  negrev_sia_pos                              515738 non-null  float64\n",
      " 55  negrev_sia_compound                         515738 non-null  float64\n",
      " 56  posrev_sia_neg                              515738 non-null  float64\n",
      " 57  posrev_sia_neu                              515738 non-null  float64\n",
      " 58  posrev_sia_pos                              515738 non-null  float64\n",
      " 59  posrev_sia_compound                         515738 non-null  float64\n",
      " 60  posrev_tb_neg                               515738 non-null  float64\n",
      " 61  posrev_tb_negclass                          515738 non-null  int64  \n",
      " 62  negrev_tb_neg                               515738 non-null  float64\n",
      " 63  negrev_tb_negclass                          515738 non-null  int64  \n",
      " 64  positive_review_fixed                       515738 non-null  object \n",
      " 65  negative_review_fixed                       515738 non-null  object \n",
      " 66  negrev_tb_pol                               515738 non-null  float64\n",
      " 67  negrev_tb_sub                               515738 non-null  float64\n",
      " 68  posrev_tb_pol                               515738 non-null  float64\n",
      " 69  posrev_tb_sub                               515738 non-null  float64\n",
      " 70  negative_review_tmp                         515738 non-null  object \n",
      " 71  positive_review_tmp                         515738 non-null  object \n",
      " 72  review_sum                                  515738 non-null  object \n",
      " 73  afinn_score                                 515738 non-null  float64\n",
      " 74  diff_words_norm                             515738 non-null  float64\n",
      " 75  pos_words_marker                            515738 non-null  int64  \n",
      " 76  pos_words_ratio                             515738 non-null  float64\n",
      "dtypes: float64(20), int64(13), int8(35), object(9)\n",
      "memory usage: 186.4+ MB\n"
     ]
    }
   ],
   "source": [
    "data.info()"
   ]
  },
  {
   "cell_type": "code",
   "execution_count": 38,
   "metadata": {
    "collapsed": false,
    "pycharm": {
     "name": "#%%\n"
    }
   },
   "outputs": [],
   "source": [
    "# Now let's create a copy of dataset to get ready,\n",
    "# if something would go wrong\n",
    "df_cp = data.copy()"
   ]
  },
  {
   "cell_type": "code",
   "execution_count": 39,
   "metadata": {
    "collapsed": false,
    "pycharm": {
     "name": "#%%\n"
    }
   },
   "outputs": [
    {
     "data": {
      "text/html": [
       "<pre style=\"white-space:pre;overflow-x:auto;line-height:normal;font-family:Menlo,'DejaVu Sans Mono',consolas,'Courier New',monospace\"><span style=\"color: #800080; text-decoration-color: #800080\">Initial number of features: </span><span style=\"color: #800080; text-decoration-color: #800080; font-weight: bold\">75</span>\n",
       "</pre>\n"
      ],
      "text/plain": [
       "\u001b[35mInitial number of features: \u001b[0m\u001b[1;35m75\u001b[0m\n"
      ]
     },
     "metadata": {},
     "output_type": "display_data"
    },
    {
     "data": {
      "text/html": [
       "<pre style=\"white-space:pre;overflow-x:auto;line-height:normal;font-family:Menlo,'DejaVu Sans Mono',consolas,'Courier New',monospace\">\n",
       "</pre>\n"
      ],
      "text/plain": [
       "\n"
      ]
     },
     "metadata": {},
     "output_type": "display_data"
    },
    {
     "data": {
      "text/html": [
       "<pre style=\"white-space:pre;overflow-x:auto;line-height:normal;font-family:Menlo,'DejaVu Sans Mono',consolas,'Courier New',monospace\"><span style=\"color: #800080; text-decoration-color: #800080\">Number of features after deleting nonnumeric columns: </span><span style=\"color: #800080; text-decoration-color: #800080; font-weight: bold\">66</span>\n",
       "</pre>\n"
      ],
      "text/plain": [
       "\u001b[35mNumber of features after deleting nonnumeric columns: \u001b[0m\u001b[1;35m66\u001b[0m\n"
      ]
     },
     "metadata": {},
     "output_type": "display_data"
    }
   ],
   "source": [
    "# Delete nonnumeric data\n",
    "\n",
    "print(\n",
    "    f\"[magenta]Initial number of features: [magenta bold]{len(df_cp.columns)-2}\"\n",
    ")\n",
    "\n",
    "object_columns = [col for col in df_cp.columns if df_cp[col].dtypes == \"object\"]\n",
    "\n",
    "df_cp.drop(object_columns, axis = 1, inplace=True)\n",
    "\n",
    "print()\n",
    "print(\n",
    "    f\"[magenta]Number of features after deleting nonnumeric columns: \\\n",
    "[magenta bold]{len(df_cp.columns)-2}\"\n",
    ")"
   ]
  },
  {
   "cell_type": "markdown",
   "metadata": {
    "collapsed": false,
    "pycharm": {
     "name": "#%% md\n"
    }
   },
   "source": [
    "Now check data for **multicollinearity**.<br>\n",
    "There are two types of data: **numerical** and **categorical**, so use different methods for multicollinearity counting.<br>\n",
    "Divide data into two groups."
   ]
  },
  {
   "cell_type": "code",
   "execution_count": 55,
   "metadata": {
    "collapsed": false,
    "pycharm": {
     "name": "#%%\n"
    }
   },
   "outputs": [
    {
     "data": {
      "text/html": [
       "<pre style=\"white-space:pre;overflow-x:auto;line-height:normal;font-family:Menlo,'DejaVu Sans Mono',consolas,'Courier New',monospace\"><span style=\"color: #800080; text-decoration-color: #800080\">Number of features with numerical data: </span><span style=\"color: #800080; text-decoration-color: #800080; font-weight: bold\">25</span>\n",
       "</pre>\n"
      ],
      "text/plain": [
       "\u001b[35mNumber of features with numerical data: \u001b[0m\u001b[1;35m25\u001b[0m\n"
      ]
     },
     "metadata": {},
     "output_type": "display_data"
    },
    {
     "data": {
      "text/html": [
       "<pre style=\"white-space:pre;overflow-x:auto;line-height:normal;font-family:Menlo,'DejaVu Sans Mono',consolas,'Courier New',monospace\">\n",
       "</pre>\n"
      ],
      "text/plain": [
       "\n"
      ]
     },
     "metadata": {},
     "output_type": "display_data"
    },
    {
     "data": {
      "text/html": [
       "<pre style=\"white-space:pre;overflow-x:auto;line-height:normal;font-family:Menlo,'DejaVu Sans Mono',consolas,'Courier New',monospace\"><span style=\"color: #800080; text-decoration-color: #800080\">Number of features with categorical data: </span><span style=\"color: #800080; text-decoration-color: #800080; font-weight: bold\">41</span>\n",
       "</pre>\n"
      ],
      "text/plain": [
       "\u001b[35mNumber of features with categorical data: \u001b[0m\u001b[1;35m41\u001b[0m\n"
      ]
     },
     "metadata": {},
     "output_type": "display_data"
    }
   ],
   "source": [
    "# Numerical data\n",
    "num_feats = [\n",
    "    \"review_total_negative_word_counts\", \"review_total_positive_word_counts\", \n",
    "    \"days_since_review\", \"cent_dist\", \"total_number_of_reviews_reviewer_has_given\", \n",
    "    \"negrev_sia_neg\", \"negrev_sia_neu\", \"negrev_sia_pos\", \"negrev_sia_compound\", \n",
    "    \"posrev_sia_neg\", \"posrev_sia_neu\", \"posrev_sia_pos\", \"posrev_sia_compound\", \n",
    "    \"negrev_tb_pol\", \"posrev_tb_pol\", \"posrev_tb_neg\", \"posrev_tb_negclass\",\n",
    "    \"negrev_tb_neg\", \"negrev_tb_negclass\", \"afinn_score\", \"diff_words_norm\",\n",
    "    \"pos_words_marker\", \"pos_words_ratio\", \"posrev_tb_sub\", \"negrev_tb_sub\"\n",
    "]\n",
    "\n",
    "# Categorical data\n",
    "cat_feats = [\n",
    "    \"additional_number_of_scoring\", \"average_score\", \"total_number_of_reviews\",\n",
    "    \"hotel_enc\", \"hotel_city_enc\", \"hotel_growth_enc\", \"suspicion_enc\",\n",
    "    \"rev_continent_enc\", \"pet_tag\", \"trip_tag\", \"nights_tag\", \"mob_dev_tag\",\n",
    "    \"roomX2\", \"roomX3\", \"roomX4\", \"with_view\", \"rev_type_couple\",\n",
    "    \"rev_type_solo traveler\", \"rev_type_family with young children\",\n",
    "    \"rev_type_group\", \"rev_type_family with older children\", \n",
    "    \"rev_type_travelers with friends\", \"room_type_suite\", \"room_type_standard\",\n",
    "    \"room_type_other\", \"room_type_superior\", \"room_type_king\", \"room_type_luxury\",\n",
    "    \"room_type_executive\", \"room_type_family\", \"room_type_deluxe\", \n",
    "    \"room_type_no window\", \"room_type_premier\", \"room_type_basic\", \n",
    "    \"room_type_classic\", \"room_type_queen\", \"room_type_guestroom\", \n",
    "    \"room_type_club\", \"room_type_junior\", \"num_tag_enc\", \"review_month\"\n",
    "]\n",
    "\n",
    "print(\n",
    "    f\"[magenta]Number of features with numerical data: \\\n",
    "[magenta bold]{len(num_feats)}\"\n",
    ")\n",
    "print()\n",
    "print(\n",
    "    f\"[magenta]Number of features with categorical data: \\\n",
    "[magenta bold]{len(cat_feats)}\"\n",
    ")"
   ]
  },
  {
   "cell_type": "code",
   "execution_count": null,
   "metadata": {
    "collapsed": false,
    "pycharm": {
     "name": "#%%\n"
    }
   },
   "outputs": [],
   "source": [
    "# Look at numeric data correlation\n",
    "corr = df_cp[num_feats].corr(\"pearson\").round(2)\n",
    "mask_plot = np.triu(np.ones_like(corr, dtype=bool))\n",
    "df_mask = corr.mask(mask_plot)\n",
    "\n",
    "fig = ff.create_annotated_heatmap(\n",
    "    z=df_mask.to_numpy(), \n",
    "    x=df_mask.columns.tolist(),\n",
    "    y=df_mask.columns.tolist(),\n",
    "    colorscale=px.colors.diverging.oxy,\n",
    "    showscale=True, \n",
    "    ygap=1, \n",
    "    xgap=1,\n",
    ")\n",
    "\n",
    "fig.update_xaxes(side=\"bottom\")\n",
    "fig.update_layout(\n",
    "    title_text=\"Correlation of numeric data by Pearson\", \n",
    "    title_x=0.5, \n",
    "    width=1300, \n",
    "    height=1000,\n",
    "    xaxis_showgrid=False,\n",
    "    yaxis_showgrid=False,\n",
    "    xaxis_zeroline=False,\n",
    "    yaxis_zeroline=False,\n",
    "    yaxis_autorange=\"reversed\",\n",
    "    template=\"plotly_white\"\n",
    ")\n",
    "iplot(fig)"
   ]
  },
  {
   "cell_type": "code",
   "execution_count": 40,
   "metadata": {
    "collapsed": false,
    "pycharm": {
     "name": "#%%\n"
    }
   },
   "outputs": [],
   "source": [
    "# Considering specifics of sentiment analysis data, \n",
    "# let's delete data with correlation higher than 0.8\n",
    "\n",
    "df_cp.drop([\"negrev_sia_neu\", \"pos_words_marker\"], axis=1, inplace=True) #"
   ]
  },
  {
   "cell_type": "code",
   "execution_count": null,
   "metadata": {
    "collapsed": false,
    "pycharm": {
     "name": "#%%\n"
    }
   },
   "outputs": [],
   "source": [
    "# Look at categorical data correlation\n",
    "corr = df_cp[cat_feats].corr(\"spearman\").round(2)\n",
    "mask_plot = np.triu(np.ones_like(corr, dtype=bool))\n",
    "df_mask = corr.mask(mask_plot)\n",
    "\n",
    "fig = ff.create_annotated_heatmap(\n",
    "    z=df_mask.to_numpy(), \n",
    "    x=df_mask.columns.tolist(),\n",
    "    y=df_mask.columns.tolist(),\n",
    "    colorscale=px.colors.diverging.oxy,\n",
    "    showscale=True, \n",
    "    ygap=1, \n",
    "    xgap=1,\n",
    ")\n",
    "\n",
    "fig.update_xaxes(side=\"bottom\")\n",
    "fig.update_layout(\n",
    "    title_text=\"Correlation of categorical data by Spearman\", \n",
    "    title_x=0.5, \n",
    "    width=1500, \n",
    "    height=1300,\n",
    "    xaxis_showgrid=False,\n",
    "    yaxis_showgrid=False,\n",
    "    xaxis_zeroline=False,\n",
    "    yaxis_zeroline=False,\n",
    "    yaxis_autorange=\"reversed\",\n",
    "    template=\"plotly_white\"\n",
    ")\n",
    "iplot(fig)"
   ]
  },
  {
   "cell_type": "code",
   "execution_count": 41,
   "metadata": {
    "collapsed": false,
    "pycharm": {
     "name": "#%%\n"
    }
   },
   "outputs": [
    {
     "data": {
      "text/html": [
       "<pre style=\"white-space:pre;overflow-x:auto;line-height:normal;font-family:Menlo,'DejaVu Sans Mono',consolas,'Courier New',monospace\"><span style=\"color: #800080; text-decoration-color: #800080\">Resulting number of features for model training: </span><span style=\"color: #800080; text-decoration-color: #800080; font-weight: bold\">63</span>\n",
       "</pre>\n"
      ],
      "text/plain": [
       "\u001b[35mResulting number of features for model training: \u001b[0m\u001b[1;35m63\u001b[0m\n"
      ]
     },
     "metadata": {},
     "output_type": "display_data"
    }
   ],
   "source": [
    "# Delete data with correlation higher than 0.8\n",
    "df_cp.drop([\"total_number_of_reviews\"], axis=1, inplace=True)\n",
    "\n",
    "print(\n",
    "    f\"[magenta]Resulting number of features for model training: \\\n",
    "[magenta bold]{df_cp.shape[1]-2}\"\n",
    ")"
   ]
  },
  {
   "cell_type": "code",
   "execution_count": 43,
   "metadata": {
    "collapsed": false,
    "pycharm": {
     "name": "#%%\n"
    }
   },
   "outputs": [
    {
     "data": {
      "application/vnd.plotly.v1+json": {
       "config": {
        "linkText": "Export to plot.ly",
        "plotlyServerURL": "https://plot.ly",
        "showLink": false
       },
       "data": [
        {
         "alignmentgroup": "True",
         "cliponaxis": false,
         "hovertemplate": "value=%{x}<br>index=%{y}<br>Score range=%{marker.color}<extra></extra>",
         "legendgroup": "",
         "marker": {
          "color": [
           0.5882009741620898,
           0.7550767746641313,
           1.4684876911666316,
           1.7501194459087381,
           1.7603888195288064,
           1.9836355536645551,
           2.1172027848161368,
           3.241622297073688,
           3.28806116801788,
           3.3182583641795502,
           3.5118795883766976,
           3.587318235376199,
           3.6110147990794186,
           3.9658217537176714,
           4.916474382789969,
           5.024279779950775,
           6.218588201267802,
           7.083945636363482,
           7.102353728646562,
           7.407200586369092,
           7.422132022189987,
           7.951885762888675,
           8.114285468591143,
           8.263052764508247,
           12.741590531191479,
           12.758025573116397,
           12.863325864868509,
           12.927933049347635,
           13.779910209026228,
           15.49138437396573,
           22.395221038008195,
           29.037161836153114,
           33.10080661049728,
           38.419559412500256,
           46.09104246212154,
           47.684493691918625,
           49.71141137021291,
           52.0876241042731,
           56.833983862181455,
           62.22712799048958,
           71.59212274433828,
           79.57292929405337,
           82.96224846179459,
           91.61432310695848,
           113.66570203156047,
           126.04646855529565,
           253.7489894277208,
           259.76615582819466,
           439.8752842215658,
           551.3386194344005,
           582.5282660307643,
           913.2454768647898,
           1118.1694898461576,
           1192.2534791528042,
           1217.8907622001022,
           1437.0081113048989,
           1572.1676895877117,
           1731.2720212581467,
           1863.2800376929863,
           1895.1154184405073,
           1905.1397381435265,
           3072.947282266149,
           5517.452510832198
          ],
          "coloraxis": "coloraxis",
          "pattern": {
           "shape": ""
          }
         },
         "name": "",
         "offsetgroup": "",
         "orientation": "h",
         "showlegend": false,
         "textangle": 0,
         "textfont": {
          "size": 12
         },
         "textposition": "outside",
         "texttemplate": "%{x: .5}",
         "type": "bar",
         "x": [
          0.5882009741620898,
          0.7550767746641313,
          1.4684876911666316,
          1.7501194459087381,
          1.7603888195288064,
          1.9836355536645551,
          2.1172027848161368,
          3.241622297073688,
          3.28806116801788,
          3.3182583641795502,
          3.5118795883766976,
          3.587318235376199,
          3.6110147990794186,
          3.9658217537176714,
          4.916474382789969,
          5.024279779950775,
          6.218588201267802,
          7.083945636363482,
          7.102353728646562,
          7.407200586369092,
          7.422132022189987,
          7.951885762888675,
          8.114285468591143,
          8.263052764508247,
          12.741590531191479,
          12.758025573116397,
          12.863325864868509,
          12.927933049347635,
          13.779910209026228,
          15.49138437396573,
          22.395221038008195,
          29.037161836153114,
          33.10080661049728,
          38.419559412500256,
          46.09104246212154,
          47.684493691918625,
          49.71141137021291,
          52.0876241042731,
          56.833983862181455,
          62.22712799048958,
          71.59212274433828,
          79.57292929405337,
          82.96224846179459,
          91.61432310695848,
          113.66570203156047,
          126.04646855529565,
          253.7489894277208,
          259.76615582819466,
          439.8752842215658,
          551.3386194344005,
          582.5282660307643,
          913.2454768647898,
          1118.1694898461576,
          1192.2534791528042,
          1217.8907622001022,
          1437.0081113048989,
          1572.1676895877117,
          1731.2720212581467,
          1863.2800376929863,
          1895.1154184405073,
          1905.1397381435265,
          3072.947282266149,
          5517.452510832198
         ],
         "xaxis": "x",
         "y": [
          "room_type_junior",
          "room_type_club",
          "room_type_executive",
          "room_type_family",
          "rev_type_travelers with friends",
          "pet_tag",
          "roomX4",
          "rev_type_family with older children",
          "room_type_king",
          "roomX2",
          "room_type_basic",
          "num_tag_enc",
          "roomX3",
          "rev_type_group",
          "room_type_queen",
          "negrev_sia_pos",
          "room_type_luxury",
          "rev_type_family with young children",
          "room_type_premier",
          "days_since_review",
          "room_type_suite",
          "posrev_sia_neu",
          "room_type_deluxe",
          "room_type_guestroom",
          "review_month",
          "room_type_other",
          "room_type_classic",
          "nights_tag",
          "negrev_tb_neg",
          "with_view",
          "room_type_superior",
          "suspicion_enc",
          "hotel_city_enc",
          "room_type_standard",
          "mob_dev_tag",
          "room_type_no window",
          "additional_number_of_scoring",
          "cent_dist",
          "rev_type_couple",
          "negrev_tb_negclass",
          "total_number_of_reviews_reviewer_has_given",
          "negrev_tb_sub",
          "rev_type_solo traveler",
          "rev_continent_enc",
          "posrev_sia_pos",
          "trip_tag",
          "negrev_sia_compound",
          "hotel_growth_enc",
          "hotel_enc",
          "posrev_tb_sub",
          "review_total_positive_word_counts",
          "posrev_sia_neg",
          "posrev_tb_pol",
          "negrev_tb_pol",
          "negrev_sia_neg",
          "posrev_tb_negclass",
          "posrev_tb_neg",
          "average_score",
          "posrev_sia_compound",
          "afinn_score",
          "review_total_negative_word_counts",
          "diff_words_norm",
          "pos_words_ratio"
         ],
         "yaxis": "y"
        }
       ],
       "layout": {
        "barmode": "relative",
        "coloraxis": {
         "colorbar": {
          "title": {
           "text": "Score range"
          }
         },
         "colorscale": [
          [
           0,
           "#0d0887"
          ],
          [
           0.1111111111111111,
           "#46039f"
          ],
          [
           0.2222222222222222,
           "#7201a8"
          ],
          [
           0.3333333333333333,
           "#9c179e"
          ],
          [
           0.4444444444444444,
           "#bd3786"
          ],
          [
           0.5555555555555556,
           "#d8576b"
          ],
          [
           0.6666666666666666,
           "#ed7953"
          ],
          [
           0.7777777777777778,
           "#fb9f3a"
          ],
          [
           0.8888888888888888,
           "#fdca26"
          ],
          [
           1,
           "#f0f921"
          ]
         ]
        },
        "font": {
         "family": "Helvetica"
        },
        "height": 1200,
        "legend": {
         "tracegroupgap": 0
        },
        "template": {
         "data": {
          "bar": [
           {
            "error_x": {
             "color": "#2a3f5f"
            },
            "error_y": {
             "color": "#2a3f5f"
            },
            "marker": {
             "line": {
              "color": "#E5ECF6",
              "width": 0.5
             },
             "pattern": {
              "fillmode": "overlay",
              "size": 10,
              "solidity": 0.2
             }
            },
            "type": "bar"
           }
          ],
          "barpolar": [
           {
            "marker": {
             "line": {
              "color": "#E5ECF6",
              "width": 0.5
             },
             "pattern": {
              "fillmode": "overlay",
              "size": 10,
              "solidity": 0.2
             }
            },
            "type": "barpolar"
           }
          ],
          "carpet": [
           {
            "aaxis": {
             "endlinecolor": "#2a3f5f",
             "gridcolor": "white",
             "linecolor": "white",
             "minorgridcolor": "white",
             "startlinecolor": "#2a3f5f"
            },
            "baxis": {
             "endlinecolor": "#2a3f5f",
             "gridcolor": "white",
             "linecolor": "white",
             "minorgridcolor": "white",
             "startlinecolor": "#2a3f5f"
            },
            "type": "carpet"
           }
          ],
          "choropleth": [
           {
            "colorbar": {
             "outlinewidth": 0,
             "ticks": ""
            },
            "type": "choropleth"
           }
          ],
          "contour": [
           {
            "colorbar": {
             "outlinewidth": 0,
             "ticks": ""
            },
            "colorscale": [
             [
              0,
              "#0d0887"
             ],
             [
              0.1111111111111111,
              "#46039f"
             ],
             [
              0.2222222222222222,
              "#7201a8"
             ],
             [
              0.3333333333333333,
              "#9c179e"
             ],
             [
              0.4444444444444444,
              "#bd3786"
             ],
             [
              0.5555555555555556,
              "#d8576b"
             ],
             [
              0.6666666666666666,
              "#ed7953"
             ],
             [
              0.7777777777777778,
              "#fb9f3a"
             ],
             [
              0.8888888888888888,
              "#fdca26"
             ],
             [
              1,
              "#f0f921"
             ]
            ],
            "type": "contour"
           }
          ],
          "contourcarpet": [
           {
            "colorbar": {
             "outlinewidth": 0,
             "ticks": ""
            },
            "type": "contourcarpet"
           }
          ],
          "heatmap": [
           {
            "colorbar": {
             "outlinewidth": 0,
             "ticks": ""
            },
            "colorscale": [
             [
              0,
              "#0d0887"
             ],
             [
              0.1111111111111111,
              "#46039f"
             ],
             [
              0.2222222222222222,
              "#7201a8"
             ],
             [
              0.3333333333333333,
              "#9c179e"
             ],
             [
              0.4444444444444444,
              "#bd3786"
             ],
             [
              0.5555555555555556,
              "#d8576b"
             ],
             [
              0.6666666666666666,
              "#ed7953"
             ],
             [
              0.7777777777777778,
              "#fb9f3a"
             ],
             [
              0.8888888888888888,
              "#fdca26"
             ],
             [
              1,
              "#f0f921"
             ]
            ],
            "type": "heatmap"
           }
          ],
          "heatmapgl": [
           {
            "colorbar": {
             "outlinewidth": 0,
             "ticks": ""
            },
            "colorscale": [
             [
              0,
              "#0d0887"
             ],
             [
              0.1111111111111111,
              "#46039f"
             ],
             [
              0.2222222222222222,
              "#7201a8"
             ],
             [
              0.3333333333333333,
              "#9c179e"
             ],
             [
              0.4444444444444444,
              "#bd3786"
             ],
             [
              0.5555555555555556,
              "#d8576b"
             ],
             [
              0.6666666666666666,
              "#ed7953"
             ],
             [
              0.7777777777777778,
              "#fb9f3a"
             ],
             [
              0.8888888888888888,
              "#fdca26"
             ],
             [
              1,
              "#f0f921"
             ]
            ],
            "type": "heatmapgl"
           }
          ],
          "histogram": [
           {
            "marker": {
             "pattern": {
              "fillmode": "overlay",
              "size": 10,
              "solidity": 0.2
             }
            },
            "type": "histogram"
           }
          ],
          "histogram2d": [
           {
            "colorbar": {
             "outlinewidth": 0,
             "ticks": ""
            },
            "colorscale": [
             [
              0,
              "#0d0887"
             ],
             [
              0.1111111111111111,
              "#46039f"
             ],
             [
              0.2222222222222222,
              "#7201a8"
             ],
             [
              0.3333333333333333,
              "#9c179e"
             ],
             [
              0.4444444444444444,
              "#bd3786"
             ],
             [
              0.5555555555555556,
              "#d8576b"
             ],
             [
              0.6666666666666666,
              "#ed7953"
             ],
             [
              0.7777777777777778,
              "#fb9f3a"
             ],
             [
              0.8888888888888888,
              "#fdca26"
             ],
             [
              1,
              "#f0f921"
             ]
            ],
            "type": "histogram2d"
           }
          ],
          "histogram2dcontour": [
           {
            "colorbar": {
             "outlinewidth": 0,
             "ticks": ""
            },
            "colorscale": [
             [
              0,
              "#0d0887"
             ],
             [
              0.1111111111111111,
              "#46039f"
             ],
             [
              0.2222222222222222,
              "#7201a8"
             ],
             [
              0.3333333333333333,
              "#9c179e"
             ],
             [
              0.4444444444444444,
              "#bd3786"
             ],
             [
              0.5555555555555556,
              "#d8576b"
             ],
             [
              0.6666666666666666,
              "#ed7953"
             ],
             [
              0.7777777777777778,
              "#fb9f3a"
             ],
             [
              0.8888888888888888,
              "#fdca26"
             ],
             [
              1,
              "#f0f921"
             ]
            ],
            "type": "histogram2dcontour"
           }
          ],
          "mesh3d": [
           {
            "colorbar": {
             "outlinewidth": 0,
             "ticks": ""
            },
            "type": "mesh3d"
           }
          ],
          "parcoords": [
           {
            "line": {
             "colorbar": {
              "outlinewidth": 0,
              "ticks": ""
             }
            },
            "type": "parcoords"
           }
          ],
          "pie": [
           {
            "automargin": true,
            "type": "pie"
           }
          ],
          "scatter": [
           {
            "fillpattern": {
             "fillmode": "overlay",
             "size": 10,
             "solidity": 0.2
            },
            "type": "scatter"
           }
          ],
          "scatter3d": [
           {
            "line": {
             "colorbar": {
              "outlinewidth": 0,
              "ticks": ""
             }
            },
            "marker": {
             "colorbar": {
              "outlinewidth": 0,
              "ticks": ""
             }
            },
            "type": "scatter3d"
           }
          ],
          "scattercarpet": [
           {
            "marker": {
             "colorbar": {
              "outlinewidth": 0,
              "ticks": ""
             }
            },
            "type": "scattercarpet"
           }
          ],
          "scattergeo": [
           {
            "marker": {
             "colorbar": {
              "outlinewidth": 0,
              "ticks": ""
             }
            },
            "type": "scattergeo"
           }
          ],
          "scattergl": [
           {
            "marker": {
             "colorbar": {
              "outlinewidth": 0,
              "ticks": ""
             }
            },
            "type": "scattergl"
           }
          ],
          "scattermapbox": [
           {
            "marker": {
             "colorbar": {
              "outlinewidth": 0,
              "ticks": ""
             }
            },
            "type": "scattermapbox"
           }
          ],
          "scatterpolar": [
           {
            "marker": {
             "colorbar": {
              "outlinewidth": 0,
              "ticks": ""
             }
            },
            "type": "scatterpolar"
           }
          ],
          "scatterpolargl": [
           {
            "marker": {
             "colorbar": {
              "outlinewidth": 0,
              "ticks": ""
             }
            },
            "type": "scatterpolargl"
           }
          ],
          "scatterternary": [
           {
            "marker": {
             "colorbar": {
              "outlinewidth": 0,
              "ticks": ""
             }
            },
            "type": "scatterternary"
           }
          ],
          "surface": [
           {
            "colorbar": {
             "outlinewidth": 0,
             "ticks": ""
            },
            "colorscale": [
             [
              0,
              "#0d0887"
             ],
             [
              0.1111111111111111,
              "#46039f"
             ],
             [
              0.2222222222222222,
              "#7201a8"
             ],
             [
              0.3333333333333333,
              "#9c179e"
             ],
             [
              0.4444444444444444,
              "#bd3786"
             ],
             [
              0.5555555555555556,
              "#d8576b"
             ],
             [
              0.6666666666666666,
              "#ed7953"
             ],
             [
              0.7777777777777778,
              "#fb9f3a"
             ],
             [
              0.8888888888888888,
              "#fdca26"
             ],
             [
              1,
              "#f0f921"
             ]
            ],
            "type": "surface"
           }
          ],
          "table": [
           {
            "cells": {
             "fill": {
              "color": "#EBF0F8"
             },
             "line": {
              "color": "white"
             }
            },
            "header": {
             "fill": {
              "color": "#C8D4E3"
             },
             "line": {
              "color": "white"
             }
            },
            "type": "table"
           }
          ]
         },
         "layout": {
          "annotationdefaults": {
           "arrowcolor": "#2a3f5f",
           "arrowhead": 0,
           "arrowwidth": 1
          },
          "autotypenumbers": "strict",
          "coloraxis": {
           "colorbar": {
            "outlinewidth": 0,
            "ticks": ""
           }
          },
          "colorscale": {
           "diverging": [
            [
             0,
             "#8e0152"
            ],
            [
             0.1,
             "#c51b7d"
            ],
            [
             0.2,
             "#de77ae"
            ],
            [
             0.3,
             "#f1b6da"
            ],
            [
             0.4,
             "#fde0ef"
            ],
            [
             0.5,
             "#f7f7f7"
            ],
            [
             0.6,
             "#e6f5d0"
            ],
            [
             0.7,
             "#b8e186"
            ],
            [
             0.8,
             "#7fbc41"
            ],
            [
             0.9,
             "#4d9221"
            ],
            [
             1,
             "#276419"
            ]
           ],
           "sequential": [
            [
             0,
             "#0d0887"
            ],
            [
             0.1111111111111111,
             "#46039f"
            ],
            [
             0.2222222222222222,
             "#7201a8"
            ],
            [
             0.3333333333333333,
             "#9c179e"
            ],
            [
             0.4444444444444444,
             "#bd3786"
            ],
            [
             0.5555555555555556,
             "#d8576b"
            ],
            [
             0.6666666666666666,
             "#ed7953"
            ],
            [
             0.7777777777777778,
             "#fb9f3a"
            ],
            [
             0.8888888888888888,
             "#fdca26"
            ],
            [
             1,
             "#f0f921"
            ]
           ],
           "sequentialminus": [
            [
             0,
             "#0d0887"
            ],
            [
             0.1111111111111111,
             "#46039f"
            ],
            [
             0.2222222222222222,
             "#7201a8"
            ],
            [
             0.3333333333333333,
             "#9c179e"
            ],
            [
             0.4444444444444444,
             "#bd3786"
            ],
            [
             0.5555555555555556,
             "#d8576b"
            ],
            [
             0.6666666666666666,
             "#ed7953"
            ],
            [
             0.7777777777777778,
             "#fb9f3a"
            ],
            [
             0.8888888888888888,
             "#fdca26"
            ],
            [
             1,
             "#f0f921"
            ]
           ]
          },
          "colorway": [
           "#636efa",
           "#EF553B",
           "#00cc96",
           "#ab63fa",
           "#FFA15A",
           "#19d3f3",
           "#FF6692",
           "#B6E880",
           "#FF97FF",
           "#FECB52"
          ],
          "font": {
           "color": "#2a3f5f"
          },
          "geo": {
           "bgcolor": "white",
           "lakecolor": "white",
           "landcolor": "#E5ECF6",
           "showlakes": true,
           "showland": true,
           "subunitcolor": "white"
          },
          "hoverlabel": {
           "align": "left"
          },
          "hovermode": "closest",
          "mapbox": {
           "style": "light"
          },
          "paper_bgcolor": "white",
          "plot_bgcolor": "#E5ECF6",
          "polar": {
           "angularaxis": {
            "gridcolor": "white",
            "linecolor": "white",
            "ticks": ""
           },
           "bgcolor": "#E5ECF6",
           "radialaxis": {
            "gridcolor": "white",
            "linecolor": "white",
            "ticks": ""
           }
          },
          "scene": {
           "xaxis": {
            "backgroundcolor": "#E5ECF6",
            "gridcolor": "white",
            "gridwidth": 2,
            "linecolor": "white",
            "showbackground": true,
            "ticks": "",
            "zerolinecolor": "white"
           },
           "yaxis": {
            "backgroundcolor": "#E5ECF6",
            "gridcolor": "white",
            "gridwidth": 2,
            "linecolor": "white",
            "showbackground": true,
            "ticks": "",
            "zerolinecolor": "white"
           },
           "zaxis": {
            "backgroundcolor": "#E5ECF6",
            "gridcolor": "white",
            "gridwidth": 2,
            "linecolor": "white",
            "showbackground": true,
            "ticks": "",
            "zerolinecolor": "white"
           }
          },
          "shapedefaults": {
           "line": {
            "color": "#2a3f5f"
           }
          },
          "ternary": {
           "aaxis": {
            "gridcolor": "white",
            "linecolor": "white",
            "ticks": ""
           },
           "baxis": {
            "gridcolor": "white",
            "linecolor": "white",
            "ticks": ""
           },
           "bgcolor": "#E5ECF6",
           "caxis": {
            "gridcolor": "white",
            "linecolor": "white",
            "ticks": ""
           }
          },
          "title": {
           "x": 0.05
          },
          "xaxis": {
           "automargin": true,
           "gridcolor": "white",
           "linecolor": "white",
           "ticks": "",
           "title": {
            "standoff": 15
           },
           "zerolinecolor": "white",
           "zerolinewidth": 2
          },
          "yaxis": {
           "automargin": true,
           "gridcolor": "white",
           "linecolor": "white",
           "ticks": "",
           "title": {
            "standoff": 15
           },
           "zerolinecolor": "white",
           "zerolinewidth": 2
          }
         }
        },
        "title": {
         "text": "Importance of features according to ANOVA test"
        },
        "width": 1400,
        "xaxis": {
         "anchor": "y",
         "domain": [
          0,
          1
         ],
         "tickfont": {
          "size": 14
         },
         "title": {
          "text": "Score"
         }
        },
        "yaxis": {
         "anchor": "x",
         "domain": [
          0,
          1
         ],
         "tickfont": {
          "size": 12
         },
         "title": {
          "text": "Features"
         }
        }
       }
      },
      "text/html": [
       "<div>                            <div id=\"f8b30da8-b61e-4961-9999-6a622a5a9bee\" class=\"plotly-graph-div\" style=\"height:1200px; width:1400px;\"></div>            <script type=\"text/javascript\">                require([\"plotly\"], function(Plotly) {                    window.PLOTLYENV=window.PLOTLYENV || {};                                    if (document.getElementById(\"f8b30da8-b61e-4961-9999-6a622a5a9bee\")) {                    Plotly.newPlot(                        \"f8b30da8-b61e-4961-9999-6a622a5a9bee\",                        [{\"alignmentgroup\":\"True\",\"cliponaxis\":false,\"hovertemplate\":\"value=%{x}<br>index=%{y}<br>Score range=%{marker.color}<extra></extra>\",\"legendgroup\":\"\",\"marker\":{\"color\":[0.5882009741620898,0.7550767746641313,1.4684876911666316,1.7501194459087381,1.7603888195288064,1.9836355536645551,2.1172027848161368,3.241622297073688,3.28806116801788,3.3182583641795502,3.5118795883766976,3.587318235376199,3.6110147990794186,3.9658217537176714,4.916474382789969,5.024279779950775,6.218588201267802,7.083945636363482,7.102353728646562,7.407200586369092,7.422132022189987,7.951885762888675,8.114285468591143,8.263052764508247,12.741590531191479,12.758025573116397,12.863325864868509,12.927933049347635,13.779910209026228,15.49138437396573,22.395221038008195,29.037161836153114,33.10080661049728,38.419559412500256,46.09104246212154,47.684493691918625,49.71141137021291,52.0876241042731,56.833983862181455,62.22712799048958,71.59212274433828,79.57292929405337,82.96224846179459,91.61432310695848,113.66570203156047,126.04646855529565,253.7489894277208,259.76615582819466,439.8752842215658,551.3386194344005,582.5282660307643,913.2454768647898,1118.1694898461576,1192.2534791528042,1217.8907622001022,1437.0081113048989,1572.1676895877117,1731.2720212581467,1863.2800376929863,1895.1154184405073,1905.1397381435265,3072.947282266149,5517.452510832198],\"coloraxis\":\"coloraxis\",\"pattern\":{\"shape\":\"\"}},\"name\":\"\",\"offsetgroup\":\"\",\"orientation\":\"h\",\"showlegend\":false,\"textangle\":0,\"textfont\":{\"size\":12},\"textposition\":\"outside\",\"texttemplate\":\"%{x: .5}\",\"x\":[0.5882009741620898,0.7550767746641313,1.4684876911666316,1.7501194459087381,1.7603888195288064,1.9836355536645551,2.1172027848161368,3.241622297073688,3.28806116801788,3.3182583641795502,3.5118795883766976,3.587318235376199,3.6110147990794186,3.9658217537176714,4.916474382789969,5.024279779950775,6.218588201267802,7.083945636363482,7.102353728646562,7.407200586369092,7.422132022189987,7.951885762888675,8.114285468591143,8.263052764508247,12.741590531191479,12.758025573116397,12.863325864868509,12.927933049347635,13.779910209026228,15.49138437396573,22.395221038008195,29.037161836153114,33.10080661049728,38.419559412500256,46.09104246212154,47.684493691918625,49.71141137021291,52.0876241042731,56.833983862181455,62.22712799048958,71.59212274433828,79.57292929405337,82.96224846179459,91.61432310695848,113.66570203156047,126.04646855529565,253.7489894277208,259.76615582819466,439.8752842215658,551.3386194344005,582.5282660307643,913.2454768647898,1118.1694898461576,1192.2534791528042,1217.8907622001022,1437.0081113048989,1572.1676895877117,1731.2720212581467,1863.2800376929863,1895.1154184405073,1905.1397381435265,3072.947282266149,5517.452510832198],\"xaxis\":\"x\",\"y\":[\"room_type_junior\",\"room_type_club\",\"room_type_executive\",\"room_type_family\",\"rev_type_travelers with friends\",\"pet_tag\",\"roomX4\",\"rev_type_family with older children\",\"room_type_king\",\"roomX2\",\"room_type_basic\",\"num_tag_enc\",\"roomX3\",\"rev_type_group\",\"room_type_queen\",\"negrev_sia_pos\",\"room_type_luxury\",\"rev_type_family with young children\",\"room_type_premier\",\"days_since_review\",\"room_type_suite\",\"posrev_sia_neu\",\"room_type_deluxe\",\"room_type_guestroom\",\"review_month\",\"room_type_other\",\"room_type_classic\",\"nights_tag\",\"negrev_tb_neg\",\"with_view\",\"room_type_superior\",\"suspicion_enc\",\"hotel_city_enc\",\"room_type_standard\",\"mob_dev_tag\",\"room_type_no window\",\"additional_number_of_scoring\",\"cent_dist\",\"rev_type_couple\",\"negrev_tb_negclass\",\"total_number_of_reviews_reviewer_has_given\",\"negrev_tb_sub\",\"rev_type_solo traveler\",\"rev_continent_enc\",\"posrev_sia_pos\",\"trip_tag\",\"negrev_sia_compound\",\"hotel_growth_enc\",\"hotel_enc\",\"posrev_tb_sub\",\"review_total_positive_word_counts\",\"posrev_sia_neg\",\"posrev_tb_pol\",\"negrev_tb_pol\",\"negrev_sia_neg\",\"posrev_tb_negclass\",\"posrev_tb_neg\",\"average_score\",\"posrev_sia_compound\",\"afinn_score\",\"review_total_negative_word_counts\",\"diff_words_norm\",\"pos_words_ratio\"],\"yaxis\":\"y\",\"type\":\"bar\"}],                        {\"barmode\":\"relative\",\"coloraxis\":{\"colorbar\":{\"title\":{\"text\":\"Score range\"}},\"colorscale\":[[0.0,\"#0d0887\"],[0.1111111111111111,\"#46039f\"],[0.2222222222222222,\"#7201a8\"],[0.3333333333333333,\"#9c179e\"],[0.4444444444444444,\"#bd3786\"],[0.5555555555555556,\"#d8576b\"],[0.6666666666666666,\"#ed7953\"],[0.7777777777777778,\"#fb9f3a\"],[0.8888888888888888,\"#fdca26\"],[1.0,\"#f0f921\"]]},\"font\":{\"family\":\"Helvetica\"},\"height\":1200,\"legend\":{\"tracegroupgap\":0},\"template\":{\"data\":{\"barpolar\":[{\"marker\":{\"line\":{\"color\":\"#E5ECF6\",\"width\":0.5},\"pattern\":{\"fillmode\":\"overlay\",\"size\":10,\"solidity\":0.2}},\"type\":\"barpolar\"}],\"bar\":[{\"error_x\":{\"color\":\"#2a3f5f\"},\"error_y\":{\"color\":\"#2a3f5f\"},\"marker\":{\"line\":{\"color\":\"#E5ECF6\",\"width\":0.5},\"pattern\":{\"fillmode\":\"overlay\",\"size\":10,\"solidity\":0.2}},\"type\":\"bar\"}],\"carpet\":[{\"aaxis\":{\"endlinecolor\":\"#2a3f5f\",\"gridcolor\":\"white\",\"linecolor\":\"white\",\"minorgridcolor\":\"white\",\"startlinecolor\":\"#2a3f5f\"},\"baxis\":{\"endlinecolor\":\"#2a3f5f\",\"gridcolor\":\"white\",\"linecolor\":\"white\",\"minorgridcolor\":\"white\",\"startlinecolor\":\"#2a3f5f\"},\"type\":\"carpet\"}],\"choropleth\":[{\"colorbar\":{\"outlinewidth\":0,\"ticks\":\"\"},\"type\":\"choropleth\"}],\"contourcarpet\":[{\"colorbar\":{\"outlinewidth\":0,\"ticks\":\"\"},\"type\":\"contourcarpet\"}],\"contour\":[{\"colorbar\":{\"outlinewidth\":0,\"ticks\":\"\"},\"colorscale\":[[0.0,\"#0d0887\"],[0.1111111111111111,\"#46039f\"],[0.2222222222222222,\"#7201a8\"],[0.3333333333333333,\"#9c179e\"],[0.4444444444444444,\"#bd3786\"],[0.5555555555555556,\"#d8576b\"],[0.6666666666666666,\"#ed7953\"],[0.7777777777777778,\"#fb9f3a\"],[0.8888888888888888,\"#fdca26\"],[1.0,\"#f0f921\"]],\"type\":\"contour\"}],\"heatmapgl\":[{\"colorbar\":{\"outlinewidth\":0,\"ticks\":\"\"},\"colorscale\":[[0.0,\"#0d0887\"],[0.1111111111111111,\"#46039f\"],[0.2222222222222222,\"#7201a8\"],[0.3333333333333333,\"#9c179e\"],[0.4444444444444444,\"#bd3786\"],[0.5555555555555556,\"#d8576b\"],[0.6666666666666666,\"#ed7953\"],[0.7777777777777778,\"#fb9f3a\"],[0.8888888888888888,\"#fdca26\"],[1.0,\"#f0f921\"]],\"type\":\"heatmapgl\"}],\"heatmap\":[{\"colorbar\":{\"outlinewidth\":0,\"ticks\":\"\"},\"colorscale\":[[0.0,\"#0d0887\"],[0.1111111111111111,\"#46039f\"],[0.2222222222222222,\"#7201a8\"],[0.3333333333333333,\"#9c179e\"],[0.4444444444444444,\"#bd3786\"],[0.5555555555555556,\"#d8576b\"],[0.6666666666666666,\"#ed7953\"],[0.7777777777777778,\"#fb9f3a\"],[0.8888888888888888,\"#fdca26\"],[1.0,\"#f0f921\"]],\"type\":\"heatmap\"}],\"histogram2dcontour\":[{\"colorbar\":{\"outlinewidth\":0,\"ticks\":\"\"},\"colorscale\":[[0.0,\"#0d0887\"],[0.1111111111111111,\"#46039f\"],[0.2222222222222222,\"#7201a8\"],[0.3333333333333333,\"#9c179e\"],[0.4444444444444444,\"#bd3786\"],[0.5555555555555556,\"#d8576b\"],[0.6666666666666666,\"#ed7953\"],[0.7777777777777778,\"#fb9f3a\"],[0.8888888888888888,\"#fdca26\"],[1.0,\"#f0f921\"]],\"type\":\"histogram2dcontour\"}],\"histogram2d\":[{\"colorbar\":{\"outlinewidth\":0,\"ticks\":\"\"},\"colorscale\":[[0.0,\"#0d0887\"],[0.1111111111111111,\"#46039f\"],[0.2222222222222222,\"#7201a8\"],[0.3333333333333333,\"#9c179e\"],[0.4444444444444444,\"#bd3786\"],[0.5555555555555556,\"#d8576b\"],[0.6666666666666666,\"#ed7953\"],[0.7777777777777778,\"#fb9f3a\"],[0.8888888888888888,\"#fdca26\"],[1.0,\"#f0f921\"]],\"type\":\"histogram2d\"}],\"histogram\":[{\"marker\":{\"pattern\":{\"fillmode\":\"overlay\",\"size\":10,\"solidity\":0.2}},\"type\":\"histogram\"}],\"mesh3d\":[{\"colorbar\":{\"outlinewidth\":0,\"ticks\":\"\"},\"type\":\"mesh3d\"}],\"parcoords\":[{\"line\":{\"colorbar\":{\"outlinewidth\":0,\"ticks\":\"\"}},\"type\":\"parcoords\"}],\"pie\":[{\"automargin\":true,\"type\":\"pie\"}],\"scatter3d\":[{\"line\":{\"colorbar\":{\"outlinewidth\":0,\"ticks\":\"\"}},\"marker\":{\"colorbar\":{\"outlinewidth\":0,\"ticks\":\"\"}},\"type\":\"scatter3d\"}],\"scattercarpet\":[{\"marker\":{\"colorbar\":{\"outlinewidth\":0,\"ticks\":\"\"}},\"type\":\"scattercarpet\"}],\"scattergeo\":[{\"marker\":{\"colorbar\":{\"outlinewidth\":0,\"ticks\":\"\"}},\"type\":\"scattergeo\"}],\"scattergl\":[{\"marker\":{\"colorbar\":{\"outlinewidth\":0,\"ticks\":\"\"}},\"type\":\"scattergl\"}],\"scattermapbox\":[{\"marker\":{\"colorbar\":{\"outlinewidth\":0,\"ticks\":\"\"}},\"type\":\"scattermapbox\"}],\"scatterpolargl\":[{\"marker\":{\"colorbar\":{\"outlinewidth\":0,\"ticks\":\"\"}},\"type\":\"scatterpolargl\"}],\"scatterpolar\":[{\"marker\":{\"colorbar\":{\"outlinewidth\":0,\"ticks\":\"\"}},\"type\":\"scatterpolar\"}],\"scatter\":[{\"fillpattern\":{\"fillmode\":\"overlay\",\"size\":10,\"solidity\":0.2},\"type\":\"scatter\"}],\"scatterternary\":[{\"marker\":{\"colorbar\":{\"outlinewidth\":0,\"ticks\":\"\"}},\"type\":\"scatterternary\"}],\"surface\":[{\"colorbar\":{\"outlinewidth\":0,\"ticks\":\"\"},\"colorscale\":[[0.0,\"#0d0887\"],[0.1111111111111111,\"#46039f\"],[0.2222222222222222,\"#7201a8\"],[0.3333333333333333,\"#9c179e\"],[0.4444444444444444,\"#bd3786\"],[0.5555555555555556,\"#d8576b\"],[0.6666666666666666,\"#ed7953\"],[0.7777777777777778,\"#fb9f3a\"],[0.8888888888888888,\"#fdca26\"],[1.0,\"#f0f921\"]],\"type\":\"surface\"}],\"table\":[{\"cells\":{\"fill\":{\"color\":\"#EBF0F8\"},\"line\":{\"color\":\"white\"}},\"header\":{\"fill\":{\"color\":\"#C8D4E3\"},\"line\":{\"color\":\"white\"}},\"type\":\"table\"}]},\"layout\":{\"annotationdefaults\":{\"arrowcolor\":\"#2a3f5f\",\"arrowhead\":0,\"arrowwidth\":1},\"autotypenumbers\":\"strict\",\"coloraxis\":{\"colorbar\":{\"outlinewidth\":0,\"ticks\":\"\"}},\"colorscale\":{\"diverging\":[[0,\"#8e0152\"],[0.1,\"#c51b7d\"],[0.2,\"#de77ae\"],[0.3,\"#f1b6da\"],[0.4,\"#fde0ef\"],[0.5,\"#f7f7f7\"],[0.6,\"#e6f5d0\"],[0.7,\"#b8e186\"],[0.8,\"#7fbc41\"],[0.9,\"#4d9221\"],[1,\"#276419\"]],\"sequential\":[[0.0,\"#0d0887\"],[0.1111111111111111,\"#46039f\"],[0.2222222222222222,\"#7201a8\"],[0.3333333333333333,\"#9c179e\"],[0.4444444444444444,\"#bd3786\"],[0.5555555555555556,\"#d8576b\"],[0.6666666666666666,\"#ed7953\"],[0.7777777777777778,\"#fb9f3a\"],[0.8888888888888888,\"#fdca26\"],[1.0,\"#f0f921\"]],\"sequentialminus\":[[0.0,\"#0d0887\"],[0.1111111111111111,\"#46039f\"],[0.2222222222222222,\"#7201a8\"],[0.3333333333333333,\"#9c179e\"],[0.4444444444444444,\"#bd3786\"],[0.5555555555555556,\"#d8576b\"],[0.6666666666666666,\"#ed7953\"],[0.7777777777777778,\"#fb9f3a\"],[0.8888888888888888,\"#fdca26\"],[1.0,\"#f0f921\"]]},\"colorway\":[\"#636efa\",\"#EF553B\",\"#00cc96\",\"#ab63fa\",\"#FFA15A\",\"#19d3f3\",\"#FF6692\",\"#B6E880\",\"#FF97FF\",\"#FECB52\"],\"font\":{\"color\":\"#2a3f5f\"},\"geo\":{\"bgcolor\":\"white\",\"lakecolor\":\"white\",\"landcolor\":\"#E5ECF6\",\"showlakes\":true,\"showland\":true,\"subunitcolor\":\"white\"},\"hoverlabel\":{\"align\":\"left\"},\"hovermode\":\"closest\",\"mapbox\":{\"style\":\"light\"},\"paper_bgcolor\":\"white\",\"plot_bgcolor\":\"#E5ECF6\",\"polar\":{\"angularaxis\":{\"gridcolor\":\"white\",\"linecolor\":\"white\",\"ticks\":\"\"},\"bgcolor\":\"#E5ECF6\",\"radialaxis\":{\"gridcolor\":\"white\",\"linecolor\":\"white\",\"ticks\":\"\"}},\"scene\":{\"xaxis\":{\"backgroundcolor\":\"#E5ECF6\",\"gridcolor\":\"white\",\"gridwidth\":2,\"linecolor\":\"white\",\"showbackground\":true,\"ticks\":\"\",\"zerolinecolor\":\"white\"},\"yaxis\":{\"backgroundcolor\":\"#E5ECF6\",\"gridcolor\":\"white\",\"gridwidth\":2,\"linecolor\":\"white\",\"showbackground\":true,\"ticks\":\"\",\"zerolinecolor\":\"white\"},\"zaxis\":{\"backgroundcolor\":\"#E5ECF6\",\"gridcolor\":\"white\",\"gridwidth\":2,\"linecolor\":\"white\",\"showbackground\":true,\"ticks\":\"\",\"zerolinecolor\":\"white\"}},\"shapedefaults\":{\"line\":{\"color\":\"#2a3f5f\"}},\"ternary\":{\"aaxis\":{\"gridcolor\":\"white\",\"linecolor\":\"white\",\"ticks\":\"\"},\"baxis\":{\"gridcolor\":\"white\",\"linecolor\":\"white\",\"ticks\":\"\"},\"bgcolor\":\"#E5ECF6\",\"caxis\":{\"gridcolor\":\"white\",\"linecolor\":\"white\",\"ticks\":\"\"}},\"title\":{\"x\":0.05},\"xaxis\":{\"automargin\":true,\"gridcolor\":\"white\",\"linecolor\":\"white\",\"ticks\":\"\",\"title\":{\"standoff\":15},\"zerolinecolor\":\"white\",\"zerolinewidth\":2},\"yaxis\":{\"automargin\":true,\"gridcolor\":\"white\",\"linecolor\":\"white\",\"ticks\":\"\",\"title\":{\"standoff\":15},\"zerolinecolor\":\"white\",\"zerolinewidth\":2}}},\"title\":{\"text\":\"Importance of features according to ANOVA test\"},\"width\":1400,\"xaxis\":{\"anchor\":\"y\",\"domain\":[0.0,1.0],\"tickfont\":{\"size\":14},\"title\":{\"text\":\"Score\"}},\"yaxis\":{\"anchor\":\"x\",\"domain\":[0.0,1.0],\"tickfont\":{\"size\":12},\"title\":{\"text\":\"Features\"}}},                        {\"responsive\": true}                    ).then(function(){\n",
       "                            \n",
       "var gd = document.getElementById('f8b30da8-b61e-4961-9999-6a622a5a9bee');\n",
       "var x = new MutationObserver(function (mutations, observer) {{\n",
       "        var display = window.getComputedStyle(gd).display;\n",
       "        if (!display || display === 'none') {{\n",
       "            console.log([gd, 'removed!']);\n",
       "            Plotly.purge(gd);\n",
       "            observer.disconnect();\n",
       "        }}\n",
       "}});\n",
       "\n",
       "// Listen for the removal of the full notebook cells\n",
       "var notebookContainer = gd.closest('#notebook-container');\n",
       "if (notebookContainer) {{\n",
       "    x.observe(notebookContainer, {childList: true});\n",
       "}}\n",
       "\n",
       "// Listen for the clearing of the current output cell\n",
       "var outputEl = gd.closest('.output');\n",
       "if (outputEl) {{\n",
       "    x.observe(outputEl, {childList: true});\n",
       "}}\n",
       "\n",
       "                        })                };                });            </script>        </div>"
      ]
     },
     "metadata": {},
     "output_type": "display_data"
    }
   ],
   "source": [
    "# Look at importance of features using ANOVA test\n",
    "X = df_cp.loc[df_cp[\"sample\"]==1].drop([\"sample\", \"reviewer_score\"], axis=1)\n",
    "y = df_cp.loc[df_cp[\"sample\"]==1, \"reviewer_score\"].values\n",
    "\n",
    "# There are negative values in data, so we can not use chi2 test\n",
    "# Use ANOVA for all features\n",
    "imp_feats = pd.Series(f_classif(X, y)[0], index = X.columns)\n",
    "imp_feats.sort_values(inplace = True)\n",
    "\n",
    "fig=px.bar(\n",
    "    imp_feats,\n",
    "    orientation=\"h\",\n",
    "    text_auto=\" .5\",\n",
    "    height = 1200,\n",
    "    width=1400,\n",
    "    color=imp_feats.values,\n",
    "    title=\"Importance of features according to ANOVA test\",\n",
    "    labels={\"color\":\"Score range\"}\n",
    ")\n",
    "fig.update_layout(\n",
    "       font_family=\"Helvetica\",\n",
    "       xaxis=dict(tickfont_size=14, title=\"Score\"),\n",
    "       yaxis=dict(tickfont_size=12, title=\"Features\")\n",
    ")\n",
    "fig.update_traces(\n",
    "    textfont_size=12, \n",
    "    textangle=0, \n",
    "    textposition=\"outside\", \n",
    "    cliponaxis=False\n",
    ")\n",
    "iplot(fig)\n"
   ]
  },
  {
   "cell_type": "code",
   "execution_count": 44,
   "metadata": {
    "collapsed": false,
    "pycharm": {
     "name": "#%%\n"
    }
   },
   "outputs": [
    {
     "data": {
      "text/html": [
       "<pre style=\"white-space:pre;overflow-x:auto;line-height:normal;font-family:Menlo,'DejaVu Sans Mono',consolas,'Courier New',monospace\"><span style=\"color: #800080; text-decoration-color: #800080\">Resulting number of features for model training: </span><span style=\"color: #800080; text-decoration-color: #800080; font-weight: bold\">53</span>\n",
       "</pre>\n"
      ],
      "text/plain": [
       "\u001b[35mResulting number of features for model training: \u001b[0m\u001b[1;35m53\u001b[0m\n"
      ]
     },
     "metadata": {},
     "output_type": "display_data"
    }
   ],
   "source": [
    "# Now let's remove features with score less than 3.5\n",
    "feats_drop = [\n",
    "    \"room_type_junior\", \"room_type_club\", \"room_type_executive\",\n",
    "    \"room_type_family\", \"rev_type_travelers with friends\", \"pet_tag\",\n",
    "    \"roomX4\", \"rev_type_family with older children\", \"room_type_king\",\n",
    "    \"roomX2\"\n",
    "]\n",
    "#**********************************************************************72****79\n",
    "df_cp.drop(feats_drop, axis=1, inplace=True)\n",
    "print(\n",
    "    f\"[magenta]Resulting number of features for model training: \\\n",
    "[magenta bold]{df_cp.shape[1]-2}\"\n",
    ")"
   ]
  },
  {
   "cell_type": "code",
   "execution_count": 45,
   "metadata": {
    "collapsed": false,
    "pycharm": {
     "name": "#%%\n"
    }
   },
   "outputs": [],
   "source": [
    "# Allocate train and test parts\n",
    "train_data = df_cp.query(\"sample == 1\").drop([\"sample\"], axis=1)\n",
    "test_data = df_cp.query(\"sample == 0\").drop([\"sample\"], axis=1)\n",
    "\n",
    "y = train_data.reviewer_score.values            # target feature\n",
    "X = train_data.drop([\"reviewer_score\"], axis=1)"
   ]
  },
  {
   "cell_type": "code",
   "execution_count": 46,
   "metadata": {
    "collapsed": false,
    "pycharm": {
     "name": "#%%\n"
    }
   },
   "outputs": [],
   "source": [
    "# Use train_test_split function for dividing data\n",
    "# Allocate 20% of data for validation\n",
    "X_train, X_test, y_train, y_test = train_test_split(\n",
    "                                     X, y, \n",
    "                                     test_size=0.2, \n",
    "                                     random_state=RANDOM_SEED\n",
    ")"
   ]
  },
  {
   "cell_type": "code",
   "execution_count": 47,
   "metadata": {
    "collapsed": false,
    "pycharm": {
     "name": "#%%\n"
    }
   },
   "outputs": [
    {
     "data": {
      "text/plain": [
       "((128935, 54), (386803, 54), (386803, 53), (309442, 53), (77361, 53))"
      ]
     },
     "execution_count": 47,
     "metadata": {},
     "output_type": "execute_result"
    }
   ],
   "source": [
    "# Check result data\n",
    "test_data.shape, train_data.shape, X.shape, X_train.shape, X_test.shape"
   ]
  },
  {
   "cell_type": "code",
   "execution_count": 48,
   "metadata": {
    "collapsed": false,
    "pycharm": {
     "name": "#%%\n"
    }
   },
   "outputs": [],
   "source": [
    "# Create model\n",
    "model = RandomForestRegressor(\n",
    "    n_estimators=100, \n",
    "    verbose=1, \n",
    "    n_jobs=-1, \n",
    "    random_state=RANDOM_SEED\n",
    ")"
   ]
  },
  {
   "cell_type": "code",
   "execution_count": 49,
   "metadata": {
    "collapsed": false,
    "pycharm": {
     "name": "#%%\n"
    }
   },
   "outputs": [
    {
     "name": "stderr",
     "output_type": "stream",
     "text": [
      "[Parallel(n_jobs=-1)]: Using backend ThreadingBackend with 4 concurrent workers.\n",
      "[Parallel(n_jobs=-1)]: Done  42 tasks      | elapsed:  3.1min\n"
     ]
    }
   ],
   "source": [
    "%%time\n",
    "# Train model on train data\n",
    "model.fit(X_train, y_train)\n",
    "\n",
    "# Use pretrained model to predict scores of the hotels in test data\n",
    "# Write predictions into y_pred\n",
    "y_pred = model.predict(X_test)"
   ]
  },
  {
   "cell_type": "code",
   "execution_count": 324,
   "metadata": {
    "collapsed": false,
    "pycharm": {
     "name": "#%%\n"
    }
   },
   "outputs": [
    {
     "data": {
      "text/html": [
       "<pre style=\"white-space:pre;overflow-x:auto;line-height:normal;font-family:Menlo,'DejaVu Sans Mono',consolas,'Courier New',monospace\"><span style=\"color: #800080; text-decoration-color: #800080\">MAPE:</span> <span style=\"color: #008080; text-decoration-color: #008080; font-weight: bold\">12.0694</span>\n",
       "</pre>\n"
      ],
      "text/plain": [
       "\u001b[35mMAPE:\u001b[0m \u001b[1;36m12.0694\u001b[0m\n"
      ]
     },
     "metadata": {},
     "output_type": "display_data"
    }
   ],
   "source": [
    "# Compare predicted values(y_pred) with real data(y_test) and how they differ\n",
    "# Use metric: Mean Absolute Percentage Error (MAPE)\n",
    "print(\"[magenta]MAPE:\", round(metrics.mean_absolute_percentage_error(y_test, y_pred)*100, 4))"
   ]
  },
  {
   "cell_type": "code",
   "execution_count": 128,
   "metadata": {
    "collapsed": false,
    "pycharm": {
     "name": "#%%\n"
    }
   },
   "outputs": [
    {
     "data": {
      "text/plain": [
       "<AxesSubplot:>"
      ]
     },
     "execution_count": 128,
     "metadata": {},
     "output_type": "execute_result"
    },
    {
     "data": {
      "image/png": "[encoded data removed]",
      "text/plain": [
       "<Figure size 720x720 with 1 Axes>"
      ]
     },
     "metadata": {
      "needs_background": "light"
     },
     "output_type": "display_data"
    }
   ],
   "source": [
    "# The most important features for model\n",
    "plt.rcParams[\"figure.figsize\"] = (10,10)\n",
    "feat_importances = pd.Series(model.feature_importances_, index=X.columns)\n",
    "feat_importances.nlargest(50).plot(kind=\"barh\", color=\"purple\")"
   ]
  },
  {
   "cell_type": "code",
   "execution_count": null,
   "metadata": {
    "collapsed": false,
    "pycharm": {
     "name": "#%%\n"
    }
   },
   "outputs": [],
   "source": [
    "# Predict target feature\n",
    "test_data = test_data.drop(['reviewer_score'], axis=1)\n",
    "predict_submission = model.predict(test_data)\n",
    "sample_submission[\"reviewer_score\"] = predict_submission\n",
    "sample_submission.to_csv(\"submission.csv\", index=False)\n",
    "sample_submission.head(10)"
   ]
  }
 ],
 "metadata": {
  "kernelspec": {
   "display_name": "Python 3.9.12 ('SFDS')",
   "language": "python",
   "name": "python3"
  },
  "language_info": {
   "codemirror_mode": {
    "name": "ipython",
    "version": 3
   },
   "file_extension": ".py",
   "mimetype": "text/x-python",
   "name": "python",
   "nbconvert_exporter": "python",
   "pygments_lexer": "ipython3",
   "version": "3.9.12"
  },
  "vscode": {
   "interpreter": {
    "hash": "98c2faa37bcfea62705d2fbc0dd7d204fd26954790a864faa64b2a1e0de25972"
   }
  }
 },
 "nbformat": 4,
 "nbformat_minor": 4
}
