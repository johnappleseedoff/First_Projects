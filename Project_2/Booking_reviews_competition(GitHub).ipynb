{
 "cells": [
  {
   "cell_type": "code",
   "execution_count": 1,
   "metadata": {
    "collapsed": false,
    "pycharm": {
     "name": "#%%Capture\n"
    }
   },
   "outputs": [],
   "source": [
    "%%capture  \n",
    "import numpy as np  \n",
    "import pandas as pd  \n",
    "import re  \n",
    "import chardet.universaldetector\n",
    "from IPython.display import display\n",
    "pd.set_option(\"display.max_colwidth\", None)\n",
    "from rich import print\n",
    "import category_encoders as ce\n",
    "from sklearn import preprocessing\n",
    "from sklearn.feature_selection import f_classif\n",
    "from textblob import TextBlob, Blobber\n",
    "from textblob.sentiments import NaiveBayesAnalyzer\n",
    "from afinn import Afinn\n",
    "import eng_spacysentiment \n",
    "from pattern.en import sentiment, parse, Sentence, modality\n",
    "from vaderSentiment.vaderSentiment import SentimentIntensityAnalyzer \n",
    "import nltk  \n",
    "nltk.download([\n",
    "    \"names\",\n",
    "    \"stopwords\"\n",
    "])  \n",
    "\n",
    "# Visualization\n",
    "import matplotlib.pyplot as plt\n",
    "%matplotlib inline\n",
    "import plotly\n",
    "import plotly.express as px  \n",
    "import plotly.graph_objects as go\n",
    "import plotly.figure_factory as ff  \n",
    "from plotly.subplots import make_subplots\n",
    "import plotly.io as pio\n",
    "pio.renderers.default = \"notebook\"\n",
    "\n",
    "# Import geo services  \n",
    "import geopy  \n",
    "from geopy import distance  \n",
    "from geopy.geocoders import Bing  # library import  \n",
    "geolocator = Bing(\n",
    "    api_key=\"ArAEkjZybNV7puDe4lgO9FsX8VssJ57er2SG0SvcuN3YxL0bZ5U9wZUtPlddLrVx\"\n",
    ")  \n",
    "import folium  \n",
    "from folium import Marker  \n",
    "from folium.plugins import MarkerCluster  \n",
    "\n",
    "# Modules for data split, train and evaluation of model\n",
    "from sklearn.model_selection import train_test_split\n",
    "from sklearn.ensemble import RandomForestRegressor\n",
    "from sklearn import metrics"
   ]
  },
  {
   "cell_type": "code",
   "execution_count": 2,
   "metadata": {
    "collapsed": false,
    "pycharm": {
     "name": "#%%\n"
    }
   },
   "outputs": [],
   "source": [
    "# Set constants  \n",
    "RANDOM_SEED = 42  # random seed set\n",
    "DATA_DIR = \"Data/\""
   ]
  },
  {
   "cell_type": "code",
   "execution_count": 3,
   "metadata": {
    "collapsed": false,
    "pycharm": {
     "name": "#%%\n"
    }
   },
   "outputs": [
    {
     "data": {
      "text/plain": "{'encoding': 'ascii', 'confidence': 1.0, 'language': ''}"
     },
     "execution_count": 3,
     "metadata": {},
     "output_type": "execute_result"
    }
   ],
   "source": [
    "# Check dataset encoding  \n",
    "detector = chardet.UniversalDetector()  \n",
    "with open(DATA_DIR + \"hotels_train.csv\", \"rb\") as fh:\n",
    "    for line in fh:\n",
    "        detector.feed(line)  \n",
    "        if detector.done:\n",
    "            break  \n",
    "detector.close()  "
   ]
  },
  {
   "cell_type": "code",
   "execution_count": 4,
   "metadata": {
    "collapsed": false,
    "pycharm": {
     "name": "#%%\n"
    }
   },
   "outputs": [],
   "source": [
    "# Load data  \n",
    "df_train = pd.read_csv(DATA_DIR + \"hotels_train.csv\")\n",
    "df_test = pd.read_csv(DATA_DIR + \"hotels_test.csv\")\n",
    "sample_submission = pd.read_csv(DATA_DIR + \"submission.csv\")"
   ]
  },
  {
   "cell_type": "code",
   "execution_count": null,
   "metadata": {
    "collapsed": false,
    "pycharm": {
     "name": "#%%\n"
    }
   },
   "outputs": [],
   "source": [
    "df_train.info()"
   ]
  },
  {
   "cell_type": "code",
   "execution_count": null,
   "metadata": {
    "collapsed": false,
    "pycharm": {
     "name": "#%%\n"
    }
   },
   "outputs": [],
   "source": [
    "df_train.head(2)"
   ]
  },
  {
   "cell_type": "code",
   "execution_count": null,
   "metadata": {
    "collapsed": false,
    "pycharm": {
     "name": "#%%\n"
    }
   },
   "outputs": [],
   "source": [
    "df_test.info()"
   ]
  },
  {
   "cell_type": "code",
   "execution_count": null,
   "metadata": {
    "collapsed": false,
    "pycharm": {
     "name": "#%%\n"
    }
   },
   "outputs": [],
   "source": [
    "df_test.head(2)"
   ]
  },
  {
   "cell_type": "code",
   "execution_count": null,
   "metadata": {
    "collapsed": false,
    "pycharm": {
     "name": "#%%\n"
    }
   },
   "outputs": [],
   "source": [
    "sample_submission.head(2)"
   ]
  },
  {
   "cell_type": "code",
   "execution_count": null,
   "metadata": {
    "collapsed": false,
    "pycharm": {
     "name": "#%%\n"
    }
   },
   "outputs": [],
   "source": [
    "sample_submission.info()"
   ]
  },
  {
   "cell_type": "code",
   "execution_count": 5,
   "metadata": {
    "collapsed": false,
    "pycharm": {
     "name": "#%%\n"
    }
   },
   "outputs": [],
   "source": [
    "# Join train and test data for feature engineering  \n",
    "df_train[\"sample\"] = 1  # train data mark  \n",
    "df_test[\"sample\"] = 0  # test data mark  \n",
    "df_test[\"reviewer_score\"] = 0  # the target variable in test data set 0  \n",
    "\n",
    "data = pd.concat(                           # join datasets\n",
    "            [df_train, df_test],       \n",
    "            sort=False\n",
    "            ).reset_index(drop=True)  "
   ]
  },
  {
   "cell_type": "code",
   "execution_count": 6,
   "metadata": {
    "collapsed": false,
    "pycharm": {
     "name": "#%%\n"
    }
   },
   "outputs": [
    {
     "name": "stdout",
     "output_type": "stream",
     "text": [
      "<class 'pandas.core.frame.DataFrame'>\n",
      "RangeIndex: 515738 entries, 0 to 515737\n",
      "Data columns (total 18 columns):\n",
      " #   Column                                      Non-Null Count   Dtype  \n",
      "---  ------                                      --------------   -----  \n",
      " 0   hotel_address                               515738 non-null  object \n",
      " 1   additional_number_of_scoring                515738 non-null  int64  \n",
      " 2   review_date                                 515738 non-null  object \n",
      " 3   average_score                               515738 non-null  float64\n",
      " 4   hotel_name                                  515738 non-null  object \n",
      " 5   reviewer_nationality                        515738 non-null  object \n",
      " 6   negative_review                             515738 non-null  object \n",
      " 7   review_total_negative_word_counts           515738 non-null  int64  \n",
      " 8   total_number_of_reviews                     515738 non-null  int64  \n",
      " 9   positive_review                             515738 non-null  object \n",
      " 10  review_total_positive_word_counts           515738 non-null  int64  \n",
      " 11  total_number_of_reviews_reviewer_has_given  515738 non-null  int64  \n",
      " 12  reviewer_score                              515738 non-null  float64\n",
      " 13  tags                                        515738 non-null  object \n",
      " 14  days_since_review                           515738 non-null  object \n",
      " 15  lat                                         512470 non-null  float64\n",
      " 16  lng                                         512470 non-null  float64\n",
      " 17  sample                                      515738 non-null  int64  \n",
      "dtypes: float64(4), int64(6), object(8)\n",
      "memory usage: 70.8+ MB\n"
     ]
    }
   ],
   "source": [
    "data.info()  "
   ]
  },
  {
   "cell_type": "code",
   "execution_count": null,
   "metadata": {
    "collapsed": false,
    "pycharm": {
     "name": "#%%\n"
    }
   },
   "outputs": [],
   "source": [
    "data.describe()"
   ]
  },
  {
   "cell_type": "code",
   "execution_count": null,
   "metadata": {
    "collapsed": false,
    "pycharm": {
     "name": "#%%\n"
    }
   },
   "outputs": [],
   "source": [
    "data.describe(include=\"object\")"
   ]
  },
  {
   "cell_type": "markdown",
   "metadata": {
    "pycharm": {
     "name": "#%% md\n"
    }
   },
   "source": [
    "**All data in the dataset may be divided into 2 parts:**\n",
    "1. The hotels related data(*hotel_address, average_score, hotel_name, lat, lng*)\n",
    "2. The reviewers related data(*the rest of the data*)   "
   ]
  },
  {
   "cell_type": "markdown",
   "metadata": {
    "collapsed": false,
    "pycharm": {
     "name": "#%% md\n"
    }
   },
   "source": [
    "## The hotels related data\n",
    "### Look at missing data in **latitudes** and **longitudes** of hotels geo positions:"
   ]
  },
  {
   "cell_type": "code",
   "execution_count": 7,
   "metadata": {
    "collapsed": false,
    "pycharm": {
     "name": "#%%\n"
    }
   },
   "outputs": [],
   "source": [
    "# Missing data count  \n",
    "def get_nan_cols(df):\n",
    "    \"\"\"\" Count missing data in dataframe by feature in percents \"\"\"  \n",
    "    \n",
    "    features_null_percent = df.isnull().mean().round(5) * 100  \n",
    "    cols_with_null = features_null_percent[\n",
    "                        features_null_percent > 0].sort_values(ascending=False)  \n",
    "    display(cols_with_null)  "
   ]
  },
  {
   "cell_type": "code",
   "execution_count": 8,
   "metadata": {
    "collapsed": false,
    "pycharm": {
     "name": "#%%\n"
    }
   },
   "outputs": [
    {
     "data": {
      "text/plain": "\u001B[35mPercents of missing data\u001B[0m\n",
      "text/html": "<pre style=\"white-space:pre;overflow-x:auto;line-height:normal;font-family:Menlo,'DejaVu Sans Mono',consolas,'Courier New',monospace\"><span style=\"color: #800080; text-decoration-color: #800080\">Percents of missing data</span>\n</pre>\n"
     },
     "metadata": {},
     "output_type": "display_data"
    },
    {
     "data": {
      "text/plain": "lat    0.634\nlng    0.634\ndtype: float64"
     },
     "metadata": {},
     "output_type": "display_data"
    },
    {
     "data": {
      "text/plain": "\u001B[35mNumber of rows with missing data: \u001B[0m\u001B[1;35m3268\u001B[0m\n",
      "text/html": "<pre style=\"white-space:pre;overflow-x:auto;line-height:normal;font-family:Menlo,'DejaVu Sans Mono',consolas,'Courier New',monospace\"><span style=\"color: #800080; text-decoration-color: #800080\">Number of rows with missing data: </span><span style=\"color: #800080; text-decoration-color: #800080; font-weight: bold\">3268</span>\n</pre>\n"
     },
     "metadata": {},
     "output_type": "display_data"
    }
   ],
   "source": [
    "# Look at missing data  \n",
    "print(\"[magenta]Percents of missing data\")\n",
    "get_nan_cols(data)  \n",
    "num = data[(data[\"lat\"].isna()) | (data[\"lng\"].isna())].shape[0]\n",
    "print(f\"[magenta]Number of rows with missing data: [magenta bold]{num}\")"
   ]
  },
  {
   "cell_type": "code",
   "execution_count": 9,
   "metadata": {
    "collapsed": false,
    "pycharm": {
     "name": "#%%\n"
    }
   },
   "outputs": [
    {
     "data": {
      "text/plain": "\u001B[35mUnique hotels with missing data\u001B[0m\n",
      "text/html": "<pre style=\"white-space:pre;overflow-x:auto;line-height:normal;font-family:Menlo,'DejaVu Sans Mono',consolas,'Courier New',monospace\"><span style=\"color: #800080; text-decoration-color: #800080\">Unique hotels with missing data</span>\n</pre>\n"
     },
     "metadata": {},
     "output_type": "display_data"
    },
    {
     "data": {
      "text/plain": "                                                     hotel_address  \\\n122               Savoyenstra e 2 16 Ottakring 1160 Vienna Austria   \n566                   23 Rue Damr mont 18th arr 75018 Paris France   \n724    Josefst dter Stra e 10 12 08 Josefstadt 1080 Vienna Austria   \n754       W hringer Stra e 33 35 09 Alsergrund 1090 Vienna Austria   \n1137              4 rue de la P pini re 8th arr 75008 Paris France   \n1189           Sieveringer Stra e 4 19 D bling 1190 Vienna Austria   \n1193           Taborstra e 8 A 02 Leopoldstadt 1020 Vienna Austria   \n1568                     Bail n 4 6 Eixample 08010 Barcelona Spain   \n1758           Gr nentorgasse 30 09 Alsergrund 1090 Vienna Austria   \n2998        Landstra er G rtel 5 03 Landstra e 1030 Vienna Austria   \n3932              Paragonstra e 1 11 Simmering 1110 Vienna Austria   \n5603         W hringer Stra e 12 09 Alsergrund 1090 Vienna Austria   \n6920                 20 Rue De La Ga t 14th arr 75014 Paris France   \n7635             Hasenauerstra e 12 19 D bling 1190 Vienna Austria   \n25256                 Sep lveda 180 Eixample 08011 Barcelona Spain   \n30408                Pau Clar s 122 Eixample 08009 Barcelona Spain   \n35544     Josefst dter Stra e 22 08 Josefstadt 1080 Vienna Austria   \n\n                                             hotel_name  lat  lng  \n122    Austria Trend Hotel Schloss Wilhelminenberg Wien  NaN  NaN  \n566                        Holiday Inn Paris Montmartre  NaN  NaN  \n724                 Fleming s Selection Hotel Wien City  NaN  NaN  \n754                                       Hotel Atlanta  NaN  NaN  \n1137             Maison Albar Hotel Paris Op ra Diamond  NaN  NaN  \n1189       Derag Livinghotel Kaiser Franz Joseph Vienna  NaN  NaN  \n1193                                 Hotel City Central  NaN  NaN  \n1568                     NH Collection Barcelona Podium  NaN  NaN  \n1758                          City Hotel Deutschmeister  NaN  NaN  \n2998                                Hotel Daniel Vienna  NaN  NaN  \n3932                                       Roomz Vienna  NaN  NaN  \n5603                 Hotel Pension Baron am Schottentor  NaN  NaN  \n6920                    Mercure Paris Gare Montparnasse  NaN  NaN  \n7635                                   Hotel Park Villa  NaN  NaN  \n25256                                     Hotel Advance  NaN  NaN  \n30408                       Renaissance Barcelona Hotel  NaN  NaN  \n35544                         Cordial Theaterhotel Wien  NaN  NaN  ",
      "text/html": "<div>\n<style scoped>\n    .dataframe tbody tr th:only-of-type {\n        vertical-align: middle;\n    }\n\n    .dataframe tbody tr th {\n        vertical-align: top;\n    }\n\n    .dataframe thead th {\n        text-align: right;\n    }\n</style>\n<table border=\"1\" class=\"dataframe\">\n  <thead>\n    <tr style=\"text-align: right;\">\n      <th></th>\n      <th>hotel_address</th>\n      <th>hotel_name</th>\n      <th>lat</th>\n      <th>lng</th>\n    </tr>\n  </thead>\n  <tbody>\n    <tr>\n      <th>122</th>\n      <td>Savoyenstra e 2 16 Ottakring 1160 Vienna Austria</td>\n      <td>Austria Trend Hotel Schloss Wilhelminenberg Wien</td>\n      <td>NaN</td>\n      <td>NaN</td>\n    </tr>\n    <tr>\n      <th>566</th>\n      <td>23 Rue Damr mont 18th arr 75018 Paris France</td>\n      <td>Holiday Inn Paris Montmartre</td>\n      <td>NaN</td>\n      <td>NaN</td>\n    </tr>\n    <tr>\n      <th>724</th>\n      <td>Josefst dter Stra e 10 12 08 Josefstadt 1080 Vienna Austria</td>\n      <td>Fleming s Selection Hotel Wien City</td>\n      <td>NaN</td>\n      <td>NaN</td>\n    </tr>\n    <tr>\n      <th>754</th>\n      <td>W hringer Stra e 33 35 09 Alsergrund 1090 Vienna Austria</td>\n      <td>Hotel Atlanta</td>\n      <td>NaN</td>\n      <td>NaN</td>\n    </tr>\n    <tr>\n      <th>1137</th>\n      <td>4 rue de la P pini re 8th arr 75008 Paris France</td>\n      <td>Maison Albar Hotel Paris Op ra Diamond</td>\n      <td>NaN</td>\n      <td>NaN</td>\n    </tr>\n    <tr>\n      <th>1189</th>\n      <td>Sieveringer Stra e 4 19 D bling 1190 Vienna Austria</td>\n      <td>Derag Livinghotel Kaiser Franz Joseph Vienna</td>\n      <td>NaN</td>\n      <td>NaN</td>\n    </tr>\n    <tr>\n      <th>1193</th>\n      <td>Taborstra e 8 A 02 Leopoldstadt 1020 Vienna Austria</td>\n      <td>Hotel City Central</td>\n      <td>NaN</td>\n      <td>NaN</td>\n    </tr>\n    <tr>\n      <th>1568</th>\n      <td>Bail n 4 6 Eixample 08010 Barcelona Spain</td>\n      <td>NH Collection Barcelona Podium</td>\n      <td>NaN</td>\n      <td>NaN</td>\n    </tr>\n    <tr>\n      <th>1758</th>\n      <td>Gr nentorgasse 30 09 Alsergrund 1090 Vienna Austria</td>\n      <td>City Hotel Deutschmeister</td>\n      <td>NaN</td>\n      <td>NaN</td>\n    </tr>\n    <tr>\n      <th>2998</th>\n      <td>Landstra er G rtel 5 03 Landstra e 1030 Vienna Austria</td>\n      <td>Hotel Daniel Vienna</td>\n      <td>NaN</td>\n      <td>NaN</td>\n    </tr>\n    <tr>\n      <th>3932</th>\n      <td>Paragonstra e 1 11 Simmering 1110 Vienna Austria</td>\n      <td>Roomz Vienna</td>\n      <td>NaN</td>\n      <td>NaN</td>\n    </tr>\n    <tr>\n      <th>5603</th>\n      <td>W hringer Stra e 12 09 Alsergrund 1090 Vienna Austria</td>\n      <td>Hotel Pension Baron am Schottentor</td>\n      <td>NaN</td>\n      <td>NaN</td>\n    </tr>\n    <tr>\n      <th>6920</th>\n      <td>20 Rue De La Ga t 14th arr 75014 Paris France</td>\n      <td>Mercure Paris Gare Montparnasse</td>\n      <td>NaN</td>\n      <td>NaN</td>\n    </tr>\n    <tr>\n      <th>7635</th>\n      <td>Hasenauerstra e 12 19 D bling 1190 Vienna Austria</td>\n      <td>Hotel Park Villa</td>\n      <td>NaN</td>\n      <td>NaN</td>\n    </tr>\n    <tr>\n      <th>25256</th>\n      <td>Sep lveda 180 Eixample 08011 Barcelona Spain</td>\n      <td>Hotel Advance</td>\n      <td>NaN</td>\n      <td>NaN</td>\n    </tr>\n    <tr>\n      <th>30408</th>\n      <td>Pau Clar s 122 Eixample 08009 Barcelona Spain</td>\n      <td>Renaissance Barcelona Hotel</td>\n      <td>NaN</td>\n      <td>NaN</td>\n    </tr>\n    <tr>\n      <th>35544</th>\n      <td>Josefst dter Stra e 22 08 Josefstadt 1080 Vienna Austria</td>\n      <td>Cordial Theaterhotel Wien</td>\n      <td>NaN</td>\n      <td>NaN</td>\n    </tr>\n  </tbody>\n</table>\n</div>"
     },
     "metadata": {},
     "output_type": "display_data"
    }
   ],
   "source": [
    "# Look at unique hotels with missing data  \n",
    "hotels_null = data.loc[\n",
    "                    (data[\"lat\"].isna()) | (data[\"lng\"].isna()), \n",
    "                    [\"hotel_address\", \"hotel_name\", \"lat\", \"lng\"]\n",
    "                    ].drop_duplicates()  \n",
    "print(\"[magenta]Unique hotels with missing data\")\n",
    "display(hotels_null)   \n",
    "\n",
    "# As I tried a lot of variants, \n",
    "# this one is the most effective for fixing data for correct geocoding  \n",
    "def address_repair(address):\n",
    "    \"\"\" Fixing values in hotel_address \"\"\"  \n",
    "    \n",
    "    address = address.replace(\"tra e\", \"traße\")\\\n",
    "                     .replace(\"r nen\", \"rünen\")\\\n",
    "                     .replace(\"st dt\", \"städt\")\\\n",
    "                     .replace(\"mr mo\", \"mremo\")\\\n",
    "                     .replace(\"Sep lveda\", \"C/Sepulveda\")\\\n",
    "                     .replace(\"Eixample\", \" \")\\\n",
    "                     .replace(\"W hringer\", \"Währinger Gürtel\")\\\n",
    "                     .replace(\"G rtel\", \"Gürtel\")\\\n",
    "                     .replace(\"D bling\", \" \")\\\n",
    "                     .replace(\"P pini re\", \"Pépinière\")\\\n",
    "                     .replace(\"Ga t\", \"Gaîté\")\\\n",
    "                     .replace(\"Bail n\", \"Bailén\")\\\n",
    "                     .replace(\"Clar s\", \"Claris\")  \n",
    "    return address  \n",
    "\n",
    "\n",
    "# Hotel addresses fix\n",
    "hotels_null[\"hotel_address\"] = hotels_null[\"hotel_address\"].apply(address_repair)  \n",
    "\n",
    "# Latitude fix  \n",
    "hotels_null[\"lat\"] = hotels_null[\"hotel_address\"].apply(\n",
    "                                    lambda x: geolocator.geocode(x).latitude\n",
    ")  \n",
    "\n",
    "# Longitude fix  \n",
    "hotels_null[\"lng\"] = hotels_null[\"hotel_address\"].apply(\n",
    "                                    lambda x: geolocator.geocode(x).longitude\n",
    ")  "
   ]
  },
  {
   "cell_type": "code",
   "execution_count": 10,
   "metadata": {
    "collapsed": false,
    "pycharm": {
     "name": "#%%\n"
    }
   },
   "outputs": [],
   "source": [
    "# Add filled data to main dataframe  \n",
    "data = data.merge(hotels_null, how=\"left\", on=\"hotel_name\")  \n",
    "data[\"lat\"] = data[\"lat_x\"].fillna(data[\"lat_y\"])  # fix latitude  \n",
    "data[\"lng\"] = data[\"lng_x\"].fillna(data[\"lng_y\"])  # fix longitude  \n",
    "\n",
    "# Drop unnecessary columns  \n",
    "data.drop(\n",
    "    columns=[\"lat_x\", \"lng_x\", \"lat_y\", \"lng_y\", \"hotel_address_y\"], \n",
    "    inplace=True\n",
    ")  \n",
    "\n",
    "# Some makeup))\n",
    "data.rename(\n",
    "    columns={\"hotel_address_x\":\"hotel_address\"}, \n",
    "    inplace=True\n",
    ")    "
   ]
  },
  {
   "cell_type": "markdown",
   "metadata": {
    "collapsed": false,
    "pycharm": {
     "name": "#%% md\n"
    }
   },
   "source": [
    "*Unique hotels throughout dataframe*"
   ]
  },
  {
   "cell_type": "code",
   "execution_count": 11,
   "metadata": {
    "collapsed": false,
    "pycharm": {
     "name": "#%%\n"
    }
   },
   "outputs": [
    {
     "data": {
      "text/plain": "<folium.folium.Map at 0x7f61606d8550>",
      "text/html": "<div style=\"width:100%;\"><div style=\"position:relative;width:100%;height:0;padding-bottom:60%;\"><span style=\"color:#565656\">Make this Notebook Trusted to load map: File -> Trust Notebook</span><iframe srcdoc=\"&lt;!DOCTYPE html&gt;\n&lt;head&gt;    \n    &lt;meta http-equiv=&quot;content-type&quot; content=&quot;text/html; charset=UTF-8&quot; /&gt;\n    \n        &lt;script&gt;\n            L_NO_TOUCH = false;\n            L_DISABLE_3D = false;\n        &lt;/script&gt;\n    \n    &lt;style&gt;html, body {width: 100%;height: 100%;margin: 0;padding: 0;}&lt;/style&gt;\n    &lt;style&gt;#map {position:absolute;top:0;bottom:0;right:0;left:0;}&lt;/style&gt;\n    &lt;script src=&quot;https://cdn.jsdelivr.net/npm/leaflet@1.6.0/dist/leaflet.js&quot;&gt;&lt;/script&gt;\n    &lt;script src=&quot;https://code.jquery.com/jquery-1.12.4.min.js&quot;&gt;&lt;/script&gt;\n    &lt;script src=&quot;https://maxcdn.bootstrapcdn.com/bootstrap/3.2.0/js/bootstrap.min.js&quot;&gt;&lt;/script&gt;\n    &lt;script src=&quot;https://cdnjs.cloudflare.com/ajax/libs/Leaflet.awesome-markers/2.0.2/leaflet.awesome-markers.js&quot;&gt;&lt;/script&gt;\n    &lt;link rel=&quot;stylesheet&quot; href=&quot;https://cdn.jsdelivr.net/npm/leaflet@1.6.0/dist/leaflet.css&quot;/&gt;\n    &lt;link rel=&quot;stylesheet&quot; href=&quot;https://maxcdn.bootstrapcdn.com/bootstrap/3.2.0/css/bootstrap.min.css&quot;/&gt;\n    &lt;link rel=&quot;stylesheet&quot; href=&quot;https://maxcdn.bootstrapcdn.com/bootstrap/3.2.0/css/bootstrap-theme.min.css&quot;/&gt;\n    &lt;link rel=&quot;stylesheet&quot; href=&quot;https://maxcdn.bootstrapcdn.com/font-awesome/4.6.3/css/font-awesome.min.css&quot;/&gt;\n    &lt;link rel=&quot;stylesheet&quot; href=&quot;https://cdnjs.cloudflare.com/ajax/libs/Leaflet.awesome-markers/2.0.2/leaflet.awesome-markers.css&quot;/&gt;\n    &lt;link rel=&quot;stylesheet&quot; href=&quot;https://cdn.jsdelivr.net/gh/python-visualization/folium/folium/templates/leaflet.awesome.rotate.min.css&quot;/&gt;\n    \n            &lt;meta name=&quot;viewport&quot; content=&quot;width=device-width,\n                initial-scale=1.0, maximum-scale=1.0, user-scalable=no&quot; /&gt;\n            &lt;style&gt;\n                #map_5857a486795d84e88aa3ef5e13666f70 {\n                    position: relative;\n                    width: 100.0%;\n                    height: 100.0%;\n                    left: 0.0%;\n                    top: 0.0%;\n                }\n            &lt;/style&gt;\n        \n    &lt;script src=&quot;https://cdnjs.cloudflare.com/ajax/libs/leaflet.markercluster/1.1.0/leaflet.markercluster.js&quot;&gt;&lt;/script&gt;\n    &lt;link rel=&quot;stylesheet&quot; href=&quot;https://cdnjs.cloudflare.com/ajax/libs/leaflet.markercluster/1.1.0/MarkerCluster.css&quot;/&gt;\n    &lt;link rel=&quot;stylesheet&quot; href=&quot;https://cdnjs.cloudflare.com/ajax/libs/leaflet.markercluster/1.1.0/MarkerCluster.Default.css&quot;/&gt;\n&lt;/head&gt;\n&lt;body&gt;    \n    \n            &lt;div class=&quot;folium-map&quot; id=&quot;map_5857a486795d84e88aa3ef5e13666f70&quot; &gt;&lt;/div&gt;\n        \n&lt;/body&gt;\n&lt;script&gt;    \n    \n            var map_5857a486795d84e88aa3ef5e13666f70 = L.map(\n                &quot;map_5857a486795d84e88aa3ef5e13666f70&quot;,\n                {\n                    center: [48.779124, 9.18009],\n                    crs: L.CRS.EPSG3857,\n                    zoom: 5,\n                    zoomControl: true,\n                    preferCanvas: false,\n                }\n            );\n\n            \n\n        \n    \n            var tile_layer_f09bc1748aa962175a07f315ce5ab553 = L.tileLayer(\n                &quot;https://{s}.tile.openstreetmap.org/{z}/{x}/{y}.png&quot;,\n                {&quot;attribution&quot;: &quot;Data by \\u0026copy; \\u003ca href=\\&quot;http://openstreetmap.org\\&quot;\\u003eOpenStreetMap\\u003c/a\\u003e, under \\u003ca href=\\&quot;http://www.openstreetmap.org/copyright\\&quot;\\u003eODbL\\u003c/a\\u003e.&quot;, &quot;detectRetina&quot;: false, &quot;maxNativeZoom&quot;: 18, &quot;maxZoom&quot;: 18, &quot;minZoom&quot;: 0, &quot;noWrap&quot;: false, &quot;opacity&quot;: 1, &quot;subdomains&quot;: &quot;abc&quot;, &quot;tms&quot;: false}\n            ).addTo(map_5857a486795d84e88aa3ef5e13666f70);\n        \n    \n            var marker_cluster_e3983cba9c3bf4ceb7cd078095406f88 = L.markerClusterGroup(\n                {}\n            );\n            map_5857a486795d84e88aa3ef5e13666f70.addLayer(marker_cluster_e3983cba9c3bf4ceb7cd078095406f88);\n        \n    \n            var marker_3abec2746bb3f418580598bd3c6cd7d2 = L.marker(\n                [51.5078943, -0.1436707],\n                {}\n            ).addTo(marker_cluster_e3983cba9c3bf4ceb7cd078095406f88);\n        \n    \n            var marker_b6c099491c54206b1f8e104b2362962a = L.marker(\n                [51.5210085, -0.1230966],\n                {}\n            ).addTo(marker_cluster_e3983cba9c3bf4ceb7cd078095406f88);\n        \n    \n            var marker_af57b83355743e4803f9ac16d32c1581 = L.marker(\n                [48.8453774, 2.3256427],\n                {}\n            ).addTo(marker_cluster_e3983cba9c3bf4ceb7cd078095406f88);\n        \n    \n            var marker_70a84fbfa7bd69bfc62c0a4e98d41fe8 = L.marker(\n                [48.8886969, 2.3945403],\n                {}\n            ).addTo(marker_cluster_e3983cba9c3bf4ceb7cd078095406f88);\n        \n    \n            var marker_54665737d9499662b854b4eff2d9205d = L.marker(\n                [52.385601, 4.8470597],\n                {}\n            ).addTo(marker_cluster_e3983cba9c3bf4ceb7cd078095406f88);\n        \n    \n            var marker_daaa5215dbd722f5bd74c8451299fbdb = L.marker(\n                [45.4481878, 9.2570459],\n                {}\n            ).addTo(marker_cluster_e3983cba9c3bf4ceb7cd078095406f88);\n        \n    \n            var marker_9af9025c12ef29dbc8c1f09c24d4f7bf = L.marker(\n                [51.4942305, -0.1851141],\n                {}\n            ).addTo(marker_cluster_e3983cba9c3bf4ceb7cd078095406f88);\n        \n    \n            var marker_2228a2211345fcd7303feb79c8fa9970 = L.marker(\n                [48.2085627, 16.3541687],\n                {}\n            ).addTo(marker_cluster_e3983cba9c3bf4ceb7cd078095406f88);\n        \n    \n            var marker_fe57aaf0d045a1fea14f5e290ec31966 = L.marker(\n                [51.5001979, -0.1795357],\n                {}\n            ).addTo(marker_cluster_e3983cba9c3bf4ceb7cd078095406f88);\n        \n    \n            var marker_6d4bf9155ab94f06816c6af56729659a = L.marker(\n                [51.5051084, -0.213266],\n                {}\n            ).addTo(marker_cluster_e3983cba9c3bf4ceb7cd078095406f88);\n        \n    \n            var marker_828e62561064c7d15ccf62e77fa0bd88 = L.marker(\n                [51.4920287, -0.1917801],\n                {}\n            ).addTo(marker_cluster_e3983cba9c3bf4ceb7cd078095406f88);\n        \n    \n            var marker_cfb0c233956c4835b8ce5315dca48eae = L.marker(\n                [51.4930905, -0.1755022],\n                {}\n            ).addTo(marker_cluster_e3983cba9c3bf4ceb7cd078095406f88);\n        \n    \n            var marker_4b3cf5cd417503747e2950efd36e940e = L.marker(\n                [41.4072812, 2.1443116],\n                {}\n            ).addTo(marker_cluster_e3983cba9c3bf4ceb7cd078095406f88);\n        \n    \n            var marker_b568ba4339cacc63c12762fbddd3fd33 = L.marker(\n                [41.3961021, 2.1794688],\n                {}\n            ).addTo(marker_cluster_e3983cba9c3bf4ceb7cd078095406f88);\n        \n    \n            var marker_0d8298b163029ad35dc0b1c180f8bc68 = L.marker(\n                [51.5263854, -0.1136042],\n                {}\n            ).addTo(marker_cluster_e3983cba9c3bf4ceb7cd078095406f88);\n        \n    \n            var marker_a77756e166b509d35d5fa4fbdaccd39c = L.marker(\n                [51.499981, -0.1928791],\n                {}\n            ).addTo(marker_cluster_e3983cba9c3bf4ceb7cd078095406f88);\n        \n    \n            var marker_87eeec578a01207b0d2d1d31939ef437 = L.marker(\n                [51.5133832, -0.1926617],\n                {}\n            ).addTo(marker_cluster_e3983cba9c3bf4ceb7cd078095406f88);\n        \n    \n            var marker_1160d3f87c482cc6db89d6bf2afae1d8 = L.marker(\n                [41.3830117, 2.1700699],\n                {}\n            ).addTo(marker_cluster_e3983cba9c3bf4ceb7cd078095406f88);\n        \n    \n            var marker_34ef6e7d9dd2cacb45509564a2ad021f = L.marker(\n                [51.5084036, -0.1067988],\n                {}\n            ).addTo(marker_cluster_e3983cba9c3bf4ceb7cd078095406f88);\n        \n    \n            var marker_68eb9df200623c45857c7c3d36d65eb3 = L.marker(\n                [51.5561548, -0.2141824],\n                {}\n            ).addTo(marker_cluster_e3983cba9c3bf4ceb7cd078095406f88);\n        \n    \n            var marker_d1203c5c815be7a07c149b97331975ef = L.marker(\n                [51.5426054, -0.0072708],\n                {}\n            ).addTo(marker_cluster_e3983cba9c3bf4ceb7cd078095406f88);\n        \n    \n            var marker_067cbcb2826adfe70b64aa4523d4a5ae = L.marker(\n                [51.5014001, -0.1160092],\n                {}\n            ).addTo(marker_cluster_e3983cba9c3bf4ceb7cd078095406f88);\n        \n    \n            var marker_997b5e94bff8f16a7b2a29a0b72f37e5 = L.marker(\n                [48.8785454, 2.3384866],\n                {}\n            ).addTo(marker_cluster_e3983cba9c3bf4ceb7cd078095406f88);\n        \n    \n            var marker_38d731e0713a692d1768405a4bc8bb3c = L.marker(\n                [48.2017091, 16.3710205],\n                {}\n            ).addTo(marker_cluster_e3983cba9c3bf4ceb7cd078095406f88);\n        \n    \n            var marker_e24f3a886766aebd7226997c153bfa72 = L.marker(\n                [41.392095, 2.158493],\n                {}\n            ).addTo(marker_cluster_e3983cba9c3bf4ceb7cd078095406f88);\n        \n    \n            var marker_920bccf66909bb286a4dff324d123c26 = L.marker(\n                [52.3511137, 4.8411629],\n                {}\n            ).addTo(marker_cluster_e3983cba9c3bf4ceb7cd078095406f88);\n        \n    \n            var marker_a87591867cb5293dfa6e01a683a0b192 = L.marker(\n                [52.351381, 4.872723],\n                {}\n            ).addTo(marker_cluster_e3983cba9c3bf4ceb7cd078095406f88);\n        \n    \n            var marker_5cd6093b3d1518b01b5e50283cdb4f25 = L.marker(\n                [51.4992789, -0.2090733],\n                {}\n            ).addTo(marker_cluster_e3983cba9c3bf4ceb7cd078095406f88);\n        \n    \n            var marker_49715491051985eb6510651a41a37f52 = L.marker(\n                [52.3047669, 4.9476868],\n                {}\n            ).addTo(marker_cluster_e3983cba9c3bf4ceb7cd078095406f88);\n        \n    \n            var marker_c54d0e5021e0ed1fc758ecc5eb86721c = L.marker(\n                [51.5122457, -0.0757326],\n                {}\n            ).addTo(marker_cluster_e3983cba9c3bf4ceb7cd078095406f88);\n        \n    \n            var marker_b35fc2cd0411a268c91433ef25b51cde = L.marker(\n                [52.3702469, 4.8966743],\n                {}\n            ).addTo(marker_cluster_e3983cba9c3bf4ceb7cd078095406f88);\n        \n    \n            var marker_3d16535761d75cdeee0cc2acc845effb = L.marker(\n                [51.5019097, -0.0232208],\n                {}\n            ).addTo(marker_cluster_e3983cba9c3bf4ceb7cd078095406f88);\n        \n    \n            var marker_579a464f8abf1162066d5d8caa9db141 = L.marker(\n                [51.5126488, -0.1803795],\n                {}\n            ).addTo(marker_cluster_e3983cba9c3bf4ceb7cd078095406f88);\n        \n    \n            var marker_2622186c01f62c6603c7742713e931f4 = L.marker(\n                [45.4726942, 9.1943911],\n                {}\n            ).addTo(marker_cluster_e3983cba9c3bf4ceb7cd078095406f88);\n        \n    \n            var marker_ea5e471193ab5614f21723969519f35f = L.marker(\n                [51.5121957, -0.1318384],\n                {}\n            ).addTo(marker_cluster_e3983cba9c3bf4ceb7cd078095406f88);\n        \n    \n            var marker_c95df9a56a88fc829082891cd85dd596 = L.marker(\n                [48.8548641, 2.2923181],\n                {}\n            ).addTo(marker_cluster_e3983cba9c3bf4ceb7cd078095406f88);\n        \n    \n            var marker_d458054583b66f7ade12f463fb4c7467 = L.marker(\n                [51.4957436, -0.1477528],\n                {}\n            ).addTo(marker_cluster_e3983cba9c3bf4ceb7cd078095406f88);\n        \n    \n            var marker_88683e91232cabca5fb8954239d5bf0d = L.marker(\n                [41.3971434, 2.1921947],\n                {}\n            ).addTo(marker_cluster_e3983cba9c3bf4ceb7cd078095406f88);\n        \n    \n            var marker_8759e9e1850156a7963cad7f8f7eb779 = L.marker(\n                [41.3897945, 2.1660575],\n                {}\n            ).addTo(marker_cluster_e3983cba9c3bf4ceb7cd078095406f88);\n        \n    \n            var marker_86d5c060cd621e46bddcf350fc1fd744 = L.marker(\n                [52.363889, 4.881302],\n                {}\n            ).addTo(marker_cluster_e3983cba9c3bf4ceb7cd078095406f88);\n        \n    \n            var marker_7a471624957e33a4081fb2e6fde29d15 = L.marker(\n                [51.5179725, -0.1280495],\n                {}\n            ).addTo(marker_cluster_e3983cba9c3bf4ceb7cd078095406f88);\n        \n    \n            var marker_91f6a5fb61ffedfafa4199ca8650b941 = L.marker(\n                [48.8711365, 2.3050482],\n                {}\n            ).addTo(marker_cluster_e3983cba9c3bf4ceb7cd078095406f88);\n        \n    \n            var marker_6345876b932f1f00502887ae23bd7bfa = L.marker(\n                [48.2102677, 16.3741269],\n                {}\n            ).addTo(marker_cluster_e3983cba9c3bf4ceb7cd078095406f88);\n        \n    \n            var marker_5e2836dc50448ebd19c47eab22276fbf = L.marker(\n                [51.5007324, -0.01655],\n                {}\n            ).addTo(marker_cluster_e3983cba9c3bf4ceb7cd078095406f88);\n        \n    \n            var marker_45ec03a8f88a2059ba617c23387c16df = L.marker(\n                [41.3732462, 2.1474351],\n                {}\n            ).addTo(marker_cluster_e3983cba9c3bf4ceb7cd078095406f88);\n        \n    \n            var marker_e4e7a8ad896121dff5ae2a47a564de81 = L.marker(\n                [48.8393229, 2.3892274],\n                {}\n            ).addTo(marker_cluster_e3983cba9c3bf4ceb7cd078095406f88);\n        \n    \n            var marker_83f1390776ec69a1490848d2a7a3ec5f = L.marker(\n                [41.3976233, 2.188975],\n                {}\n            ).addTo(marker_cluster_e3983cba9c3bf4ceb7cd078095406f88);\n        \n    \n            var marker_665b92123e68cc8edbcc725639f83bee = L.marker(\n                [51.5634756, -0.2042758],\n                {}\n            ).addTo(marker_cluster_e3983cba9c3bf4ceb7cd078095406f88);\n        \n    \n            var marker_192663ed1aa168616156e7fcfc448828 = L.marker(\n                [51.5108412, -0.0780581],\n                {}\n            ).addTo(marker_cluster_e3983cba9c3bf4ceb7cd078095406f88);\n        \n    \n            var marker_60b769809fe8fd01395d9c9b9a43b10c = L.marker(\n                [51.5141842, -0.3192925],\n                {}\n            ).addTo(marker_cluster_e3983cba9c3bf4ceb7cd078095406f88);\n        \n    \n            var marker_833293cdd00b81dca16999c371b4e91e = L.marker(\n                [48.8649306, 2.3290844],\n                {}\n            ).addTo(marker_cluster_e3983cba9c3bf4ceb7cd078095406f88);\n        \n    \n            var marker_3203b86e5eb769aab9dc63490ca700ce = L.marker(\n                [51.5201065, -0.1221393],\n                {}\n            ).addTo(marker_cluster_e3983cba9c3bf4ceb7cd078095406f88);\n        \n    \n            var marker_075e73c2d3f20ff350aa206ecf0c7c80 = L.marker(\n                [51.4950098, -0.1906195],\n                {}\n            ).addTo(marker_cluster_e3983cba9c3bf4ceb7cd078095406f88);\n        \n    \n            var marker_27f8a351f51b3e8fadaf6b60eb7fff44 = L.marker(\n                [48.2008957, 16.3592496],\n                {}\n            ).addTo(marker_cluster_e3983cba9c3bf4ceb7cd078095406f88);\n        \n    \n            var marker_99439a5d97f67379372a5716ce518204 = L.marker(\n                [45.4769167, 9.196665],\n                {}\n            ).addTo(marker_cluster_e3983cba9c3bf4ceb7cd078095406f88);\n        \n    \n            var marker_3153bfd2ee506db33b39b772dc75734b = L.marker(\n                [51.5139298, -0.101126],\n                {}\n            ).addTo(marker_cluster_e3983cba9c3bf4ceb7cd078095406f88);\n        \n    \n            var marker_13effd92f72237e50fc58f05461e5a81 = L.marker(\n                [52.377743, 4.897057],\n                {}\n            ).addTo(marker_cluster_e3983cba9c3bf4ceb7cd078095406f88);\n        \n    \n            var marker_c985c4e9d6f4f3abda7019b40bc2e190 = L.marker(\n                [51.4938468, -0.1917582],\n                {}\n            ).addTo(marker_cluster_e3983cba9c3bf4ceb7cd078095406f88);\n        \n    \n            var marker_8e11cce6dc86c2972c678172e15f7318 = L.marker(\n                [48.2146623, 16.3627994],\n                {}\n            ).addTo(marker_cluster_e3983cba9c3bf4ceb7cd078095406f88);\n        \n    \n            var marker_c93b521c0bf75410b95168a93aeb0190 = L.marker(\n                [45.4838504, 9.2034067],\n                {}\n            ).addTo(marker_cluster_e3983cba9c3bf4ceb7cd078095406f88);\n        \n    \n            var marker_4d26cae32d6e3d86c3d8b66c22f6e239 = L.marker(\n                [52.3856494, 4.834443],\n                {}\n            ).addTo(marker_cluster_e3983cba9c3bf4ceb7cd078095406f88);\n        \n    \n            var marker_1e2f82bbe1a576e04e6d5d629b318aa4 = L.marker(\n                [48.1585332, 16.3451115],\n                {}\n            ).addTo(marker_cluster_e3983cba9c3bf4ceb7cd078095406f88);\n        \n    \n            var marker_cc7cb549cff92e631a199357c8216101 = L.marker(\n                [51.5162883, -0.1721078],\n                {}\n            ).addTo(marker_cluster_e3983cba9c3bf4ceb7cd078095406f88);\n        \n    \n            var marker_4229898209b182485a464f4092dcd601 = L.marker(\n                [41.3849613, 2.1756666],\n                {}\n            ).addTo(marker_cluster_e3983cba9c3bf4ceb7cd078095406f88);\n        \n    \n            var marker_91c8bf97ea1accd7d077e810d00792ac = L.marker(\n                [51.4948059, -0.1926525],\n                {}\n            ).addTo(marker_cluster_e3983cba9c3bf4ceb7cd078095406f88);\n        \n    \n            var marker_45bfe3501485e4f06efae024a808b277 = L.marker(\n                [51.4919588, -0.2200956],\n                {}\n            ).addTo(marker_cluster_e3983cba9c3bf4ceb7cd078095406f88);\n        \n    \n            var marker_2101a3264f7daf71addc19c0c57498f3 = L.marker(\n                [52.3714428, 4.9346331],\n                {}\n            ).addTo(marker_cluster_e3983cba9c3bf4ceb7cd078095406f88);\n        \n    \n            var marker_6e7b57c17b3b8e7c0fcbe818fe29f4f1 = L.marker(\n                [51.5009609, -0.1165913],\n                {}\n            ).addTo(marker_cluster_e3983cba9c3bf4ceb7cd078095406f88);\n        \n    \n            var marker_388d07d7c6764581bca6ceb4e99fbc51 = L.marker(\n                [51.5054544, -0.2262216],\n                {}\n            ).addTo(marker_cluster_e3983cba9c3bf4ceb7cd078095406f88);\n        \n    \n            var marker_3c9f051033633e4a32db1ada1b152eab = L.marker(\n                [48.1915401, 16.3546263],\n                {}\n            ).addTo(marker_cluster_e3983cba9c3bf4ceb7cd078095406f88);\n        \n    \n            var marker_2c70343197ec2fe25d7714355d514ad1 = L.marker(\n                [51.5152892, -0.160898],\n                {}\n            ).addTo(marker_cluster_e3983cba9c3bf4ceb7cd078095406f88);\n        \n    \n            var marker_ba01a37d46c234b7550b3b03f9630587 = L.marker(\n                [51.4922348, -0.1914229],\n                {}\n            ).addTo(marker_cluster_e3983cba9c3bf4ceb7cd078095406f88);\n        \n    \n            var marker_7acb62dd7fcb532e6c20fd39a1668a76 = L.marker(\n                [51.5208155, -0.0915319],\n                {}\n            ).addTo(marker_cluster_e3983cba9c3bf4ceb7cd078095406f88);\n        \n    \n            var marker_969e7dc76d62b38d82bbbffcb4ace077 = L.marker(\n                [51.4815995, -0.1481053],\n                {}\n            ).addTo(marker_cluster_e3983cba9c3bf4ceb7cd078095406f88);\n        \n    \n            var marker_d1ff3a27c7531495a6b5ea630bead974 = L.marker(\n                [48.8671391, 2.3038447],\n                {}\n            ).addTo(marker_cluster_e3983cba9c3bf4ceb7cd078095406f88);\n        \n    \n            var marker_87965fb7cd158f33b9d6b334e9c596b4 = L.marker(\n                [52.357655, 4.844576],\n                {}\n            ).addTo(marker_cluster_e3983cba9c3bf4ceb7cd078095406f88);\n        \n    \n            var marker_c7168d937af8ee86ad7d6cc8ce3f1952 = L.marker(\n                [48.2107358, 16.382147],\n                {}\n            ).addTo(marker_cluster_e3983cba9c3bf4ceb7cd078095406f88);\n        \n    \n            var marker_e226983cce142087ce792eb14b52fd98 = L.marker(\n                [41.390913, 2.1706981],\n                {}\n            ).addTo(marker_cluster_e3983cba9c3bf4ceb7cd078095406f88);\n        \n    \n            var marker_a9bdf24b1dc6dfedba1c58703654e7d8 = L.marker(\n                [51.531979, -0.061598],\n                {}\n            ).addTo(marker_cluster_e3983cba9c3bf4ceb7cd078095406f88);\n        \n    \n            var marker_5967f4c55122c6bedbf71b364f43fb9a = L.marker(\n                [48.8528427, 2.3422256],\n                {}\n            ).addTo(marker_cluster_e3983cba9c3bf4ceb7cd078095406f88);\n        \n    \n            var marker_b51df2af3f9cb4063fd2697c0196dbb8 = L.marker(\n                [51.5590955, -0.284704],\n                {}\n            ).addTo(marker_cluster_e3983cba9c3bf4ceb7cd078095406f88);\n        \n    \n            var marker_57d50bc43e48ab7cb24c94090769949f = L.marker(\n                [52.3705447, 4.8886439],\n                {}\n            ).addTo(marker_cluster_e3983cba9c3bf4ceb7cd078095406f88);\n        \n    \n            var marker_6297d85cb8c5da60310fef0f8395b60f = L.marker(\n                [45.4844028, 9.1673528],\n                {}\n            ).addTo(marker_cluster_e3983cba9c3bf4ceb7cd078095406f88);\n        \n    \n            var marker_be52b7f0c3a8a752cad168e86ce2dc3c = L.marker(\n                [51.4935083, -0.1834346],\n                {}\n            ).addTo(marker_cluster_e3983cba9c3bf4ceb7cd078095406f88);\n        \n    \n            var marker_8ea3b3f042180906a8e53ed87527c562 = L.marker(\n                [51.5119933, -0.1782794],\n                {}\n            ).addTo(marker_cluster_e3983cba9c3bf4ceb7cd078095406f88);\n        \n    \n            var marker_c5837fc762525e50bb2df10fad790663 = L.marker(\n                [48.8642689, 2.3308179],\n                {}\n            ).addTo(marker_cluster_e3983cba9c3bf4ceb7cd078095406f88);\n        \n    \n            var marker_2cbaff7d8cc0262491b3863cebca8878 = L.marker(\n                [52.3702613, 4.9032489],\n                {}\n            ).addTo(marker_cluster_e3983cba9c3bf4ceb7cd078095406f88);\n        \n    \n            var marker_60fa86ccbec67fbd4ecd3ef673df2f73 = L.marker(\n                [51.5144004, -0.1565506],\n                {}\n            ).addTo(marker_cluster_e3983cba9c3bf4ceb7cd078095406f88);\n        \n    \n            var marker_7a2e546361496b9cc1683fec8de3b356 = L.marker(\n                [41.4114188, 2.211756],\n                {}\n            ).addTo(marker_cluster_e3983cba9c3bf4ceb7cd078095406f88);\n        \n    \n            var marker_5e9854485d739dca93014a073442e335 = L.marker(\n                [52.3764175, 4.9002201],\n                {}\n            ).addTo(marker_cluster_e3983cba9c3bf4ceb7cd078095406f88);\n        \n    \n            var marker_9e0e0e70faf5b1e3e1341af6109861ca = L.marker(\n                [52.376752, 4.904618],\n                {}\n            ).addTo(marker_cluster_e3983cba9c3bf4ceb7cd078095406f88);\n        \n    \n            var marker_a19e60459219c93c6550faa39d3f7fcb = L.marker(\n                [51.4756558, -0.1813888],\n                {}\n            ).addTo(marker_cluster_e3983cba9c3bf4ceb7cd078095406f88);\n        \n    \n            var marker_6da68c5e26d090783674df57f2018553 = L.marker(\n                [51.5060237, -0.151078],\n                {}\n            ).addTo(marker_cluster_e3983cba9c3bf4ceb7cd078095406f88);\n        \n    \n            var marker_a2003ac7b60480ac3d7b10ebba08ebd0 = L.marker(\n                [41.3945074, 2.1632659],\n                {}\n            ).addTo(marker_cluster_e3983cba9c3bf4ceb7cd078095406f88);\n        \n    \n            var marker_cfede2824e43df13d846a44df5965ad7 = L.marker(\n                [48.8794843, 2.3556545],\n                {}\n            ).addTo(marker_cluster_e3983cba9c3bf4ceb7cd078095406f88);\n        \n    \n            var marker_560693219e23e89e957dd35ff20cc372 = L.marker(\n                [51.4778583, -0.0137463],\n                {}\n            ).addTo(marker_cluster_e3983cba9c3bf4ceb7cd078095406f88);\n        \n    \n            var marker_ce7c15cad5b6b23540bea48a356cceea = L.marker(\n                [51.5142184, -0.1809032],\n                {}\n            ).addTo(marker_cluster_e3983cba9c3bf4ceb7cd078095406f88);\n        \n    \n            var marker_a6aa442b9def1bf628d5105abcfcabde = L.marker(\n                [51.5064534, -0.1456146],\n                {}\n            ).addTo(marker_cluster_e3983cba9c3bf4ceb7cd078095406f88);\n        \n    \n            var marker_cbbcbf6776229ef82acbd3624f2999f4 = L.marker(\n                [51.5254162, -0.0772849],\n                {}\n            ).addTo(marker_cluster_e3983cba9c3bf4ceb7cd078095406f88);\n        \n    \n            var marker_22dee77222e4c21c561517f66d3dc43e = L.marker(\n                [51.517876, -0.1440647],\n                {}\n            ).addTo(marker_cluster_e3983cba9c3bf4ceb7cd078095406f88);\n        \n    \n            var marker_3529b39dddd35c963581b154760ca8b7 = L.marker(\n                [41.4023621, 2.2119049],\n                {}\n            ).addTo(marker_cluster_e3983cba9c3bf4ceb7cd078095406f88);\n        \n    \n            var marker_518bdadde22216fe44f806e7ab426f52 = L.marker(\n                [51.4981225, -0.1799693],\n                {}\n            ).addTo(marker_cluster_e3983cba9c3bf4ceb7cd078095406f88);\n        \n    \n            var marker_fe662bb13e3061c4bf5159bf539f3e4c = L.marker(\n                [45.4630441, 9.183607],\n                {}\n            ).addTo(marker_cluster_e3983cba9c3bf4ceb7cd078095406f88);\n        \n    \n            var marker_ff3deeb7b679526826abad7b4b1e8baa = L.marker(\n                [51.5576962, -0.2835263],\n                {}\n            ).addTo(marker_cluster_e3983cba9c3bf4ceb7cd078095406f88);\n        \n    \n            var marker_686ee34ccb7eb7705ac6777c17098f9f = L.marker(\n                [51.511521, -0.290706],\n                {}\n            ).addTo(marker_cluster_e3983cba9c3bf4ceb7cd078095406f88);\n        \n    \n            var marker_73bb0a14594aa2b17b539e41c4baea22 = L.marker(\n                [52.3096835, 4.9422614],\n                {}\n            ).addTo(marker_cluster_e3983cba9c3bf4ceb7cd078095406f88);\n        \n    \n            var marker_03f941cad46ed869a33b2ea1ad698552 = L.marker(\n                [51.514879, -0.1606501],\n                {}\n            ).addTo(marker_cluster_e3983cba9c3bf4ceb7cd078095406f88);\n        \n    \n            var marker_f81133617041fbf89d5452e5d1b06015 = L.marker(\n                [51.5083719, 0.0355768],\n                {}\n            ).addTo(marker_cluster_e3983cba9c3bf4ceb7cd078095406f88);\n        \n    \n            var marker_6872858681dc8b0a843acfb32b3661c4 = L.marker(\n                [51.5131979, -0.1174504],\n                {}\n            ).addTo(marker_cluster_e3983cba9c3bf4ceb7cd078095406f88);\n        \n    \n            var marker_2c50f651437f913904967f73103bdf94 = L.marker(\n                [51.4242413, -0.2293503],\n                {}\n            ).addTo(marker_cluster_e3983cba9c3bf4ceb7cd078095406f88);\n        \n    \n            var marker_ffbfdf7fd92ac603b5eab76d0de4b007 = L.marker(\n                [51.5149583, -0.0823869],\n                {}\n            ).addTo(marker_cluster_e3983cba9c3bf4ceb7cd078095406f88);\n        \n    \n            var marker_fd368cf1f4a734335ca7edf05ea33cb5 = L.marker(\n                [48.8605125, 2.3106533],\n                {}\n            ).addTo(marker_cluster_e3983cba9c3bf4ceb7cd078095406f88);\n        \n    \n            var marker_2e2b0b14103b6a861f67cdc7c2bd9b1e = L.marker(\n                [51.4992791, -0.1973593],\n                {}\n            ).addTo(marker_cluster_e3983cba9c3bf4ceb7cd078095406f88);\n        \n    \n            var marker_e7d2415407bcce5a55d7632c042ebb25 = L.marker(\n                [48.21958, 16.28551],\n                {}\n            ).addTo(marker_cluster_e3983cba9c3bf4ceb7cd078095406f88);\n        \n    \n            var marker_8151a2911f9215f2c1df5ecff5b24299 = L.marker(\n                [41.3896916, 2.1798661],\n                {}\n            ).addTo(marker_cluster_e3983cba9c3bf4ceb7cd078095406f88);\n        \n    \n            var marker_c9de16561f973759239edb811ddcb5da = L.marker(\n                [51.5094835, -0.1362538],\n                {}\n            ).addTo(marker_cluster_e3983cba9c3bf4ceb7cd078095406f88);\n        \n    \n            var marker_a1014d8ea5d800b543fe6f1e2bc7e552 = L.marker(\n                [51.5115509, -0.0714919],\n                {}\n            ).addTo(marker_cluster_e3983cba9c3bf4ceb7cd078095406f88);\n        \n    \n            var marker_3562c5ca238e73c2e6f50b077b7557fd = L.marker(\n                [41.3831641, 2.1604736],\n                {}\n            ).addTo(marker_cluster_e3983cba9c3bf4ceb7cd078095406f88);\n        \n    \n            var marker_689d89f7dc308d6dbce4465e64079197 = L.marker(\n                [52.3760456, 4.8943917],\n                {}\n            ).addTo(marker_cluster_e3983cba9c3bf4ceb7cd078095406f88);\n        \n    \n            var marker_fe576fc306d332d2defe0f25ff44f8f8 = L.marker(\n                [48.870961, 2.3267678],\n                {}\n            ).addTo(marker_cluster_e3983cba9c3bf4ceb7cd078095406f88);\n        \n    \n            var marker_c2c3c01a9f47a0017354b67b0ba49d40 = L.marker(\n                [51.49398, -0.143372],\n                {}\n            ).addTo(marker_cluster_e3983cba9c3bf4ceb7cd078095406f88);\n        \n    \n            var marker_feb672a7bbd413c4ad3ab9a319c4f4d8 = L.marker(\n                [48.8328764, 2.3572531],\n                {}\n            ).addTo(marker_cluster_e3983cba9c3bf4ceb7cd078095406f88);\n        \n    \n            var marker_9e4838c6f0b7661ce792f7b726ecc566 = L.marker(\n                [51.5189182, -0.0866009],\n                {}\n            ).addTo(marker_cluster_e3983cba9c3bf4ceb7cd078095406f88);\n        \n    \n            var marker_0075e29481205c1bd997d914cd796201 = L.marker(\n                [51.5208575, -0.0779503],\n                {}\n            ).addTo(marker_cluster_e3983cba9c3bf4ceb7cd078095406f88);\n        \n    \n            var marker_691bd54223f7a8d984beae429854a431 = L.marker(\n                [51.51046, -0.1875844],\n                {}\n            ).addTo(marker_cluster_e3983cba9c3bf4ceb7cd078095406f88);\n        \n    \n            var marker_eb6a3cebcbea4ccd47f9112ee1cc3aa3 = L.marker(\n                [51.5129736, -0.1837431],\n                {}\n            ).addTo(marker_cluster_e3983cba9c3bf4ceb7cd078095406f88);\n        \n    \n            var marker_2cc847a87e9cb4e459ccd9dcd73dbc5e = L.marker(\n                [51.5124655, -0.182274],\n                {}\n            ).addTo(marker_cluster_e3983cba9c3bf4ceb7cd078095406f88);\n        \n    \n            var marker_df3758f922ba2741cd1d571ce2c43108 = L.marker(\n                [48.8420669, 2.3304091],\n                {}\n            ).addTo(marker_cluster_e3983cba9c3bf4ceb7cd078095406f88);\n        \n    \n            var marker_03b90a3a3fb06dbc30ca2c5c89e7e9c4 = L.marker(\n                [51.481663, -0.1909565],\n                {}\n            ).addTo(marker_cluster_e3983cba9c3bf4ceb7cd078095406f88);\n        \n    \n            var marker_088780a10420bd664251eafbacb6aa00 = L.marker(\n                [41.4109715, 2.2186535],\n                {}\n            ).addTo(marker_cluster_e3983cba9c3bf4ceb7cd078095406f88);\n        \n    \n            var marker_fd7b46f1cc661607ff577db1f8d7a9fd = L.marker(\n                [48.8468064, 2.3714789],\n                {}\n            ).addTo(marker_cluster_e3983cba9c3bf4ceb7cd078095406f88);\n        \n    \n            var marker_153e11b300075e31c10af0e1fed9bd04 = L.marker(\n                [51.5127453, -0.1926437],\n                {}\n            ).addTo(marker_cluster_e3983cba9c3bf4ceb7cd078095406f88);\n        \n    \n            var marker_9c88929b16fe35a477f6695d82d450a3 = L.marker(\n                [45.4984161, 9.1904375],\n                {}\n            ).addTo(marker_cluster_e3983cba9c3bf4ceb7cd078095406f88);\n        \n    \n            var marker_cea1376cec293f0271d23db8078885ab = L.marker(\n                [52.3663727, 4.8930505],\n                {}\n            ).addTo(marker_cluster_e3983cba9c3bf4ceb7cd078095406f88);\n        \n    \n            var marker_ef520d093a2053dec5aa9db35beeda90 = L.marker(\n                [52.3793659, 4.8457179],\n                {}\n            ).addTo(marker_cluster_e3983cba9c3bf4ceb7cd078095406f88);\n        \n    \n            var marker_29a2b722c4c0d7bc7a35d6dadb79e742 = L.marker(\n                [51.4956883, -0.1827878],\n                {}\n            ).addTo(marker_cluster_e3983cba9c3bf4ceb7cd078095406f88);\n        \n    \n            var marker_a93efe9f24463ce75e2afd5375e69b91 = L.marker(\n                [51.5027022, -0.1882164],\n                {}\n            ).addTo(marker_cluster_e3983cba9c3bf4ceb7cd078095406f88);\n        \n    \n            var marker_edfece62d682ade47dd715bca9d03adb = L.marker(\n                [41.37913, 2.1561186],\n                {}\n            ).addTo(marker_cluster_e3983cba9c3bf4ceb7cd078095406f88);\n        \n    \n            var marker_cd317256265a9c5b80f281af156408ee = L.marker(\n                [48.8481917, 2.3490316],\n                {}\n            ).addTo(marker_cluster_e3983cba9c3bf4ceb7cd078095406f88);\n        \n    \n            var marker_c8a524577f230e191257189008428076 = L.marker(\n                [48.2037451, 16.3356767],\n                {}\n            ).addTo(marker_cluster_e3983cba9c3bf4ceb7cd078095406f88);\n        \n    \n            var marker_2a28f8432a65b16178a935ab4395b124 = L.marker(\n                [51.4998574, -0.161717],\n                {}\n            ).addTo(marker_cluster_e3983cba9c3bf4ceb7cd078095406f88);\n        \n    \n            var marker_3eb885d0df7d4014c73e8e13f74d6ad0 = L.marker(\n                [52.3375677, 4.8178172],\n                {}\n            ).addTo(marker_cluster_e3983cba9c3bf4ceb7cd078095406f88);\n        \n    \n            var marker_106be143a02bf37f1e299674cb063c38 = L.marker(\n                [41.4111652, 2.2192012],\n                {}\n            ).addTo(marker_cluster_e3983cba9c3bf4ceb7cd078095406f88);\n        \n    \n            var marker_b813b582776a40acf91d6a1dac36cbbd = L.marker(\n                [51.5109945, -0.1863417],\n                {}\n            ).addTo(marker_cluster_e3983cba9c3bf4ceb7cd078095406f88);\n        \n    \n            var marker_380a91645f45c4f94b6228682184cd57 = L.marker(\n                [48.2142766, 16.3801779],\n                {}\n            ).addTo(marker_cluster_e3983cba9c3bf4ceb7cd078095406f88);\n        \n    \n            var marker_a3def3b71b74d8c4b85ecb9856b037cb = L.marker(\n                [48.8740463, 2.300196],\n                {}\n            ).addTo(marker_cluster_e3983cba9c3bf4ceb7cd078095406f88);\n        \n    \n            var marker_ebc257157729c4c9e71b55d121f31e95 = L.marker(\n                [51.5167472, -0.135965],\n                {}\n            ).addTo(marker_cluster_e3983cba9c3bf4ceb7cd078095406f88);\n        \n    \n            var marker_5145fbb031083842289d0e5a0f1d79d3 = L.marker(\n                [48.871723, 2.3235377],\n                {}\n            ).addTo(marker_cluster_e3983cba9c3bf4ceb7cd078095406f88);\n        \n    \n            var marker_404fa6361649ddb88b9967ae5d98f69b = L.marker(\n                [51.5553678, -0.2864945],\n                {}\n            ).addTo(marker_cluster_e3983cba9c3bf4ceb7cd078095406f88);\n        \n    \n            var marker_7dfcd57b12bb80c18e5ffb68ac1fc58b = L.marker(\n                [51.5050165, -0.1049831],\n                {}\n            ).addTo(marker_cluster_e3983cba9c3bf4ceb7cd078095406f88);\n        \n    \n            var marker_4a4beac3d5d4a806201891d5c0f02a3b = L.marker(\n                [51.5015721, -0.1628511],\n                {}\n            ).addTo(marker_cluster_e3983cba9c3bf4ceb7cd078095406f88);\n        \n    \n            var marker_3e575883c9257c6c8f9983f757a3a5a5 = L.marker(\n                [51.474469, -0.019428],\n                {}\n            ).addTo(marker_cluster_e3983cba9c3bf4ceb7cd078095406f88);\n        \n    \n            var marker_50b425e08a0e7455319115f573fbc825 = L.marker(\n                [41.3961448, 2.1631674],\n                {}\n            ).addTo(marker_cluster_e3983cba9c3bf4ceb7cd078095406f88);\n        \n    \n            var marker_8f4f1a00d041980316c01eecf2f55105 = L.marker(\n                [51.5357597, -0.1902591],\n                {}\n            ).addTo(marker_cluster_e3983cba9c3bf4ceb7cd078095406f88);\n        \n    \n            var marker_c186a25e73c35f1b2d6b0a6f5546bc1b = L.marker(\n                [51.5241452, -0.1609907],\n                {}\n            ).addTo(marker_cluster_e3983cba9c3bf4ceb7cd078095406f88);\n        \n    \n            var marker_6a6e3e701d3066d0ba73d54aa49625ca = L.marker(\n                [51.4918878, -0.1949706],\n                {}\n            ).addTo(marker_cluster_e3983cba9c3bf4ceb7cd078095406f88);\n        \n    \n            var marker_d721206c6423ec3fc9845b285eeb0096 = L.marker(\n                [51.4925138, -0.1787917],\n                {}\n            ).addTo(marker_cluster_e3983cba9c3bf4ceb7cd078095406f88);\n        \n    \n            var marker_0e0801ec6023651434c4617a78c90d17 = L.marker(\n                [52.3754926, 4.8929878],\n                {}\n            ).addTo(marker_cluster_e3983cba9c3bf4ceb7cd078095406f88);\n        \n    \n            var marker_9633079018336c2dc3f68b41d91c89fb = L.marker(\n                [51.515755, -0.1603335],\n                {}\n            ).addTo(marker_cluster_e3983cba9c3bf4ceb7cd078095406f88);\n        \n    \n            var marker_ceaf7384b3cca16829ce4f6cf64943eb = L.marker(\n                [41.3930168, 2.1646148],\n                {}\n            ).addTo(marker_cluster_e3983cba9c3bf4ceb7cd078095406f88);\n        \n    \n            var marker_a3fab3413c66fe74b28f2dc789a685fe = L.marker(\n                [52.3419432, 4.8759604],\n                {}\n            ).addTo(marker_cluster_e3983cba9c3bf4ceb7cd078095406f88);\n        \n    \n            var marker_2c3c1dae00536ec71f5b0545ebff6488 = L.marker(\n                [48.1978409, 16.367087],\n                {}\n            ).addTo(marker_cluster_e3983cba9c3bf4ceb7cd078095406f88);\n        \n    \n            var marker_a536e7147842fe70e6d12e6c3b5d94ee = L.marker(\n                [51.4572991, -0.2055425],\n                {}\n            ).addTo(marker_cluster_e3983cba9c3bf4ceb7cd078095406f88);\n        \n    \n            var marker_c95299a1e603eeb06793a20a221d1cda = L.marker(\n                [45.4845143, 9.2057532],\n                {}\n            ).addTo(marker_cluster_e3983cba9c3bf4ceb7cd078095406f88);\n        \n    \n            var marker_26615146c62c7671b8ec4b1493631607 = L.marker(\n                [48.8728351, 2.3362507],\n                {}\n            ).addTo(marker_cluster_e3983cba9c3bf4ceb7cd078095406f88);\n        \n    \n            var marker_d7ed926ed74ba14228a66efccf02697a = L.marker(\n                [51.5150522, -0.159239],\n                {}\n            ).addTo(marker_cluster_e3983cba9c3bf4ceb7cd078095406f88);\n        \n    \n            var marker_de3f2009c4595e58a29306af148ef410 = L.marker(\n                [51.5084195, 0.0253216],\n                {}\n            ).addTo(marker_cluster_e3983cba9c3bf4ceb7cd078095406f88);\n        \n    \n            var marker_68006018b03b46776626f995f582a052 = L.marker(\n                [51.5165165, -0.1509735],\n                {}\n            ).addTo(marker_cluster_e3983cba9c3bf4ceb7cd078095406f88);\n        \n    \n            var marker_d2b0a8d41f0075b04158513cd50bdd0f = L.marker(\n                [51.5163841, -0.1635764],\n                {}\n            ).addTo(marker_cluster_e3983cba9c3bf4ceb7cd078095406f88);\n        \n    \n            var marker_dea49748af48ff5e5e19b3b2743d42c9 = L.marker(\n                [48.8513515, 2.3375084],\n                {}\n            ).addTo(marker_cluster_e3983cba9c3bf4ceb7cd078095406f88);\n        \n    \n            var marker_bc1c378c12b967a5d31f9b8a7583c31f = L.marker(\n                [51.5160988, -0.1181749],\n                {}\n            ).addTo(marker_cluster_e3983cba9c3bf4ceb7cd078095406f88);\n        \n    \n            var marker_000d150430f141582c5fc0f84b7435b1 = L.marker(\n                [48.8668589, 2.3028215],\n                {}\n            ).addTo(marker_cluster_e3983cba9c3bf4ceb7cd078095406f88);\n        \n    \n            var marker_522d21e894dce78378b929cc7119baf5 = L.marker(\n                [51.5127625, -0.0997157],\n                {}\n            ).addTo(marker_cluster_e3983cba9c3bf4ceb7cd078095406f88);\n        \n    \n            var marker_63da45a47b75fe47810c2905ba15c8ef = L.marker(\n                [41.4036219, 2.1902808],\n                {}\n            ).addTo(marker_cluster_e3983cba9c3bf4ceb7cd078095406f88);\n        \n    \n            var marker_35c2a8920c1918791c7dbb6819f7b1db = L.marker(\n                [51.510237, -0.0764428],\n                {}\n            ).addTo(marker_cluster_e3983cba9c3bf4ceb7cd078095406f88);\n        \n    \n            var marker_520936c2e2234ef213be2a51b7065b77 = L.marker(\n                [45.4670579, 9.1427822],\n                {}\n            ).addTo(marker_cluster_e3983cba9c3bf4ceb7cd078095406f88);\n        \n    \n            var marker_6ae032ca2a710d5f664a7f87373fe605 = L.marker(\n                [48.1949694, 16.3692624],\n                {}\n            ).addTo(marker_cluster_e3983cba9c3bf4ceb7cd078095406f88);\n        \n    \n            var marker_04e1a8c79a13450dc3b02ceb3d59d625 = L.marker(\n                [51.5059334, -0.1489418],\n                {}\n            ).addTo(marker_cluster_e3983cba9c3bf4ceb7cd078095406f88);\n        \n    \n            var marker_e1cb10f383bfde1ed8ae1d62e0b863a9 = L.marker(\n                [52.314371, 4.9388064],\n                {}\n            ).addTo(marker_cluster_e3983cba9c3bf4ceb7cd078095406f88);\n        \n    \n            var marker_402e27f9d7b5ed05eaf5874eadaa5111 = L.marker(\n                [51.4993652, -0.1576613],\n                {}\n            ).addTo(marker_cluster_e3983cba9c3bf4ceb7cd078095406f88);\n        \n    \n            var marker_5b2cb6580f37007733345a97a3b3c1f5 = L.marker(\n                [51.5135555, -0.180002],\n                {}\n            ).addTo(marker_cluster_e3983cba9c3bf4ceb7cd078095406f88);\n        \n    \n            var marker_8f31ad66b5afa80071a652ace690d59f = L.marker(\n                [48.8589516, 2.3670407],\n                {}\n            ).addTo(marker_cluster_e3983cba9c3bf4ceb7cd078095406f88);\n        \n    \n            var marker_ecdd58d71aafd37271e8bb7db927ea64 = L.marker(\n                [41.4110056, 2.1866009],\n                {}\n            ).addTo(marker_cluster_e3983cba9c3bf4ceb7cd078095406f88);\n        \n    \n            var marker_243b85029322b88f72b8e1e91fdaba0b = L.marker(\n                [45.4630685, 9.1979367],\n                {}\n            ).addTo(marker_cluster_e3983cba9c3bf4ceb7cd078095406f88);\n        \n    \n            var marker_84d6c9c623bfe6bd2a907e2264cffd57 = L.marker(\n                [51.499046, -0.1917073],\n                {}\n            ).addTo(marker_cluster_e3983cba9c3bf4ceb7cd078095406f88);\n        \n    \n            var marker_cdd9dfa10e356b5b021fb7a22fbb9425 = L.marker(\n                [45.4635445, 9.2068649],\n                {}\n            ).addTo(marker_cluster_e3983cba9c3bf4ceb7cd078095406f88);\n        \n    \n            var marker_0980644d9d592c764cc7045879437f28 = L.marker(\n                [51.4956657, -0.1452793],\n                {}\n            ).addTo(marker_cluster_e3983cba9c3bf4ceb7cd078095406f88);\n        \n    \n            var marker_d9932460c3e12d3ef17aea1710c2775d = L.marker(\n                [45.4847398, 9.2072916],\n                {}\n            ).addTo(marker_cluster_e3983cba9c3bf4ceb7cd078095406f88);\n        \n    \n            var marker_dd3b95fbdecfcc7421bfb5d95cad3ba7 = L.marker(\n                [51.5278465, -0.0889473],\n                {}\n            ).addTo(marker_cluster_e3983cba9c3bf4ceb7cd078095406f88);\n        \n    \n            var marker_c2863d4a5c751e5c02a7aa403d551649 = L.marker(\n                [51.5731061, -0.2233332],\n                {}\n            ).addTo(marker_cluster_e3983cba9c3bf4ceb7cd078095406f88);\n        \n    \n            var marker_844d6d7551313b19efe796df1594ba51 = L.marker(\n                [52.2924567, 4.9444338],\n                {}\n            ).addTo(marker_cluster_e3983cba9c3bf4ceb7cd078095406f88);\n        \n    \n            var marker_0af97bff872dc882f9f19352d337169f = L.marker(\n                [48.8722019, 2.3030866],\n                {}\n            ).addTo(marker_cluster_e3983cba9c3bf4ceb7cd078095406f88);\n        \n    \n            var marker_d31db8e9595aacf304a98ddfc9a16c9a = L.marker(\n                [48.2082256, 16.3684123],\n                {}\n            ).addTo(marker_cluster_e3983cba9c3bf4ceb7cd078095406f88);\n        \n    \n            var marker_709efb12ea0356082ff2bab1142eaa5c = L.marker(\n                [51.5127964, -0.0847973],\n                {}\n            ).addTo(marker_cluster_e3983cba9c3bf4ceb7cd078095406f88);\n        \n    \n            var marker_d62afc146846fb8cd048d30d6587c220 = L.marker(\n                [48.2199427, 16.3598984],\n                {}\n            ).addTo(marker_cluster_e3983cba9c3bf4ceb7cd078095406f88);\n        \n    \n            var marker_6c6e4f2f46a31deb736fbed07ace117e = L.marker(\n                [48.8637503, 2.3320406],\n                {}\n            ).addTo(marker_cluster_e3983cba9c3bf4ceb7cd078095406f88);\n        \n    \n            var marker_abe633b8a92b132b1bc4f90143f1ec8a = L.marker(\n                [51.5077198, 0.0229805],\n                {}\n            ).addTo(marker_cluster_e3983cba9c3bf4ceb7cd078095406f88);\n        \n    \n            var marker_907a554d05e395642f0df335a4f579c7 = L.marker(\n                [51.4938733, -0.1824963],\n                {}\n            ).addTo(marker_cluster_e3983cba9c3bf4ceb7cd078095406f88);\n        \n    \n            var marker_b4d030a8747e26e93d0df40438a08373 = L.marker(\n                [51.5255136, -0.082927],\n                {}\n            ).addTo(marker_cluster_e3983cba9c3bf4ceb7cd078095406f88);\n        \n    \n            var marker_aa84f56c6290932ebd337e1425548a59 = L.marker(\n                [48.8693409, 2.3310263],\n                {}\n            ).addTo(marker_cluster_e3983cba9c3bf4ceb7cd078095406f88);\n        \n    \n            var marker_83b4a189ec0caeb9e18b4513f46fc2ad = L.marker(\n                [45.4608604, 9.1890215],\n                {}\n            ).addTo(marker_cluster_e3983cba9c3bf4ceb7cd078095406f88);\n        \n    \n            var marker_b93f7f015bc9c0af883e363a46dc02dd = L.marker(\n                [48.8865626, 2.3329648],\n                {}\n            ).addTo(marker_cluster_e3983cba9c3bf4ceb7cd078095406f88);\n        \n    \n            var marker_78257af9e715f5c447323bcce445b068 = L.marker(\n                [52.3872884, 4.8349748],\n                {}\n            ).addTo(marker_cluster_e3983cba9c3bf4ceb7cd078095406f88);\n        \n    \n            var marker_ddb7110e7529ceb5a6f49526d0b96a09 = L.marker(\n                [51.5137335, -0.1087512],\n                {}\n            ).addTo(marker_cluster_e3983cba9c3bf4ceb7cd078095406f88);\n        \n    \n            var marker_e74b9dc967e4870e808a3517bb25aacb = L.marker(\n                [41.3905166, 2.1725643],\n                {}\n            ).addTo(marker_cluster_e3983cba9c3bf4ceb7cd078095406f88);\n        \n    \n            var marker_62dcca67e87091c7de86b80b3433aada = L.marker(\n                [51.5195688, -0.170521],\n                {}\n            ).addTo(marker_cluster_e3983cba9c3bf4ceb7cd078095406f88);\n        \n    \n            var marker_4dabb3e71039cf4e9bccc42aae759a7e = L.marker(\n                [51.5104696, -0.1265824],\n                {}\n            ).addTo(marker_cluster_e3983cba9c3bf4ceb7cd078095406f88);\n        \n    \n            var marker_1f5e48bb75847bfbab7eeb805b6d1380 = L.marker(\n                [51.5179386, -0.1529794],\n                {}\n            ).addTo(marker_cluster_e3983cba9c3bf4ceb7cd078095406f88);\n        \n    \n            var marker_e57dd897c414a58b90cd19f0561f5d4b = L.marker(\n                [52.3741426, 4.8907741],\n                {}\n            ).addTo(marker_cluster_e3983cba9c3bf4ceb7cd078095406f88);\n        \n    \n            var marker_cced8726e62e112c45688d60de93b3a7 = L.marker(\n                [51.4915712, -0.1963192],\n                {}\n            ).addTo(marker_cluster_e3983cba9c3bf4ceb7cd078095406f88);\n        \n    \n            var marker_35875eeb4921bd47c9128f9be0195c97 = L.marker(\n                [51.5161911, -0.1579487],\n                {}\n            ).addTo(marker_cluster_e3983cba9c3bf4ceb7cd078095406f88);\n        \n    \n            var marker_0fccf051a847270892d0218b1a305de8 = L.marker(\n                [51.4924184, -0.2784701],\n                {}\n            ).addTo(marker_cluster_e3983cba9c3bf4ceb7cd078095406f88);\n        \n    \n            var marker_809aa314b09dd24539b12e0f2650e8a8 = L.marker(\n                [51.5161286, -0.0624458],\n                {}\n            ).addTo(marker_cluster_e3983cba9c3bf4ceb7cd078095406f88);\n        \n    \n            var marker_f62b0a133ff96a1d1215b12b0fc5bf52 = L.marker(\n                [51.495179, -0.183827],\n                {}\n            ).addTo(marker_cluster_e3983cba9c3bf4ceb7cd078095406f88);\n        \n    \n            var marker_8a5dc244ab153d56c7ae56e61ce53416 = L.marker(\n                [52.3486098, 4.8844292],\n                {}\n            ).addTo(marker_cluster_e3983cba9c3bf4ceb7cd078095406f88);\n        \n    \n            var marker_7031381263cc3a28fe1020efc94a1b60 = L.marker(\n                [52.3617577, 4.8780052],\n                {}\n            ).addTo(marker_cluster_e3983cba9c3bf4ceb7cd078095406f88);\n        \n    \n            var marker_ed1e48ee40896845573d257263daaab2 = L.marker(\n                [48.8560685, 2.3236846],\n                {}\n            ).addTo(marker_cluster_e3983cba9c3bf4ceb7cd078095406f88);\n        \n    \n            var marker_57020bc1e501c42f3db8b766956a577b = L.marker(\n                [51.5286766, -0.1283489],\n                {}\n            ).addTo(marker_cluster_e3983cba9c3bf4ceb7cd078095406f88);\n        \n    \n            var marker_233bbe9951de51a8861a77ff8473c386 = L.marker(\n                [41.3842838, 2.1707092],\n                {}\n            ).addTo(marker_cluster_e3983cba9c3bf4ceb7cd078095406f88);\n        \n    \n            var marker_9ff0e122304ca59e8fb84c9a6adf2005 = L.marker(\n                [51.498905, -0.1339093],\n                {}\n            ).addTo(marker_cluster_e3983cba9c3bf4ceb7cd078095406f88);\n        \n    \n            var marker_e1bd6e706dff5437a64b81d9800afb28 = L.marker(\n                [52.3728353, 4.883326],\n                {}\n            ).addTo(marker_cluster_e3983cba9c3bf4ceb7cd078095406f88);\n        \n    \n            var marker_6ce0231179d85671e39567a9dbe33df6 = L.marker(\n                [51.4986732, -0.1376867],\n                {}\n            ).addTo(marker_cluster_e3983cba9c3bf4ceb7cd078095406f88);\n        \n    \n            var marker_196a6091af70d6c51a166f46cf44a5e7 = L.marker(\n                [51.5110993, -0.1208673],\n                {}\n            ).addTo(marker_cluster_e3983cba9c3bf4ceb7cd078095406f88);\n        \n    \n            var marker_f5cf2261fef120bbd569541650eb8e11 = L.marker(\n                [51.5061587, -0.1402803],\n                {}\n            ).addTo(marker_cluster_e3983cba9c3bf4ceb7cd078095406f88);\n        \n    \n            var marker_5bbbef6bc5cd3773d84fe0d2b7c229d4 = L.marker(\n                [48.1941905, 16.3462578],\n                {}\n            ).addTo(marker_cluster_e3983cba9c3bf4ceb7cd078095406f88);\n        \n    \n            var marker_cc5a2fe81dbc1718659898ec116ee7ac = L.marker(\n                [51.4999683, -0.1599927],\n                {}\n            ).addTo(marker_cluster_e3983cba9c3bf4ceb7cd078095406f88);\n        \n    \n            var marker_c6077d79d923b5c6e7526fefef7b37e4 = L.marker(\n                [41.3856387, 2.1668274],\n                {}\n            ).addTo(marker_cluster_e3983cba9c3bf4ceb7cd078095406f88);\n        \n    \n            var marker_7e6d098d1a045a032012dfae642e2471 = L.marker(\n                [48.8453785, 2.3753036],\n                {}\n            ).addTo(marker_cluster_e3983cba9c3bf4ceb7cd078095406f88);\n        \n    \n            var marker_a5020529446295fde83a0219eb326875 = L.marker(\n                [41.3865289, 2.1682919],\n                {}\n            ).addTo(marker_cluster_e3983cba9c3bf4ceb7cd078095406f88);\n        \n    \n            var marker_3fc05ba7b020b7fce8687d4c587a87fe = L.marker(\n                [51.510574, -0.1509951],\n                {}\n            ).addTo(marker_cluster_e3983cba9c3bf4ceb7cd078095406f88);\n        \n    \n            var marker_4057c3d373b7be9e0f3598e6b60e059a = L.marker(\n                [51.5043483, -0.0334436],\n                {}\n            ).addTo(marker_cluster_e3983cba9c3bf4ceb7cd078095406f88);\n        \n    \n            var marker_999091aa1712fabdb0e092ae5f6242c8 = L.marker(\n                [45.4758842, 9.205791],\n                {}\n            ).addTo(marker_cluster_e3983cba9c3bf4ceb7cd078095406f88);\n        \n    \n            var marker_48f4b0d960949c312b631da66c8463a8 = L.marker(\n                [41.3812574, 2.1269078],\n                {}\n            ).addTo(marker_cluster_e3983cba9c3bf4ceb7cd078095406f88);\n        \n    \n            var marker_555226dc0b95f3a9b3aa3264bbda57f8 = L.marker(\n                [48.1925582, 16.3576071],\n                {}\n            ).addTo(marker_cluster_e3983cba9c3bf4ceb7cd078095406f88);\n        \n    \n            var marker_d7917a62a34666a726341df2f913abd3 = L.marker(\n                [41.3891168, 2.1671986],\n                {}\n            ).addTo(marker_cluster_e3983cba9c3bf4ceb7cd078095406f88);\n        \n    \n            var marker_e49fcbe0e10e5959c544533d193992c1 = L.marker(\n                [51.4933372, -0.1788931],\n                {}\n            ).addTo(marker_cluster_e3983cba9c3bf4ceb7cd078095406f88);\n        \n    \n            var marker_a8f99352084bdb703f64c4d89d0546fb = L.marker(\n                [51.5135929, -0.0907833],\n                {}\n            ).addTo(marker_cluster_e3983cba9c3bf4ceb7cd078095406f88);\n        \n    \n            var marker_ad404e83c16fee0ec7928f4c2afba82e = L.marker(\n                [45.4638223, 9.1940273],\n                {}\n            ).addTo(marker_cluster_e3983cba9c3bf4ceb7cd078095406f88);\n        \n    \n            var marker_89930d79ef9d48c3647b9cb0cf5efef0 = L.marker(\n                [52.362514, 4.8800077],\n                {}\n            ).addTo(marker_cluster_e3983cba9c3bf4ceb7cd078095406f88);\n        \n    \n            var marker_c8378a398517658edfe6114ee1a4ef97 = L.marker(\n                [52.3657092, 4.8966912],\n                {}\n            ).addTo(marker_cluster_e3983cba9c3bf4ceb7cd078095406f88);\n        \n    \n            var marker_ecf4a5030c37a005da55b9a2b5b9846c = L.marker(\n                [48.8870573, 2.3143297],\n                {}\n            ).addTo(marker_cluster_e3983cba9c3bf4ceb7cd078095406f88);\n        \n    \n            var marker_d301f0a1ab60572eb2c34e024bbb2734 = L.marker(\n                [51.5241373, -0.0786983],\n                {}\n            ).addTo(marker_cluster_e3983cba9c3bf4ceb7cd078095406f88);\n        \n    \n            var marker_cd9d79e739dc633c02114e8038766d58 = L.marker(\n                [52.3546649, 4.9131641],\n                {}\n            ).addTo(marker_cluster_e3983cba9c3bf4ceb7cd078095406f88);\n        \n    \n            var marker_cb8d8b2b90b7a4cc3cd21d5bbe181b3d = L.marker(\n                [48.2021105, 16.3720841],\n                {}\n            ).addTo(marker_cluster_e3983cba9c3bf4ceb7cd078095406f88);\n        \n    \n            var marker_298187e04e2caaa80c445942a211ea95 = L.marker(\n                [48.8701887, 2.2997281],\n                {}\n            ).addTo(marker_cluster_e3983cba9c3bf4ceb7cd078095406f88);\n        \n    \n            var marker_701a122b8d0ced165db4485f168ede62 = L.marker(\n                [45.470238, 9.195347],\n                {}\n            ).addTo(marker_cluster_e3983cba9c3bf4ceb7cd078095406f88);\n        \n    \n            var marker_30d1e1bd89a568f5cf4c3524ca34a3d4 = L.marker(\n                [48.2082385, 16.3715725],\n                {}\n            ).addTo(marker_cluster_e3983cba9c3bf4ceb7cd078095406f88);\n        \n    \n            var marker_d3d3607707157f2d7503aa0f8bc34e1d = L.marker(\n                [52.377955, 4.894641],\n                {}\n            ).addTo(marker_cluster_e3983cba9c3bf4ceb7cd078095406f88);\n        \n    \n            var marker_499c5c13fd8ddb2fd7cb20c68eec37a2 = L.marker(\n                [51.5215508, -0.0469238],\n                {}\n            ).addTo(marker_cluster_e3983cba9c3bf4ceb7cd078095406f88);\n        \n    \n            var marker_9a3985719ae389b476e41f40f32f6763 = L.marker(\n                [45.4836517, 9.2078581],\n                {}\n            ).addTo(marker_cluster_e3983cba9c3bf4ceb7cd078095406f88);\n        \n    \n            var marker_187d9ebf382eecc9e052709c8ddb5ae5 = L.marker(\n                [48.8794646, 2.2849548],\n                {}\n            ).addTo(marker_cluster_e3983cba9c3bf4ceb7cd078095406f88);\n        \n    \n            var marker_1c44bd79613903f58f052a3cdb97295b = L.marker(\n                [51.5065578, -0.004514],\n                {}\n            ).addTo(marker_cluster_e3983cba9c3bf4ceb7cd078095406f88);\n        \n    \n            var marker_5447c8693b23d394d6cdac4e9728ebb5 = L.marker(\n                [51.5039399, -0.2244232],\n                {}\n            ).addTo(marker_cluster_e3983cba9c3bf4ceb7cd078095406f88);\n        \n    \n            var marker_f032e2ee7c94947b588e62b846aa3703 = L.marker(\n                [48.2064745, 16.3546297],\n                {}\n            ).addTo(marker_cluster_e3983cba9c3bf4ceb7cd078095406f88);\n        \n    \n            var marker_711e66a0903228d52024a2862bb42e62 = L.marker(\n                [41.3854716, 2.1018835],\n                {}\n            ).addTo(marker_cluster_e3983cba9c3bf4ceb7cd078095406f88);\n        \n    \n            var marker_e62f9be2206282959f1b43ab6306cda2 = L.marker(\n                [45.4709657, 9.1566242],\n                {}\n            ).addTo(marker_cluster_e3983cba9c3bf4ceb7cd078095406f88);\n        \n    \n            var marker_5282c2d13dcc7eee12d070b1124143ba = L.marker(\n                [48.8606187, 2.344401],\n                {}\n            ).addTo(marker_cluster_e3983cba9c3bf4ceb7cd078095406f88);\n        \n    \n            var marker_a30340e182790c09b46f53fe1cec694c = L.marker(\n                [48.88366, 2.3313845],\n                {}\n            ).addTo(marker_cluster_e3983cba9c3bf4ceb7cd078095406f88);\n        \n    \n            var marker_80c2ad788099695e05fbe491a7250b86 = L.marker(\n                [41.393227, 2.1927427],\n                {}\n            ).addTo(marker_cluster_e3983cba9c3bf4ceb7cd078095406f88);\n        \n    \n            var marker_d8222e2df36f29558cbe7345ea4580f0 = L.marker(\n                [48.8565421, 2.3303504],\n                {}\n            ).addTo(marker_cluster_e3983cba9c3bf4ceb7cd078095406f88);\n        \n    \n            var marker_60e7cedd4e0cbd8450dce2ae054af18d = L.marker(\n                [48.1945297, 16.340327],\n                {}\n            ).addTo(marker_cluster_e3983cba9c3bf4ceb7cd078095406f88);\n        \n    \n            var marker_270ee1eac23762a82b92b4dc988bf8c7 = L.marker(\n                [51.5069446, -0.1415776],\n                {}\n            ).addTo(marker_cluster_e3983cba9c3bf4ceb7cd078095406f88);\n        \n    \n            var marker_71dbf9d9e3e64ad40a7a6da4b8960086 = L.marker(\n                [45.5138582, 9.1194759],\n                {}\n            ).addTo(marker_cluster_e3983cba9c3bf4ceb7cd078095406f88);\n        \n    \n            var marker_9acc24bc90378e9ad58837e1623ddff8 = L.marker(\n                [51.5024348, -0.0002497],\n                {}\n            ).addTo(marker_cluster_e3983cba9c3bf4ceb7cd078095406f88);\n        \n    \n            var marker_83ef43f92889289b90e4083137a5e27a = L.marker(\n                [41.3916258, 2.1716378],\n                {}\n            ).addTo(marker_cluster_e3983cba9c3bf4ceb7cd078095406f88);\n        \n    \n            var marker_3f2e72ae730e94a3b50f9854fed34abf = L.marker(\n                [45.4858877, 9.2042827],\n                {}\n            ).addTo(marker_cluster_e3983cba9c3bf4ceb7cd078095406f88);\n        \n    \n            var marker_f4c2ac97c9c14ff4cd19a048e8b35ef5 = L.marker(\n                [48.8799239, 2.3288332],\n                {}\n            ).addTo(marker_cluster_e3983cba9c3bf4ceb7cd078095406f88);\n        \n    \n            var marker_cb9be0f8548c7d444a6c336a7ee71cce = L.marker(\n                [51.504575, -0.082675],\n                {}\n            ).addTo(marker_cluster_e3983cba9c3bf4ceb7cd078095406f88);\n        \n    \n            var marker_75ea6089bc73e54090cf50096ad1b424 = L.marker(\n                [51.5179659, -0.1234343],\n                {}\n            ).addTo(marker_cluster_e3983cba9c3bf4ceb7cd078095406f88);\n        \n    \n            var marker_ec4629b8827ea83c08d3ade16364d2bf = L.marker(\n                [51.4916677, -0.1947475],\n                {}\n            ).addTo(marker_cluster_e3983cba9c3bf4ceb7cd078095406f88);\n        \n    \n            var marker_3d9c28622c7a173d3736dd9ebe078ad7 = L.marker(\n                [48.8720593, 2.3236802],\n                {}\n            ).addTo(marker_cluster_e3983cba9c3bf4ceb7cd078095406f88);\n        \n    \n            var marker_ba956a8b348f9591e06742c671272ab5 = L.marker(\n                [51.5101556, -0.1496314],\n                {}\n            ).addTo(marker_cluster_e3983cba9c3bf4ceb7cd078095406f88);\n        \n    \n            var marker_2fa293c18c9248bd73a22299c09e5f64 = L.marker(\n                [51.4993927, -0.1329128],\n                {}\n            ).addTo(marker_cluster_e3983cba9c3bf4ceb7cd078095406f88);\n        \n    \n            var marker_f71b819cfa57a0f91b98cef8a0c1d343 = L.marker(\n                [41.3812223, 2.1739622],\n                {}\n            ).addTo(marker_cluster_e3983cba9c3bf4ceb7cd078095406f88);\n        \n    \n            var marker_88bfe00b3710c7d161e591312962c7c7 = L.marker(\n                [48.8438352, 2.3280708],\n                {}\n            ).addTo(marker_cluster_e3983cba9c3bf4ceb7cd078095406f88);\n        \n    \n            var marker_a72aafa8af8ee2c531092cb3cfb100c1 = L.marker(\n                [51.4944319, -0.1363756],\n                {}\n            ).addTo(marker_cluster_e3983cba9c3bf4ceb7cd078095406f88);\n        \n    \n            var marker_22b206653ebe6325ce2d1e30e3bd3057 = L.marker(\n                [48.1979514, 16.336318],\n                {}\n            ).addTo(marker_cluster_e3983cba9c3bf4ceb7cd078095406f88);\n        \n    \n            var marker_94e097b39679bf627c3eb61d2af49a43 = L.marker(\n                [51.515632, -0.175737],\n                {}\n            ).addTo(marker_cluster_e3983cba9c3bf4ceb7cd078095406f88);\n        \n    \n            var marker_dfed4728ab3cba190fc49984bbebfb5c = L.marker(\n                [41.3802469, 2.1541149],\n                {}\n            ).addTo(marker_cluster_e3983cba9c3bf4ceb7cd078095406f88);\n        \n    \n            var marker_dc62741066b38db8162e9699fa6932cf = L.marker(\n                [48.866676, 2.3089908],\n                {}\n            ).addTo(marker_cluster_e3983cba9c3bf4ceb7cd078095406f88);\n        \n    \n            var marker_8faf3833e4b09c1f4fb0bc2092fd32d9 = L.marker(\n                [51.4946905, -0.1910197],\n                {}\n            ).addTo(marker_cluster_e3983cba9c3bf4ceb7cd078095406f88);\n        \n    \n            var marker_e33b664b24f5baea72d24922709cab9d = L.marker(\n                [41.3790126, 2.1696339],\n                {}\n            ).addTo(marker_cluster_e3983cba9c3bf4ceb7cd078095406f88);\n        \n    \n            var marker_724d095d43591088ef346d01e8f8388f = L.marker(\n                [45.4805847, 9.2117326],\n                {}\n            ).addTo(marker_cluster_e3983cba9c3bf4ceb7cd078095406f88);\n        \n    \n            var marker_c7650a06b12d3b40787d6f0f13679e2d = L.marker(\n                [48.2163149, 16.3685103],\n                {}\n            ).addTo(marker_cluster_e3983cba9c3bf4ceb7cd078095406f88);\n        \n    \n            var marker_6aa43b1d78532f5e822ceabde658459d = L.marker(\n                [41.3969273, 2.192267],\n                {}\n            ).addTo(marker_cluster_e3983cba9c3bf4ceb7cd078095406f88);\n        \n    \n            var marker_7cd260166b132719aa1914a4542e2cf8 = L.marker(\n                [51.5172398, -0.1220324],\n                {}\n            ).addTo(marker_cluster_e3983cba9c3bf4ceb7cd078095406f88);\n        \n    \n            var marker_080908089245f133f2e125e3c0639fef = L.marker(\n                [51.5064721, -0.0716893],\n                {}\n            ).addTo(marker_cluster_e3983cba9c3bf4ceb7cd078095406f88);\n        \n    \n            var marker_f78191bc0fbb12e730145cfcd7ff8a4e = L.marker(\n                [51.5072713, -0.0211213],\n                {}\n            ).addTo(marker_cluster_e3983cba9c3bf4ceb7cd078095406f88);\n        \n    \n            var marker_95d467b0f57efb4ba32c0ac940dd2d3e = L.marker(\n                [52.3923684, 4.9110442],\n                {}\n            ).addTo(marker_cluster_e3983cba9c3bf4ceb7cd078095406f88);\n        \n    \n            var marker_56ac7b54e6d4649607e38ffadd0b46a2 = L.marker(\n                [48.2027296, 16.3661211],\n                {}\n            ).addTo(marker_cluster_e3983cba9c3bf4ceb7cd078095406f88);\n        \n    \n            var marker_de325684001c2b8f492bd21be99e5aa6 = L.marker(\n                [48.2058584, 16.3766545],\n                {}\n            ).addTo(marker_cluster_e3983cba9c3bf4ceb7cd078095406f88);\n        \n    \n            var marker_3e5cc373d1e35d8714143f755aa9bb19 = L.marker(\n                [48.2038793, 16.3698086],\n                {}\n            ).addTo(marker_cluster_e3983cba9c3bf4ceb7cd078095406f88);\n        \n    \n            var marker_c7acd1b4faf0dd251179e12928e025e4 = L.marker(\n                [51.4927325, -0.1573708],\n                {}\n            ).addTo(marker_cluster_e3983cba9c3bf4ceb7cd078095406f88);\n        \n    \n            var marker_b20014a80ee3e8498a003efabb375b3f = L.marker(\n                [51.5244224, -0.0764614],\n                {}\n            ).addTo(marker_cluster_e3983cba9c3bf4ceb7cd078095406f88);\n        \n    \n            var marker_9b7c58da732cd59d247dce2a2377df8f = L.marker(\n                [51.5241386, -0.1380807],\n                {}\n            ).addTo(marker_cluster_e3983cba9c3bf4ceb7cd078095406f88);\n        \n    \n            var marker_cf0e8a5149ea3842415a8f1405b8d07b = L.marker(\n                [41.4014399, 2.2100745],\n                {}\n            ).addTo(marker_cluster_e3983cba9c3bf4ceb7cd078095406f88);\n        \n    \n            var marker_afef162ab918474892db3ca858f28c9f = L.marker(\n                [41.3918805, 2.1660363],\n                {}\n            ).addTo(marker_cluster_e3983cba9c3bf4ceb7cd078095406f88);\n        \n    \n            var marker_71fa92a583fdaa5fe8816d8b2ff3838a = L.marker(\n                [51.5153672, -0.1783271],\n                {}\n            ).addTo(marker_cluster_e3983cba9c3bf4ceb7cd078095406f88);\n        \n    \n            var marker_49f540f4b82d64d48221f173739c5585 = L.marker(\n                [41.392344, 2.1729157],\n                {}\n            ).addTo(marker_cluster_e3983cba9c3bf4ceb7cd078095406f88);\n        \n    \n            var marker_a52f1f79cce975905a57dfaf5f30f160 = L.marker(\n                [51.5108439, -0.1839074],\n                {}\n            ).addTo(marker_cluster_e3983cba9c3bf4ceb7cd078095406f88);\n        \n    \n            var marker_8fecc8a17f8e8ca5f7c5abf9aa89a1bb = L.marker(\n                [51.5294411, -0.1233745],\n                {}\n            ).addTo(marker_cluster_e3983cba9c3bf4ceb7cd078095406f88);\n        \n    \n            var marker_eb98d55c2c3e97f36599884953b22b63 = L.marker(\n                [48.1834787, 16.3762765],\n                {}\n            ).addTo(marker_cluster_e3983cba9c3bf4ceb7cd078095406f88);\n        \n    \n            var marker_d6680ca2df9259359dc68fa44ad1e5f0 = L.marker(\n                [48.191339, 16.3165873],\n                {}\n            ).addTo(marker_cluster_e3983cba9c3bf4ceb7cd078095406f88);\n        \n    \n            var marker_b4237976c4639557ede937697f5a8cfc = L.marker(\n                [51.5151247, -0.1600656],\n                {}\n            ).addTo(marker_cluster_e3983cba9c3bf4ceb7cd078095406f88);\n        \n    \n            var marker_e1e65529d697b739f1defd68a30b9836 = L.marker(\n                [45.4777623, 9.203169],\n                {}\n            ).addTo(marker_cluster_e3983cba9c3bf4ceb7cd078095406f88);\n        \n    \n            var marker_101da9a922d391a324711eb3999dd534 = L.marker(\n                [41.371308, 2.181698],\n                {}\n            ).addTo(marker_cluster_e3983cba9c3bf4ceb7cd078095406f88);\n        \n    \n            var marker_dffecba3e9272daf4a6a24575497b0cb = L.marker(\n                [48.2097958, 16.3658705],\n                {}\n            ).addTo(marker_cluster_e3983cba9c3bf4ceb7cd078095406f88);\n        \n    \n            var marker_fecf2283843812843566fad7fe034125 = L.marker(\n                [51.5119446, -0.179939],\n                {}\n            ).addTo(marker_cluster_e3983cba9c3bf4ceb7cd078095406f88);\n        \n    \n            var marker_38f99b5c2cccfd1b3ea2ed0694dcd451 = L.marker(\n                [48.8502052, 2.289043],\n                {}\n            ).addTo(marker_cluster_e3983cba9c3bf4ceb7cd078095406f88);\n        \n    \n            var marker_d98387b48e87f91722f124fe490e25b7 = L.marker(\n                [51.508236, -0.1261963],\n                {}\n            ).addTo(marker_cluster_e3983cba9c3bf4ceb7cd078095406f88);\n        \n    \n            var marker_5d0f9f09808d33329febf60f403db538 = L.marker(\n                [41.3795572, 2.1425457],\n                {}\n            ).addTo(marker_cluster_e3983cba9c3bf4ceb7cd078095406f88);\n        \n    \n            var marker_1964d2ae5706960da3e58cb31c426b83 = L.marker(\n                [51.603207, 0.010607],\n                {}\n            ).addTo(marker_cluster_e3983cba9c3bf4ceb7cd078095406f88);\n        \n    \n            var marker_0a55cd2e9d33a6fa947b0c004faecc11 = L.marker(\n                [48.8550466, 2.304583],\n                {}\n            ).addTo(marker_cluster_e3983cba9c3bf4ceb7cd078095406f88);\n        \n    \n            var marker_16d710752b5721ddf2d1efd586784ff4 = L.marker(\n                [52.377278, 4.897818],\n                {}\n            ).addTo(marker_cluster_e3983cba9c3bf4ceb7cd078095406f88);\n        \n    \n            var marker_88280fa6d5d9da30a9bb3cfd697c6cbf = L.marker(\n                [51.4982412, -0.1134715],\n                {}\n            ).addTo(marker_cluster_e3983cba9c3bf4ceb7cd078095406f88);\n        \n    \n            var marker_fe16bc0337fff75a79b600b2a8fdd291 = L.marker(\n                [48.8427364, 2.3672171],\n                {}\n            ).addTo(marker_cluster_e3983cba9c3bf4ceb7cd078095406f88);\n        \n    \n            var marker_497d5da886f10f61eaba823348f15030 = L.marker(\n                [51.4988817, -0.1062888],\n                {}\n            ).addTo(marker_cluster_e3983cba9c3bf4ceb7cd078095406f88);\n        \n    \n            var marker_41bad9e752614264430bd63fe76f3683 = L.marker(\n                [52.3663466, 4.8985764],\n                {}\n            ).addTo(marker_cluster_e3983cba9c3bf4ceb7cd078095406f88);\n        \n    \n            var marker_496c9e848134cc4e9a80a0a57dc57aca = L.marker(\n                [51.5044972, -0.0855562],\n                {}\n            ).addTo(marker_cluster_e3983cba9c3bf4ceb7cd078095406f88);\n        \n    \n            var marker_02f1e044b5d4b61964fd4abf8f379e83 = L.marker(\n                [51.506935, -0.126012],\n                {}\n            ).addTo(marker_cluster_e3983cba9c3bf4ceb7cd078095406f88);\n        \n    \n            var marker_d7847c8e65bf100aa95bb73d7a1629f3 = L.marker(\n                [48.1866506, 16.3023375],\n                {}\n            ).addTo(marker_cluster_e3983cba9c3bf4ceb7cd078095406f88);\n        \n    \n            var marker_77f9054c89ca9bb5ae99d609478ce931 = L.marker(\n                [51.525535, -0.1180354],\n                {}\n            ).addTo(marker_cluster_e3983cba9c3bf4ceb7cd078095406f88);\n        \n    \n            var marker_6d2af0a9baefdf3af46490f46b41812a = L.marker(\n                [48.8478399, 2.342254],\n                {}\n            ).addTo(marker_cluster_e3983cba9c3bf4ceb7cd078095406f88);\n        \n    \n            var marker_48acb0a81808641754699acc192284b5 = L.marker(\n                [51.5110114, -0.0771251],\n                {}\n            ).addTo(marker_cluster_e3983cba9c3bf4ceb7cd078095406f88);\n        \n    \n            var marker_f7ca704ca8fb585545a7943dc87837a7 = L.marker(\n                [48.2078727, 16.3724042],\n                {}\n            ).addTo(marker_cluster_e3983cba9c3bf4ceb7cd078095406f88);\n        \n    \n            var marker_8ff2be18b0c6a9c567c91e32554424ac = L.marker(\n                [41.3860183, 2.19473],\n                {}\n            ).addTo(marker_cluster_e3983cba9c3bf4ceb7cd078095406f88);\n        \n    \n            var marker_f31658cb60c1449909f8a22cec1e4b4c = L.marker(\n                [51.5076899, -0.1471358],\n                {}\n            ).addTo(marker_cluster_e3983cba9c3bf4ceb7cd078095406f88);\n        \n    \n            var marker_9f327f6902265e86e7116000015d4742 = L.marker(\n                [51.5241248, -0.1258066],\n                {}\n            ).addTo(marker_cluster_e3983cba9c3bf4ceb7cd078095406f88);\n        \n    \n            var marker_2e75b6648e8437e6e7a8e2542707cda0 = L.marker(\n                [52.3101182, 4.9472918],\n                {}\n            ).addTo(marker_cluster_e3983cba9c3bf4ceb7cd078095406f88);\n        \n    \n            var marker_f2df55762bbcb1c324b3f3df89ca8a8a = L.marker(\n                [51.4926269, -0.2288598],\n                {}\n            ).addTo(marker_cluster_e3983cba9c3bf4ceb7cd078095406f88);\n        \n    \n            var marker_dd05903c321dcf12f5d9cad04afda476 = L.marker(\n                [48.8675886, 2.3531018],\n                {}\n            ).addTo(marker_cluster_e3983cba9c3bf4ceb7cd078095406f88);\n        \n    \n            var marker_be0e23b6934e830c9b2d685719f733b2 = L.marker(\n                [51.5011704, -0.0232607],\n                {}\n            ).addTo(marker_cluster_e3983cba9c3bf4ceb7cd078095406f88);\n        \n    \n            var marker_6625b47f31f60801daa666dc579093e3 = L.marker(\n                [52.3630682, 4.8794451],\n                {}\n            ).addTo(marker_cluster_e3983cba9c3bf4ceb7cd078095406f88);\n        \n    \n            var marker_b7865f02a7dc28e6f44680a777a2064a = L.marker(\n                [51.5132069, -0.1807816],\n                {}\n            ).addTo(marker_cluster_e3983cba9c3bf4ceb7cd078095406f88);\n        \n    \n            var marker_5edb12c9e8107b434916b545969e98d5 = L.marker(\n                [51.522143, -0.153385],\n                {}\n            ).addTo(marker_cluster_e3983cba9c3bf4ceb7cd078095406f88);\n        \n    \n            var marker_9066d73714cb35388965081a116223fe = L.marker(\n                [48.8555664, 2.2926243],\n                {}\n            ).addTo(marker_cluster_e3983cba9c3bf4ceb7cd078095406f88);\n        \n    \n            var marker_2767a33200174f9d5f08190654322883 = L.marker(\n                [51.4967399, -0.2064723],\n                {}\n            ).addTo(marker_cluster_e3983cba9c3bf4ceb7cd078095406f88);\n        \n    \n            var marker_678665f94e499329c5311964a6128a10 = L.marker(\n                [41.3858891, 2.1681652],\n                {}\n            ).addTo(marker_cluster_e3983cba9c3bf4ceb7cd078095406f88);\n        \n    \n            var marker_c000b13102b81c4082626f9b660c417c = L.marker(\n                [48.1923791, 16.3994512],\n                {}\n            ).addTo(marker_cluster_e3983cba9c3bf4ceb7cd078095406f88);\n        \n    \n            var marker_e613deac5fe7e97ade41f1448c3c4615 = L.marker(\n                [48.8722588, 2.3257608],\n                {}\n            ).addTo(marker_cluster_e3983cba9c3bf4ceb7cd078095406f88);\n        \n    \n            var marker_293a4dc1dcea641f2e81679aabbff165 = L.marker(\n                [51.5054185, -0.1241499],\n                {}\n            ).addTo(marker_cluster_e3983cba9c3bf4ceb7cd078095406f88);\n        \n    \n            var marker_1fa4b00809512b5eb2a6fa3d04d97e61 = L.marker(\n                [52.3588806, 4.9886041],\n                {}\n            ).addTo(marker_cluster_e3983cba9c3bf4ceb7cd078095406f88);\n        \n    \n            var marker_b723f7023fbed112adc0027e640e69e6 = L.marker(\n                [41.391362, 2.1700953],\n                {}\n            ).addTo(marker_cluster_e3983cba9c3bf4ceb7cd078095406f88);\n        \n    \n            var marker_b38faf4739c5eb19e6a1f5985afb61fa = L.marker(\n                [48.8691758, 2.3205807],\n                {}\n            ).addTo(marker_cluster_e3983cba9c3bf4ceb7cd078095406f88);\n        \n    \n            var marker_04492bc709216911f690d27daf2903e3 = L.marker(\n                [51.4907493, -0.1934627],\n                {}\n            ).addTo(marker_cluster_e3983cba9c3bf4ceb7cd078095406f88);\n        \n    \n            var marker_59f0ca524260573d9c42c60d2da98cce = L.marker(\n                [45.461177, 9.191047],\n                {}\n            ).addTo(marker_cluster_e3983cba9c3bf4ceb7cd078095406f88);\n        \n    \n            var marker_62aa3976bcff376293afa23b7dacc95b = L.marker(\n                [41.4226648, 2.1464261],\n                {}\n            ).addTo(marker_cluster_e3983cba9c3bf4ceb7cd078095406f88);\n        \n    \n            var marker_6bf0b41ff560d3e85c98e2184336d6e0 = L.marker(\n                [52.333803, 4.8884708],\n                {}\n            ).addTo(marker_cluster_e3983cba9c3bf4ceb7cd078095406f88);\n        \n    \n            var marker_452b277b1492f2910a6a131eb03669e0 = L.marker(\n                [51.5161139, -0.1749521],\n                {}\n            ).addTo(marker_cluster_e3983cba9c3bf4ceb7cd078095406f88);\n        \n    \n            var marker_f64b0920177bcec0363bda72bb0fe723 = L.marker(\n                [51.4202661, -0.211268],\n                {}\n            ).addTo(marker_cluster_e3983cba9c3bf4ceb7cd078095406f88);\n        \n    \n            var marker_2f066836eb29a68554a932dde99839a7 = L.marker(\n                [48.8636049, 2.3688352],\n                {}\n            ).addTo(marker_cluster_e3983cba9c3bf4ceb7cd078095406f88);\n        \n    \n            var marker_ddd2250b05172993abeb1bcbda8c51e1 = L.marker(\n                [52.364962, 4.873495],\n                {}\n            ).addTo(marker_cluster_e3983cba9c3bf4ceb7cd078095406f88);\n        \n    \n            var marker_92022a8d6d9ca54f8d1d3bad078010f9 = L.marker(\n                [51.5146025, -0.1481978],\n                {}\n            ).addTo(marker_cluster_e3983cba9c3bf4ceb7cd078095406f88);\n        \n    \n            var marker_29e6b32b7ee71410a11a1447bb12ce0a = L.marker(\n                [51.5743549, -0.0977567],\n                {}\n            ).addTo(marker_cluster_e3983cba9c3bf4ceb7cd078095406f88);\n        \n    \n            var marker_f02f736892b4582f92d7d52a1378aeac = L.marker(\n                [41.3873478, 2.1603987],\n                {}\n            ).addTo(marker_cluster_e3983cba9c3bf4ceb7cd078095406f88);\n        \n    \n            var marker_05c23def4c58d0cca9f114ab82866103 = L.marker(\n                [48.204576, 16.3563661],\n                {}\n            ).addTo(marker_cluster_e3983cba9c3bf4ceb7cd078095406f88);\n        \n    \n            var marker_5f202e444004eae6ab2446064d58e742 = L.marker(\n                [45.4852549, 9.2069501],\n                {}\n            ).addTo(marker_cluster_e3983cba9c3bf4ceb7cd078095406f88);\n        \n    \n            var marker_6eb7d7a4b816c562dfb9ede0a46f391f = L.marker(\n                [51.5231564, -0.1035134],\n                {}\n            ).addTo(marker_cluster_e3983cba9c3bf4ceb7cd078095406f88);\n        \n    \n            var marker_a3af5d83197edbd1afa176b0ef06064e = L.marker(\n                [52.3924898, 4.8683822],\n                {}\n            ).addTo(marker_cluster_e3983cba9c3bf4ceb7cd078095406f88);\n        \n    \n            var marker_2ad78d6cfe00e7796add3e9ee392ba7d = L.marker(\n                [41.3842608, 2.1609471],\n                {}\n            ).addTo(marker_cluster_e3983cba9c3bf4ceb7cd078095406f88);\n        \n    \n            var marker_fa864b3f0721916c98566a9d3632a9da = L.marker(\n                [51.511579, -0.1500193],\n                {}\n            ).addTo(marker_cluster_e3983cba9c3bf4ceb7cd078095406f88);\n        \n    \n            var marker_683415941acc5e69e805b301853d80c2 = L.marker(\n                [48.8717649, 2.2983855],\n                {}\n            ).addTo(marker_cluster_e3983cba9c3bf4ceb7cd078095406f88);\n        \n    \n            var marker_cd7161fb569c44020936541b76efd480 = L.marker(\n                [52.3681299, 4.8440847],\n                {}\n            ).addTo(marker_cluster_e3983cba9c3bf4ceb7cd078095406f88);\n        \n    \n            var marker_579430ab308038167744752ead60cd58 = L.marker(\n                [48.1953229, 16.3672882],\n                {}\n            ).addTo(marker_cluster_e3983cba9c3bf4ceb7cd078095406f88);\n        \n    \n            var marker_06e5f33701bf5ae7897085aa12d7f743 = L.marker(\n                [51.5210117, -0.2628618],\n                {}\n            ).addTo(marker_cluster_e3983cba9c3bf4ceb7cd078095406f88);\n        \n    \n            var marker_7e2b6234d3f9dedc4310973c836bce16 = L.marker(\n                [51.507377, 0.038657],\n                {}\n            ).addTo(marker_cluster_e3983cba9c3bf4ceb7cd078095406f88);\n        \n    \n            var marker_cb641219e17f1a9c479ce62dfd58f78a = L.marker(\n                [45.4436132, 9.1161094],\n                {}\n            ).addTo(marker_cluster_e3983cba9c3bf4ceb7cd078095406f88);\n        \n    \n            var marker_1a161d631f028be4c953834986b33536 = L.marker(\n                [51.5611271, -0.2787261],\n                {}\n            ).addTo(marker_cluster_e3983cba9c3bf4ceb7cd078095406f88);\n        \n    \n            var marker_ec61c70416ca0d190422c221c42e4a6d = L.marker(\n                [48.2508693, 16.304957],\n                {}\n            ).addTo(marker_cluster_e3983cba9c3bf4ceb7cd078095406f88);\n        \n    \n            var marker_c2725dfee5ad682f45b1e8c0bf5c3d93 = L.marker(\n                [48.1935593, 16.3616098],\n                {}\n            ).addTo(marker_cluster_e3983cba9c3bf4ceb7cd078095406f88);\n        \n    \n            var marker_b98bfc74558cc24181e5b7a2bcd5cffd = L.marker(\n                [41.3894195, 2.1564886],\n                {}\n            ).addTo(marker_cluster_e3983cba9c3bf4ceb7cd078095406f88);\n        \n    \n            var marker_1059b4825d58fff1ca1cc5401b0d7324 = L.marker(\n                [51.5083537, 0.0198855],\n                {}\n            ).addTo(marker_cluster_e3983cba9c3bf4ceb7cd078095406f88);\n        \n    \n            var marker_2090c6d05cc4da616d82e50706dca923 = L.marker(\n                [41.3908486, 2.1680745],\n                {}\n            ).addTo(marker_cluster_e3983cba9c3bf4ceb7cd078095406f88);\n        \n    \n            var marker_2220eaf4db4f6b83611f3e39c938f67b = L.marker(\n                [48.8603599, 2.3230778],\n                {}\n            ).addTo(marker_cluster_e3983cba9c3bf4ceb7cd078095406f88);\n        \n    \n            var marker_3c3c8f5392c2d0a6b8c0bb8fdb953de9 = L.marker(\n                [41.386136, 2.1682914],\n                {}\n            ).addTo(marker_cluster_e3983cba9c3bf4ceb7cd078095406f88);\n        \n    \n            var marker_442c06d98c5b12c2e52fe78bcabe9870 = L.marker(\n                [51.5157316, -0.1802179],\n                {}\n            ).addTo(marker_cluster_e3983cba9c3bf4ceb7cd078095406f88);\n        \n    \n            var marker_3f727fbef96eec03cfc86977add2e83a = L.marker(\n                [45.4689376, 9.1868891],\n                {}\n            ).addTo(marker_cluster_e3983cba9c3bf4ceb7cd078095406f88);\n        \n    \n            var marker_ddba47d0fe8830d440992c801308ef7b = L.marker(\n                [51.5267769, -0.1324905],\n                {}\n            ).addTo(marker_cluster_e3983cba9c3bf4ceb7cd078095406f88);\n        \n    \n            var marker_95611d177536e5c06ea6417e26d19557 = L.marker(\n                [48.2057193, 16.3710878],\n                {}\n            ).addTo(marker_cluster_e3983cba9c3bf4ceb7cd078095406f88);\n        \n    \n            var marker_a641f7333553642481c28ff81519e8ef = L.marker(\n                [52.335182, 4.9138688],\n                {}\n            ).addTo(marker_cluster_e3983cba9c3bf4ceb7cd078095406f88);\n        \n    \n            var marker_dd27369e97dd9a5bd41ce8666606af34 = L.marker(\n                [48.8888761, 2.3331774],\n                {}\n            ).addTo(marker_cluster_e3983cba9c3bf4ceb7cd078095406f88);\n        \n    \n            var marker_167ac435918d5712e8e3f7c950736e1e = L.marker(\n                [51.5131074, -0.1778707],\n                {}\n            ).addTo(marker_cluster_e3983cba9c3bf4ceb7cd078095406f88);\n        \n    \n            var marker_3a69ef9dad5b446d88dd6dc881c7c172 = L.marker(\n                [51.5051507, -0.1004724],\n                {}\n            ).addTo(marker_cluster_e3983cba9c3bf4ceb7cd078095406f88);\n        \n    \n            var marker_52ef54a6add8b53805fb03e0d3e7bcfe = L.marker(\n                [51.4901051, -0.1381355],\n                {}\n            ).addTo(marker_cluster_e3983cba9c3bf4ceb7cd078095406f88);\n        \n    \n            var marker_0236963042ac40eadcb3e80445c7a035 = L.marker(\n                [45.4830211, 9.2033246],\n                {}\n            ).addTo(marker_cluster_e3983cba9c3bf4ceb7cd078095406f88);\n        \n    \n            var marker_90eb472edeb4b3a172eaf56e961a774a = L.marker(\n                [48.251195, 16.2989165],\n                {}\n            ).addTo(marker_cluster_e3983cba9c3bf4ceb7cd078095406f88);\n        \n    \n            var marker_50d718830ad072a81fefc5a0987097bc = L.marker(\n                [51.516843, -0.1495574],\n                {}\n            ).addTo(marker_cluster_e3983cba9c3bf4ceb7cd078095406f88);\n        \n    \n            var marker_7a79b383101ebc91ccbf7f8f7f2a0d21 = L.marker(\n                [51.5207945, -0.1310845],\n                {}\n            ).addTo(marker_cluster_e3983cba9c3bf4ceb7cd078095406f88);\n        \n    \n            var marker_e7c92809d4935bb1ad6ce6dd57f42bfb = L.marker(\n                [41.3775577, 2.1384686],\n                {}\n            ).addTo(marker_cluster_e3983cba9c3bf4ceb7cd078095406f88);\n        \n    \n            var marker_01d4f7426eca6f2839e604ddb395ed97 = L.marker(\n                [51.5151149, -0.1743857],\n                {}\n            ).addTo(marker_cluster_e3983cba9c3bf4ceb7cd078095406f88);\n        \n    \n            var marker_e038634d4f0e70f5c56c16aa65f764bc = L.marker(\n                [45.463579, 9.1869092],\n                {}\n            ).addTo(marker_cluster_e3983cba9c3bf4ceb7cd078095406f88);\n        \n    \n            var marker_39071ab3f9ece827abe69e8a16a9bee1 = L.marker(\n                [48.2035677, 16.356445],\n                {}\n            ).addTo(marker_cluster_e3983cba9c3bf4ceb7cd078095406f88);\n        \n    \n            var marker_06599de37188d666fea58438b5535b70 = L.marker(\n                [52.3744149, 4.9041443],\n                {}\n            ).addTo(marker_cluster_e3983cba9c3bf4ceb7cd078095406f88);\n        \n    \n            var marker_68a3c543fd661be5b92465598ac83a85 = L.marker(\n                [48.8506499, 2.2750873],\n                {}\n            ).addTo(marker_cluster_e3983cba9c3bf4ceb7cd078095406f88);\n        \n    \n            var marker_0ac1c233180c634784947f81832dcb94 = L.marker(\n                [45.43784, 9.230901],\n                {}\n            ).addTo(marker_cluster_e3983cba9c3bf4ceb7cd078095406f88);\n        \n    \n            var marker_465ab4f57d7fec187a5299dc1c1d4884 = L.marker(\n                [51.5173303, -0.1180966],\n                {}\n            ).addTo(marker_cluster_e3983cba9c3bf4ceb7cd078095406f88);\n        \n    \n            var marker_195a943a936d32af5dd7b6e9b25a1bf6 = L.marker(\n                [48.8491427, 2.3397118],\n                {}\n            ).addTo(marker_cluster_e3983cba9c3bf4ceb7cd078095406f88);\n        \n    \n            var marker_f6c451ddd46df0b2a8e07382dda3802a = L.marker(\n                [48.204183, 16.3726664],\n                {}\n            ).addTo(marker_cluster_e3983cba9c3bf4ceb7cd078095406f88);\n        \n    \n            var marker_cecc203e963d77092e50ff985f061ee8 = L.marker(\n                [51.5139275, -0.1271506],\n                {}\n            ).addTo(marker_cluster_e3983cba9c3bf4ceb7cd078095406f88);\n        \n    \n            var marker_c62b09fd10b8ded0c958d7268d462767 = L.marker(\n                [41.3853781, 2.1567228],\n                {}\n            ).addTo(marker_cluster_e3983cba9c3bf4ceb7cd078095406f88);\n        \n    \n            var marker_aedbe50009bfdcf2b9fd2e9e1f03e6ad = L.marker(\n                [51.5045583, -0.1262584],\n                {}\n            ).addTo(marker_cluster_e3983cba9c3bf4ceb7cd078095406f88);\n        \n    \n            var marker_6d6860086049f0085329da1f26c8a4b9 = L.marker(\n                [41.3860521, 2.176157],\n                {}\n            ).addTo(marker_cluster_e3983cba9c3bf4ceb7cd078095406f88);\n        \n    \n            var marker_4d7432d357f71382fdd54b348046cef9 = L.marker(\n                [41.3801815, 2.180688],\n                {}\n            ).addTo(marker_cluster_e3983cba9c3bf4ceb7cd078095406f88);\n        \n    \n            var marker_fe20d25af2ae6dfdd21546b71985efab = L.marker(\n                [41.3930406, 2.1545393],\n                {}\n            ).addTo(marker_cluster_e3983cba9c3bf4ceb7cd078095406f88);\n        \n    \n            var marker_997d08c1e610ff15d7e1a3e93e81520c = L.marker(\n                [48.8724588, 2.3378004],\n                {}\n            ).addTo(marker_cluster_e3983cba9c3bf4ceb7cd078095406f88);\n        \n    \n            var marker_05d19549577b9361d257c8f0917d9b8b = L.marker(\n                [41.3890578, 2.1565948],\n                {}\n            ).addTo(marker_cluster_e3983cba9c3bf4ceb7cd078095406f88);\n        \n    \n            var marker_979efb07234698c36ec23ac7d3979adc = L.marker(\n                [48.2134246, 16.3831309],\n                {}\n            ).addTo(marker_cluster_e3983cba9c3bf4ceb7cd078095406f88);\n        \n    \n            var marker_8901b3d77c05bb106d68a5cbd51d00b7 = L.marker(\n                [45.465237, 9.191247],\n                {}\n            ).addTo(marker_cluster_e3983cba9c3bf4ceb7cd078095406f88);\n        \n    \n            var marker_b719202cd1677811cfa74b69c440b466 = L.marker(\n                [51.5209191, -0.1566567],\n                {}\n            ).addTo(marker_cluster_e3983cba9c3bf4ceb7cd078095406f88);\n        \n    \n            var marker_d181fd001a566378e0df56c9680de4e6 = L.marker(\n                [48.8710402, 2.3248014],\n                {}\n            ).addTo(marker_cluster_e3983cba9c3bf4ceb7cd078095406f88);\n        \n    \n            var marker_41cfc7831de9f73bbd60e4dda7488775 = L.marker(\n                [52.3846059, 4.8941866],\n                {}\n            ).addTo(marker_cluster_e3983cba9c3bf4ceb7cd078095406f88);\n        \n    \n            var marker_76e4f12399009f41339b9aff774888fd = L.marker(\n                [48.1854312, 16.404884],\n                {}\n            ).addTo(marker_cluster_e3983cba9c3bf4ceb7cd078095406f88);\n        \n    \n            var marker_b24ccb26a31ae4b2fa6ea1bca3702912 = L.marker(\n                [48.853688, 2.3322667],\n                {}\n            ).addTo(marker_cluster_e3983cba9c3bf4ceb7cd078095406f88);\n        \n    \n            var marker_6ef2070d4f9541d7394ff436cca9998f = L.marker(\n                [51.520943, -0.1004581],\n                {}\n            ).addTo(marker_cluster_e3983cba9c3bf4ceb7cd078095406f88);\n        \n    \n            var marker_2a3864539241bfd517f016a669b4881b = L.marker(\n                [48.8303023, 2.2842872],\n                {}\n            ).addTo(marker_cluster_e3983cba9c3bf4ceb7cd078095406f88);\n        \n    \n            var marker_7faacae15fe2f9491323e7e8cca9531e = L.marker(\n                [51.4942539, -0.1414756],\n                {}\n            ).addTo(marker_cluster_e3983cba9c3bf4ceb7cd078095406f88);\n        \n    \n            var marker_e5bb0e52852e11116ca0bcfee427f0e3 = L.marker(\n                [51.4991134, -0.0790969],\n                {}\n            ).addTo(marker_cluster_e3983cba9c3bf4ceb7cd078095406f88);\n        \n    \n            var marker_474f0a334cb067f2a4abd31adfd79ee8 = L.marker(\n                [51.520171, -0.102463],\n                {}\n            ).addTo(marker_cluster_e3983cba9c3bf4ceb7cd078095406f88);\n        \n    \n            var marker_a9cc13b9c77454dc9bf6b675067a2a50 = L.marker(\n                [41.3892128, 2.1726015],\n                {}\n            ).addTo(marker_cluster_e3983cba9c3bf4ceb7cd078095406f88);\n        \n    \n            var marker_391a9b5ca5061d13bb762d79ea7608e8 = L.marker(\n                [51.5095259, -0.1967234],\n                {}\n            ).addTo(marker_cluster_e3983cba9c3bf4ceb7cd078095406f88);\n        \n    \n            var marker_13a17ec5cfa81dad1ce57f45933304a2 = L.marker(\n                [51.5373904, -0.0023367],\n                {}\n            ).addTo(marker_cluster_e3983cba9c3bf4ceb7cd078095406f88);\n        \n    \n            var marker_e6100592b1fdd2b6db96010c4ba5e6c9 = L.marker(\n                [45.5331372, 9.1711019],\n                {}\n            ).addTo(marker_cluster_e3983cba9c3bf4ceb7cd078095406f88);\n        \n    \n            var marker_55ef4ae0c017d8120215ac26ff502cfc = L.marker(\n                [52.3544507, 4.8875036],\n                {}\n            ).addTo(marker_cluster_e3983cba9c3bf4ceb7cd078095406f88);\n        \n    \n            var marker_5bd54497c625a6e044cb52010a387f98 = L.marker(\n                [48.8735135, 2.3217457],\n                {}\n            ).addTo(marker_cluster_e3983cba9c3bf4ceb7cd078095406f88);\n        \n    \n            var marker_735ff8bc0539a06efb5a870be39ed646 = L.marker(\n                [45.5257221, 9.2150033],\n                {}\n            ).addTo(marker_cluster_e3983cba9c3bf4ceb7cd078095406f88);\n        \n    \n            var marker_5f511fcd59b89d1bee541948319d5031 = L.marker(\n                [51.520181, -0.1256957],\n                {}\n            ).addTo(marker_cluster_e3983cba9c3bf4ceb7cd078095406f88);\n        \n    \n            var marker_83cb8d5098dbeb376c0fbc5ca4527c11 = L.marker(\n                [41.4017465, 2.1477365],\n                {}\n            ).addTo(marker_cluster_e3983cba9c3bf4ceb7cd078095406f88);\n        \n    \n            var marker_fd9fefb157be1298a86a7e9728894265 = L.marker(\n                [48.1756283, 16.4200957],\n                {}\n            ).addTo(marker_cluster_e3983cba9c3bf4ceb7cd078095406f88);\n        \n    \n            var marker_f3e41b8d2a6ae323df44ae68b1dec419 = L.marker(\n                [51.4611219, -0.2756216],\n                {}\n            ).addTo(marker_cluster_e3983cba9c3bf4ceb7cd078095406f88);\n        \n    \n            var marker_4a9fa78b0e756681127e86438c9cb737 = L.marker(\n                [51.5143624, -0.1394483],\n                {}\n            ).addTo(marker_cluster_e3983cba9c3bf4ceb7cd078095406f88);\n        \n    \n            var marker_759796a4a6bb8be9ba75b15ae741da6c = L.marker(\n                [41.3980162, 2.1581229],\n                {}\n            ).addTo(marker_cluster_e3983cba9c3bf4ceb7cd078095406f88);\n        \n    \n            var marker_b96eafa4b920b912b328df8b16f137de = L.marker(\n                [51.5265353, -0.1361682],\n                {}\n            ).addTo(marker_cluster_e3983cba9c3bf4ceb7cd078095406f88);\n        \n    \n            var marker_2a40f77d47b1113b3ea46d293f59a02e = L.marker(\n                [41.3959587, 2.2008981],\n                {}\n            ).addTo(marker_cluster_e3983cba9c3bf4ceb7cd078095406f88);\n        \n    \n            var marker_14cff764393e556a55c07a511a68878a = L.marker(\n                [51.519032, -0.1825943],\n                {}\n            ).addTo(marker_cluster_e3983cba9c3bf4ceb7cd078095406f88);\n        \n    \n            var marker_e0dcb7ba4b47bd450f75fcffb7fe6bf1 = L.marker(\n                [41.383515, 2.1407396],\n                {}\n            ).addTo(marker_cluster_e3983cba9c3bf4ceb7cd078095406f88);\n        \n    \n            var marker_48458de14fe4fcaabd892e2612a0f1be = L.marker(\n                [51.6068054, 0.0590416],\n                {}\n            ).addTo(marker_cluster_e3983cba9c3bf4ceb7cd078095406f88);\n        \n    \n            var marker_bb6313a4f7a108a8362442e298bb421f = L.marker(\n                [51.5056956, -0.101525],\n                {}\n            ).addTo(marker_cluster_e3983cba9c3bf4ceb7cd078095406f88);\n        \n    \n            var marker_718aaa4b952a0847aacb1b0f5874838b = L.marker(\n                [52.3677568, 4.8682174],\n                {}\n            ).addTo(marker_cluster_e3983cba9c3bf4ceb7cd078095406f88);\n        \n    \n            var marker_415f70e9fed68ed10e06cf2092594268 = L.marker(\n                [51.5226217, -0.1251602],\n                {}\n            ).addTo(marker_cluster_e3983cba9c3bf4ceb7cd078095406f88);\n        \n    \n            var marker_511c3ef4f422ea3b3883212ab42362a3 = L.marker(\n                [51.5100916, -0.1359431],\n                {}\n            ).addTo(marker_cluster_e3983cba9c3bf4ceb7cd078095406f88);\n        \n    \n            var marker_88559135ec104f4e09a2d9478ec4d5a3 = L.marker(\n                [41.4253332, 2.1211028],\n                {}\n            ).addTo(marker_cluster_e3983cba9c3bf4ceb7cd078095406f88);\n        \n    \n            var marker_82858587e9f931f535f9ee18947e93c2 = L.marker(\n                [48.2022742, 16.3762615],\n                {}\n            ).addTo(marker_cluster_e3983cba9c3bf4ceb7cd078095406f88);\n        \n    \n            var marker_7c9b36bfff31727c31ca281bb2e19390 = L.marker(\n                [51.527262, -0.282992],\n                {}\n            ).addTo(marker_cluster_e3983cba9c3bf4ceb7cd078095406f88);\n        \n    \n            var marker_e587f02c159517e24b7e3f0acd255cad = L.marker(\n                [41.3834673, 2.1712016],\n                {}\n            ).addTo(marker_cluster_e3983cba9c3bf4ceb7cd078095406f88);\n        \n    \n            var marker_45352fe37269f4a0812121c9716ed2b6 = L.marker(\n                [48.8700325, 2.3112736],\n                {}\n            ).addTo(marker_cluster_e3983cba9c3bf4ceb7cd078095406f88);\n        \n    \n            var marker_3780cd681c63c758e3f0c983fa342a90 = L.marker(\n                [45.4834133, 9.1666361],\n                {}\n            ).addTo(marker_cluster_e3983cba9c3bf4ceb7cd078095406f88);\n        \n    \n            var marker_04d688a24d8308e6ded73c9effda4db1 = L.marker(\n                [51.5222472, -0.1426128],\n                {}\n            ).addTo(marker_cluster_e3983cba9c3bf4ceb7cd078095406f88);\n        \n    \n            var marker_bba15fcb44b2ecb20045ca3aeedafb10 = L.marker(\n                [51.522672, -0.1036841],\n                {}\n            ).addTo(marker_cluster_e3983cba9c3bf4ceb7cd078095406f88);\n        \n    \n            var marker_472b11f917504b7f17664f1e7acc65f8 = L.marker(\n                [48.20939, 16.35339],\n                {}\n            ).addTo(marker_cluster_e3983cba9c3bf4ceb7cd078095406f88);\n        \n    \n            var marker_7fcf2595eeed74aceccd760f818d6505 = L.marker(\n                [41.3897735, 2.1419762],\n                {}\n            ).addTo(marker_cluster_e3983cba9c3bf4ceb7cd078095406f88);\n        \n    \n            var marker_df4112dc4a946cffacbfe350937b8ad4 = L.marker(\n                [48.1979979, 16.3483314],\n                {}\n            ).addTo(marker_cluster_e3983cba9c3bf4ceb7cd078095406f88);\n        \n    \n            var marker_bfe37a22fb67b264d9b50fc87be0481e = L.marker(\n                [51.5360906, -0.1048176],\n                {}\n            ).addTo(marker_cluster_e3983cba9c3bf4ceb7cd078095406f88);\n        \n    \n            var marker_be541864a727bd27d9dd68dd0d574375 = L.marker(\n                [52.350396, 4.8756404],\n                {}\n            ).addTo(marker_cluster_e3983cba9c3bf4ceb7cd078095406f88);\n        \n    \n            var marker_2e5a237db17e4c62e4cab8784d109f3d = L.marker(\n                [48.8683593, 2.3002117],\n                {}\n            ).addTo(marker_cluster_e3983cba9c3bf4ceb7cd078095406f88);\n        \n    \n            var marker_defb4afbbff5d75d36fbd084355cf46f = L.marker(\n                [51.5013149, -0.2174459],\n                {}\n            ).addTo(marker_cluster_e3983cba9c3bf4ceb7cd078095406f88);\n        \n    \n            var marker_86c5ea07cf3139618682d873a570f8f0 = L.marker(\n                [51.521759, -0.1425381],\n                {}\n            ).addTo(marker_cluster_e3983cba9c3bf4ceb7cd078095406f88);\n        \n    \n            var marker_11c73a0777d55f3bb314b46266f6ec5b = L.marker(\n                [48.8793427, 2.3577745],\n                {}\n            ).addTo(marker_cluster_e3983cba9c3bf4ceb7cd078095406f88);\n        \n    \n            var marker_11714527760c5fa5c2df112011520e9d = L.marker(\n                [48.8268251, 2.2912033],\n                {}\n            ).addTo(marker_cluster_e3983cba9c3bf4ceb7cd078095406f88);\n        \n    \n            var marker_ba78c02e3b19fdbb9f0a0183ab89e66e = L.marker(\n                [48.2202988, 16.3558457],\n                {}\n            ).addTo(marker_cluster_e3983cba9c3bf4ceb7cd078095406f88);\n        \n    \n            var marker_14f3a34ef0e3e9013dacea35b3bd7ef2 = L.marker(\n                [41.3907208, 2.1660732],\n                {}\n            ).addTo(marker_cluster_e3983cba9c3bf4ceb7cd078095406f88);\n        \n    \n            var marker_04a27331e80b0f6c8eefa36f22341951 = L.marker(\n                [48.8689468, 2.3026559],\n                {}\n            ).addTo(marker_cluster_e3983cba9c3bf4ceb7cd078095406f88);\n        \n    \n            var marker_f963b13bccbd6a1ad87d0b6548c650f4 = L.marker(\n                [45.4779041, 9.2094965],\n                {}\n            ).addTo(marker_cluster_e3983cba9c3bf4ceb7cd078095406f88);\n        \n    \n            var marker_2a0c3fdfdfa9ccde85dce5d5c551ba42 = L.marker(\n                [48.8447938, 2.3524462],\n                {}\n            ).addTo(marker_cluster_e3983cba9c3bf4ceb7cd078095406f88);\n        \n    \n            var marker_30bf439ae38add3656cd0bebe2119499 = L.marker(\n                [48.8908018, 2.3380204],\n                {}\n            ).addTo(marker_cluster_e3983cba9c3bf4ceb7cd078095406f88);\n        \n    \n            var marker_735ea56d2fad57b24a02b1b47f0a793e = L.marker(\n                [41.3777977, 2.1135971],\n                {}\n            ).addTo(marker_cluster_e3983cba9c3bf4ceb7cd078095406f88);\n        \n    \n            var marker_b647600fa801099d0f084d19a8195b26 = L.marker(\n                [48.8710895, 2.3393461],\n                {}\n            ).addTo(marker_cluster_e3983cba9c3bf4ceb7cd078095406f88);\n        \n    \n            var marker_e0ab87a78a5907b397501d322ffe081b = L.marker(\n                [51.517839, -0.1424476],\n                {}\n            ).addTo(marker_cluster_e3983cba9c3bf4ceb7cd078095406f88);\n        \n    \n            var marker_e1923519e11080cb40b463b4072cce52 = L.marker(\n                [48.8751845, 2.3013214],\n                {}\n            ).addTo(marker_cluster_e3983cba9c3bf4ceb7cd078095406f88);\n        \n    \n            var marker_5d69edbbfd7c4509f23fb56cb61de35d = L.marker(\n                [41.3989322, 2.2024183],\n                {}\n            ).addTo(marker_cluster_e3983cba9c3bf4ceb7cd078095406f88);\n        \n    \n            var marker_6733620e58a18799bb97cf86a9ee0951 = L.marker(\n                [52.3625662, 4.8779225],\n                {}\n            ).addTo(marker_cluster_e3983cba9c3bf4ceb7cd078095406f88);\n        \n    \n            var marker_267e87c7c889c8c554f707e3c1148310 = L.marker(\n                [48.8685093, 2.3067895],\n                {}\n            ).addTo(marker_cluster_e3983cba9c3bf4ceb7cd078095406f88);\n        \n    \n            var marker_e9f23c37a443ab62c9324d7d5c15b67a = L.marker(\n                [41.388024, 2.1731556],\n                {}\n            ).addTo(marker_cluster_e3983cba9c3bf4ceb7cd078095406f88);\n        \n    \n            var marker_2c90de2041469141bf9fa3696055efe3 = L.marker(\n                [41.4082054, 2.2124626],\n                {}\n            ).addTo(marker_cluster_e3983cba9c3bf4ceb7cd078095406f88);\n        \n    \n            var marker_338bd5114ebeb20d5e255bfb8d8aec9e = L.marker(\n                [48.1629737, 16.3404024],\n                {}\n            ).addTo(marker_cluster_e3983cba9c3bf4ceb7cd078095406f88);\n        \n    \n            var marker_78b18e84c39e96f91a3cb372967a2e38 = L.marker(\n                [51.5166755, -0.0697897],\n                {}\n            ).addTo(marker_cluster_e3983cba9c3bf4ceb7cd078095406f88);\n        \n    \n            var marker_7f5ca46251283044f39b2e069cbbf398 = L.marker(\n                [48.8690596, 2.2971078],\n                {}\n            ).addTo(marker_cluster_e3983cba9c3bf4ceb7cd078095406f88);\n        \n    \n            var marker_c21f0f2662aef0500ea5e1efcff0fe3c = L.marker(\n                [48.8487675, 2.3410376],\n                {}\n            ).addTo(marker_cluster_e3983cba9c3bf4ceb7cd078095406f88);\n        \n    \n            var marker_8b355109d26b4b3d10f28f62f383828c = L.marker(\n                [51.5172825, -0.0812451],\n                {}\n            ).addTo(marker_cluster_e3983cba9c3bf4ceb7cd078095406f88);\n        \n    \n            var marker_27a86f5899b066be0600241f5ea0e722 = L.marker(\n                [51.5144381, -0.1558337],\n                {}\n            ).addTo(marker_cluster_e3983cba9c3bf4ceb7cd078095406f88);\n        \n    \n            var marker_139dd51b65aaaefbbe730eb499c9b3c7 = L.marker(\n                [51.5140329, -0.1320651],\n                {}\n            ).addTo(marker_cluster_e3983cba9c3bf4ceb7cd078095406f88);\n        \n    \n            var marker_1ab4373ab6a4c261ec843258fdedcada = L.marker(\n                [48.888539, 2.3498459],\n                {}\n            ).addTo(marker_cluster_e3983cba9c3bf4ceb7cd078095406f88);\n        \n    \n            var marker_39f228a2747f318384d29a97c5316548 = L.marker(\n                [48.8802782, 2.2843852],\n                {}\n            ).addTo(marker_cluster_e3983cba9c3bf4ceb7cd078095406f88);\n        \n    \n            var marker_385e55c2ea6460d5081e1c57c20cccbe = L.marker(\n                [51.5022081, -0.1599428],\n                {}\n            ).addTo(marker_cluster_e3983cba9c3bf4ceb7cd078095406f88);\n        \n    \n            var marker_c5d0f719aeaf1ba4f65b446e96426689 = L.marker(\n                [52.3542655, 4.8664365],\n                {}\n            ).addTo(marker_cluster_e3983cba9c3bf4ceb7cd078095406f88);\n        \n    \n            var marker_9ef8d58ef2c58510a3f6015c7d08f278 = L.marker(\n                [48.8816073, 2.3371648],\n                {}\n            ).addTo(marker_cluster_e3983cba9c3bf4ceb7cd078095406f88);\n        \n    \n            var marker_bc6df4df8a3ad6d9801d1bf34e7de58a = L.marker(\n                [51.5160484, -0.0880181],\n                {}\n            ).addTo(marker_cluster_e3983cba9c3bf4ceb7cd078095406f88);\n        \n    \n            var marker_b43a2a3876e25075750a6564ed5f06fe = L.marker(\n                [51.5426351, -0.0073272],\n                {}\n            ).addTo(marker_cluster_e3983cba9c3bf4ceb7cd078095406f88);\n        \n    \n            var marker_cf7c3e3dd44755947b94ce7a64cd7300 = L.marker(\n                [41.3792053, 2.1427989],\n                {}\n            ).addTo(marker_cluster_e3983cba9c3bf4ceb7cd078095406f88);\n        \n    \n            var marker_db4f099373eda3ef00012d70cc8ba6ae = L.marker(\n                [48.8610265, 2.3788974],\n                {}\n            ).addTo(marker_cluster_e3983cba9c3bf4ceb7cd078095406f88);\n        \n    \n            var marker_b54348c07ef16f038abe0689aea6e287 = L.marker(\n                [48.8719889, 2.3492913],\n                {}\n            ).addTo(marker_cluster_e3983cba9c3bf4ceb7cd078095406f88);\n        \n    \n            var marker_5d900133837edad29302db721e16a98e = L.marker(\n                [48.2056333, 16.3778615],\n                {}\n            ).addTo(marker_cluster_e3983cba9c3bf4ceb7cd078095406f88);\n        \n    \n            var marker_b39653fc10c5ace4368961fbdc3bdb2e = L.marker(\n                [45.443502, 9.1377081],\n                {}\n            ).addTo(marker_cluster_e3983cba9c3bf4ceb7cd078095406f88);\n        \n    \n            var marker_8092588f51118e65a6ccdb7a1eb117e7 = L.marker(\n                [48.8399018, 2.3031011],\n                {}\n            ).addTo(marker_cluster_e3983cba9c3bf4ceb7cd078095406f88);\n        \n    \n            var marker_b1ce85159e76ec5b55492347cc63ee79 = L.marker(\n                [52.3678368, 4.8830788],\n                {}\n            ).addTo(marker_cluster_e3983cba9c3bf4ceb7cd078095406f88);\n        \n    \n            var marker_07385d23d08ce318f1dfe0b3f716c0f6 = L.marker(\n                [45.4633289, 9.1884242],\n                {}\n            ).addTo(marker_cluster_e3983cba9c3bf4ceb7cd078095406f88);\n        \n    \n            var marker_fccd4a273d4c176ad3403f3d6ea9c11d = L.marker(\n                [52.3758754, 4.8859642],\n                {}\n            ).addTo(marker_cluster_e3983cba9c3bf4ceb7cd078095406f88);\n        \n    \n            var marker_12bd4f95baada48317c1028fd785e561 = L.marker(\n                [48.8490691, 2.3697484],\n                {}\n            ).addTo(marker_cluster_e3983cba9c3bf4ceb7cd078095406f88);\n        \n    \n            var marker_3c1a93cf7e03c9b770e1d289ad2e3bb6 = L.marker(\n                [51.4801631, -0.0097201],\n                {}\n            ).addTo(marker_cluster_e3983cba9c3bf4ceb7cd078095406f88);\n        \n    \n            var marker_fbbbdc8de54c6aca9d4fd8528b6e7e12 = L.marker(\n                [52.369391, 4.8871721],\n                {}\n            ).addTo(marker_cluster_e3983cba9c3bf4ceb7cd078095406f88);\n        \n    \n            var marker_0c64d8f57810e821f1a666fac641ab80 = L.marker(\n                [51.5012329, -0.1859937],\n                {}\n            ).addTo(marker_cluster_e3983cba9c3bf4ceb7cd078095406f88);\n        \n    \n            var marker_2e545751e1663298eda1c3a9c4860978 = L.marker(\n                [51.5166887, -0.1706147],\n                {}\n            ).addTo(marker_cluster_e3983cba9c3bf4ceb7cd078095406f88);\n        \n    \n            var marker_1ae97aed6b4f699cd6dafd73ec0e72b4 = L.marker(\n                [48.8405612, 2.2991035],\n                {}\n            ).addTo(marker_cluster_e3983cba9c3bf4ceb7cd078095406f88);\n        \n    \n            var marker_91d3d6e3ea797aaad3d41a7a7afbfa76 = L.marker(\n                [51.506935, -0.126012],\n                {}\n            ).addTo(marker_cluster_e3983cba9c3bf4ceb7cd078095406f88);\n        \n    \n            var marker_6e517d3c8b89f0a9286aa30b37bb8a92 = L.marker(\n                [45.4559784, 9.1871812],\n                {}\n            ).addTo(marker_cluster_e3983cba9c3bf4ceb7cd078095406f88);\n        \n    \n            var marker_4d6fd6f1dd78ee9d47dc65b35c5cf25f = L.marker(\n                [48.8712877, 2.3191903],\n                {}\n            ).addTo(marker_cluster_e3983cba9c3bf4ceb7cd078095406f88);\n        \n    \n            var marker_cd2aa0b3968c142bfdfa9eb5618d7e11 = L.marker(\n                [48.8717146, 2.3261812],\n                {}\n            ).addTo(marker_cluster_e3983cba9c3bf4ceb7cd078095406f88);\n        \n    \n            var marker_401c2099d867cc0bad38cd359dbb57a6 = L.marker(\n                [52.3718665, 4.8873794],\n                {}\n            ).addTo(marker_cluster_e3983cba9c3bf4ceb7cd078095406f88);\n        \n    \n            var marker_f7a974c4a0fcc240f6e3c917b4080f0b = L.marker(\n                [51.5084595, -0.1311382],\n                {}\n            ).addTo(marker_cluster_e3983cba9c3bf4ceb7cd078095406f88);\n        \n    \n            var marker_24c1283d5d2bc6f4ac9feeb41a737876 = L.marker(\n                [48.2138096, 16.3714293],\n                {}\n            ).addTo(marker_cluster_e3983cba9c3bf4ceb7cd078095406f88);\n        \n    \n            var marker_3e4e1e94cdfde598667470bffe55bc84 = L.marker(\n                [52.3605759, 4.9159683],\n                {}\n            ).addTo(marker_cluster_e3983cba9c3bf4ceb7cd078095406f88);\n        \n    \n            var marker_9869762aa33675b888aa7a2144dbeee6 = L.marker(\n                [51.5090985, -0.0157302],\n                {}\n            ).addTo(marker_cluster_e3983cba9c3bf4ceb7cd078095406f88);\n        \n    \n            var marker_6a5b29e19203478a923b734004b6219c = L.marker(\n                [51.5150534, -0.1739974],\n                {}\n            ).addTo(marker_cluster_e3983cba9c3bf4ceb7cd078095406f88);\n        \n    \n            var marker_a8a8e72897929ecf9ccad7b271cfbe85 = L.marker(\n                [48.8690126, 2.3368708],\n                {}\n            ).addTo(marker_cluster_e3983cba9c3bf4ceb7cd078095406f88);\n        \n    \n            var marker_51bc43ff1d973f37a2212d77c858341e = L.marker(\n                [51.4943935, -0.1750169],\n                {}\n            ).addTo(marker_cluster_e3983cba9c3bf4ceb7cd078095406f88);\n        \n    \n            var marker_1f0256de028aeb0d2a84759185f5365e = L.marker(\n                [51.5195857, -0.1584803],\n                {}\n            ).addTo(marker_cluster_e3983cba9c3bf4ceb7cd078095406f88);\n        \n    \n            var marker_f59de48e923c8d8d5ad762d203f080fd = L.marker(\n                [51.5139805, -0.1337948],\n                {}\n            ).addTo(marker_cluster_e3983cba9c3bf4ceb7cd078095406f88);\n        \n    \n            var marker_fa2a085c44dcd7a467a94c1871255414 = L.marker(\n                [52.3487635, 4.8938829],\n                {}\n            ).addTo(marker_cluster_e3983cba9c3bf4ceb7cd078095406f88);\n        \n    \n            var marker_e25c0f5d9786ac71f972f3b67ad6fd37 = L.marker(\n                [45.4684251, 9.1834161],\n                {}\n            ).addTo(marker_cluster_e3983cba9c3bf4ceb7cd078095406f88);\n        \n    \n            var marker_69e5f1aba19c593a23dfa20f8f8e9fce = L.marker(\n                [52.358631, 4.8786236],\n                {}\n            ).addTo(marker_cluster_e3983cba9c3bf4ceb7cd078095406f88);\n        \n    \n            var marker_83f3cd7787cf37341e456a91dd359bdb = L.marker(\n                [41.3856173, 2.1659487],\n                {}\n            ).addTo(marker_cluster_e3983cba9c3bf4ceb7cd078095406f88);\n        \n    \n            var marker_80d46aa01f3e73aa8ad3f500b8a36e52 = L.marker(\n                [51.5404555, -0.1460833],\n                {}\n            ).addTo(marker_cluster_e3983cba9c3bf4ceb7cd078095406f88);\n        \n    \n            var marker_6b1aade04a7e057cf6335564961c012c = L.marker(\n                [48.8684243, 2.3036244],\n                {}\n            ).addTo(marker_cluster_e3983cba9c3bf4ceb7cd078095406f88);\n        \n    \n            var marker_8389369d4ba3bd8aff30ca39c0d4e826 = L.marker(\n                [51.5203469, -0.1260893],\n                {}\n            ).addTo(marker_cluster_e3983cba9c3bf4ceb7cd078095406f88);\n        \n    \n            var marker_e1dc33dbe3d56fef54e9773f2081a4b8 = L.marker(\n                [48.2062103, 16.3710387],\n                {}\n            ).addTo(marker_cluster_e3983cba9c3bf4ceb7cd078095406f88);\n        \n    \n            var marker_7f46be209ed0fd08e8175b983e9a59d6 = L.marker(\n                [48.8547329, 2.3395277],\n                {}\n            ).addTo(marker_cluster_e3983cba9c3bf4ceb7cd078095406f88);\n        \n    \n            var marker_3ac6703e30f25a5fd7d82eaeec5ac908 = L.marker(\n                [48.2017277, 16.375463],\n                {}\n            ).addTo(marker_cluster_e3983cba9c3bf4ceb7cd078095406f88);\n        \n    \n            var marker_d649fdd6e89e7f17db873d3eee52a6ba = L.marker(\n                [48.2111522, 16.3788631],\n                {}\n            ).addTo(marker_cluster_e3983cba9c3bf4ceb7cd078095406f88);\n        \n    \n            var marker_d4a81566b88eb87e28c6251980f52aeb = L.marker(\n                [48.8732785, 2.3004174],\n                {}\n            ).addTo(marker_cluster_e3983cba9c3bf4ceb7cd078095406f88);\n        \n    \n            var marker_f2b08d4153b3922f488155dce8bbc287 = L.marker(\n                [48.8550298, 2.3332104],\n                {}\n            ).addTo(marker_cluster_e3983cba9c3bf4ceb7cd078095406f88);\n        \n    \n            var marker_a5eb5402b11b525e5cbbad7a01cb460c = L.marker(\n                [51.4948507, -0.1945544],\n                {}\n            ).addTo(marker_cluster_e3983cba9c3bf4ceb7cd078095406f88);\n        \n    \n            var marker_d93fbf3077ed892e6d16ee77011f3c80 = L.marker(\n                [52.36513, 4.8729422],\n                {}\n            ).addTo(marker_cluster_e3983cba9c3bf4ceb7cd078095406f88);\n        \n    \n            var marker_bd53063fa9d7717041735b574ee2fb62 = L.marker(\n                [48.1995177, 16.3388225],\n                {}\n            ).addTo(marker_cluster_e3983cba9c3bf4ceb7cd078095406f88);\n        \n    \n            var marker_2796f07f33cc9fe8519983cb1c4aaa13 = L.marker(\n                [51.5059087, -0.1403795],\n                {}\n            ).addTo(marker_cluster_e3983cba9c3bf4ceb7cd078095406f88);\n        \n    \n            var marker_92edaf550d7d82d959b7242f90e10d99 = L.marker(\n                [51.5122429, -0.1045036],\n                {}\n            ).addTo(marker_cluster_e3983cba9c3bf4ceb7cd078095406f88);\n        \n    \n            var marker_b9e0aa8833c48688ea651910cdd9fa3c = L.marker(\n                [48.838484, 2.3150904],\n                {}\n            ).addTo(marker_cluster_e3983cba9c3bf4ceb7cd078095406f88);\n        \n    \n            var marker_1d85f93a63eb5d054a90c4e441c23df3 = L.marker(\n                [48.8547869, 2.3084819],\n                {}\n            ).addTo(marker_cluster_e3983cba9c3bf4ceb7cd078095406f88);\n        \n    \n            var marker_b7877dfb70415246c6cad293a3b917ba = L.marker(\n                [52.3595919, 4.8801587],\n                {}\n            ).addTo(marker_cluster_e3983cba9c3bf4ceb7cd078095406f88);\n        \n    \n            var marker_585edece712b175ad843a6cb54d06546 = L.marker(\n                [48.2000165, 16.3641802],\n                {}\n            ).addTo(marker_cluster_e3983cba9c3bf4ceb7cd078095406f88);\n        \n    \n            var marker_1022f52704ab7d045fb164d20256ad05 = L.marker(\n                [52.3511447, 4.8740764],\n                {}\n            ).addTo(marker_cluster_e3983cba9c3bf4ceb7cd078095406f88);\n        \n    \n            var marker_f1ee8ddea17428e4f4d0bfb7af5d6bd0 = L.marker(\n                [41.3962106, 2.1621171],\n                {}\n            ).addTo(marker_cluster_e3983cba9c3bf4ceb7cd078095406f88);\n        \n    \n            var marker_30007322ade45f6310e498e2b54fc520 = L.marker(\n                [51.507746, -0.1422993],\n                {}\n            ).addTo(marker_cluster_e3983cba9c3bf4ceb7cd078095406f88);\n        \n    \n            var marker_734cd56d3b5b06896a37235a2a6a81d3 = L.marker(\n                [45.4739801, 9.1960671],\n                {}\n            ).addTo(marker_cluster_e3983cba9c3bf4ceb7cd078095406f88);\n        \n    \n            var marker_dfdf51a57131c13415f89d86551a9450 = L.marker(\n                [45.4867005, 9.1575137],\n                {}\n            ).addTo(marker_cluster_e3983cba9c3bf4ceb7cd078095406f88);\n        \n    \n            var marker_26dec2187f8af330f2ca94035c3dae21 = L.marker(\n                [41.3799209, 2.1728181],\n                {}\n            ).addTo(marker_cluster_e3983cba9c3bf4ceb7cd078095406f88);\n        \n    \n            var marker_fe0ff984806f3bcab5e4b9fdb6fb9c4c = L.marker(\n                [48.8730437, 2.3161144],\n                {}\n            ).addTo(marker_cluster_e3983cba9c3bf4ceb7cd078095406f88);\n        \n    \n            var marker_cbccf97c848201c2aa0b690a6a02c747 = L.marker(\n                [41.3843222, 2.1712893],\n                {}\n            ).addTo(marker_cluster_e3983cba9c3bf4ceb7cd078095406f88);\n        \n    \n            var marker_1637decf6d25f4dbd08d1066d5a6b8a6 = L.marker(\n                [48.1966396, 16.3863822],\n                {}\n            ).addTo(marker_cluster_e3983cba9c3bf4ceb7cd078095406f88);\n        \n    \n            var marker_9a44f66012edf26f65950f196da765cd = L.marker(\n                [52.3781016, 4.9142508],\n                {}\n            ).addTo(marker_cluster_e3983cba9c3bf4ceb7cd078095406f88);\n        \n    \n            var marker_389e17a9a2963c30cea3cc6b5f582258 = L.marker(\n                [48.2006001, 16.3386333],\n                {}\n            ).addTo(marker_cluster_e3983cba9c3bf4ceb7cd078095406f88);\n        \n    \n            var marker_d1fe66e5caf98dd792ac88e48955d1ff = L.marker(\n                [41.3846637, 2.1740902],\n                {}\n            ).addTo(marker_cluster_e3983cba9c3bf4ceb7cd078095406f88);\n        \n    \n            var marker_c3754fe14d150af0229d95ecdeef318a = L.marker(\n                [48.87096, 2.3091617],\n                {}\n            ).addTo(marker_cluster_e3983cba9c3bf4ceb7cd078095406f88);\n        \n    \n            var marker_f1a50eed5e3462c6c69ab4d1a2970815 = L.marker(\n                [51.529257, -0.168358],\n                {}\n            ).addTo(marker_cluster_e3983cba9c3bf4ceb7cd078095406f88);\n        \n    \n            var marker_aef7e4f1e3c2af18cce602d699105742 = L.marker(\n                [51.5154006, -0.0572364],\n                {}\n            ).addTo(marker_cluster_e3983cba9c3bf4ceb7cd078095406f88);\n        \n    \n            var marker_64ad7918cf901cea161cfee396c78651 = L.marker(\n                [51.5038632, -0.1504132],\n                {}\n            ).addTo(marker_cluster_e3983cba9c3bf4ceb7cd078095406f88);\n        \n    \n            var marker_af72f9bf76f7df4227df02bda035ed21 = L.marker(\n                [51.4934752, -0.2153256],\n                {}\n            ).addTo(marker_cluster_e3983cba9c3bf4ceb7cd078095406f88);\n        \n    \n            var marker_815b65c7870a5f0a0025907a5232cacd = L.marker(\n                [48.8731996, 2.3425446],\n                {}\n            ).addTo(marker_cluster_e3983cba9c3bf4ceb7cd078095406f88);\n        \n    \n            var marker_ed075958338b2d434dc3bbe37acb88f2 = L.marker(\n                [48.2062268, 16.3833767],\n                {}\n            ).addTo(marker_cluster_e3983cba9c3bf4ceb7cd078095406f88);\n        \n    \n            var marker_2bfce3219838a078f0a4a0489c97f7da = L.marker(\n                [45.4826692, 9.2034371],\n                {}\n            ).addTo(marker_cluster_e3983cba9c3bf4ceb7cd078095406f88);\n        \n    \n            var marker_6815fc5368a7a0e3a131c38e451f6fa1 = L.marker(\n                [45.4720654, 9.0777871],\n                {}\n            ).addTo(marker_cluster_e3983cba9c3bf4ceb7cd078095406f88);\n        \n    \n            var marker_c55a34fb611e621d582b1a72184b92eb = L.marker(\n                [48.2178332, 16.3821636],\n                {}\n            ).addTo(marker_cluster_e3983cba9c3bf4ceb7cd078095406f88);\n        \n    \n            var marker_a7c9140ab26aa506a4f4daa0b9d58004 = L.marker(\n                [41.3894654, 2.1662651],\n                {}\n            ).addTo(marker_cluster_e3983cba9c3bf4ceb7cd078095406f88);\n        \n    \n            var marker_952dc5f956192d6d656205d8a4a7ceba = L.marker(\n                [41.3861459, 2.1711594],\n                {}\n            ).addTo(marker_cluster_e3983cba9c3bf4ceb7cd078095406f88);\n        \n    \n            var marker_18249c723fd63eea9ce684c74243a966 = L.marker(\n                [52.3451511, 4.9252372],\n                {}\n            ).addTo(marker_cluster_e3983cba9c3bf4ceb7cd078095406f88);\n        \n    \n            var marker_0bf80dd333dd61e1d89621d9e55a730e = L.marker(\n                [41.3283758, 2.1129638],\n                {}\n            ).addTo(marker_cluster_e3983cba9c3bf4ceb7cd078095406f88);\n        \n    \n            var marker_4446726bfbe133c154309077edf52fba = L.marker(\n                [41.3910786, 2.1717285],\n                {}\n            ).addTo(marker_cluster_e3983cba9c3bf4ceb7cd078095406f88);\n        \n    \n            var marker_7b6c831fd89690479e9fe5d3c4a8b616 = L.marker(\n                [51.4689559, -0.1787256],\n                {}\n            ).addTo(marker_cluster_e3983cba9c3bf4ceb7cd078095406f88);\n        \n    \n            var marker_be92cba800410fe351ad626e9de143a6 = L.marker(\n                [51.5322508, -0.1095714],\n                {}\n            ).addTo(marker_cluster_e3983cba9c3bf4ceb7cd078095406f88);\n        \n    \n            var marker_faa5d4344d48747db619098d67fdea5d = L.marker(\n                [48.8969854, 2.3852745],\n                {}\n            ).addTo(marker_cluster_e3983cba9c3bf4ceb7cd078095406f88);\n        \n    \n            var marker_b2aba818556bcc331b370ff4c2ce74f7 = L.marker(\n                [51.5104624, -0.0795502],\n                {}\n            ).addTo(marker_cluster_e3983cba9c3bf4ceb7cd078095406f88);\n        \n    \n            var marker_5097f589e3277970593d1333a3625e94 = L.marker(\n                [48.2051299, 16.369036],\n                {}\n            ).addTo(marker_cluster_e3983cba9c3bf4ceb7cd078095406f88);\n        \n    \n            var marker_d342ad3b3fba1ff9bd82417b05dfea46 = L.marker(\n                [48.2121772, 16.3680771],\n                {}\n            ).addTo(marker_cluster_e3983cba9c3bf4ceb7cd078095406f88);\n        \n    \n            var marker_9d69f85c8d72f45607c68d043a118b02 = L.marker(\n                [48.2082215, 16.3751842],\n                {}\n            ).addTo(marker_cluster_e3983cba9c3bf4ceb7cd078095406f88);\n        \n    \n            var marker_9ef721bdf0de0421dd62b6c82af08ab5 = L.marker(\n                [48.1940487, 16.2971831],\n                {}\n            ).addTo(marker_cluster_e3983cba9c3bf4ceb7cd078095406f88);\n        \n    \n            var marker_343999af5086409b3a1a32f01a0d16e0 = L.marker(\n                [51.4913737, -0.1214194],\n                {}\n            ).addTo(marker_cluster_e3983cba9c3bf4ceb7cd078095406f88);\n        \n    \n            var marker_1231a2d23f544af2893fcb5a2813a4cb = L.marker(\n                [51.480672, -0.0071375],\n                {}\n            ).addTo(marker_cluster_e3983cba9c3bf4ceb7cd078095406f88);\n        \n    \n            var marker_963686fbe20b7d19008fa2ee94ca20f0 = L.marker(\n                [41.3935497, 2.1627098],\n                {}\n            ).addTo(marker_cluster_e3983cba9c3bf4ceb7cd078095406f88);\n        \n    \n            var marker_91b6d9a69e092551fd1ba9148d17fb54 = L.marker(\n                [41.38793, 2.1568061],\n                {}\n            ).addTo(marker_cluster_e3983cba9c3bf4ceb7cd078095406f88);\n        \n    \n            var marker_5cd8575980217afdda005eac9736e4b7 = L.marker(\n                [48.8500283, 2.2834126],\n                {}\n            ).addTo(marker_cluster_e3983cba9c3bf4ceb7cd078095406f88);\n        \n    \n            var marker_899a37b2f4715f0916e66fef121d95a1 = L.marker(\n                [48.8750119, 2.3416769],\n                {}\n            ).addTo(marker_cluster_e3983cba9c3bf4ceb7cd078095406f88);\n        \n    \n            var marker_185107cebd214e0d809e697fafa9a91f = L.marker(\n                [48.8648656, 2.3295756],\n                {}\n            ).addTo(marker_cluster_e3983cba9c3bf4ceb7cd078095406f88);\n        \n    \n            var marker_d38504affe2dad2ebe3805f03f4b3bb8 = L.marker(\n                [51.511879, -0.118552],\n                {}\n            ).addTo(marker_cluster_e3983cba9c3bf4ceb7cd078095406f88);\n        \n    \n            var marker_1898e3448b117ab8318e880d75a22585 = L.marker(\n                [48.8494851, 2.2955063],\n                {}\n            ).addTo(marker_cluster_e3983cba9c3bf4ceb7cd078095406f88);\n        \n    \n            var marker_f79a5a78752176479e7d4dc382fcfc3d = L.marker(\n                [45.4837173, 9.1649371],\n                {}\n            ).addTo(marker_cluster_e3983cba9c3bf4ceb7cd078095406f88);\n        \n    \n            var marker_8b0932f27cf21a665a1b2d98643269b2 = L.marker(\n                [48.8869128, 2.3004034],\n                {}\n            ).addTo(marker_cluster_e3983cba9c3bf4ceb7cd078095406f88);\n        \n    \n            var marker_6010e0f448ff8ee3f40b8da628c6881b = L.marker(\n                [51.5421476, -0.1703073],\n                {}\n            ).addTo(marker_cluster_e3983cba9c3bf4ceb7cd078095406f88);\n        \n    \n            var marker_81aac8e16f90055a8c12958e56d173d2 = L.marker(\n                [51.4981471, -0.1436492],\n                {}\n            ).addTo(marker_cluster_e3983cba9c3bf4ceb7cd078095406f88);\n        \n    \n            var marker_7cf8002294c6e477b76e216ea965d4d0 = L.marker(\n                [51.5014191, -0.1625805],\n                {}\n            ).addTo(marker_cluster_e3983cba9c3bf4ceb7cd078095406f88);\n        \n    \n            var marker_5f87bcbea858cc82380912c71fa008d2 = L.marker(\n                [45.4787357, 9.2041131],\n                {}\n            ).addTo(marker_cluster_e3983cba9c3bf4ceb7cd078095406f88);\n        \n    \n            var marker_6f22289b6bccf01a746e45001fb1ac8e = L.marker(\n                [41.3875467, 2.1673975],\n                {}\n            ).addTo(marker_cluster_e3983cba9c3bf4ceb7cd078095406f88);\n        \n    \n            var marker_7cdc3dc57ac2f842773f005397beab5b = L.marker(\n                [48.8743885, 2.2980915],\n                {}\n            ).addTo(marker_cluster_e3983cba9c3bf4ceb7cd078095406f88);\n        \n    \n            var marker_c0dd7f071d442c0e49dd2c8029bce708 = L.marker(\n                [51.5188555, -0.1319172],\n                {}\n            ).addTo(marker_cluster_e3983cba9c3bf4ceb7cd078095406f88);\n        \n    \n            var marker_c354ddf083a8b327bd7598b0c9121261 = L.marker(\n                [48.8382943, 2.3210421],\n                {}\n            ).addTo(marker_cluster_e3983cba9c3bf4ceb7cd078095406f88);\n        \n    \n            var marker_71961194118ece4ae42eb9c1853f22f2 = L.marker(\n                [41.3841429, 2.1616896],\n                {}\n            ).addTo(marker_cluster_e3983cba9c3bf4ceb7cd078095406f88);\n        \n    \n            var marker_2e8ed511df4afd0447948384ddd947ed = L.marker(\n                [48.1935235, 16.3669145],\n                {}\n            ).addTo(marker_cluster_e3983cba9c3bf4ceb7cd078095406f88);\n        \n    \n            var marker_114454a7adfad40b52e68ed4c389f5dc = L.marker(\n                [48.8654532, 2.3295231],\n                {}\n            ).addTo(marker_cluster_e3983cba9c3bf4ceb7cd078095406f88);\n        \n    \n            var marker_805c4e7bef6163a495623479a563b05b = L.marker(\n                [41.3866227, 2.1840722],\n                {}\n            ).addTo(marker_cluster_e3983cba9c3bf4ceb7cd078095406f88);\n        \n    \n            var marker_f03a047018526f64724d696061cbfeaf = L.marker(\n                [51.5220522, -0.132414],\n                {}\n            ).addTo(marker_cluster_e3983cba9c3bf4ceb7cd078095406f88);\n        \n    \n            var marker_3dfedc2406e7a33b5dbfba7233075efb = L.marker(\n                [48.2080479, 16.375612],\n                {}\n            ).addTo(marker_cluster_e3983cba9c3bf4ceb7cd078095406f88);\n        \n    \n            var marker_84e105364ee451c4649a256fb0fbf5cb = L.marker(\n                [45.4857027, 9.2020127],\n                {}\n            ).addTo(marker_cluster_e3983cba9c3bf4ceb7cd078095406f88);\n        \n    \n            var marker_2df98a3949b3aa11527c9dd0e8e2f67d = L.marker(\n                [41.3946775, 2.162638],\n                {}\n            ).addTo(marker_cluster_e3983cba9c3bf4ceb7cd078095406f88);\n        \n    \n            var marker_368af25777bba17c5fb10af22af50e29 = L.marker(\n                [48.8752568, 2.3233687],\n                {}\n            ).addTo(marker_cluster_e3983cba9c3bf4ceb7cd078095406f88);\n        \n    \n            var marker_b36ac4322d97998670d5eb94f09193ad = L.marker(\n                [51.5188, -0.153839],\n                {}\n            ).addTo(marker_cluster_e3983cba9c3bf4ceb7cd078095406f88);\n        \n    \n            var marker_a3c66c5a977026707f18b07e4522d9b9 = L.marker(\n                [48.1945774, 16.346356],\n                {}\n            ).addTo(marker_cluster_e3983cba9c3bf4ceb7cd078095406f88);\n        \n    \n            var marker_c2dfa990470d095f8e4678013b5e39a4 = L.marker(\n                [45.4896727, 9.2006406],\n                {}\n            ).addTo(marker_cluster_e3983cba9c3bf4ceb7cd078095406f88);\n        \n    \n            var marker_2ae1bef9d957a0c5c4cd6f3489ba95b3 = L.marker(\n                [51.5147071, -0.1578291],\n                {}\n            ).addTo(marker_cluster_e3983cba9c3bf4ceb7cd078095406f88);\n        \n    \n            var marker_d45374811c5876291cf4a3e52596265e = L.marker(\n                [45.49952, 9.206138],\n                {}\n            ).addTo(marker_cluster_e3983cba9c3bf4ceb7cd078095406f88);\n        \n    \n            var marker_99141957368c36b1e82f26ef017a7eb8 = L.marker(\n                [51.4903724, -0.1459218],\n                {}\n            ).addTo(marker_cluster_e3983cba9c3bf4ceb7cd078095406f88);\n        \n    \n            var marker_baa32a5c6bd99374b4a241fa0313f69a = L.marker(\n                [52.3681919, 4.8957609],\n                {}\n            ).addTo(marker_cluster_e3983cba9c3bf4ceb7cd078095406f88);\n        \n    \n            var marker_9812189fd12a7f4e6ed826a97fc3d937 = L.marker(\n                [51.519616, -0.1218432],\n                {}\n            ).addTo(marker_cluster_e3983cba9c3bf4ceb7cd078095406f88);\n        \n    \n            var marker_ee57823fb77d41ec8eead8f4f0a5098f = L.marker(\n                [48.8668048, 2.3039465],\n                {}\n            ).addTo(marker_cluster_e3983cba9c3bf4ceb7cd078095406f88);\n        \n    \n            var marker_e7f15ab3d420ccbfe8cd88e5c1012df2 = L.marker(\n                [45.4644348, 9.1952727],\n                {}\n            ).addTo(marker_cluster_e3983cba9c3bf4ceb7cd078095406f88);\n        \n    \n            var marker_c48b546dcf1599e0b636343aef312511 = L.marker(\n                [51.5128032, -0.07586],\n                {}\n            ).addTo(marker_cluster_e3983cba9c3bf4ceb7cd078095406f88);\n        \n    \n            var marker_052dc493daa64d0d4b9fe0a1be7845ec = L.marker(\n                [51.5092876, -0.1370062],\n                {}\n            ).addTo(marker_cluster_e3983cba9c3bf4ceb7cd078095406f88);\n        \n    \n            var marker_6c4f5dc8e840a7e4d96c710ae29ac6f9 = L.marker(\n                [48.24606, 16.34101],\n                {}\n            ).addTo(marker_cluster_e3983cba9c3bf4ceb7cd078095406f88);\n        \n    \n            var marker_47d80e50c7949febad551a279ab9baa3 = L.marker(\n                [52.3786823, 4.8207833],\n                {}\n            ).addTo(marker_cluster_e3983cba9c3bf4ceb7cd078095406f88);\n        \n    \n            var marker_8a1389f639573c41763957685e4b8553 = L.marker(\n                [41.3927101, 2.1722139],\n                {}\n            ).addTo(marker_cluster_e3983cba9c3bf4ceb7cd078095406f88);\n        \n    \n            var marker_cb4be820d4cdb556b9672f9d6b2fb74f = L.marker(\n                [48.21341, 16.37988],\n                {}\n            ).addTo(marker_cluster_e3983cba9c3bf4ceb7cd078095406f88);\n        \n    \n            var marker_2c287b116aad14e2518d1a53304d5b73 = L.marker(\n                [41.4047382, 2.1727127],\n                {}\n            ).addTo(marker_cluster_e3983cba9c3bf4ceb7cd078095406f88);\n        \n    \n            var marker_b3a78dc844854a4791c7436d869eaabc = L.marker(\n                [51.4919083, -0.1684398],\n                {}\n            ).addTo(marker_cluster_e3983cba9c3bf4ceb7cd078095406f88);\n        \n    \n            var marker_d564a3fc25ca857d821d88f77e810483 = L.marker(\n                [51.4948416, -0.1772056],\n                {}\n            ).addTo(marker_cluster_e3983cba9c3bf4ceb7cd078095406f88);\n        \n    \n            var marker_4e132d217fadd2c57e6644f6a497e667 = L.marker(\n                [45.484237, 9.198858],\n                {}\n            ).addTo(marker_cluster_e3983cba9c3bf4ceb7cd078095406f88);\n        \n    \n            var marker_2aaeb238b92b671bb3dd24fadd777c9c = L.marker(\n                [52.3466449, 4.8310984],\n                {}\n            ).addTo(marker_cluster_e3983cba9c3bf4ceb7cd078095406f88);\n        \n    \n            var marker_95adaede4ab81ffc8d167b79688fe07a = L.marker(\n                [48.2104468, 16.3715781],\n                {}\n            ).addTo(marker_cluster_e3983cba9c3bf4ceb7cd078095406f88);\n        \n    \n            var marker_74c8468fa490f391a12ae462cb28250f = L.marker(\n                [48.8315204, 2.3870797],\n                {}\n            ).addTo(marker_cluster_e3983cba9c3bf4ceb7cd078095406f88);\n        \n    \n            var marker_774777d3a0e40b85e5c2ffd203e40163 = L.marker(\n                [48.8732068, 2.3239015],\n                {}\n            ).addTo(marker_cluster_e3983cba9c3bf4ceb7cd078095406f88);\n        \n    \n            var marker_e824960caaa51c50cd612d87eef27ebc = L.marker(\n                [41.3861283, 2.1745291],\n                {}\n            ).addTo(marker_cluster_e3983cba9c3bf4ceb7cd078095406f88);\n        \n    \n            var marker_92f7d35a60cf6e1cd2155dddba7cbb94 = L.marker(\n                [45.4501306, 9.1696481],\n                {}\n            ).addTo(marker_cluster_e3983cba9c3bf4ceb7cd078095406f88);\n        \n    \n            var marker_63675eabe7135b76e54254f83c43cfdd = L.marker(\n                [51.4943077, -0.1755579],\n                {}\n            ).addTo(marker_cluster_e3983cba9c3bf4ceb7cd078095406f88);\n        \n    \n            var marker_f2b436445bf58415bdda8ad0f8506e12 = L.marker(\n                [48.8714152, 2.3239679],\n                {}\n            ).addTo(marker_cluster_e3983cba9c3bf4ceb7cd078095406f88);\n        \n    \n            var marker_bb1e002d3c6c7801ec69d7bb1b5fea25 = L.marker(\n                [52.3727067, 4.8943658],\n                {}\n            ).addTo(marker_cluster_e3983cba9c3bf4ceb7cd078095406f88);\n        \n    \n            var marker_b1e598bd1cce192d086c93aa28e1a8a0 = L.marker(\n                [48.8562725, 2.3660412],\n                {}\n            ).addTo(marker_cluster_e3983cba9c3bf4ceb7cd078095406f88);\n        \n    \n            var marker_24f085e7d29ba6715f1367fba2f34aba = L.marker(\n                [51.5055513, -0.1501698],\n                {}\n            ).addTo(marker_cluster_e3983cba9c3bf4ceb7cd078095406f88);\n        \n    \n            var marker_ba3e9139f84f92fd97ecde9e8b05173a = L.marker(\n                [48.849758, 2.3095213],\n                {}\n            ).addTo(marker_cluster_e3983cba9c3bf4ceb7cd078095406f88);\n        \n    \n            var marker_11e5b649611be4a8bd48f77741fe1477 = L.marker(\n                [45.4408963, 9.1728003],\n                {}\n            ).addTo(marker_cluster_e3983cba9c3bf4ceb7cd078095406f88);\n        \n    \n            var marker_f3bcf9478cd0653480a3589b309b3bee = L.marker(\n                [41.4038774, 2.1911894],\n                {}\n            ).addTo(marker_cluster_e3983cba9c3bf4ceb7cd078095406f88);\n        \n    \n            var marker_1e36e1c8d37cc3e5e5beb752e681690e = L.marker(\n                [45.4510397, 9.1920911],\n                {}\n            ).addTo(marker_cluster_e3983cba9c3bf4ceb7cd078095406f88);\n        \n    \n            var marker_05b4cc99c967f7dfaf471e70a3725f73 = L.marker(\n                [51.4942654, -0.1366026],\n                {}\n            ).addTo(marker_cluster_e3983cba9c3bf4ceb7cd078095406f88);\n        \n    \n            var marker_6be52c244809f7dbcd8b9df713706687 = L.marker(\n                [51.5101462, -0.1315061],\n                {}\n            ).addTo(marker_cluster_e3983cba9c3bf4ceb7cd078095406f88);\n        \n    \n            var marker_d0553aaba973299073426a296ec14a50 = L.marker(\n                [48.8753359, 2.3414617],\n                {}\n            ).addTo(marker_cluster_e3983cba9c3bf4ceb7cd078095406f88);\n        \n    \n            var marker_9b1a780de26345007bc782a8892d9fd8 = L.marker(\n                [41.3935591, 2.1993915],\n                {}\n            ).addTo(marker_cluster_e3983cba9c3bf4ceb7cd078095406f88);\n        \n    \n            var marker_441e2f20eb87e6eaff403689329d93c3 = L.marker(\n                [48.2044655, 16.3702399],\n                {}\n            ).addTo(marker_cluster_e3983cba9c3bf4ceb7cd078095406f88);\n        \n    \n            var marker_3c95a2aab7b70b62b4e942b69e135547 = L.marker(\n                [41.378751, 2.17873],\n                {}\n            ).addTo(marker_cluster_e3983cba9c3bf4ceb7cd078095406f88);\n        \n    \n            var marker_aa985fbcfb10602f0632fd85ba3536fa = L.marker(\n                [51.5144418, -0.146432],\n                {}\n            ).addTo(marker_cluster_e3983cba9c3bf4ceb7cd078095406f88);\n        \n    \n            var marker_95a267609a47537b21aabf675dc061ee = L.marker(\n                [41.3832414, 2.1685298],\n                {}\n            ).addTo(marker_cluster_e3983cba9c3bf4ceb7cd078095406f88);\n        \n    \n            var marker_735f7f1fcf6a13f8ca125c49d13a89fd = L.marker(\n                [51.4930097, -0.159715],\n                {}\n            ).addTo(marker_cluster_e3983cba9c3bf4ceb7cd078095406f88);\n        \n    \n            var marker_05bf36860b24bbf98f623304be50e04f = L.marker(\n                [41.3962658, 2.1662153],\n                {}\n            ).addTo(marker_cluster_e3983cba9c3bf4ceb7cd078095406f88);\n        \n    \n            var marker_77138ea1f3231d349be37493809d8afc = L.marker(\n                [48.8675674, 2.3539896],\n                {}\n            ).addTo(marker_cluster_e3983cba9c3bf4ceb7cd078095406f88);\n        \n    \n            var marker_f0c6a6b05e103c1d85ba4f37066f5082 = L.marker(\n                [51.5218066, -0.0856081],\n                {}\n            ).addTo(marker_cluster_e3983cba9c3bf4ceb7cd078095406f88);\n        \n    \n            var marker_df7231ad575acd38c99b881231853909 = L.marker(\n                [48.8757155, 2.3038781],\n                {}\n            ).addTo(marker_cluster_e3983cba9c3bf4ceb7cd078095406f88);\n        \n    \n            var marker_0542d3ea106e45bfa47607d5d58a8e38 = L.marker(\n                [48.2097026, 16.3703902],\n                {}\n            ).addTo(marker_cluster_e3983cba9c3bf4ceb7cd078095406f88);\n        \n    \n            var marker_8cc815046a67d5d2335bc4435a068121 = L.marker(\n                [41.384829, 2.1751277],\n                {}\n            ).addTo(marker_cluster_e3983cba9c3bf4ceb7cd078095406f88);\n        \n    \n            var marker_ddfdc7fb33e256bc9b88a25e3e6dce71 = L.marker(\n                [41.3799929, 2.1748256],\n                {}\n            ).addTo(marker_cluster_e3983cba9c3bf4ceb7cd078095406f88);\n        \n    \n            var marker_6a872ee1b5536400c00e4f14c416b9aa = L.marker(\n                [45.4651371, 9.1895249],\n                {}\n            ).addTo(marker_cluster_e3983cba9c3bf4ceb7cd078095406f88);\n        \n    \n            var marker_9fbd92a1295d28ed6e71124be8a9748a = L.marker(\n                [41.3810421, 2.1814294],\n                {}\n            ).addTo(marker_cluster_e3983cba9c3bf4ceb7cd078095406f88);\n        \n    \n            var marker_9d6e683f23d642d6f0015ccda422cd6d = L.marker(\n                [48.2026449, 16.3671054],\n                {}\n            ).addTo(marker_cluster_e3983cba9c3bf4ceb7cd078095406f88);\n        \n    \n            var marker_730e32b89be534f479b55a63e48651e2 = L.marker(\n                [51.4703604, -0.1779869],\n                {}\n            ).addTo(marker_cluster_e3983cba9c3bf4ceb7cd078095406f88);\n        \n    \n            var marker_d5f77df19c6f02a85fddcefe93067953 = L.marker(\n                [48.2112491, 16.3776519],\n                {}\n            ).addTo(marker_cluster_e3983cba9c3bf4ceb7cd078095406f88);\n        \n    \n            var marker_10597386a6d64a94ff3ff63132cc1331 = L.marker(\n                [41.3747873, 2.1611846],\n                {}\n            ).addTo(marker_cluster_e3983cba9c3bf4ceb7cd078095406f88);\n        \n    \n            var marker_1a8194e8f2717573513da42e08adebe1 = L.marker(\n                [45.4510425, 9.1606536],\n                {}\n            ).addTo(marker_cluster_e3983cba9c3bf4ceb7cd078095406f88);\n        \n    \n            var marker_5db66c3ce4ae5a80fcc7e0d2280f2e56 = L.marker(\n                [48.8346811, 2.3255098],\n                {}\n            ).addTo(marker_cluster_e3983cba9c3bf4ceb7cd078095406f88);\n        \n    \n            var marker_978b14be3afb1e88a5af24fc04b7f80f = L.marker(\n                [51.5243286, -0.1846623],\n                {}\n            ).addTo(marker_cluster_e3983cba9c3bf4ceb7cd078095406f88);\n        \n    \n            var marker_43688f60f9a92996511a71a7c1703ab6 = L.marker(\n                [48.8701247, 2.311141],\n                {}\n            ).addTo(marker_cluster_e3983cba9c3bf4ceb7cd078095406f88);\n        \n    \n            var marker_18266f4515643a6741ef6dcc8860002c = L.marker(\n                [52.364971, 4.8839827],\n                {}\n            ).addTo(marker_cluster_e3983cba9c3bf4ceb7cd078095406f88);\n        \n    \n            var marker_74b6fdb4c821e05e82def057dc18abfd = L.marker(\n                [48.8758981, 2.3590504],\n                {}\n            ).addTo(marker_cluster_e3983cba9c3bf4ceb7cd078095406f88);\n        \n    \n            var marker_14c37064e9344a7f0f96bf3832c51232 = L.marker(\n                [51.5139315, -0.1219893],\n                {}\n            ).addTo(marker_cluster_e3983cba9c3bf4ceb7cd078095406f88);\n        \n    \n            var marker_f6e81a2ffc12ebf4de1601c319b79913 = L.marker(\n                [48.8966167, 2.3434843],\n                {}\n            ).addTo(marker_cluster_e3983cba9c3bf4ceb7cd078095406f88);\n        \n    \n            var marker_ef73b9921a795aa9fed4a8c3fbc616f0 = L.marker(\n                [51.5182768, -0.1583511],\n                {}\n            ).addTo(marker_cluster_e3983cba9c3bf4ceb7cd078095406f88);\n        \n    \n            var marker_d9cb778ed359c166f5f671991866fbb7 = L.marker(\n                [51.4958184, -0.1813958],\n                {}\n            ).addTo(marker_cluster_e3983cba9c3bf4ceb7cd078095406f88);\n        \n    \n            var marker_ebcd4988f6a6d676bde0fd30d62ad5be = L.marker(\n                [52.3735266, 4.8933041],\n                {}\n            ).addTo(marker_cluster_e3983cba9c3bf4ceb7cd078095406f88);\n        \n    \n            var marker_ab99cb22defc7efe1ea9981c9f1dbd8a = L.marker(\n                [52.373704, 4.893591],\n                {}\n            ).addTo(marker_cluster_e3983cba9c3bf4ceb7cd078095406f88);\n        \n    \n            var marker_429267a97bcd078e7be64d0587e32461 = L.marker(\n                [48.8483053, 2.3425596],\n                {}\n            ).addTo(marker_cluster_e3983cba9c3bf4ceb7cd078095406f88);\n        \n    \n            var marker_0d1abda9b444800ab7f69a839473843d = L.marker(\n                [41.393599, 2.1684151],\n                {}\n            ).addTo(marker_cluster_e3983cba9c3bf4ceb7cd078095406f88);\n        \n    \n            var marker_66dfa1d6b4ab98318379f04d85dc1a8e = L.marker(\n                [41.3880549, 2.1599602],\n                {}\n            ).addTo(marker_cluster_e3983cba9c3bf4ceb7cd078095406f88);\n        \n    \n            var marker_ebe6f43146f8aded75c272424adbdaa8 = L.marker(\n                [48.8686434, 2.2984054],\n                {}\n            ).addTo(marker_cluster_e3983cba9c3bf4ceb7cd078095406f88);\n        \n    \n            var marker_0097ef71ea649ee9c7c92ea0cf7068dc = L.marker(\n                [48.2195864, 16.3255339],\n                {}\n            ).addTo(marker_cluster_e3983cba9c3bf4ceb7cd078095406f88);\n        \n    \n            var marker_ae5c4b8ced2a9ee0762b80c57bd872a8 = L.marker(\n                [51.5143447, -0.1318157],\n                {}\n            ).addTo(marker_cluster_e3983cba9c3bf4ceb7cd078095406f88);\n        \n    \n            var marker_201af5035f8feca79fd5f7a813ce0aab = L.marker(\n                [52.3613814, 4.8832594],\n                {}\n            ).addTo(marker_cluster_e3983cba9c3bf4ceb7cd078095406f88);\n        \n    \n            var marker_04f8f8cb6d5044c2f888b2b20c0d9c02 = L.marker(\n                [48.1950444, 16.3844751],\n                {}\n            ).addTo(marker_cluster_e3983cba9c3bf4ceb7cd078095406f88);\n        \n    \n            var marker_c4e06e2e76458e24d1e06a79fb708eb1 = L.marker(\n                [51.4945522, -0.1861213],\n                {}\n            ).addTo(marker_cluster_e3983cba9c3bf4ceb7cd078095406f88);\n        \n    \n            var marker_9561a2986580617740f40a3c141c34fe = L.marker(\n                [41.3907821, 2.1717426],\n                {}\n            ).addTo(marker_cluster_e3983cba9c3bf4ceb7cd078095406f88);\n        \n    \n            var marker_fd26e878eff18816ce5b9542dfb74284 = L.marker(\n                [51.5171671, -0.1290534],\n                {}\n            ).addTo(marker_cluster_e3983cba9c3bf4ceb7cd078095406f88);\n        \n    \n            var marker_20897eaead5a84db48703a72ed28c3c0 = L.marker(\n                [48.8593152, 2.3104179],\n                {}\n            ).addTo(marker_cluster_e3983cba9c3bf4ceb7cd078095406f88);\n        \n    \n            var marker_dd98e786d52c3d99e0da1431882f19cd = L.marker(\n                [51.5289499, -0.1232979],\n                {}\n            ).addTo(marker_cluster_e3983cba9c3bf4ceb7cd078095406f88);\n        \n    \n            var marker_87faeed7a4ac3a4be24d34625b65ee3b = L.marker(\n                [51.4959227, -0.1702917],\n                {}\n            ).addTo(marker_cluster_e3983cba9c3bf4ceb7cd078095406f88);\n        \n    \n            var marker_b421a5f7e987fddf46bbc44ef58cb7a2 = L.marker(\n                [48.2155236, 16.3646858],\n                {}\n            ).addTo(marker_cluster_e3983cba9c3bf4ceb7cd078095406f88);\n        \n    \n            var marker_65dac1cf41bb31d969134e95783336ce = L.marker(\n                [45.465957, 9.192297],\n                {}\n            ).addTo(marker_cluster_e3983cba9c3bf4ceb7cd078095406f88);\n        \n    \n            var marker_3bee062679a0a438db42f785945997ff = L.marker(\n                [48.8814425, 2.3235592],\n                {}\n            ).addTo(marker_cluster_e3983cba9c3bf4ceb7cd078095406f88);\n        \n    \n            var marker_570dc2aac4e437f10ab0bf9c558b175b = L.marker(\n                [48.2163343, 16.3595536],\n                {}\n            ).addTo(marker_cluster_e3983cba9c3bf4ceb7cd078095406f88);\n        \n    \n            var marker_5079ab044c51895df4284d395829c0c6 = L.marker(\n                [41.3919083, 2.1573318],\n                {}\n            ).addTo(marker_cluster_e3983cba9c3bf4ceb7cd078095406f88);\n        \n    \n            var marker_c35f03c3048f8a1047a39b2b3f6ce004 = L.marker(\n                [41.3885658, 2.1712991],\n                {}\n            ).addTo(marker_cluster_e3983cba9c3bf4ceb7cd078095406f88);\n        \n    \n            var marker_f7ba471af24f183a8a55e090c30cd381 = L.marker(\n                [41.4337561, 2.147327],\n                {}\n            ).addTo(marker_cluster_e3983cba9c3bf4ceb7cd078095406f88);\n        \n    \n            var marker_d2ed7b9ca24bbb849477c20aa597a25a = L.marker(\n                [45.4921089, 9.1476806],\n                {}\n            ).addTo(marker_cluster_e3983cba9c3bf4ceb7cd078095406f88);\n        \n    \n            var marker_b590d93dffbe6518a11bf296e8186f52 = L.marker(\n                [48.8570275, 2.3170282],\n                {}\n            ).addTo(marker_cluster_e3983cba9c3bf4ceb7cd078095406f88);\n        \n    \n            var marker_0f29d7a27cfe99df5fe74b2d5d1f893e = L.marker(\n                [51.475172, -0.1870629],\n                {}\n            ).addTo(marker_cluster_e3983cba9c3bf4ceb7cd078095406f88);\n        \n    \n            var marker_deff8ca6f68a609d51c4157b67e9bf1a = L.marker(\n                [48.2071576, 16.3765913],\n                {}\n            ).addTo(marker_cluster_e3983cba9c3bf4ceb7cd078095406f88);\n        \n    \n            var marker_9f33877dfb5652bc4bcc7421e486fb1e = L.marker(\n                [41.3835246, 2.1096141],\n                {}\n            ).addTo(marker_cluster_e3983cba9c3bf4ceb7cd078095406f88);\n        \n    \n            var marker_352886bb82bd0bb5f4026c91833dacc5 = L.marker(\n                [51.5100362, -0.190657],\n                {}\n            ).addTo(marker_cluster_e3983cba9c3bf4ceb7cd078095406f88);\n        \n    \n            var marker_88e218acea926e645dacbc38b42d080c = L.marker(\n                [51.5124496, -0.1795215],\n                {}\n            ).addTo(marker_cluster_e3983cba9c3bf4ceb7cd078095406f88);\n        \n    \n            var marker_686f6940ed5f14e51831f2c98abddbf3 = L.marker(\n                [51.5273442, -0.0796152],\n                {}\n            ).addTo(marker_cluster_e3983cba9c3bf4ceb7cd078095406f88);\n        \n    \n            var marker_a4e25ed6215fe15c262f480e826bfe61 = L.marker(\n                [48.2273013, 16.4001791],\n                {}\n            ).addTo(marker_cluster_e3983cba9c3bf4ceb7cd078095406f88);\n        \n    \n            var marker_1fbdb2040885918383377ed9c9e00015 = L.marker(\n                [41.3901396, 2.1696699],\n                {}\n            ).addTo(marker_cluster_e3983cba9c3bf4ceb7cd078095406f88);\n        \n    \n            var marker_13af8fb2b99454fa19d5db6e6bcd645e = L.marker(\n                [48.874853, 2.3245798],\n                {}\n            ).addTo(marker_cluster_e3983cba9c3bf4ceb7cd078095406f88);\n        \n    \n            var marker_14b705d50d77b2ab254890e3d0428033 = L.marker(\n                [45.502453, 9.2218364],\n                {}\n            ).addTo(marker_cluster_e3983cba9c3bf4ceb7cd078095406f88);\n        \n    \n            var marker_003ae7fe05b7babf8b7b633fcd5fb29d = L.marker(\n                [51.509133, -0.130189],\n                {}\n            ).addTo(marker_cluster_e3983cba9c3bf4ceb7cd078095406f88);\n        \n    \n            var marker_4889367dfc3b9cb65db8b2f1d68386c1 = L.marker(\n                [51.5119446, -0.179939],\n                {}\n            ).addTo(marker_cluster_e3983cba9c3bf4ceb7cd078095406f88);\n        \n    \n            var marker_13d0569998c5802866f6ca0584fc4422 = L.marker(\n                [51.5186801, -0.1354055],\n                {}\n            ).addTo(marker_cluster_e3983cba9c3bf4ceb7cd078095406f88);\n        \n    \n            var marker_1a6dddd04e0ba84e27982dab4ded9ad2 = L.marker(\n                [41.3899609, 2.135684],\n                {}\n            ).addTo(marker_cluster_e3983cba9c3bf4ceb7cd078095406f88);\n        \n    \n            var marker_f14b31351115965cec97e9c2fe9d75fb = L.marker(\n                [48.2340799, 16.4210093],\n                {}\n            ).addTo(marker_cluster_e3983cba9c3bf4ceb7cd078095406f88);\n        \n    \n            var marker_517b0600ebf3817d005db6521c5917a9 = L.marker(\n                [41.380939, 2.1796095],\n                {}\n            ).addTo(marker_cluster_e3983cba9c3bf4ceb7cd078095406f88);\n        \n    \n            var marker_5c9e2a4c06033001f461f830e5874e14 = L.marker(\n                [51.5090558, -0.1421661],\n                {}\n            ).addTo(marker_cluster_e3983cba9c3bf4ceb7cd078095406f88);\n        \n    \n            var marker_a89b7401046492055a0a013830cf127e = L.marker(\n                [48.8691686, 2.3337818],\n                {}\n            ).addTo(marker_cluster_e3983cba9c3bf4ceb7cd078095406f88);\n        \n    \n            var marker_fdf396a508890024b794e19fdf80766c = L.marker(\n                [45.4471408, 9.2070051],\n                {}\n            ).addTo(marker_cluster_e3983cba9c3bf4ceb7cd078095406f88);\n        \n    \n            var marker_2f268231b512eb81e8c783b7c573b046 = L.marker(\n                [48.8396623, 2.3300582],\n                {}\n            ).addTo(marker_cluster_e3983cba9c3bf4ceb7cd078095406f88);\n        \n    \n            var marker_740c866940b0518ddf411d1fbe8e07a1 = L.marker(\n                [41.384591, 2.1378107],\n                {}\n            ).addTo(marker_cluster_e3983cba9c3bf4ceb7cd078095406f88);\n        \n    \n            var marker_0c23b48b577f321123171c71060542b0 = L.marker(\n                [48.8777895, 2.2872498],\n                {}\n            ).addTo(marker_cluster_e3983cba9c3bf4ceb7cd078095406f88);\n        \n    \n            var marker_930ed615cbbd72ae0e5c72597b314aa5 = L.marker(\n                [41.3780229, 2.1730782],\n                {}\n            ).addTo(marker_cluster_e3983cba9c3bf4ceb7cd078095406f88);\n        \n    \n            var marker_32c5893677eda8d92c58270b6f35caf3 = L.marker(\n                [51.4947754, -0.177789],\n                {}\n            ).addTo(marker_cluster_e3983cba9c3bf4ceb7cd078095406f88);\n        \n    \n            var marker_8a845f70b5d2b5d21e0fdfb1bc8c3c78 = L.marker(\n                [45.459485, 9.179511],\n                {}\n            ).addTo(marker_cluster_e3983cba9c3bf4ceb7cd078095406f88);\n        \n    \n            var marker_a6512ed599cea156cee437373086d6ab = L.marker(\n                [41.3916717, 2.1779135],\n                {}\n            ).addTo(marker_cluster_e3983cba9c3bf4ceb7cd078095406f88);\n        \n    \n            var marker_061bafb7284b2f69b7f0be7ac08c9bef = L.marker(\n                [48.2050967, 16.3770928],\n                {}\n            ).addTo(marker_cluster_e3983cba9c3bf4ceb7cd078095406f88);\n        \n    \n            var marker_3636bac10853798eb35bb947622b5c16 = L.marker(\n                [48.8708863, 2.3382128],\n                {}\n            ).addTo(marker_cluster_e3983cba9c3bf4ceb7cd078095406f88);\n        \n    \n            var marker_03b891588f46bfa53e740df326b4d893 = L.marker(\n                [41.368437, 2.1901534],\n                {}\n            ).addTo(marker_cluster_e3983cba9c3bf4ceb7cd078095406f88);\n        \n    \n            var marker_df4738cd58d42125e4860a656d2d1c14 = L.marker(\n                [51.5111922, -0.1194006],\n                {}\n            ).addTo(marker_cluster_e3983cba9c3bf4ceb7cd078095406f88);\n        \n    \n            var marker_244b63838d1b2e75ad74459fc8909462 = L.marker(\n                [48.8715828, 2.3224853],\n                {}\n            ).addTo(marker_cluster_e3983cba9c3bf4ceb7cd078095406f88);\n        \n    \n            var marker_afd25437253cc474a50fbc8038ec1f05 = L.marker(\n                [41.3861153, 2.1611899],\n                {}\n            ).addTo(marker_cluster_e3983cba9c3bf4ceb7cd078095406f88);\n        \n    \n            var marker_6754e58212284167a4b3ddb7b02b548d = L.marker(\n                [41.3827, 2.1791999],\n                {}\n            ).addTo(marker_cluster_e3983cba9c3bf4ceb7cd078095406f88);\n        \n    \n            var marker_ce12cc122bfb9a33a13e24df04a7b33b = L.marker(\n                [48.827388, 2.305478],\n                {}\n            ).addTo(marker_cluster_e3983cba9c3bf4ceb7cd078095406f88);\n        \n    \n            var marker_faa1a0286653332e303a92c479813e28 = L.marker(\n                [45.4611287, 9.1542675],\n                {}\n            ).addTo(marker_cluster_e3983cba9c3bf4ceb7cd078095406f88);\n        \n    \n            var marker_6d76533e5283d99b6d5349e33d65eae2 = L.marker(\n                [48.8683133, 2.3330851],\n                {}\n            ).addTo(marker_cluster_e3983cba9c3bf4ceb7cd078095406f88);\n        \n    \n            var marker_de4d6a975ed5ffa4a976728b92f5f9df = L.marker(\n                [48.8848583, 2.2997023],\n                {}\n            ).addTo(marker_cluster_e3983cba9c3bf4ceb7cd078095406f88);\n        \n    \n            var marker_5d6ee55c11cac34c46e7f546c740abd6 = L.marker(\n                [51.5291423, -0.1372782],\n                {}\n            ).addTo(marker_cluster_e3983cba9c3bf4ceb7cd078095406f88);\n        \n    \n            var marker_7d5f2198be00da97d8430d4c14a1373a = L.marker(\n                [45.4881471, 9.2016609],\n                {}\n            ).addTo(marker_cluster_e3983cba9c3bf4ceb7cd078095406f88);\n        \n    \n            var marker_bb7b3092fe6e73620b1e9c86c12396d7 = L.marker(\n                [51.5147387, -0.1341108],\n                {}\n            ).addTo(marker_cluster_e3983cba9c3bf4ceb7cd078095406f88);\n        \n    \n            var marker_fda2b555bb54840b04d3f2845bb2672a = L.marker(\n                [48.8797513, 2.2919634],\n                {}\n            ).addTo(marker_cluster_e3983cba9c3bf4ceb7cd078095406f88);\n        \n    \n            var marker_9dd0c37df7969cc8e51f0fb9be4e6acb = L.marker(\n                [51.5077459, -0.1378733],\n                {}\n            ).addTo(marker_cluster_e3983cba9c3bf4ceb7cd078095406f88);\n        \n    \n            var marker_0d9f9a604ab6bed3f1eba757b13ea9d5 = L.marker(\n                [48.863828, 2.3519345],\n                {}\n            ).addTo(marker_cluster_e3983cba9c3bf4ceb7cd078095406f88);\n        \n    \n            var marker_8b29b16fa5e4595d7266e435d1b34b6c = L.marker(\n                [45.498503, 9.1664111],\n                {}\n            ).addTo(marker_cluster_e3983cba9c3bf4ceb7cd078095406f88);\n        \n    \n            var marker_68db1a83f6d5ee2e7b8944f5fa9928d3 = L.marker(\n                [51.5205441, -0.1308091],\n                {}\n            ).addTo(marker_cluster_e3983cba9c3bf4ceb7cd078095406f88);\n        \n    \n            var marker_46dc613b88c074748915aba87a8752b1 = L.marker(\n                [51.509963, -0.129797],\n                {}\n            ).addTo(marker_cluster_e3983cba9c3bf4ceb7cd078095406f88);\n        \n    \n            var marker_7e2773f6ec89017a32484c4705c28b33 = L.marker(\n                [51.4945144, -0.1866172],\n                {}\n            ).addTo(marker_cluster_e3983cba9c3bf4ceb7cd078095406f88);\n        \n    \n            var marker_de43e08c8499e0f300606abbc301d549 = L.marker(\n                [48.1791893, 16.3625367],\n                {}\n            ).addTo(marker_cluster_e3983cba9c3bf4ceb7cd078095406f88);\n        \n    \n            var marker_fb6bd4cc76d2fd222706523ddcb1587e = L.marker(\n                [51.4980052, -0.1643238],\n                {}\n            ).addTo(marker_cluster_e3983cba9c3bf4ceb7cd078095406f88);\n        \n    \n            var marker_55f11cb56da8ac2c1197797f9b4f13f5 = L.marker(\n                [51.507374, -0.129135],\n                {}\n            ).addTo(marker_cluster_e3983cba9c3bf4ceb7cd078095406f88);\n        \n    \n            var marker_16de71157502f327230e10361cd3a4dd = L.marker(\n                [48.8381079, 2.318669],\n                {}\n            ).addTo(marker_cluster_e3983cba9c3bf4ceb7cd078095406f88);\n        \n    \n            var marker_a16f33ce7cc15f128711dde85396bff0 = L.marker(\n                [51.5140208, -0.0854919],\n                {}\n            ).addTo(marker_cluster_e3983cba9c3bf4ceb7cd078095406f88);\n        \n    \n            var marker_b6446db032f1db3effa21415d9afdf18 = L.marker(\n                [51.511174, -0.1349904],\n                {}\n            ).addTo(marker_cluster_e3983cba9c3bf4ceb7cd078095406f88);\n        \n    \n            var marker_7fb1aa8e1ef92ada3fc0fb88bab6f266 = L.marker(\n                [48.8723438, 2.3033378],\n                {}\n            ).addTo(marker_cluster_e3983cba9c3bf4ceb7cd078095406f88);\n        \n    \n            var marker_32b91ffdf7e205bf708ed5995aebe50e = L.marker(\n                [48.2019865, 16.3789934],\n                {}\n            ).addTo(marker_cluster_e3983cba9c3bf4ceb7cd078095406f88);\n        \n    \n            var marker_3bbd20cc87bbcd48a59f593f10af7bc2 = L.marker(\n                [51.4940285, -0.1910497],\n                {}\n            ).addTo(marker_cluster_e3983cba9c3bf4ceb7cd078095406f88);\n        \n    \n            var marker_d2ea47256fea9917c497ee05242ea3c8 = L.marker(\n                [51.4931086, -0.190208],\n                {}\n            ).addTo(marker_cluster_e3983cba9c3bf4ceb7cd078095406f88);\n        \n    \n            var marker_7c0987b17181bb70fc4631b646d148fb = L.marker(\n                [51.4973568, -0.1576728],\n                {}\n            ).addTo(marker_cluster_e3983cba9c3bf4ceb7cd078095406f88);\n        \n    \n            var marker_50285f9edf99ab5aab976468615a0b60 = L.marker(\n                [48.8772493, 2.3543043],\n                {}\n            ).addTo(marker_cluster_e3983cba9c3bf4ceb7cd078095406f88);\n        \n    \n            var marker_302ae16be04f5af0c1f6853c0d5ff25c = L.marker(\n                [48.8330649, 2.2879617],\n                {}\n            ).addTo(marker_cluster_e3983cba9c3bf4ceb7cd078095406f88);\n        \n    \n            var marker_172df34228c827c6d50c82127d70c47a = L.marker(\n                [48.8724945, 2.3091549],\n                {}\n            ).addTo(marker_cluster_e3983cba9c3bf4ceb7cd078095406f88);\n        \n    \n            var marker_587391222dbaa070bd60e663f48637b6 = L.marker(\n                [51.4917798, -0.1616049],\n                {}\n            ).addTo(marker_cluster_e3983cba9c3bf4ceb7cd078095406f88);\n        \n    \n            var marker_bf82cface378586706b26f24fdf849b5 = L.marker(\n                [41.3759896, 2.167148],\n                {}\n            ).addTo(marker_cluster_e3983cba9c3bf4ceb7cd078095406f88);\n        \n    \n            var marker_7f6bb8ace32d9386b016a8b001e0ff9a = L.marker(\n                [48.2105156, 16.3760717],\n                {}\n            ).addTo(marker_cluster_e3983cba9c3bf4ceb7cd078095406f88);\n        \n    \n            var marker_f004e596d209c3fda128d241f277bee2 = L.marker(\n                [48.22082, 16.36664],\n                {}\n            ).addTo(marker_cluster_e3983cba9c3bf4ceb7cd078095406f88);\n        \n    \n            var marker_790f81c91337c8589fab8debc6a356a6 = L.marker(\n                [48.8708419, 2.3605864],\n                {}\n            ).addTo(marker_cluster_e3983cba9c3bf4ceb7cd078095406f88);\n        \n    \n            var marker_f19a1be3f499c3c19be7fa68daf3f74f = L.marker(\n                [48.1790835, 16.4116997],\n                {}\n            ).addTo(marker_cluster_e3983cba9c3bf4ceb7cd078095406f88);\n        \n    \n            var marker_32d4aa57ab6af425d5396b449cf9c318 = L.marker(\n                [45.480968, 9.189977],\n                {}\n            ).addTo(marker_cluster_e3983cba9c3bf4ceb7cd078095406f88);\n        \n    \n            var marker_7da23f536cec2e36625111d330534be1 = L.marker(\n                [48.8852794, 2.3301021],\n                {}\n            ).addTo(marker_cluster_e3983cba9c3bf4ceb7cd078095406f88);\n        \n    \n            var marker_688db500e4b5b8010d98cec182d26b22 = L.marker(\n                [41.4101306, 2.2188047],\n                {}\n            ).addTo(marker_cluster_e3983cba9c3bf4ceb7cd078095406f88);\n        \n    \n            var marker_dd6420f3db315ff9fb3432f9d1cf17f6 = L.marker(\n                [48.8535089, 2.3425787],\n                {}\n            ).addTo(marker_cluster_e3983cba9c3bf4ceb7cd078095406f88);\n        \n    \n            var marker_2197822d054e264960731a693ae31511 = L.marker(\n                [48.2133054, 16.3567884],\n                {}\n            ).addTo(marker_cluster_e3983cba9c3bf4ceb7cd078095406f88);\n        \n    \n            var marker_a9d280af2bffd61c7849fdc8673aec7f = L.marker(\n                [48.8396395, 2.2663056],\n                {}\n            ).addTo(marker_cluster_e3983cba9c3bf4ceb7cd078095406f88);\n        \n    \n            var marker_aac47b0f406a241f96d2b4d9d0230921 = L.marker(\n                [41.3810311, 2.1455516],\n                {}\n            ).addTo(marker_cluster_e3983cba9c3bf4ceb7cd078095406f88);\n        \n    \n            var marker_ab74630687c77442b38257b2dbc44cab = L.marker(\n                [48.8389823, 2.3455528],\n                {}\n            ).addTo(marker_cluster_e3983cba9c3bf4ceb7cd078095406f88);\n        \n    \n            var marker_1109f25e00f2206dde084be269168e7d = L.marker(\n                [51.5158643, -0.1200625],\n                {}\n            ).addTo(marker_cluster_e3983cba9c3bf4ceb7cd078095406f88);\n        \n    \n            var marker_d6cad9e709946759ee3a25887bbffe93 = L.marker(\n                [51.4932356, -0.1269082],\n                {}\n            ).addTo(marker_cluster_e3983cba9c3bf4ceb7cd078095406f88);\n        \n    \n            var marker_c4c64f2679b4ccda4739afd4afe7c2b7 = L.marker(\n                [48.8497553, 2.3467616],\n                {}\n            ).addTo(marker_cluster_e3983cba9c3bf4ceb7cd078095406f88);\n        \n    \n            var marker_82dd8dd0c7e103dae42fe353bc08e6a3 = L.marker(\n                [48.8547161, 2.306642],\n                {}\n            ).addTo(marker_cluster_e3983cba9c3bf4ceb7cd078095406f88);\n        \n    \n            var marker_2c35a67c9bdba27301ea97084a135e76 = L.marker(\n                [51.5076044, -0.132266],\n                {}\n            ).addTo(marker_cluster_e3983cba9c3bf4ceb7cd078095406f88);\n        \n    \n            var marker_7ea63fa7eae5ba6eb973df533dd60006 = L.marker(\n                [52.3591467, 4.9263601],\n                {}\n            ).addTo(marker_cluster_e3983cba9c3bf4ceb7cd078095406f88);\n        \n    \n            var marker_3fa56d0726e0b703f778b60984f68326 = L.marker(\n                [48.8542454, 2.339956],\n                {}\n            ).addTo(marker_cluster_e3983cba9c3bf4ceb7cd078095406f88);\n        \n    \n            var marker_9959499f94543268717b5f07a64b2809 = L.marker(\n                [52.370835, 4.895403],\n                {}\n            ).addTo(marker_cluster_e3983cba9c3bf4ceb7cd078095406f88);\n        \n    \n            var marker_7d543096b4a880f81f3f6d06d5322e48 = L.marker(\n                [48.880856, 2.3375085],\n                {}\n            ).addTo(marker_cluster_e3983cba9c3bf4ceb7cd078095406f88);\n        \n    \n            var marker_74d55c734d2bb74b635195e0ef462dc9 = L.marker(\n                [51.520378, -0.1303414],\n                {}\n            ).addTo(marker_cluster_e3983cba9c3bf4ceb7cd078095406f88);\n        \n    \n            var marker_5383de32a9c2a75acaf6539c8d234a8d = L.marker(\n                [51.5126758, -0.1867828],\n                {}\n            ).addTo(marker_cluster_e3983cba9c3bf4ceb7cd078095406f88);\n        \n    \n            var marker_2c49c1c7c43bb3c05462cdb224bfd78e = L.marker(\n                [48.8732788, 2.3466576],\n                {}\n            ).addTo(marker_cluster_e3983cba9c3bf4ceb7cd078095406f88);\n        \n    \n            var marker_e2d2993aeec5b5595959865d1c95bd6a = L.marker(\n                [51.4953691, -0.1818966],\n                {}\n            ).addTo(marker_cluster_e3983cba9c3bf4ceb7cd078095406f88);\n        \n    \n            var marker_9919fddbed95068d5e323972fe15837a = L.marker(\n                [48.872174, 2.328075],\n                {}\n            ).addTo(marker_cluster_e3983cba9c3bf4ceb7cd078095406f88);\n        \n    \n            var marker_28e7790a1775b0abd9f841079f97fe4d = L.marker(\n                [45.488764, 9.183057],\n                {}\n            ).addTo(marker_cluster_e3983cba9c3bf4ceb7cd078095406f88);\n        \n    \n            var marker_1043dff1f6f51d59a5ad0bf1acbb77db = L.marker(\n                [48.8639788, 2.3352615],\n                {}\n            ).addTo(marker_cluster_e3983cba9c3bf4ceb7cd078095406f88);\n        \n    \n            var marker_3494b8a205df73070f40472d91801e7a = L.marker(\n                [48.1877258, 16.3781454],\n                {}\n            ).addTo(marker_cluster_e3983cba9c3bf4ceb7cd078095406f88);\n        \n    \n            var marker_fae1ea70443191bfaf205ffa8c0099fd = L.marker(\n                [51.4973203, -0.1562558],\n                {}\n            ).addTo(marker_cluster_e3983cba9c3bf4ceb7cd078095406f88);\n        \n    \n            var marker_4649ca74f90320e5417e57cb1835cb6e = L.marker(\n                [48.8726335, 2.3048084],\n                {}\n            ).addTo(marker_cluster_e3983cba9c3bf4ceb7cd078095406f88);\n        \n    \n            var marker_bfbc0fb4673160d0ccd1f53f319f8cb5 = L.marker(\n                [41.391058, 2.141706],\n                {}\n            ).addTo(marker_cluster_e3983cba9c3bf4ceb7cd078095406f88);\n        \n    \n            var marker_008fe2941d277335b1a722c3774c196a = L.marker(\n                [48.8680055, 2.3260075],\n                {}\n            ).addTo(marker_cluster_e3983cba9c3bf4ceb7cd078095406f88);\n        \n    \n            var marker_c717184bfaadd959e9952718285cf525 = L.marker(\n                [45.4655368, 9.1914986],\n                {}\n            ).addTo(marker_cluster_e3983cba9c3bf4ceb7cd078095406f88);\n        \n    \n            var marker_6eb2006a9ef36a515faf60c59dbbbd68 = L.marker(\n                [48.8636168, 2.3607998],\n                {}\n            ).addTo(marker_cluster_e3983cba9c3bf4ceb7cd078095406f88);\n        \n    \n            var marker_684dbfbf83a7c60b85278b074b0fd2fb = L.marker(\n                [51.517608, -0.1276253],\n                {}\n            ).addTo(marker_cluster_e3983cba9c3bf4ceb7cd078095406f88);\n        \n    \n            var marker_4da843b610f8a73bb2b0d15310326b00 = L.marker(\n                [45.4868745, 9.2018406],\n                {}\n            ).addTo(marker_cluster_e3983cba9c3bf4ceb7cd078095406f88);\n        \n    \n            var marker_c33a68e6203f6e0a0073ac95b3042528 = L.marker(\n                [41.3766732, 2.1524478],\n                {}\n            ).addTo(marker_cluster_e3983cba9c3bf4ceb7cd078095406f88);\n        \n    \n            var marker_016f9df5b6db0e861aa0cedd472f572b = L.marker(\n                [52.4001813, 4.8936653],\n                {}\n            ).addTo(marker_cluster_e3983cba9c3bf4ceb7cd078095406f88);\n        \n    \n            var marker_39c2b086f0b2b9e991f7da228a3cff52 = L.marker(\n                [51.5064607, -0.1454198],\n                {}\n            ).addTo(marker_cluster_e3983cba9c3bf4ceb7cd078095406f88);\n        \n    \n            var marker_3c7899247553539753314a65d7587ca2 = L.marker(\n                [48.870808, 2.3372737],\n                {}\n            ).addTo(marker_cluster_e3983cba9c3bf4ceb7cd078095406f88);\n        \n    \n            var marker_24871def1fbaa11c7b665a9630d5c24d = L.marker(\n                [48.8442949, 2.3730938],\n                {}\n            ).addTo(marker_cluster_e3983cba9c3bf4ceb7cd078095406f88);\n        \n    \n            var marker_50699487abe0c25e1a7a6e65332ca294 = L.marker(\n                [48.8694695, 2.3208564],\n                {}\n            ).addTo(marker_cluster_e3983cba9c3bf4ceb7cd078095406f88);\n        \n    \n            var marker_ed8e2e99bacb65a364948ce0f0b0ba24 = L.marker(\n                [41.3780983, 2.1762005],\n                {}\n            ).addTo(marker_cluster_e3983cba9c3bf4ceb7cd078095406f88);\n        \n    \n            var marker_30bbb9302ca27ffe9b28e36b2ce16365 = L.marker(\n                [48.8520377, 2.3557092],\n                {}\n            ).addTo(marker_cluster_e3983cba9c3bf4ceb7cd078095406f88);\n        \n    \n            var marker_4ac76c5e2e24e485e4d927d970e75ec0 = L.marker(\n                [51.5063709, -0.1515359],\n                {}\n            ).addTo(marker_cluster_e3983cba9c3bf4ceb7cd078095406f88);\n        \n    \n            var marker_7493fe734351ea03ea8e5a06f2e46427 = L.marker(\n                [48.8663208, 2.3450399],\n                {}\n            ).addTo(marker_cluster_e3983cba9c3bf4ceb7cd078095406f88);\n        \n    \n            var marker_78047ec280f5745cc4c60f3dc8f9b0cc = L.marker(\n                [45.4841371, 9.2001623],\n                {}\n            ).addTo(marker_cluster_e3983cba9c3bf4ceb7cd078095406f88);\n        \n    \n            var marker_d867377f15718d3ba4b5a776d667576a = L.marker(\n                [48.8465653, 2.4102405],\n                {}\n            ).addTo(marker_cluster_e3983cba9c3bf4ceb7cd078095406f88);\n        \n    \n            var marker_ecf8b53338c96c8de6f57dfc33411d63 = L.marker(\n                [48.884165, 2.3328261],\n                {}\n            ).addTo(marker_cluster_e3983cba9c3bf4ceb7cd078095406f88);\n        \n    \n            var marker_34e3d05f5307c2d234d8d3635bdb0482 = L.marker(\n                [48.866242, 2.3373169],\n                {}\n            ).addTo(marker_cluster_e3983cba9c3bf4ceb7cd078095406f88);\n        \n    \n            var marker_0a567d434099d9703ca5da6d4088cdae = L.marker(\n                [51.4910062, -0.1717691],\n                {}\n            ).addTo(marker_cluster_e3983cba9c3bf4ceb7cd078095406f88);\n        \n    \n            var marker_478beeb910739b0980d43e17e757247c = L.marker(\n                [41.3910621, 2.1593373],\n                {}\n            ).addTo(marker_cluster_e3983cba9c3bf4ceb7cd078095406f88);\n        \n    \n            var marker_1e841743800957c8b74b1f14053db82b = L.marker(\n                [45.443791, 9.152947],\n                {}\n            ).addTo(marker_cluster_e3983cba9c3bf4ceb7cd078095406f88);\n        \n    \n            var marker_df35ba583a660e47ae26f61dc1359e39 = L.marker(\n                [48.8607299, 2.3465326],\n                {}\n            ).addTo(marker_cluster_e3983cba9c3bf4ceb7cd078095406f88);\n        \n    \n            var marker_e729e8f3dcc0ae80b7c9261b04e19a9c = L.marker(\n                [51.5189077, -0.1421957],\n                {}\n            ).addTo(marker_cluster_e3983cba9c3bf4ceb7cd078095406f88);\n        \n    \n            var marker_1d1833308df9c6f418af2b3cae8cdeb1 = L.marker(\n                [41.3798964, 2.1412433],\n                {}\n            ).addTo(marker_cluster_e3983cba9c3bf4ceb7cd078095406f88);\n        \n    \n            var marker_eb491de8824c676e9d983b4fc8579bb2 = L.marker(\n                [52.3154533, 4.9962997],\n                {}\n            ).addTo(marker_cluster_e3983cba9c3bf4ceb7cd078095406f88);\n        \n    \n            var marker_b9a54d89aa56b1ff80fb5fedc2513434 = L.marker(\n                [41.39038, 2.121],\n                {}\n            ).addTo(marker_cluster_e3983cba9c3bf4ceb7cd078095406f88);\n        \n    \n            var marker_44035a9b6982e4dd6ecffaad6fdafa7c = L.marker(\n                [51.5050355, -0.1500864],\n                {}\n            ).addTo(marker_cluster_e3983cba9c3bf4ceb7cd078095406f88);\n        \n    \n            var marker_3c5e25aab5f8040f3809c8bc09e4c916 = L.marker(\n                [45.470532, 9.19302],\n                {}\n            ).addTo(marker_cluster_e3983cba9c3bf4ceb7cd078095406f88);\n        \n    \n            var marker_f4608f15dd891a2290d473c94ded36e7 = L.marker(\n                [52.3266672, 4.8800884],\n                {}\n            ).addTo(marker_cluster_e3983cba9c3bf4ceb7cd078095406f88);\n        \n    \n            var marker_279d9fd149051cfb1c15976b20fb020b = L.marker(\n                [51.4963008, -0.1796853],\n                {}\n            ).addTo(marker_cluster_e3983cba9c3bf4ceb7cd078095406f88);\n        \n    \n            var marker_3e962aeaa2f2b632fa0dc5e67fcc2c1c = L.marker(\n                [48.8782679, 2.294852],\n                {}\n            ).addTo(marker_cluster_e3983cba9c3bf4ceb7cd078095406f88);\n        \n    \n            var marker_0658bc5ca1fa130e3a4464bea26fa1dd = L.marker(\n                [41.3798658, 2.1805271],\n                {}\n            ).addTo(marker_cluster_e3983cba9c3bf4ceb7cd078095406f88);\n        \n    \n            var marker_a0b91802ec8dd9c6b917896add51426d = L.marker(\n                [48.2022415, 16.3749336],\n                {}\n            ).addTo(marker_cluster_e3983cba9c3bf4ceb7cd078095406f88);\n        \n    \n            var marker_e6fbdde31d8f00e860c6bb07baba3b60 = L.marker(\n                [51.5123968, -0.186124],\n                {}\n            ).addTo(marker_cluster_e3983cba9c3bf4ceb7cd078095406f88);\n        \n    \n            var marker_bd5e48aadae150d4324c4bfed8c5b718 = L.marker(\n                [51.5206309, -0.0915341],\n                {}\n            ).addTo(marker_cluster_e3983cba9c3bf4ceb7cd078095406f88);\n        \n    \n            var marker_06945ed8c8313c1dc12aec381a6ba622 = L.marker(\n                [45.5099969, 9.1739942],\n                {}\n            ).addTo(marker_cluster_e3983cba9c3bf4ceb7cd078095406f88);\n        \n    \n            var marker_ccf99d8ab90f7fba162eb48d4929be51 = L.marker(\n                [48.2238463, 16.3138357],\n                {}\n            ).addTo(marker_cluster_e3983cba9c3bf4ceb7cd078095406f88);\n        \n    \n            var marker_195fd42bfdd2b1d269022fc97cf973a9 = L.marker(\n                [48.8553117, 2.3254628],\n                {}\n            ).addTo(marker_cluster_e3983cba9c3bf4ceb7cd078095406f88);\n        \n    \n            var marker_0a499f6a9bc04abf62927550d7fada3b = L.marker(\n                [41.3882234, 2.1644551],\n                {}\n            ).addTo(marker_cluster_e3983cba9c3bf4ceb7cd078095406f88);\n        \n    \n            var marker_9f660a0b2e70f4b1e4940b4f4f2f929b = L.marker(\n                [48.2072348, 16.372238],\n                {}\n            ).addTo(marker_cluster_e3983cba9c3bf4ceb7cd078095406f88);\n        \n    \n            var marker_d5c01caf3637accaf2088ba9a7a7f137 = L.marker(\n                [48.8363819, 2.2897793],\n                {}\n            ).addTo(marker_cluster_e3983cba9c3bf4ceb7cd078095406f88);\n        \n    \n            var marker_b02ff39e7dc6195ad9af4c55bf1e521b = L.marker(\n                [48.2031622, 16.3561999],\n                {}\n            ).addTo(marker_cluster_e3983cba9c3bf4ceb7cd078095406f88);\n        \n    \n            var marker_c4538a745d9921261c122f693be8d0d5 = L.marker(\n                [52.3351951, 4.8885354],\n                {}\n            ).addTo(marker_cluster_e3983cba9c3bf4ceb7cd078095406f88);\n        \n    \n            var marker_71607beea0ef7f3b4fbc5c0f25d5d514 = L.marker(\n                [48.8528364, 2.3440803],\n                {}\n            ).addTo(marker_cluster_e3983cba9c3bf4ceb7cd078095406f88);\n        \n    \n            var marker_d6e3239cbe1fa68620991526983f8085 = L.marker(\n                [51.5266618, -0.1296571],\n                {}\n            ).addTo(marker_cluster_e3983cba9c3bf4ceb7cd078095406f88);\n        \n    \n            var marker_daa3e470795267605436265b7ebf2792 = L.marker(\n                [41.3895237, 2.1490307],\n                {}\n            ).addTo(marker_cluster_e3983cba9c3bf4ceb7cd078095406f88);\n        \n    \n            var marker_602f10a5c17c7b0d04aba71cbd63f7ec = L.marker(\n                [51.4948465, -0.1187481],\n                {}\n            ).addTo(marker_cluster_e3983cba9c3bf4ceb7cd078095406f88);\n        \n    \n            var marker_28b6197adeade0483f5e625b9384d7ee = L.marker(\n                [45.451873, 9.20548],\n                {}\n            ).addTo(marker_cluster_e3983cba9c3bf4ceb7cd078095406f88);\n        \n    \n            var marker_b200b34a668f3a6ce1468ac5dfec5126 = L.marker(\n                [45.4782808, 9.1997755],\n                {}\n            ).addTo(marker_cluster_e3983cba9c3bf4ceb7cd078095406f88);\n        \n    \n            var marker_3d0e810d5311844df02cb179202c046b = L.marker(\n                [48.8732706, 2.3450746],\n                {}\n            ).addTo(marker_cluster_e3983cba9c3bf4ceb7cd078095406f88);\n        \n    \n            var marker_cb47f0f9b8a32c430719e56eb18a7e4b = L.marker(\n                [45.4580137, 9.1913676],\n                {}\n            ).addTo(marker_cluster_e3983cba9c3bf4ceb7cd078095406f88);\n        \n    \n            var marker_774b27d4ed4428d2471f7a5078375d40 = L.marker(\n                [51.5079153, -0.2730145],\n                {}\n            ).addTo(marker_cluster_e3983cba9c3bf4ceb7cd078095406f88);\n        \n    \n            var marker_8f0946580301cce2b39e0aa2c5117e88 = L.marker(\n                [51.5112451, -0.1808938],\n                {}\n            ).addTo(marker_cluster_e3983cba9c3bf4ceb7cd078095406f88);\n        \n    \n            var marker_c5bc29b4a64068f8167cf58cfc7a4ddf = L.marker(\n                [51.5139692, -0.1828202],\n                {}\n            ).addTo(marker_cluster_e3983cba9c3bf4ceb7cd078095406f88);\n        \n    \n            var marker_f4635fb06722be84cd93bf0c72486e98 = L.marker(\n                [45.4794587, 9.1951427],\n                {}\n            ).addTo(marker_cluster_e3983cba9c3bf4ceb7cd078095406f88);\n        \n    \n            var marker_2fd25f2584005b04819cd8d74d1f89e0 = L.marker(\n                [48.8776756, 2.3493159],\n                {}\n            ).addTo(marker_cluster_e3983cba9c3bf4ceb7cd078095406f88);\n        \n    \n            var marker_b53c9ff54cc5c2cc18007fa9d902c1be = L.marker(\n                [51.531427, -0.126133],\n                {}\n            ).addTo(marker_cluster_e3983cba9c3bf4ceb7cd078095406f88);\n        \n    \n            var marker_7e501af183baabcaa5fa37b62ae55f58 = L.marker(\n                [45.467298, 9.1846982],\n                {}\n            ).addTo(marker_cluster_e3983cba9c3bf4ceb7cd078095406f88);\n        \n    \n            var marker_f69970251baa73e6b8398ffb52fafcff = L.marker(\n                [45.466598, 9.183064],\n                {}\n            ).addTo(marker_cluster_e3983cba9c3bf4ceb7cd078095406f88);\n        \n    \n            var marker_e1baab8efdb8761fc91fd2b314a41e29 = L.marker(\n                [41.3944574, 2.1564353],\n                {}\n            ).addTo(marker_cluster_e3983cba9c3bf4ceb7cd078095406f88);\n        \n    \n            var marker_bba2e77273791d975750b09087d2762a = L.marker(\n                [51.5196913, -0.1254243],\n                {}\n            ).addTo(marker_cluster_e3983cba9c3bf4ceb7cd078095406f88);\n        \n    \n            var marker_e5b3f82cde4b908bd02721f0f1764311 = L.marker(\n                [48.8687425, 2.3541761],\n                {}\n            ).addTo(marker_cluster_e3983cba9c3bf4ceb7cd078095406f88);\n        \n    \n            var marker_1a86c4ae84ec2b4fbc799da98252bfab = L.marker(\n                [41.3962468, 2.1609551],\n                {}\n            ).addTo(marker_cluster_e3983cba9c3bf4ceb7cd078095406f88);\n        \n    \n            var marker_d67a2f57009ec65b674ac89abefe996f = L.marker(\n                [51.490724, -0.143868],\n                {}\n            ).addTo(marker_cluster_e3983cba9c3bf4ceb7cd078095406f88);\n        \n    \n            var marker_4aa6e92212de6bbe2d64304939fccf1a = L.marker(\n                [48.8729639, 2.3444899],\n                {}\n            ).addTo(marker_cluster_e3983cba9c3bf4ceb7cd078095406f88);\n        \n    \n            var marker_86ce91e69742c555ad7b79cb989dbc91 = L.marker(\n                [48.8761376, 2.3572681],\n                {}\n            ).addTo(marker_cluster_e3983cba9c3bf4ceb7cd078095406f88);\n        \n    \n            var marker_70ef5e83644da479ee7fadca8c89b7fd = L.marker(\n                [48.8746066, 2.3167195],\n                {}\n            ).addTo(marker_cluster_e3983cba9c3bf4ceb7cd078095406f88);\n        \n    \n            var marker_12ad7691fc1bf7503d6cef3b95a04883 = L.marker(\n                [51.5213303, -0.2915052],\n                {}\n            ).addTo(marker_cluster_e3983cba9c3bf4ceb7cd078095406f88);\n        \n    \n            var marker_34552ac68ba6a04313cbe33c80d086b5 = L.marker(\n                [41.3849695, 2.1776631],\n                {}\n            ).addTo(marker_cluster_e3983cba9c3bf4ceb7cd078095406f88);\n        \n    \n            var marker_1292672c77c155c82c35655a05acd83b = L.marker(\n                [41.3986093, 2.1625037],\n                {}\n            ).addTo(marker_cluster_e3983cba9c3bf4ceb7cd078095406f88);\n        \n    \n            var marker_85e2ddbd6f2f454e976ae059085cc927 = L.marker(\n                [51.519016, -0.166267],\n                {}\n            ).addTo(marker_cluster_e3983cba9c3bf4ceb7cd078095406f88);\n        \n    \n            var marker_37f5a4720053cc783c98edee985522fb = L.marker(\n                [45.506502, 9.1965192],\n                {}\n            ).addTo(marker_cluster_e3983cba9c3bf4ceb7cd078095406f88);\n        \n    \n            var marker_05f1bc489ed8d0eb835d7297b057775c = L.marker(\n                [48.8703672, 2.2938868],\n                {}\n            ).addTo(marker_cluster_e3983cba9c3bf4ceb7cd078095406f88);\n        \n    \n            var marker_f50fd29a258f67de57a53a38ff3a3986 = L.marker(\n                [48.8516619, 2.2979395],\n                {}\n            ).addTo(marker_cluster_e3983cba9c3bf4ceb7cd078095406f88);\n        \n    \n            var marker_c64660cbd06f9551d7531238d612cc8a = L.marker(\n                [48.8800565, 2.3342353],\n                {}\n            ).addTo(marker_cluster_e3983cba9c3bf4ceb7cd078095406f88);\n        \n    \n            var marker_cad6d3f21b8dc601ded83dde334798b3 = L.marker(\n                [41.3870479, 2.174336],\n                {}\n            ).addTo(marker_cluster_e3983cba9c3bf4ceb7cd078095406f88);\n        \n    \n            var marker_f524fd6e45d3376138ec8544b8440c3e = L.marker(\n                [48.8629329, 2.3723823],\n                {}\n            ).addTo(marker_cluster_e3983cba9c3bf4ceb7cd078095406f88);\n        \n    \n            var marker_6930ca75333e1302cae807ed63091467 = L.marker(\n                [48.8820046, 2.2818538],\n                {}\n            ).addTo(marker_cluster_e3983cba9c3bf4ceb7cd078095406f88);\n        \n    \n            var marker_b8884e82ca568d1cb9085d69ddf58a25 = L.marker(\n                [51.5180207, -0.1500567],\n                {}\n            ).addTo(marker_cluster_e3983cba9c3bf4ceb7cd078095406f88);\n        \n    \n            var marker_58cb606bada885b993a4bef84459d122 = L.marker(\n                [45.4848809, 9.1596461],\n                {}\n            ).addTo(marker_cluster_e3983cba9c3bf4ceb7cd078095406f88);\n        \n    \n            var marker_bcff4863cb4aa38f36c5e46e36a9586d = L.marker(\n                [45.4608547, 9.1886179],\n                {}\n            ).addTo(marker_cluster_e3983cba9c3bf4ceb7cd078095406f88);\n        \n    \n            var marker_5ba1d74310b387ac68cd5907a37c0c1e = L.marker(\n                [48.1996129, 16.3773546],\n                {}\n            ).addTo(marker_cluster_e3983cba9c3bf4ceb7cd078095406f88);\n        \n    \n            var marker_fbfc5a6b3f94af1f25e3a06d5dc3abbf = L.marker(\n                [48.8694768, 2.3515065],\n                {}\n            ).addTo(marker_cluster_e3983cba9c3bf4ceb7cd078095406f88);\n        \n    \n            var marker_05540cdbb497be74cc65a3e2cfc3de8c = L.marker(\n                [48.8581186, 2.3529369],\n                {}\n            ).addTo(marker_cluster_e3983cba9c3bf4ceb7cd078095406f88);\n        \n    \n            var marker_cfedcc10f42a4e87278dd836803eb649 = L.marker(\n                [48.210285, 16.373579],\n                {}\n            ).addTo(marker_cluster_e3983cba9c3bf4ceb7cd078095406f88);\n        \n    \n            var marker_2e0ae785f5078cf88d098b6a58432de3 = L.marker(\n                [48.8704175, 2.3296832],\n                {}\n            ).addTo(marker_cluster_e3983cba9c3bf4ceb7cd078095406f88);\n        \n    \n            var marker_687cdd1445591d44585026f73e78211e = L.marker(\n                [52.365823, 4.893243],\n                {}\n            ).addTo(marker_cluster_e3983cba9c3bf4ceb7cd078095406f88);\n        \n    \n            var marker_fe8137379c943f6807f0c5da5553e405 = L.marker(\n                [48.8503276, 2.2982022],\n                {}\n            ).addTo(marker_cluster_e3983cba9c3bf4ceb7cd078095406f88);\n        \n    \n            var marker_f5e5a6aea89c800d6387eb91aa1ba242 = L.marker(\n                [41.392018, 2.157066],\n                {}\n            ).addTo(marker_cluster_e3983cba9c3bf4ceb7cd078095406f88);\n        \n    \n            var marker_4b03c24745d6915cda598dcdaf606348 = L.marker(\n                [41.3844072, 2.1514584],\n                {}\n            ).addTo(marker_cluster_e3983cba9c3bf4ceb7cd078095406f88);\n        \n    \n            var marker_258d8d82c5baf70da14a3749c50f1956 = L.marker(\n                [41.3935967, 2.1742718],\n                {}\n            ).addTo(marker_cluster_e3983cba9c3bf4ceb7cd078095406f88);\n        \n    \n            var marker_e367f711bf457d85660ad121c96248f2 = L.marker(\n                [48.231915, 16.417026],\n                {}\n            ).addTo(marker_cluster_e3983cba9c3bf4ceb7cd078095406f88);\n        \n    \n            var marker_1a6aeb48a6cd2372013a9ec6ce6784dd = L.marker(\n                [48.8515198, 2.3486511],\n                {}\n            ).addTo(marker_cluster_e3983cba9c3bf4ceb7cd078095406f88);\n        \n    \n            var marker_be7d35940e9af203312aadc6846fc6f6 = L.marker(\n                [41.408641, 2.1478143],\n                {}\n            ).addTo(marker_cluster_e3983cba9c3bf4ceb7cd078095406f88);\n        \n    \n            var marker_8f5f02926288b9d856057d5e2324f9df = L.marker(\n                [45.5000245, 9.1428722],\n                {}\n            ).addTo(marker_cluster_e3983cba9c3bf4ceb7cd078095406f88);\n        \n    \n            var marker_23042e36ec4c07f642c64954575fe3c0 = L.marker(\n                [41.3807517, 2.1772425],\n                {}\n            ).addTo(marker_cluster_e3983cba9c3bf4ceb7cd078095406f88);\n        \n    \n            var marker_ef8cf47de277e313c9416fe6eb047bdc = L.marker(\n                [48.2040859, 16.3725046],\n                {}\n            ).addTo(marker_cluster_e3983cba9c3bf4ceb7cd078095406f88);\n        \n    \n            var marker_0cfe0ad9b963d1b473f32dafeca18c8a = L.marker(\n                [48.8687512, 2.3001692],\n                {}\n            ).addTo(marker_cluster_e3983cba9c3bf4ceb7cd078095406f88);\n        \n    \n            var marker_fdcf433dcd2d29e6b3cfb2a4241effa2 = L.marker(\n                [51.4925478, -0.1780611],\n                {}\n            ).addTo(marker_cluster_e3983cba9c3bf4ceb7cd078095406f88);\n        \n    \n            var marker_e034901cbfcab893e4d58eb68ec96a3e = L.marker(\n                [48.8663444, 2.2881979],\n                {}\n            ).addTo(marker_cluster_e3983cba9c3bf4ceb7cd078095406f88);\n        \n    \n            var marker_9222a3e895195d62984856a80c5a30a0 = L.marker(\n                [48.2083518, 16.354532],\n                {}\n            ).addTo(marker_cluster_e3983cba9c3bf4ceb7cd078095406f88);\n        \n    \n            var marker_014e29a35289050a954b3be7ff333904 = L.marker(\n                [45.4736557, 9.2066824],\n                {}\n            ).addTo(marker_cluster_e3983cba9c3bf4ceb7cd078095406f88);\n        \n    \n            var marker_c55c6de940494eb8b2d0195411cc2040 = L.marker(\n                [45.4776167, 9.2016244],\n                {}\n            ).addTo(marker_cluster_e3983cba9c3bf4ceb7cd078095406f88);\n        \n    \n            var marker_2193082c6d189b0e798392ef7132db24 = L.marker(\n                [48.8682978, 2.3268027],\n                {}\n            ).addTo(marker_cluster_e3983cba9c3bf4ceb7cd078095406f88);\n        \n    \n            var marker_8082b0c1dbaec99ae59af8712d2eb1b7 = L.marker(\n                [45.4769923, 9.1844899],\n                {}\n            ).addTo(marker_cluster_e3983cba9c3bf4ceb7cd078095406f88);\n        \n    \n            var marker_c24e721fa2cd9c2ca1ba4a17813eee53 = L.marker(\n                [41.3837583, 2.1846933],\n                {}\n            ).addTo(marker_cluster_e3983cba9c3bf4ceb7cd078095406f88);\n        \n    \n            var marker_c8df6c082980cd12b2b7aadb58eeaaf6 = L.marker(\n                [48.2101211, 16.3655537],\n                {}\n            ).addTo(marker_cluster_e3983cba9c3bf4ceb7cd078095406f88);\n        \n    \n            var marker_47ffbcd4d91f77624ed3003eef5d4b91 = L.marker(\n                [48.861711, 2.340674],\n                {}\n            ).addTo(marker_cluster_e3983cba9c3bf4ceb7cd078095406f88);\n        \n    \n            var marker_2a9d905eb195e00e64baa85f1a667d4b = L.marker(\n                [51.5366053, -0.1919832],\n                {}\n            ).addTo(marker_cluster_e3983cba9c3bf4ceb7cd078095406f88);\n        \n    \n            var marker_644af4a0328a61a562a806170625b7d3 = L.marker(\n                [51.4916378, -0.1832833],\n                {}\n            ).addTo(marker_cluster_e3983cba9c3bf4ceb7cd078095406f88);\n        \n    \n            var marker_3d1a9d977267d68661c216e7a5f93df9 = L.marker(\n                [48.8672474, 2.33738],\n                {}\n            ).addTo(marker_cluster_e3983cba9c3bf4ceb7cd078095406f88);\n        \n    \n            var marker_2883e1ef8cb5731723ff6587deb11c6e = L.marker(\n                [41.3862689, 2.1291786],\n                {}\n            ).addTo(marker_cluster_e3983cba9c3bf4ceb7cd078095406f88);\n        \n    \n            var marker_9e64665443a1afac44d002db3c29d942 = L.marker(\n                [45.5266395, 9.2131549],\n                {}\n            ).addTo(marker_cluster_e3983cba9c3bf4ceb7cd078095406f88);\n        \n    \n            var marker_3afd57dd86ba13538f3bad966a16ba88 = L.marker(\n                [51.5117907, -0.306071],\n                {}\n            ).addTo(marker_cluster_e3983cba9c3bf4ceb7cd078095406f88);\n        \n    \n            var marker_1e295be6b19110306b8bb9366841f150 = L.marker(\n                [45.4572218, 9.1937008],\n                {}\n            ).addTo(marker_cluster_e3983cba9c3bf4ceb7cd078095406f88);\n        \n    \n            var marker_08aeda287703d2197989dfa545d1af21 = L.marker(\n                [51.4975621, -0.145551],\n                {}\n            ).addTo(marker_cluster_e3983cba9c3bf4ceb7cd078095406f88);\n        \n    \n            var marker_8718dc51baefd8e1bf5f6823d88d1716 = L.marker(\n                [48.2024907, 16.3702656],\n                {}\n            ).addTo(marker_cluster_e3983cba9c3bf4ceb7cd078095406f88);\n        \n    \n            var marker_f977de01bb3682a3ec9a5eb1bff819c7 = L.marker(\n                [52.3711037, 4.8936787],\n                {}\n            ).addTo(marker_cluster_e3983cba9c3bf4ceb7cd078095406f88);\n        \n    \n            var marker_011c7c9a5ef50ad31d5787ee4c46fcf1 = L.marker(\n                [48.8686931, 2.325211],\n                {}\n            ).addTo(marker_cluster_e3983cba9c3bf4ceb7cd078095406f88);\n        \n    \n            var marker_ee9ae6dc645ca8065c724f7d2b191343 = L.marker(\n                [48.1919288, 16.3391395],\n                {}\n            ).addTo(marker_cluster_e3983cba9c3bf4ceb7cd078095406f88);\n        \n    \n            var marker_6f67e3ecaeabfc95452ba1781c6ce22b = L.marker(\n                [48.2075294, 16.3525967],\n                {}\n            ).addTo(marker_cluster_e3983cba9c3bf4ceb7cd078095406f88);\n        \n    \n            var marker_d7f5c83b8de1199d8e73f5f310ae373f = L.marker(\n                [48.870994, 2.3235329],\n                {}\n            ).addTo(marker_cluster_e3983cba9c3bf4ceb7cd078095406f88);\n        \n    \n            var marker_6e28bff88ca152b3fca8e29ef91be188 = L.marker(\n                [45.501946, 9.2277569],\n                {}\n            ).addTo(marker_cluster_e3983cba9c3bf4ceb7cd078095406f88);\n        \n    \n            var marker_1a15954023e876bc5d0c5d7c2558eee9 = L.marker(\n                [51.5265189, -0.1303689],\n                {}\n            ).addTo(marker_cluster_e3983cba9c3bf4ceb7cd078095406f88);\n        \n    \n            var marker_0e71f66aea49afc4b96ded875fe3c1a4 = L.marker(\n                [51.5017224, -0.1846243],\n                {}\n            ).addTo(marker_cluster_e3983cba9c3bf4ceb7cd078095406f88);\n        \n    \n            var marker_476690bb460c7d3e765527c3e0d11d4f = L.marker(\n                [51.521148, -0.171346],\n                {}\n            ).addTo(marker_cluster_e3983cba9c3bf4ceb7cd078095406f88);\n        \n    \n            var marker_6fdf30f4b83c3b941eeb0968df8661fe = L.marker(\n                [48.8756618, 2.2863468],\n                {}\n            ).addTo(marker_cluster_e3983cba9c3bf4ceb7cd078095406f88);\n        \n    \n            var marker_43b463a122081b0c7c34737dcbeddce6 = L.marker(\n                [41.3949242, 2.1593099],\n                {}\n            ).addTo(marker_cluster_e3983cba9c3bf4ceb7cd078095406f88);\n        \n    \n            var marker_0e1e65124dbcbb3f1f4e767f295bf640 = L.marker(\n                [51.514573, -0.15666],\n                {}\n            ).addTo(marker_cluster_e3983cba9c3bf4ceb7cd078095406f88);\n        \n    \n            var marker_08ac8d81455df1a20e6a9961855f47cc = L.marker(\n                [48.2002872, 16.3547746],\n                {}\n            ).addTo(marker_cluster_e3983cba9c3bf4ceb7cd078095406f88);\n        \n    \n            var marker_16aa7bcb4dbad59a292ae544b9e13db0 = L.marker(\n                [52.3599196, 4.8810128],\n                {}\n            ).addTo(marker_cluster_e3983cba9c3bf4ceb7cd078095406f88);\n        \n    \n            var marker_4c062736181e6fb63b5d25ff953bdf25 = L.marker(\n                [48.8647019, 2.2886425],\n                {}\n            ).addTo(marker_cluster_e3983cba9c3bf4ceb7cd078095406f88);\n        \n    \n            var marker_b14ed9f382f7041bf18cec8f74696c4f = L.marker(\n                [48.8705741, 2.3264194],\n                {}\n            ).addTo(marker_cluster_e3983cba9c3bf4ceb7cd078095406f88);\n        \n    \n            var marker_378f3eeffa9c0e65d0ea9b49b64d166f = L.marker(\n                [48.8473459, 2.2832408],\n                {}\n            ).addTo(marker_cluster_e3983cba9c3bf4ceb7cd078095406f88);\n        \n    \n            var marker_02d6b0593100107c4c985ca575b6a5b4 = L.marker(\n                [45.4814923, 9.192023],\n                {}\n            ).addTo(marker_cluster_e3983cba9c3bf4ceb7cd078095406f88);\n        \n    \n            var marker_6ebeae5e816df6e43233360391d408d6 = L.marker(\n                [45.4682358, 9.2073799],\n                {}\n            ).addTo(marker_cluster_e3983cba9c3bf4ceb7cd078095406f88);\n        \n    \n            var marker_46ac79d195b9d0c0474ae9917c20438b = L.marker(\n                [51.5045326, -0.2191174],\n                {}\n            ).addTo(marker_cluster_e3983cba9c3bf4ceb7cd078095406f88);\n        \n    \n            var marker_28e0c735b6a53cf95fb804967380011b = L.marker(\n                [48.8603483, 2.3440535],\n                {}\n            ).addTo(marker_cluster_e3983cba9c3bf4ceb7cd078095406f88);\n        \n    \n            var marker_2c392429cf50c56ae59631033e760071 = L.marker(\n                [51.4990259, -0.1427453],\n                {}\n            ).addTo(marker_cluster_e3983cba9c3bf4ceb7cd078095406f88);\n        \n    \n            var marker_819cf6a056fd0185e6e21b76df0ce707 = L.marker(\n                [48.8309896, 2.3297301],\n                {}\n            ).addTo(marker_cluster_e3983cba9c3bf4ceb7cd078095406f88);\n        \n    \n            var marker_0cfcb31daacb25ca8f67b20bcaf60114 = L.marker(\n                [51.4911924, -0.1449474],\n                {}\n            ).addTo(marker_cluster_e3983cba9c3bf4ceb7cd078095406f88);\n        \n    \n            var marker_3ae9bc2cacc53d6777b8afa63ea70b26 = L.marker(\n                [41.3727844, 2.1721134],\n                {}\n            ).addTo(marker_cluster_e3983cba9c3bf4ceb7cd078095406f88);\n        \n    \n            var marker_a7548ce5d66d462859cbadf7fc10c4a1 = L.marker(\n                [52.3696719, 4.8614475],\n                {}\n            ).addTo(marker_cluster_e3983cba9c3bf4ceb7cd078095406f88);\n        \n    \n            var marker_643d6cadca87408145868102932af592 = L.marker(\n                [51.4891226, -0.1205639],\n                {}\n            ).addTo(marker_cluster_e3983cba9c3bf4ceb7cd078095406f88);\n        \n    \n            var marker_9f3c085d496eaa083e0478acc214fda8 = L.marker(\n                [48.8803479, 2.2858242],\n                {}\n            ).addTo(marker_cluster_e3983cba9c3bf4ceb7cd078095406f88);\n        \n    \n            var marker_dcc02fd45650240cf9b5965b1aa4b380 = L.marker(\n                [48.8438998, 2.3294858],\n                {}\n            ).addTo(marker_cluster_e3983cba9c3bf4ceb7cd078095406f88);\n        \n    \n            var marker_a92ea3e6d37991cc5e9172dc1d8cdd02 = L.marker(\n                [41.3904305, 2.1262314],\n                {}\n            ).addTo(marker_cluster_e3983cba9c3bf4ceb7cd078095406f88);\n        \n    \n            var marker_1301f0b3bb96ab2b1e8d042bc285f21e = L.marker(\n                [48.1974036, 16.3673003],\n                {}\n            ).addTo(marker_cluster_e3983cba9c3bf4ceb7cd078095406f88);\n        \n    \n            var marker_9ce4298fe8e2380c665cdd9d658798d4 = L.marker(\n                [45.4574655, 9.1919138],\n                {}\n            ).addTo(marker_cluster_e3983cba9c3bf4ceb7cd078095406f88);\n        \n    \n            var marker_04e3fe3791bf2179b51abe278e7b43a0 = L.marker(\n                [48.8663089, 2.289609],\n                {}\n            ).addTo(marker_cluster_e3983cba9c3bf4ceb7cd078095406f88);\n        \n    \n            var marker_a7ce2e050fe147f60160571918fe24eb = L.marker(\n                [41.391843, 2.156844],\n                {}\n            ).addTo(marker_cluster_e3983cba9c3bf4ceb7cd078095406f88);\n        \n    \n            var marker_1e6c07cfbc67da68b5152e82ee4ec7b9 = L.marker(\n                [51.504716, -0.1475618],\n                {}\n            ).addTo(marker_cluster_e3983cba9c3bf4ceb7cd078095406f88);\n        \n    \n            var marker_b04cb5b3222071658195fe5b528ae8f2 = L.marker(\n                [51.4892447, -0.1803196],\n                {}\n            ).addTo(marker_cluster_e3983cba9c3bf4ceb7cd078095406f88);\n        \n    \n            var marker_1560c23bee4e5356c2e1384b361b523c = L.marker(\n                [48.8706373, 2.2982095],\n                {}\n            ).addTo(marker_cluster_e3983cba9c3bf4ceb7cd078095406f88);\n        \n    \n            var marker_308c53066b6c5a42830bf034dc9df031 = L.marker(\n                [48.8503901, 2.3422527],\n                {}\n            ).addTo(marker_cluster_e3983cba9c3bf4ceb7cd078095406f88);\n        \n    \n            var marker_f49f3804eb68787e98e7ee30437f3537 = L.marker(\n                [51.5203266, -0.1245891],\n                {}\n            ).addTo(marker_cluster_e3983cba9c3bf4ceb7cd078095406f88);\n        \n    \n            var marker_36ecc52a52450f9bd6fd5e265146b423 = L.marker(\n                [48.8759461, 2.3270955],\n                {}\n            ).addTo(marker_cluster_e3983cba9c3bf4ceb7cd078095406f88);\n        \n    \n            var marker_9567ce845c8645d1694e859a0b9c8892 = L.marker(\n                [48.8665788, 2.3084447],\n                {}\n            ).addTo(marker_cluster_e3983cba9c3bf4ceb7cd078095406f88);\n        \n    \n            var marker_ac56796cc7eb6fe3f16bf8bb32816ab8 = L.marker(\n                [51.5298597, -0.1444623],\n                {}\n            ).addTo(marker_cluster_e3983cba9c3bf4ceb7cd078095406f88);\n        \n    \n            var marker_c2e1d199816f6196c62c6939286e76b3 = L.marker(\n                [48.845743, 2.34493],\n                {}\n            ).addTo(marker_cluster_e3983cba9c3bf4ceb7cd078095406f88);\n        \n    \n            var marker_c77766b3839539c6e00cb02954089cba = L.marker(\n                [45.4794406, 9.2096756],\n                {}\n            ).addTo(marker_cluster_e3983cba9c3bf4ceb7cd078095406f88);\n        \n    \n            var marker_cec6929ad8314acf59a9e5e8b2a4358c = L.marker(\n                [48.2047761, 16.3512515],\n                {}\n            ).addTo(marker_cluster_e3983cba9c3bf4ceb7cd078095406f88);\n        \n    \n            var marker_ce65670619806f78ea8a1de12792bc76 = L.marker(\n                [48.8777621, 2.293177],\n                {}\n            ).addTo(marker_cluster_e3983cba9c3bf4ceb7cd078095406f88);\n        \n    \n            var marker_41f2a06a6c1233244c68807ac12806b1 = L.marker(\n                [48.843707, 2.3155631],\n                {}\n            ).addTo(marker_cluster_e3983cba9c3bf4ceb7cd078095406f88);\n        \n    \n            var marker_7631e9ecfbe2cf3e2eece5f6f453dd07 = L.marker(\n                [48.8673199, 2.3656296],\n                {}\n            ).addTo(marker_cluster_e3983cba9c3bf4ceb7cd078095406f88);\n        \n    \n            var marker_fa315e9997ac2042f28ffaa7b6edef39 = L.marker(\n                [48.1975497, 16.3686397],\n                {}\n            ).addTo(marker_cluster_e3983cba9c3bf4ceb7cd078095406f88);\n        \n    \n            var marker_7c66ca171151e4e5029f25c9969b125b = L.marker(\n                [48.8795369, 2.3202966],\n                {}\n            ).addTo(marker_cluster_e3983cba9c3bf4ceb7cd078095406f88);\n        \n    \n            var marker_df61237eda1331df104a3c40bdf8b249 = L.marker(\n                [41.3750293, 2.1491172],\n                {}\n            ).addTo(marker_cluster_e3983cba9c3bf4ceb7cd078095406f88);\n        \n    \n            var marker_41e9408f99c41896397a91c240216ff4 = L.marker(\n                [45.51152, 9.1241306],\n                {}\n            ).addTo(marker_cluster_e3983cba9c3bf4ceb7cd078095406f88);\n        \n    \n            var marker_335e495d8e6a8d7b9fabbb358556224b = L.marker(\n                [51.5174853, -0.1372109],\n                {}\n            ).addTo(marker_cluster_e3983cba9c3bf4ceb7cd078095406f88);\n        \n    \n            var marker_3ddc1191d4fcc85ccc88ff78ac08cbfd = L.marker(\n                [52.3312406, 4.8774466],\n                {}\n            ).addTo(marker_cluster_e3983cba9c3bf4ceb7cd078095406f88);\n        \n    \n            var marker_fd1dcd5e2a4556f2d07c1f477d74a6b0 = L.marker(\n                [48.8747153, 2.2906388],\n                {}\n            ).addTo(marker_cluster_e3983cba9c3bf4ceb7cd078095406f88);\n        \n    \n            var marker_9d46fbe2ded9ad6495baf059d7f542d8 = L.marker(\n                [48.1887, 16.38371],\n                {}\n            ).addTo(marker_cluster_e3983cba9c3bf4ceb7cd078095406f88);\n        \n    \n            var marker_80f20f0d9abe4330cc23139719c66104 = L.marker(\n                [51.5191009, -0.1592],\n                {}\n            ).addTo(marker_cluster_e3983cba9c3bf4ceb7cd078095406f88);\n        \n    \n            var marker_b58fbfbba47a65cede3d38a07aa4aee8 = L.marker(\n                [48.8546989, 2.3691899],\n                {}\n            ).addTo(marker_cluster_e3983cba9c3bf4ceb7cd078095406f88);\n        \n    \n            var marker_39dd11c3b54fc5e0b9ffadf369d2e8d7 = L.marker(\n                [48.8599998, 2.3087425],\n                {}\n            ).addTo(marker_cluster_e3983cba9c3bf4ceb7cd078095406f88);\n        \n    \n            var marker_37a1eb24292a219249968f46fd2d3134 = L.marker(\n                [52.3697554, 4.8887815],\n                {}\n            ).addTo(marker_cluster_e3983cba9c3bf4ceb7cd078095406f88);\n        \n    \n            var marker_16a156fd10113f01d8c59f9f8c803c89 = L.marker(\n                [48.2264063, 16.3600628],\n                {}\n            ).addTo(marker_cluster_e3983cba9c3bf4ceb7cd078095406f88);\n        \n    \n            var marker_6aa27a12d5ca2aa844a6aab46eb0649c = L.marker(\n                [51.5156471, -0.1572443],\n                {}\n            ).addTo(marker_cluster_e3983cba9c3bf4ceb7cd078095406f88);\n        \n    \n            var marker_df3b6ab665212fb31e6e94eff192a6e8 = L.marker(\n                [41.3827894, 2.1715636],\n                {}\n            ).addTo(marker_cluster_e3983cba9c3bf4ceb7cd078095406f88);\n        \n    \n            var marker_8b86cf83ceb3c200145a7c74ba60878e = L.marker(\n                [48.853865, 2.3072019],\n                {}\n            ).addTo(marker_cluster_e3983cba9c3bf4ceb7cd078095406f88);\n        \n    \n            var marker_4c8ea2e39090b68f62990f395d71a37d = L.marker(\n                [41.4084334, 2.2178205],\n                {}\n            ).addTo(marker_cluster_e3983cba9c3bf4ceb7cd078095406f88);\n        \n    \n            var marker_e9082be7875c114f8abdac2a1f0b5eb6 = L.marker(\n                [45.4642651, 9.1960569],\n                {}\n            ).addTo(marker_cluster_e3983cba9c3bf4ceb7cd078095406f88);\n        \n    \n            var marker_a77f95131a6b22cc2ca83d3cbc2b1c8d = L.marker(\n                [51.510843, -0.1314287],\n                {}\n            ).addTo(marker_cluster_e3983cba9c3bf4ceb7cd078095406f88);\n        \n    \n            var marker_dbb838f63a12ae7bd3d8abcdedf39680 = L.marker(\n                [45.4606597, 9.1810947],\n                {}\n            ).addTo(marker_cluster_e3983cba9c3bf4ceb7cd078095406f88);\n        \n    \n            var marker_f602584a69e33e938b86bbf636d5fcbe = L.marker(\n                [52.3417894, 4.824952],\n                {}\n            ).addTo(marker_cluster_e3983cba9c3bf4ceb7cd078095406f88);\n        \n    \n            var marker_264b0311f0cbd395fff8c48da6e6a2e2 = L.marker(\n                [45.5147974, 9.116606],\n                {}\n            ).addTo(marker_cluster_e3983cba9c3bf4ceb7cd078095406f88);\n        \n    \n            var marker_4d4bb2e78af57f3c59572817f8f410f8 = L.marker(\n                [48.8565778, 2.3319767],\n                {}\n            ).addTo(marker_cluster_e3983cba9c3bf4ceb7cd078095406f88);\n        \n    \n            var marker_a1a8d68323e2ef3ac84ac29757f1e1f7 = L.marker(\n                [48.8327729, 2.2787597],\n                {}\n            ).addTo(marker_cluster_e3983cba9c3bf4ceb7cd078095406f88);\n        \n    \n            var marker_06a402668b356534e1921386179df330 = L.marker(\n                [48.8811741, 2.2948337],\n                {}\n            ).addTo(marker_cluster_e3983cba9c3bf4ceb7cd078095406f88);\n        \n    \n            var marker_e51a4af45a5c716542e961082ce37142 = L.marker(\n                [51.583236, -0.216868],\n                {}\n            ).addTo(marker_cluster_e3983cba9c3bf4ceb7cd078095406f88);\n        \n    \n            var marker_7c5fdfda97935faecff1607c68e1a448 = L.marker(\n                [52.3583821, 4.8988777],\n                {}\n            ).addTo(marker_cluster_e3983cba9c3bf4ceb7cd078095406f88);\n        \n    \n            var marker_52f54a54940fcce1730a3c03698c2246 = L.marker(\n                [48.1824271, 16.3808291],\n                {}\n            ).addTo(marker_cluster_e3983cba9c3bf4ceb7cd078095406f88);\n        \n    \n            var marker_0e79a3c4a9ba32ada86ddb10d9c70acc = L.marker(\n                [41.3865424, 2.1969665],\n                {}\n            ).addTo(marker_cluster_e3983cba9c3bf4ceb7cd078095406f88);\n        \n    \n            var marker_a199d659ef62a0ea910251b75fb4759f = L.marker(\n                [48.1964001, 16.3958668],\n                {}\n            ).addTo(marker_cluster_e3983cba9c3bf4ceb7cd078095406f88);\n        \n    \n            var marker_ffc93458ccd2af763dbdb72e5871b3cd = L.marker(\n                [45.453152, 9.179172],\n                {}\n            ).addTo(marker_cluster_e3983cba9c3bf4ceb7cd078095406f88);\n        \n    \n            var marker_50152fa17381219fdbdd174f8ef34a8d = L.marker(\n                [51.5020425, -0.1866541],\n                {}\n            ).addTo(marker_cluster_e3983cba9c3bf4ceb7cd078095406f88);\n        \n    \n            var marker_56c702bd0a70d373f132b50b538fb1b7 = L.marker(\n                [48.8726814, 2.3020866],\n                {}\n            ).addTo(marker_cluster_e3983cba9c3bf4ceb7cd078095406f88);\n        \n    \n            var marker_ae5a596de6839d8ca0f9e57290c1e3d2 = L.marker(\n                [41.3833541, 2.1794038],\n                {}\n            ).addTo(marker_cluster_e3983cba9c3bf4ceb7cd078095406f88);\n        \n    \n            var marker_9cfb0e5c6871b415f15d78b5a32d320d = L.marker(\n                [48.8519215, 2.3839993],\n                {}\n            ).addTo(marker_cluster_e3983cba9c3bf4ceb7cd078095406f88);\n        \n    \n            var marker_12fb30f3b50a0bae67bf79373fadf761 = L.marker(\n                [45.5161671, 9.2272778],\n                {}\n            ).addTo(marker_cluster_e3983cba9c3bf4ceb7cd078095406f88);\n        \n    \n            var marker_9de7e0b15239b1a0e6215a3c58a81642 = L.marker(\n                [48.8732231, 2.3436097],\n                {}\n            ).addTo(marker_cluster_e3983cba9c3bf4ceb7cd078095406f88);\n        \n    \n            var marker_45a1972a1383946564521c52979c61b3 = L.marker(\n                [41.3991773, 2.1656134],\n                {}\n            ).addTo(marker_cluster_e3983cba9c3bf4ceb7cd078095406f88);\n        \n    \n            var marker_3f068e1c1e8fe931607cc0591a602207 = L.marker(\n                [45.4714062, 9.1965303],\n                {}\n            ).addTo(marker_cluster_e3983cba9c3bf4ceb7cd078095406f88);\n        \n    \n            var marker_b16bd177e8a989d579d9f5ddaf5301b5 = L.marker(\n                [48.2217697, 16.3578738],\n                {}\n            ).addTo(marker_cluster_e3983cba9c3bf4ceb7cd078095406f88);\n        \n    \n            var marker_600b727ff4c564d60990023db54dbe34 = L.marker(\n                [41.3703041, 2.17141],\n                {}\n            ).addTo(marker_cluster_e3983cba9c3bf4ceb7cd078095406f88);\n        \n    \n            var marker_dfdb90ce119e80bec5158188a0ad28c7 = L.marker(\n                [45.4793852, 9.1961308],\n                {}\n            ).addTo(marker_cluster_e3983cba9c3bf4ceb7cd078095406f88);\n        \n    \n            var marker_ab27bf3c04a01b7ae0fd71428b09b123 = L.marker(\n                [41.3938632, 2.1568039],\n                {}\n            ).addTo(marker_cluster_e3983cba9c3bf4ceb7cd078095406f88);\n        \n    \n            var marker_b19dea76259ea1f2d42d9c9383924800 = L.marker(\n                [48.8713421, 2.3280723],\n                {}\n            ).addTo(marker_cluster_e3983cba9c3bf4ceb7cd078095406f88);\n        \n    \n            var marker_b06ea311f2fd8ccfe6108000803db00c = L.marker(\n                [51.504439, -0.149911],\n                {}\n            ).addTo(marker_cluster_e3983cba9c3bf4ceb7cd078095406f88);\n        \n    \n            var marker_5d989046c63df57833027b566b459070 = L.marker(\n                [52.3497431, 4.8911908],\n                {}\n            ).addTo(marker_cluster_e3983cba9c3bf4ceb7cd078095406f88);\n        \n    \n            var marker_fca5fb3f52be703953cefaf1ff215909 = L.marker(\n                [48.855263, 2.3305901],\n                {}\n            ).addTo(marker_cluster_e3983cba9c3bf4ceb7cd078095406f88);\n        \n    \n            var marker_0e419773d05564bad23fa2c47c6cabb6 = L.marker(\n                [48.2130607, 16.4133973],\n                {}\n            ).addTo(marker_cluster_e3983cba9c3bf4ceb7cd078095406f88);\n        \n    \n            var marker_7f40d0f3afe4c2369917a37cf274083e = L.marker(\n                [48.212857, 16.37986],\n                {}\n            ).addTo(marker_cluster_e3983cba9c3bf4ceb7cd078095406f88);\n        \n    \n            var marker_0fe80ddc84d3e60a7a4413ba14ee3572 = L.marker(\n                [48.8730552, 2.3540112],\n                {}\n            ).addTo(marker_cluster_e3983cba9c3bf4ceb7cd078095406f88);\n        \n    \n            var marker_6859ce3aa250fa2be2982af02a851a8a = L.marker(\n                [45.4622972, 9.1814695],\n                {}\n            ).addTo(marker_cluster_e3983cba9c3bf4ceb7cd078095406f88);\n        \n    \n            var marker_3d98cd6f7f524b95ea94145e00bc7564 = L.marker(\n                [51.4978466, -0.164156],\n                {}\n            ).addTo(marker_cluster_e3983cba9c3bf4ceb7cd078095406f88);\n        \n    \n            var marker_64defac88929c1927615a6f12bc320b2 = L.marker(\n                [45.4694772, 9.1909325],\n                {}\n            ).addTo(marker_cluster_e3983cba9c3bf4ceb7cd078095406f88);\n        \n    \n            var marker_a0a462aa48b317cd6063dfccdfa718ec = L.marker(\n                [48.8531641, 2.3344097],\n                {}\n            ).addTo(marker_cluster_e3983cba9c3bf4ceb7cd078095406f88);\n        \n    \n            var marker_12cba18c8c8eae2a405c4efad6a42242 = L.marker(\n                [52.3664077, 4.8969091],\n                {}\n            ).addTo(marker_cluster_e3983cba9c3bf4ceb7cd078095406f88);\n        \n    \n            var marker_24ecc1dcd445cafc383f437f5f7bed32 = L.marker(\n                [48.19183, 16.3770876],\n                {}\n            ).addTo(marker_cluster_e3983cba9c3bf4ceb7cd078095406f88);\n        \n    \n            var marker_b60787b9e06a0b10440e745d512d5798 = L.marker(\n                [48.8475112, 2.3022198],\n                {}\n            ).addTo(marker_cluster_e3983cba9c3bf4ceb7cd078095406f88);\n        \n    \n            var marker_03f3f6c01b7dc644a7c0cdc13a592f5e = L.marker(\n                [51.4954976, -0.1893691],\n                {}\n            ).addTo(marker_cluster_e3983cba9c3bf4ceb7cd078095406f88);\n        \n    \n            var marker_f361c3a2bf49d9a9ff7f1af92c6f6f3c = L.marker(\n                [45.469339, 9.195108],\n                {}\n            ).addTo(marker_cluster_e3983cba9c3bf4ceb7cd078095406f88);\n        \n    \n            var marker_b9d9d69ab962c9190c7c220cf88b4d02 = L.marker(\n                [48.8639318, 2.3658744],\n                {}\n            ).addTo(marker_cluster_e3983cba9c3bf4ceb7cd078095406f88);\n        \n    \n            var marker_f2db41e02cf845378a2810b6def696c6 = L.marker(\n                [48.1954348, 16.383429],\n                {}\n            ).addTo(marker_cluster_e3983cba9c3bf4ceb7cd078095406f88);\n        \n    \n            var marker_0d4447991f1ea8a79a25d7878a3a29a7 = L.marker(\n                [48.8542681, 2.3078116],\n                {}\n            ).addTo(marker_cluster_e3983cba9c3bf4ceb7cd078095406f88);\n        \n    \n            var marker_1f5396f12be17e1a3d0fe396c886c7eb = L.marker(\n                [48.8691984, 2.2979052],\n                {}\n            ).addTo(marker_cluster_e3983cba9c3bf4ceb7cd078095406f88);\n        \n    \n            var marker_600b506673e9d1e59299b666f5b078da = L.marker(\n                [48.8583127, 2.2795075],\n                {}\n            ).addTo(marker_cluster_e3983cba9c3bf4ceb7cd078095406f88);\n        \n    \n            var marker_c3f19e212c35a86ba6cb43ddf1ab658c = L.marker(\n                [45.4802503, 9.1494925],\n                {}\n            ).addTo(marker_cluster_e3983cba9c3bf4ceb7cd078095406f88);\n        \n    \n            var marker_033e59235c8f54296112ded796936695 = L.marker(\n                [48.2114567, 16.3738677],\n                {}\n            ).addTo(marker_cluster_e3983cba9c3bf4ceb7cd078095406f88);\n        \n    \n            var marker_e81c155c23aebf5d210c89714d6a97c5 = L.marker(\n                [41.3835584, 2.178311],\n                {}\n            ).addTo(marker_cluster_e3983cba9c3bf4ceb7cd078095406f88);\n        \n    \n            var marker_131a51e6424e82341c625769c7c3aedd = L.marker(\n                [48.2140659, 16.4217627],\n                {}\n            ).addTo(marker_cluster_e3983cba9c3bf4ceb7cd078095406f88);\n        \n    \n            var marker_7f0e184c3673ee7db5eadbdd6ccc2bf4 = L.marker(\n                [48.8488044, 2.3469889],\n                {}\n            ).addTo(marker_cluster_e3983cba9c3bf4ceb7cd078095406f88);\n        \n    \n            var marker_8495712fdcc0fd104c65b60e7a2c9bb6 = L.marker(\n                [51.5101401, -0.1968951],\n                {}\n            ).addTo(marker_cluster_e3983cba9c3bf4ceb7cd078095406f88);\n        \n    \n            var marker_70a53da74bc29ad161098e6ac76a7f2f = L.marker(\n                [41.4052324, 2.2117289],\n                {}\n            ).addTo(marker_cluster_e3983cba9c3bf4ceb7cd078095406f88);\n        \n    \n            var marker_c7b7e60cd02ae0862bcecab18f5dc0a2 = L.marker(\n                [51.5054832, -0.0951196],\n                {}\n            ).addTo(marker_cluster_e3983cba9c3bf4ceb7cd078095406f88);\n        \n    \n            var marker_52b6669264b0c72466e4baa8dbc2d7b0 = L.marker(\n                [51.5237209, -0.0806178],\n                {}\n            ).addTo(marker_cluster_e3983cba9c3bf4ceb7cd078095406f88);\n        \n    \n            var marker_8e973fe769e5bed2661a96e0fc9d1079 = L.marker(\n                [51.513055, -0.152257],\n                {}\n            ).addTo(marker_cluster_e3983cba9c3bf4ceb7cd078095406f88);\n        \n    \n            var marker_29377fe99770558efad153e2b1a122b5 = L.marker(\n                [41.3885274, 2.1360471],\n                {}\n            ).addTo(marker_cluster_e3983cba9c3bf4ceb7cd078095406f88);\n        \n    \n            var marker_23d01bb8d2229b37967f1a152d5b90b1 = L.marker(\n                [51.5403942, -0.3697581],\n                {}\n            ).addTo(marker_cluster_e3983cba9c3bf4ceb7cd078095406f88);\n        \n    \n            var marker_06b47250f84de630f618ac635082ab88 = L.marker(\n                [48.8708391, 2.3303651],\n                {}\n            ).addTo(marker_cluster_e3983cba9c3bf4ceb7cd078095406f88);\n        \n    \n            var marker_00f74cad735f53f29c29eb5eceeb96ab = L.marker(\n                [45.4862032, 9.200322],\n                {}\n            ).addTo(marker_cluster_e3983cba9c3bf4ceb7cd078095406f88);\n        \n    \n            var marker_179aaafd480897009ad429cfb0615789 = L.marker(\n                [41.3869565, 2.1665338],\n                {}\n            ).addTo(marker_cluster_e3983cba9c3bf4ceb7cd078095406f88);\n        \n    \n            var marker_7dcf7dfc9580bc9ea7ebb63a5f523bbc = L.marker(\n                [48.8605031, 2.3006606],\n                {}\n            ).addTo(marker_cluster_e3983cba9c3bf4ceb7cd078095406f88);\n        \n    \n            var marker_5826c8c210280e82bce4a07eb4acb918 = L.marker(\n                [48.8555319, 2.3621212],\n                {}\n            ).addTo(marker_cluster_e3983cba9c3bf4ceb7cd078095406f88);\n        \n    \n            var marker_2b65e1df315813ad23b250c729dd6f5b = L.marker(\n                [51.5016102, -0.1191545],\n                {}\n            ).addTo(marker_cluster_e3983cba9c3bf4ceb7cd078095406f88);\n        \n    \n            var marker_d0c9909567504545b33f7a787b6e90db = L.marker(\n                [48.200561, 16.3647063],\n                {}\n            ).addTo(marker_cluster_e3983cba9c3bf4ceb7cd078095406f88);\n        \n    \n            var marker_88c540664d0964847ca94c0975894a4d = L.marker(\n                [51.5109079, -0.1238221],\n                {}\n            ).addTo(marker_cluster_e3983cba9c3bf4ceb7cd078095406f88);\n        \n    \n            var marker_dd615c88d2140427225a6c3b529ef142 = L.marker(\n                [41.3832498, 2.1753483],\n                {}\n            ).addTo(marker_cluster_e3983cba9c3bf4ceb7cd078095406f88);\n        \n    \n            var marker_4bc8898dacb3eacb5f841e7a803cb753 = L.marker(\n                [41.3846844, 2.1791065],\n                {}\n            ).addTo(marker_cluster_e3983cba9c3bf4ceb7cd078095406f88);\n        \n    \n            var marker_1344e0bce3b1b22f73916d07003e5c45 = L.marker(\n                [48.8864673, 2.2948911],\n                {}\n            ).addTo(marker_cluster_e3983cba9c3bf4ceb7cd078095406f88);\n        \n    \n            var marker_7b166a3f5ccb9fac1a2fe1bb8b4ec570 = L.marker(\n                [48.8550236, 2.3350786],\n                {}\n            ).addTo(marker_cluster_e3983cba9c3bf4ceb7cd078095406f88);\n        \n    \n            var marker_d91770666214fe3bd3aff2e617307327 = L.marker(\n                [48.8553486, 2.3340736],\n                {}\n            ).addTo(marker_cluster_e3983cba9c3bf4ceb7cd078095406f88);\n        \n    \n            var marker_8150ae211f7bf3af290de470e72f753e = L.marker(\n                [48.8801757, 2.2859534],\n                {}\n            ).addTo(marker_cluster_e3983cba9c3bf4ceb7cd078095406f88);\n        \n    \n            var marker_5c5d2e12146c37461aa65c1d4284fbe9 = L.marker(\n                [48.8816306, 2.2992146],\n                {}\n            ).addTo(marker_cluster_e3983cba9c3bf4ceb7cd078095406f88);\n        \n    \n            var marker_ae4b2eedfa09f06ff021bf2691645116 = L.marker(\n                [51.5082019, -0.1545589],\n                {}\n            ).addTo(marker_cluster_e3983cba9c3bf4ceb7cd078095406f88);\n        \n    \n            var marker_81536587dd3183cd8cf0522bc72841b6 = L.marker(\n                [51.5106538, -0.0773676],\n                {}\n            ).addTo(marker_cluster_e3983cba9c3bf4ceb7cd078095406f88);\n        \n    \n            var marker_5e84463a7b01d7e90a917478d0f9088a = L.marker(\n                [51.5159214, -0.1598794],\n                {}\n            ).addTo(marker_cluster_e3983cba9c3bf4ceb7cd078095406f88);\n        \n    \n            var marker_5c4131ef143146f15f70b0fe0d8c7c82 = L.marker(\n                [48.8659899, 2.3674149],\n                {}\n            ).addTo(marker_cluster_e3983cba9c3bf4ceb7cd078095406f88);\n        \n    \n            var marker_264dfa8cdc565c72dc5aa24c91e22ce1 = L.marker(\n                [48.2114087, 16.3746469],\n                {}\n            ).addTo(marker_cluster_e3983cba9c3bf4ceb7cd078095406f88);\n        \n    \n            var marker_3d72d0a53176ffdd482b1da7050af86f = L.marker(\n                [41.3982129, 2.1494179],\n                {}\n            ).addTo(marker_cluster_e3983cba9c3bf4ceb7cd078095406f88);\n        \n    \n            var marker_9009b21afb82b22c606f82d6de9780e0 = L.marker(\n                [51.4928147, -0.1841753],\n                {}\n            ).addTo(marker_cluster_e3983cba9c3bf4ceb7cd078095406f88);\n        \n    \n            var marker_af57e0212d8d6cf01b9f0569b9f97b36 = L.marker(\n                [45.473348, 9.1910733],\n                {}\n            ).addTo(marker_cluster_e3983cba9c3bf4ceb7cd078095406f88);\n        \n    \n            var marker_d96ee95afeb803aef2af5c4e08592661 = L.marker(\n                [48.18661, 16.42058],\n                {}\n            ).addTo(marker_cluster_e3983cba9c3bf4ceb7cd078095406f88);\n        \n    \n            var marker_a99b1b101786b9ca6a1226be00219f21 = L.marker(\n                [41.4006653, 2.1787089],\n                {}\n            ).addTo(marker_cluster_e3983cba9c3bf4ceb7cd078095406f88);\n        \n    \n            var marker_0bf1b9d31f67441a252dd69aa30ab521 = L.marker(\n                [41.3944848, 2.1651078],\n                {}\n            ).addTo(marker_cluster_e3983cba9c3bf4ceb7cd078095406f88);\n        \n    \n            var marker_470ba6af93c3b48bcf68e31dd4c686e1 = L.marker(\n                [45.46676, 9.194293],\n                {}\n            ).addTo(marker_cluster_e3983cba9c3bf4ceb7cd078095406f88);\n        \n    \n            var marker_6f3f805e4f4863be3bb4f6af124ebc55 = L.marker(\n                [48.8501522, 2.3392782],\n                {}\n            ).addTo(marker_cluster_e3983cba9c3bf4ceb7cd078095406f88);\n        \n    \n            var marker_61b4dd9a03aed5152c7e96b91e181a80 = L.marker(\n                [48.883631, 2.3257643],\n                {}\n            ).addTo(marker_cluster_e3983cba9c3bf4ceb7cd078095406f88);\n        \n    \n            var marker_2ee71bac854bb9e3df52591fcea2eaf0 = L.marker(\n                [48.846837, 2.3258066],\n                {}\n            ).addTo(marker_cluster_e3983cba9c3bf4ceb7cd078095406f88);\n        \n    \n            var marker_228515c82f19be83112e45f43c0fcc0a = L.marker(\n                [48.8722884, 2.3090359],\n                {}\n            ).addTo(marker_cluster_e3983cba9c3bf4ceb7cd078095406f88);\n        \n    \n            var marker_b86cf02aa54c95e0b142ebd7e9413454 = L.marker(\n                [51.4981471, -0.1436492],\n                {}\n            ).addTo(marker_cluster_e3983cba9c3bf4ceb7cd078095406f88);\n        \n    \n            var marker_a72fbee1b21a2eeaad0de6d9dc58b80c = L.marker(\n                [52.3560923, 4.8858229],\n                {}\n            ).addTo(marker_cluster_e3983cba9c3bf4ceb7cd078095406f88);\n        \n    \n            var marker_8d71fdc76a69f4b3ad899974d2c6cd0e = L.marker(\n                [48.8708508, 2.3515882],\n                {}\n            ).addTo(marker_cluster_e3983cba9c3bf4ceb7cd078095406f88);\n        \n    \n            var marker_484f2429bfa9d580354da02d63bc190e = L.marker(\n                [48.8750848, 2.3048372],\n                {}\n            ).addTo(marker_cluster_e3983cba9c3bf4ceb7cd078095406f88);\n        \n    \n            var marker_969eb6f682d76c3ca5fbca064c34f89b = L.marker(\n                [41.3888014, 2.1653738],\n                {}\n            ).addTo(marker_cluster_e3983cba9c3bf4ceb7cd078095406f88);\n        \n    \n            var marker_70f5e0fa4b9faea80794b1afa51681e1 = L.marker(\n                [52.3763099, 4.8862701],\n                {}\n            ).addTo(marker_cluster_e3983cba9c3bf4ceb7cd078095406f88);\n        \n    \n            var marker_e50c2de1f291e903c02f8a6551ffa2f8 = L.marker(\n                [48.1965878, 16.3413729],\n                {}\n            ).addTo(marker_cluster_e3983cba9c3bf4ceb7cd078095406f88);\n        \n    \n            var marker_42a7adc29d1872e30177c89a4d539ddc = L.marker(\n                [51.5117832, -0.1194172],\n                {}\n            ).addTo(marker_cluster_e3983cba9c3bf4ceb7cd078095406f88);\n        \n    \n            var marker_4efa8b6fd7b43af7b73f99e613b08aa8 = L.marker(\n                [41.3815625, 2.1838458],\n                {}\n            ).addTo(marker_cluster_e3983cba9c3bf4ceb7cd078095406f88);\n        \n    \n            var marker_d918ff39f8c748ef59e3e0b8f39940dc = L.marker(\n                [45.4725167, 9.1439198],\n                {}\n            ).addTo(marker_cluster_e3983cba9c3bf4ceb7cd078095406f88);\n        \n    \n            var marker_482627603108d98def07e218c24c8a7a = L.marker(\n                [48.1983543, 16.3375246],\n                {}\n            ).addTo(marker_cluster_e3983cba9c3bf4ceb7cd078095406f88);\n        \n    \n            var marker_0ce7d5b6d5de45d2fe0652ac6665e6d3 = L.marker(\n                [41.3920254, 2.1554675],\n                {}\n            ).addTo(marker_cluster_e3983cba9c3bf4ceb7cd078095406f88);\n        \n    \n            var marker_07443505ecd21299de71b1e82a4bf409 = L.marker(\n                [51.5138357, -0.1797976],\n                {}\n            ).addTo(marker_cluster_e3983cba9c3bf4ceb7cd078095406f88);\n        \n    \n            var marker_d5e163561011f9d91cf2af3b3863f41d = L.marker(\n                [48.8696173, 2.3346428],\n                {}\n            ).addTo(marker_cluster_e3983cba9c3bf4ceb7cd078095406f88);\n        \n    \n            var marker_41e24ebfb2c2ebde42c203e69933762f = L.marker(\n                [48.2565936, 16.4031426],\n                {}\n            ).addTo(marker_cluster_e3983cba9c3bf4ceb7cd078095406f88);\n        \n    \n            var marker_1f4e62e11d9e5b1779e311d076151ca5 = L.marker(\n                [45.4738012, 9.2239702],\n                {}\n            ).addTo(marker_cluster_e3983cba9c3bf4ceb7cd078095406f88);\n        \n    \n            var marker_35518f91a6c14af2024268bbd52dedfe = L.marker(\n                [48.2110845, 16.3838405],\n                {}\n            ).addTo(marker_cluster_e3983cba9c3bf4ceb7cd078095406f88);\n        \n    \n            var marker_0c6115890bb64e417f50d840bd525820 = L.marker(\n                [48.869143, 2.3006526],\n                {}\n            ).addTo(marker_cluster_e3983cba9c3bf4ceb7cd078095406f88);\n        \n    \n            var marker_923a033d99c1e72dd7298dd4576bf2a8 = L.marker(\n                [48.8745879, 2.3188143],\n                {}\n            ).addTo(marker_cluster_e3983cba9c3bf4ceb7cd078095406f88);\n        \n    \n            var marker_e68854e57790bd2d5b06635e22f44980 = L.marker(\n                [48.2038688, 16.3887039],\n                {}\n            ).addTo(marker_cluster_e3983cba9c3bf4ceb7cd078095406f88);\n        \n    \n            var marker_cdedd7330496f9884087bdda19c6058c = L.marker(\n                [48.8658792, 2.3298903],\n                {}\n            ).addTo(marker_cluster_e3983cba9c3bf4ceb7cd078095406f88);\n        \n    \n            var marker_547f042483fabbf4f7393977a11537d9 = L.marker(\n                [51.5197933, -0.1241844],\n                {}\n            ).addTo(marker_cluster_e3983cba9c3bf4ceb7cd078095406f88);\n        \n    \n            var marker_d4496e106caa4306061e2d44ac62c613 = L.marker(\n                [51.4937409, -0.244896],\n                {}\n            ).addTo(marker_cluster_e3983cba9c3bf4ceb7cd078095406f88);\n        \n    \n            var marker_7910d6c21f4ac624353b93230a194cdd = L.marker(\n                [52.3527675, 4.88373],\n                {}\n            ).addTo(marker_cluster_e3983cba9c3bf4ceb7cd078095406f88);\n        \n    \n            var marker_ff1e3413489010f0738fcb683d309488 = L.marker(\n                [48.8737043, 2.3061477],\n                {}\n            ).addTo(marker_cluster_e3983cba9c3bf4ceb7cd078095406f88);\n        \n    \n            var marker_914751c57e71b767dd7cbe43ae791279 = L.marker(\n                [48.874707, 2.2936761],\n                {}\n            ).addTo(marker_cluster_e3983cba9c3bf4ceb7cd078095406f88);\n        \n    \n            var marker_3de07ec8ddb6d7279b9833668cdbdb1b = L.marker(\n                [48.8691399, 2.2981024],\n                {}\n            ).addTo(marker_cluster_e3983cba9c3bf4ceb7cd078095406f88);\n        \n    \n            var marker_4f86348820e8cef5bac1c232c7f8324e = L.marker(\n                [48.8753837, 2.2944651],\n                {}\n            ).addTo(marker_cluster_e3983cba9c3bf4ceb7cd078095406f88);\n        \n    \n            var marker_a632723179edba1813c291db0730177f = L.marker(\n                [41.385817, 2.1256789],\n                {}\n            ).addTo(marker_cluster_e3983cba9c3bf4ceb7cd078095406f88);\n        \n    \n            var marker_919f01fa12699454845c6eac0eebc544 = L.marker(\n                [41.3725246, 2.1540788],\n                {}\n            ).addTo(marker_cluster_e3983cba9c3bf4ceb7cd078095406f88);\n        \n    \n            var marker_4e05f080e2104207f663ccad4942b105 = L.marker(\n                [48.8448902, 2.252833],\n                {}\n            ).addTo(marker_cluster_e3983cba9c3bf4ceb7cd078095406f88);\n        \n    \n            var marker_456bb41a363d17b3292d9400da0b1024 = L.marker(\n                [48.8819068, 2.3410005],\n                {}\n            ).addTo(marker_cluster_e3983cba9c3bf4ceb7cd078095406f88);\n        \n    \n            var marker_66e0d3bbb75cc523d8fe8edadca10ac2 = L.marker(\n                [48.2353789, 16.4219737],\n                {}\n            ).addTo(marker_cluster_e3983cba9c3bf4ceb7cd078095406f88);\n        \n    \n            var marker_88e39fe5d9f4ab554928050e94d684d6 = L.marker(\n                [45.4858877, 9.2042827],\n                {}\n            ).addTo(marker_cluster_e3983cba9c3bf4ceb7cd078095406f88);\n        \n    \n            var marker_258373d00f028a1bc88f7c420c9530e0 = L.marker(\n                [48.8237487, 2.324056],\n                {}\n            ).addTo(marker_cluster_e3983cba9c3bf4ceb7cd078095406f88);\n        \n    \n            var marker_52134473d649144e01c1fcbca58349a1 = L.marker(\n                [48.2390022, 16.4292329],\n                {}\n            ).addTo(marker_cluster_e3983cba9c3bf4ceb7cd078095406f88);\n        \n    \n            var marker_48dfc011f1fc9879f3cdca9b4b461722 = L.marker(\n                [45.4845769, 9.2065256],\n                {}\n            ).addTo(marker_cluster_e3983cba9c3bf4ceb7cd078095406f88);\n        \n    \n            var marker_971d3a13b60b72419ac96b36105e90a9 = L.marker(\n                [45.4853717, 9.2115837],\n                {}\n            ).addTo(marker_cluster_e3983cba9c3bf4ceb7cd078095406f88);\n        \n    \n            var marker_c7c1b6a21a0feef6158432c8b8baf20b = L.marker(\n                [48.8735736, 2.335965],\n                {}\n            ).addTo(marker_cluster_e3983cba9c3bf4ceb7cd078095406f88);\n        \n    \n            var marker_835ff332fe153c8d8d4cd880cf0c0799 = L.marker(\n                [48.8648997, 2.3469433],\n                {}\n            ).addTo(marker_cluster_e3983cba9c3bf4ceb7cd078095406f88);\n        \n    \n            var marker_743337d8e987336030b6c75731c8cfec = L.marker(\n                [48.8795947, 2.3280695],\n                {}\n            ).addTo(marker_cluster_e3983cba9c3bf4ceb7cd078095406f88);\n        \n    \n            var marker_ce7af3fd4a755859110853b26940de93 = L.marker(\n                [41.4034965, 2.1370426],\n                {}\n            ).addTo(marker_cluster_e3983cba9c3bf4ceb7cd078095406f88);\n        \n    \n            var marker_75abea14941fe84f2d78deedc1b8e80f = L.marker(\n                [48.8524215, 2.3743832],\n                {}\n            ).addTo(marker_cluster_e3983cba9c3bf4ceb7cd078095406f88);\n        \n    \n            var marker_345f51db00f084613844cf2369ffbf38 = L.marker(\n                [41.3931918, 2.16152],\n                {}\n            ).addTo(marker_cluster_e3983cba9c3bf4ceb7cd078095406f88);\n        \n    \n            var marker_8a42c3b1bd8e4f1e252d598d7aac4b93 = L.marker(\n                [48.8768854, 2.3270623],\n                {}\n            ).addTo(marker_cluster_e3983cba9c3bf4ceb7cd078095406f88);\n        \n    \n            var marker_0b0bdb8e1bea67e3205a5abe3ac325be = L.marker(\n                [48.8854538, 2.3335809],\n                {}\n            ).addTo(marker_cluster_e3983cba9c3bf4ceb7cd078095406f88);\n        \n    \n            var marker_cbee9ebf084e1e84075ca41f6bfbf3a1 = L.marker(\n                [48.8349272, 2.3295913],\n                {}\n            ).addTo(marker_cluster_e3983cba9c3bf4ceb7cd078095406f88);\n        \n    \n            var marker_5357a22dde5a967cf8634bd5455ca0c9 = L.marker(\n                [41.375237, 2.1684058],\n                {}\n            ).addTo(marker_cluster_e3983cba9c3bf4ceb7cd078095406f88);\n        \n    \n            var marker_bc0acd91f78c5e859032bbee896615b7 = L.marker(\n                [48.184732, 16.3211959],\n                {}\n            ).addTo(marker_cluster_e3983cba9c3bf4ceb7cd078095406f88);\n        \n    \n            var marker_a0667a446c7f771a86f1ef3ebd540161 = L.marker(\n                [41.3909816, 2.1714938],\n                {}\n            ).addTo(marker_cluster_e3983cba9c3bf4ceb7cd078095406f88);\n        \n    \n            var marker_65b393251fce749e2ff9ea1bc39e751d = L.marker(\n                [48.8598229, 2.347111],\n                {}\n            ).addTo(marker_cluster_e3983cba9c3bf4ceb7cd078095406f88);\n        \n    \n            var marker_8ee4cf94b88642a8dd4a1b6d7c42f2fb = L.marker(\n                [48.8738557, 2.3444232],\n                {}\n            ).addTo(marker_cluster_e3983cba9c3bf4ceb7cd078095406f88);\n        \n    \n            var marker_15da1be80cf473ce9fd6a1b4be55f473 = L.marker(\n                [48.8775326, 2.293458],\n                {}\n            ).addTo(marker_cluster_e3983cba9c3bf4ceb7cd078095406f88);\n        \n    \n            var marker_ed0e6620cd5f6a4c5f620c1b26ef6f60 = L.marker(\n                [45.4851889, 9.198015],\n                {}\n            ).addTo(marker_cluster_e3983cba9c3bf4ceb7cd078095406f88);\n        \n    \n            var marker_9273f54e24521e380a0571c003d918d2 = L.marker(\n                [51.5199224, -0.2116636],\n                {}\n            ).addTo(marker_cluster_e3983cba9c3bf4ceb7cd078095406f88);\n        \n    \n            var marker_bc105357a59a4af34b194d122d83c0d9 = L.marker(\n                [48.8713619, 2.3426375],\n                {}\n            ).addTo(marker_cluster_e3983cba9c3bf4ceb7cd078095406f88);\n        \n    \n            var marker_ec68986509c56c6342b8eeb04969d425 = L.marker(\n                [51.5131428, -0.1576714],\n                {}\n            ).addTo(marker_cluster_e3983cba9c3bf4ceb7cd078095406f88);\n        \n    \n            var marker_153dabbcf99ccd7e3f0b6f5a5268b307 = L.marker(\n                [45.4770906, 9.2054208],\n                {}\n            ).addTo(marker_cluster_e3983cba9c3bf4ceb7cd078095406f88);\n        \n    \n            var marker_2bd458dd50e0299106df017d50003e27 = L.marker(\n                [48.8756508, 2.3041568],\n                {}\n            ).addTo(marker_cluster_e3983cba9c3bf4ceb7cd078095406f88);\n        \n    \n            var marker_3282e5be91b92304cbee5df6f65cc541 = L.marker(\n                [51.5220869, -0.1082443],\n                {}\n            ).addTo(marker_cluster_e3983cba9c3bf4ceb7cd078095406f88);\n        \n    \n            var marker_4067b87d8a15a2879d7c369a4dc99581 = L.marker(\n                [51.5196124, -0.1239628],\n                {}\n            ).addTo(marker_cluster_e3983cba9c3bf4ceb7cd078095406f88);\n        \n    \n            var marker_ac05db6a7939a7197f379d8a81c20a7c = L.marker(\n                [48.8713239, 2.2937849],\n                {}\n            ).addTo(marker_cluster_e3983cba9c3bf4ceb7cd078095406f88);\n        \n    \n            var marker_bf25791b42b72de58081b652226ede9b = L.marker(\n                [48.8571207, 2.3805581],\n                {}\n            ).addTo(marker_cluster_e3983cba9c3bf4ceb7cd078095406f88);\n        \n    \n            var marker_a41901254de312deb671b2dbb76a4bf0 = L.marker(\n                [45.4829817, 9.2041911],\n                {}\n            ).addTo(marker_cluster_e3983cba9c3bf4ceb7cd078095406f88);\n        \n    \n            var marker_d66c87b3688b9e256482f3952362d3b1 = L.marker(\n                [48.8630829, 2.3378592],\n                {}\n            ).addTo(marker_cluster_e3983cba9c3bf4ceb7cd078095406f88);\n        \n    \n            var marker_74e25169fc774672568b4ed65950bf8d = L.marker(\n                [41.3747031, 2.1707106],\n                {}\n            ).addTo(marker_cluster_e3983cba9c3bf4ceb7cd078095406f88);\n        \n    \n            var marker_b5d1a19b00afa911f30d33d472aef9c4 = L.marker(\n                [48.2152663, 16.376103],\n                {}\n            ).addTo(marker_cluster_e3983cba9c3bf4ceb7cd078095406f88);\n        \n    \n            var marker_99082a6a5b25146815dc44b88c93440a = L.marker(\n                [45.482442, 9.1756982],\n                {}\n            ).addTo(marker_cluster_e3983cba9c3bf4ceb7cd078095406f88);\n        \n    \n            var marker_67695a4b509da7cf5fc6a7d5f5110658 = L.marker(\n                [51.514839, -0.1586656],\n                {}\n            ).addTo(marker_cluster_e3983cba9c3bf4ceb7cd078095406f88);\n        \n    \n            var marker_06141e16b0c2d5e7ae73d23291c1a1b7 = L.marker(\n                [48.2078955, 16.3701084],\n                {}\n            ).addTo(marker_cluster_e3983cba9c3bf4ceb7cd078095406f88);\n        \n    \n            var marker_7cf65047848fd93213a99e2578b14a38 = L.marker(\n                [51.512257, -0.2034244],\n                {}\n            ).addTo(marker_cluster_e3983cba9c3bf4ceb7cd078095406f88);\n        \n    \n            var marker_126178acd53a1fd88e3f58ecc4d3e919 = L.marker(\n                [41.4061636, 2.2008956],\n                {}\n            ).addTo(marker_cluster_e3983cba9c3bf4ceb7cd078095406f88);\n        \n    \n            var marker_743c37027de9c4bc436339443a5714d2 = L.marker(\n                [48.8808779, 2.2989756],\n                {}\n            ).addTo(marker_cluster_e3983cba9c3bf4ceb7cd078095406f88);\n        \n    \n            var marker_2270b0f9fc8d1d0d9e23f990bd3a06f3 = L.marker(\n                [41.3933943, 2.1461315],\n                {}\n            ).addTo(marker_cluster_e3983cba9c3bf4ceb7cd078095406f88);\n        \n    \n            var marker_13d1e9cc2502d534201713f7935548a9 = L.marker(\n                [51.5134603, -0.1833081],\n                {}\n            ).addTo(marker_cluster_e3983cba9c3bf4ceb7cd078095406f88);\n        \n    \n            var marker_8302d7f575629c8cf66332f533567a4f = L.marker(\n                [48.8721062, 2.3451384],\n                {}\n            ).addTo(marker_cluster_e3983cba9c3bf4ceb7cd078095406f88);\n        \n    \n            var marker_005d13667baa426b380971abc5732d0a = L.marker(\n                [45.479888, 9.1962982],\n                {}\n            ).addTo(marker_cluster_e3983cba9c3bf4ceb7cd078095406f88);\n        \n    \n            var marker_2a03b3aba1347d9536f8b4488caf4a60 = L.marker(\n                [48.8662695, 2.3668616],\n                {}\n            ).addTo(marker_cluster_e3983cba9c3bf4ceb7cd078095406f88);\n        \n    \n            var marker_0cf356eb9e964712e2c66943892e560f = L.marker(\n                [48.8769204, 2.3069132],\n                {}\n            ).addTo(marker_cluster_e3983cba9c3bf4ceb7cd078095406f88);\n        \n    \n            var marker_2f964062229c653be1188b3ffc1b8734 = L.marker(\n                [48.8592264, 2.340996],\n                {}\n            ).addTo(marker_cluster_e3983cba9c3bf4ceb7cd078095406f88);\n        \n    \n            var marker_dd7faa93039b6bd8462d04ec8b0679cb = L.marker(\n                [48.8354314, 2.321142],\n                {}\n            ).addTo(marker_cluster_e3983cba9c3bf4ceb7cd078095406f88);\n        \n    \n            var marker_12a63e343ec7134569c56e4e7529c63b = L.marker(\n                [48.1825159, 16.3322428],\n                {}\n            ).addTo(marker_cluster_e3983cba9c3bf4ceb7cd078095406f88);\n        \n    \n            var marker_8d0836ccbb9c1d663b6ea37b3b1f3c76 = L.marker(\n                [48.8382916, 2.3230188],\n                {}\n            ).addTo(marker_cluster_e3983cba9c3bf4ceb7cd078095406f88);\n        \n    \n            var marker_f3096ccb16d4dfadfe70a81c883eb913 = L.marker(\n                [51.5021027, -0.187901],\n                {}\n            ).addTo(marker_cluster_e3983cba9c3bf4ceb7cd078095406f88);\n        \n    \n            var marker_e0983fa5c36169b323f7c1de87ea7ce1 = L.marker(\n                [48.8518584, 2.3447798],\n                {}\n            ).addTo(marker_cluster_e3983cba9c3bf4ceb7cd078095406f88);\n        \n    \n            var marker_5dded8e2b9f10307d891395bce833bf6 = L.marker(\n                [51.5184158, -0.1348509],\n                {}\n            ).addTo(marker_cluster_e3983cba9c3bf4ceb7cd078095406f88);\n        \n    \n            var marker_b9c8466dc97c6632412ed40774ab66f5 = L.marker(\n                [41.3936071, 2.1504611],\n                {}\n            ).addTo(marker_cluster_e3983cba9c3bf4ceb7cd078095406f88);\n        \n    \n            var marker_3772f360a788b0df5480e4bb8ca86c96 = L.marker(\n                [48.8613055, 2.2862823],\n                {}\n            ).addTo(marker_cluster_e3983cba9c3bf4ceb7cd078095406f88);\n        \n    \n            var marker_aa7bbcce6ac1634a16caab553a19b209 = L.marker(\n                [41.3941338, 2.1489569],\n                {}\n            ).addTo(marker_cluster_e3983cba9c3bf4ceb7cd078095406f88);\n        \n    \n            var marker_3108561959f9f8ec70d80314aa42dbd0 = L.marker(\n                [51.5120219, -0.1762414],\n                {}\n            ).addTo(marker_cluster_e3983cba9c3bf4ceb7cd078095406f88);\n        \n    \n            var marker_9a69821a9e9d53d9ed43751f1bd00c2f = L.marker(\n                [41.4037972, 2.213767],\n                {}\n            ).addTo(marker_cluster_e3983cba9c3bf4ceb7cd078095406f88);\n        \n    \n            var marker_d0a0a4b621439157dcde74ef3ea24497 = L.marker(\n                [41.3895263, 2.1747136],\n                {}\n            ).addTo(marker_cluster_e3983cba9c3bf4ceb7cd078095406f88);\n        \n    \n            var marker_9e3467974e0988706c35d3a33de3d70e = L.marker(\n                [41.3815028, 2.1449138],\n                {}\n            ).addTo(marker_cluster_e3983cba9c3bf4ceb7cd078095406f88);\n        \n    \n            var marker_8e53810d5260d5173e6a009dabdd6b84 = L.marker(\n                [48.8741002, 2.3426357],\n                {}\n            ).addTo(marker_cluster_e3983cba9c3bf4ceb7cd078095406f88);\n        \n    \n            var marker_9fa67408ad53cedb0bc9e5c0c7fba5ed = L.marker(\n                [41.3917169, 2.1592614],\n                {}\n            ).addTo(marker_cluster_e3983cba9c3bf4ceb7cd078095406f88);\n        \n    \n            var marker_eb2ea9a1211c710db444e7105ec7ba8c = L.marker(\n                [48.8644967, 2.3405415],\n                {}\n            ).addTo(marker_cluster_e3983cba9c3bf4ceb7cd078095406f88);\n        \n    \n            var marker_4c58ec2ef3c40c21629911f44b4d627d = L.marker(\n                [52.3653868, 4.8931979],\n                {}\n            ).addTo(marker_cluster_e3983cba9c3bf4ceb7cd078095406f88);\n        \n    \n            var marker_c6a78b57e8c6c4616a040125d594b15d = L.marker(\n                [51.5142054, -0.1766098],\n                {}\n            ).addTo(marker_cluster_e3983cba9c3bf4ceb7cd078095406f88);\n        \n    \n            var marker_b62081e4f4cbbeba01012246da1a0655 = L.marker(\n                [48.866435, 2.3251076],\n                {}\n            ).addTo(marker_cluster_e3983cba9c3bf4ceb7cd078095406f88);\n        \n    \n            var marker_e1c09be88f687cf02214d06a5fc4309c = L.marker(\n                [45.4813423, 9.2039494],\n                {}\n            ).addTo(marker_cluster_e3983cba9c3bf4ceb7cd078095406f88);\n        \n    \n            var marker_a8b9b1595fc71f243a7feb0f7cb11eac = L.marker(\n                [51.509841, -0.1552193],\n                {}\n            ).addTo(marker_cluster_e3983cba9c3bf4ceb7cd078095406f88);\n        \n    \n            var marker_68ae2c371fc3ac4e8a0187f3ebce21f5 = L.marker(\n                [45.4691663, 9.1984454],\n                {}\n            ).addTo(marker_cluster_e3983cba9c3bf4ceb7cd078095406f88);\n        \n    \n            var marker_82acda48f8a0d5f973242d51f5c6a14e = L.marker(\n                [48.8503074, 2.3450612],\n                {}\n            ).addTo(marker_cluster_e3983cba9c3bf4ceb7cd078095406f88);\n        \n    \n            var marker_fa872fe08a5db59e55b30c7efda086b2 = L.marker(\n                [41.4002812, 2.1297427],\n                {}\n            ).addTo(marker_cluster_e3983cba9c3bf4ceb7cd078095406f88);\n        \n    \n            var marker_9d8dc657a653258a3ec39894273fce84 = L.marker(\n                [51.4990953, -0.1132136],\n                {}\n            ).addTo(marker_cluster_e3983cba9c3bf4ceb7cd078095406f88);\n        \n    \n            var marker_c0676bc2e12c7df054d77f56f265baac = L.marker(\n                [48.21814, 16.34304],\n                {}\n            ).addTo(marker_cluster_e3983cba9c3bf4ceb7cd078095406f88);\n        \n    \n            var marker_1826ebc86efb65086da86f763d4e07af = L.marker(\n                [45.4508673, 9.1948659],\n                {}\n            ).addTo(marker_cluster_e3983cba9c3bf4ceb7cd078095406f88);\n        \n    \n            var marker_ac73e3eccfdc3ce75c319bb96e90cc9c = L.marker(\n                [48.8485387, 2.3479852],\n                {}\n            ).addTo(marker_cluster_e3983cba9c3bf4ceb7cd078095406f88);\n        \n    \n            var marker_48955a6300ffe878081c6e29a79ff820 = L.marker(\n                [48.8252307, 2.3569005],\n                {}\n            ).addTo(marker_cluster_e3983cba9c3bf4ceb7cd078095406f88);\n        \n    \n            var marker_ac29bde898f9605b0296f2aa53c3197c = L.marker(\n                [48.8688962, 2.2827459],\n                {}\n            ).addTo(marker_cluster_e3983cba9c3bf4ceb7cd078095406f88);\n        \n    \n            var marker_4c74408eae99b1b32feb19103af7ada3 = L.marker(\n                [45.4868744, 9.2018407],\n                {}\n            ).addTo(marker_cluster_e3983cba9c3bf4ceb7cd078095406f88);\n        \n    \n            var marker_402305b99255fc0b8aaccd6fce4f2eed = L.marker(\n                [41.3859873, 2.1514021],\n                {}\n            ).addTo(marker_cluster_e3983cba9c3bf4ceb7cd078095406f88);\n        \n    \n            var marker_d08820ec2c3f4c677b7b7c501ede45ce = L.marker(\n                [48.8837472, 2.3186342],\n                {}\n            ).addTo(marker_cluster_e3983cba9c3bf4ceb7cd078095406f88);\n        \n    \n            var marker_5af6b9f6d5cc5596d285709f5a15d0e8 = L.marker(\n                [48.1899743, 16.3567007],\n                {}\n            ).addTo(marker_cluster_e3983cba9c3bf4ceb7cd078095406f88);\n        \n    \n            var marker_a55524abe519427c5736e841707cbed2 = L.marker(\n                [48.2048494, 16.343618],\n                {}\n            ).addTo(marker_cluster_e3983cba9c3bf4ceb7cd078095406f88);\n        \n    \n            var marker_d570253a1973bb5aa85bd2d08ef47a21 = L.marker(\n                [48.8684776, 2.3298238],\n                {}\n            ).addTo(marker_cluster_e3983cba9c3bf4ceb7cd078095406f88);\n        \n    \n            var marker_7050ba24311a0cfd76bd884694778e7d = L.marker(\n                [48.8605219, 2.3680239],\n                {}\n            ).addTo(marker_cluster_e3983cba9c3bf4ceb7cd078095406f88);\n        \n    \n            var marker_54aeffacbc3aedfbf0752c19bc7a7e84 = L.marker(\n                [48.2105243, 16.3683592],\n                {}\n            ).addTo(marker_cluster_e3983cba9c3bf4ceb7cd078095406f88);\n        \n    \n            var marker_529c0e91b94c6f925b57fbbef6a2966a = L.marker(\n                [41.3999934, 2.1452467],\n                {}\n            ).addTo(marker_cluster_e3983cba9c3bf4ceb7cd078095406f88);\n        \n    \n            var marker_e0b0705794d5430f00c662ba662aadb3 = L.marker(\n                [41.3837453, 2.171014],\n                {}\n            ).addTo(marker_cluster_e3983cba9c3bf4ceb7cd078095406f88);\n        \n    \n            var marker_6e28db1bc8ee033734a5f8ff78f4ecee = L.marker(\n                [48.8729676, 2.3081178],\n                {}\n            ).addTo(marker_cluster_e3983cba9c3bf4ceb7cd078095406f88);\n        \n    \n            var marker_32f1fcd56732a09e4e0a788dd948d199 = L.marker(\n                [52.3654686, 4.8798713],\n                {}\n            ).addTo(marker_cluster_e3983cba9c3bf4ceb7cd078095406f88);\n        \n    \n            var marker_1c8baa83db5da17fd8ee4d541fc2c3e0 = L.marker(\n                [45.4790357, 9.199028],\n                {}\n            ).addTo(marker_cluster_e3983cba9c3bf4ceb7cd078095406f88);\n        \n    \n            var marker_a8e0f5c91d35d3340b311b39914c59c5 = L.marker(\n                [48.8597024, 2.3239701],\n                {}\n            ).addTo(marker_cluster_e3983cba9c3bf4ceb7cd078095406f88);\n        \n    \n            var marker_81e227cf2e593001372e2d854d5a3a9c = L.marker(\n                [45.4851799, 9.1831189],\n                {}\n            ).addTo(marker_cluster_e3983cba9c3bf4ceb7cd078095406f88);\n        \n    \n            var marker_5f55627bd1383539ccd8aac4969e85f5 = L.marker(\n                [48.8497618, 2.3392336],\n                {}\n            ).addTo(marker_cluster_e3983cba9c3bf4ceb7cd078095406f88);\n        \n    \n            var marker_bfe33cbb0c1d38ebf44e37c703178256 = L.marker(\n                [45.4911829, 9.2393614],\n                {}\n            ).addTo(marker_cluster_e3983cba9c3bf4ceb7cd078095406f88);\n        \n    \n            var marker_713aa6e8558e512dbe75c1fe57be1139 = L.marker(\n                [48.8450894, 2.3209503],\n                {}\n            ).addTo(marker_cluster_e3983cba9c3bf4ceb7cd078095406f88);\n        \n    \n            var marker_41a994774f69453964cc4ddb10cd0e04 = L.marker(\n                [48.8554268, 2.4152555],\n                {}\n            ).addTo(marker_cluster_e3983cba9c3bf4ceb7cd078095406f88);\n        \n    \n            var marker_3fb5cb84c5c12f187376242a3b8167cb = L.marker(\n                [48.8384558, 2.3805885],\n                {}\n            ).addTo(marker_cluster_e3983cba9c3bf4ceb7cd078095406f88);\n        \n    \n            var marker_08bd7aa835f94f2f57d1d1e05b3cb6fe = L.marker(\n                [41.3935179, 2.1639813],\n                {}\n            ).addTo(marker_cluster_e3983cba9c3bf4ceb7cd078095406f88);\n        \n    \n            var marker_c1dc692ad67f5a27c375583133f15505 = L.marker(\n                [48.8562272, 2.3351758],\n                {}\n            ).addTo(marker_cluster_e3983cba9c3bf4ceb7cd078095406f88);\n        \n    \n            var marker_23560559d80aa3f98bcdaed2fa1a53f0 = L.marker(\n                [48.8794682, 2.3334957],\n                {}\n            ).addTo(marker_cluster_e3983cba9c3bf4ceb7cd078095406f88);\n        \n    \n            var marker_3be4a248a59434b79e675ed878d8078a = L.marker(\n                [48.8825781, 2.3334805],\n                {}\n            ).addTo(marker_cluster_e3983cba9c3bf4ceb7cd078095406f88);\n        \n    \n            var marker_2081e58af66c582207aba1bb2413d4b3 = L.marker(\n                [48.1829645, 16.3776709],\n                {}\n            ).addTo(marker_cluster_e3983cba9c3bf4ceb7cd078095406f88);\n        \n    \n            var marker_9d0d2fba3efbaef29d1e8e20d21b8ab8 = L.marker(\n                [48.8716017, 2.3349768],\n                {}\n            ).addTo(marker_cluster_e3983cba9c3bf4ceb7cd078095406f88);\n        \n    \n            var marker_405702f80f5a3d66b51c593429090f85 = L.marker(\n                [48.9015941, 2.3597783],\n                {}\n            ).addTo(marker_cluster_e3983cba9c3bf4ceb7cd078095406f88);\n        \n    \n            var marker_62d32c3cfe0fbc3362d0e1a77a78ee55 = L.marker(\n                [48.8742767, 2.3426276],\n                {}\n            ).addTo(marker_cluster_e3983cba9c3bf4ceb7cd078095406f88);\n        \n    \n            var marker_aa2a32cb2328c42796dfefb5f58eeeda = L.marker(\n                [41.3961294, 2.1551626],\n                {}\n            ).addTo(marker_cluster_e3983cba9c3bf4ceb7cd078095406f88);\n        \n    \n            var marker_ab6df9d770140e4e03b4dedfe7e91b05 = L.marker(\n                [48.8704371, 2.329236],\n                {}\n            ).addTo(marker_cluster_e3983cba9c3bf4ceb7cd078095406f88);\n        \n    \n            var marker_e08f94443f3dd483611ee185cef36449 = L.marker(\n                [48.8689307, 2.2974503],\n                {}\n            ).addTo(marker_cluster_e3983cba9c3bf4ceb7cd078095406f88);\n        \n    \n            var marker_ab81fbc392348d37c55c1d9d0c209882 = L.marker(\n                [51.5074007, -0.1524593],\n                {}\n            ).addTo(marker_cluster_e3983cba9c3bf4ceb7cd078095406f88);\n        \n    \n            var marker_be55c086f171d3999ba3f5b77ccbc3bc = L.marker(\n                [48.2196722, 16.3863588],\n                {}\n            ).addTo(marker_cluster_e3983cba9c3bf4ceb7cd078095406f88);\n        \n    \n            var marker_02d3b77c0a5febf9c4c6be6c3007a5bb = L.marker(\n                [48.2087646, 16.3721138],\n                {}\n            ).addTo(marker_cluster_e3983cba9c3bf4ceb7cd078095406f88);\n        \n    \n            var marker_f0cb053431d75088ef11a82113306fdb = L.marker(\n                [51.4997486, -0.1615242],\n                {}\n            ).addTo(marker_cluster_e3983cba9c3bf4ceb7cd078095406f88);\n        \n    \n            var marker_91daa2eb0ec8b561283d6e05331087c1 = L.marker(\n                [41.376801, 2.1460443],\n                {}\n            ).addTo(marker_cluster_e3983cba9c3bf4ceb7cd078095406f88);\n        \n    \n            var marker_b3ea754e54b2b66de6098fd205e09ec4 = L.marker(\n                [45.4667717, 9.1871001],\n                {}\n            ).addTo(marker_cluster_e3983cba9c3bf4ceb7cd078095406f88);\n        \n    \n            var marker_ec6e37d89a2674ca5b1d336eb937c5ab = L.marker(\n                [48.8730823, 2.309659],\n                {}\n            ).addTo(marker_cluster_e3983cba9c3bf4ceb7cd078095406f88);\n        \n    \n            var marker_336c76f4676cc6af2642f1af7f887987 = L.marker(\n                [52.364768, 4.896945],\n                {}\n            ).addTo(marker_cluster_e3983cba9c3bf4ceb7cd078095406f88);\n        \n    \n            var marker_ca734393821b0fa45ef831fcb482c795 = L.marker(\n                [48.8482842, 2.3657251],\n                {}\n            ).addTo(marker_cluster_e3983cba9c3bf4ceb7cd078095406f88);\n        \n    \n            var marker_88bf4aa3e30b53e86903afedea50ced5 = L.marker(\n                [45.500667, 9.1445874],\n                {}\n            ).addTo(marker_cluster_e3983cba9c3bf4ceb7cd078095406f88);\n        \n    \n            var marker_5f59337317bef4941959288a4b381039 = L.marker(\n                [48.8836255, 2.3340538],\n                {}\n            ).addTo(marker_cluster_e3983cba9c3bf4ceb7cd078095406f88);\n        \n    \n            var marker_e2b7be4d23f9b7fb699f0449cd7d8ce1 = L.marker(\n                [48.8654726, 2.3292934],\n                {}\n            ).addTo(marker_cluster_e3983cba9c3bf4ceb7cd078095406f88);\n        \n    \n            var marker_d4f2f61c4fca5fdbfd9835641f8a1612 = L.marker(\n                [52.3611852, 4.8936341],\n                {}\n            ).addTo(marker_cluster_e3983cba9c3bf4ceb7cd078095406f88);\n        \n    \n            var marker_a5d007d2e6a39d48f4d2d68f46141a37 = L.marker(\n                [41.3944029, 2.150194],\n                {}\n            ).addTo(marker_cluster_e3983cba9c3bf4ceb7cd078095406f88);\n        \n    \n            var marker_087611d8987f84856155049389f3e1b7 = L.marker(\n                [51.5066991, -0.0280208],\n                {}\n            ).addTo(marker_cluster_e3983cba9c3bf4ceb7cd078095406f88);\n        \n    \n            var marker_3b96b74258ca609c5e3db6bd4581d343 = L.marker(\n                [48.2216779, 16.3567111],\n                {}\n            ).addTo(marker_cluster_e3983cba9c3bf4ceb7cd078095406f88);\n        \n    \n            var marker_80bdb7a0916a70b29d639b41da83b1c3 = L.marker(\n                [48.8370334, 2.372322],\n                {}\n            ).addTo(marker_cluster_e3983cba9c3bf4ceb7cd078095406f88);\n        \n    \n            var marker_ca7212048cf4677ac5ef8a1c216114b4 = L.marker(\n                [45.4648822, 9.1893265],\n                {}\n            ).addTo(marker_cluster_e3983cba9c3bf4ceb7cd078095406f88);\n        \n    \n            var marker_94cfcc7f8bf67f0b448c9f268dd7d702 = L.marker(\n                [51.5215257, -0.1533039],\n                {}\n            ).addTo(marker_cluster_e3983cba9c3bf4ceb7cd078095406f88);\n        \n    \n            var marker_e6dd3ff64504685486028fd3be27da42 = L.marker(\n                [45.50054, 9.2208089],\n                {}\n            ).addTo(marker_cluster_e3983cba9c3bf4ceb7cd078095406f88);\n        \n    \n            var marker_6987855357a458a00efad670639a1d42 = L.marker(\n                [48.2133296, 16.3471399],\n                {}\n            ).addTo(marker_cluster_e3983cba9c3bf4ceb7cd078095406f88);\n        \n    \n            var marker_7627b0ee167a1f106f6b013f9e0a5f47 = L.marker(\n                [48.8821595, 2.3367444],\n                {}\n            ).addTo(marker_cluster_e3983cba9c3bf4ceb7cd078095406f88);\n        \n    \n            var marker_558ae7a4e47f5ffbcb3161f8a0d753c3 = L.marker(\n                [48.8657687, 2.3090386],\n                {}\n            ).addTo(marker_cluster_e3983cba9c3bf4ceb7cd078095406f88);\n        \n    \n            var marker_9bf2d3e70ef93f54526cf856dfd7879a = L.marker(\n                [48.8725794, 2.3075779],\n                {}\n            ).addTo(marker_cluster_e3983cba9c3bf4ceb7cd078095406f88);\n        \n    \n            var marker_6db6d1dc468c926913e98ece3c86de01 = L.marker(\n                [48.8430523, 2.3422519],\n                {}\n            ).addTo(marker_cluster_e3983cba9c3bf4ceb7cd078095406f88);\n        \n    \n            var marker_ec6ee2b03b817fd32e7a93bb8ec96f1a = L.marker(\n                [41.4031654, 2.1231637],\n                {}\n            ).addTo(marker_cluster_e3983cba9c3bf4ceb7cd078095406f88);\n        \n    \n            var marker_e720848e51686dada33156fd4aa69289 = L.marker(\n                [48.2185837, 16.3881339],\n                {}\n            ).addTo(marker_cluster_e3983cba9c3bf4ceb7cd078095406f88);\n        \n    \n            var marker_9ef076ae68a0825a10bd0b34d6eaf013 = L.marker(\n                [48.8688155, 2.3305236],\n                {}\n            ).addTo(marker_cluster_e3983cba9c3bf4ceb7cd078095406f88);\n        \n    \n            var marker_bd39203a8f406087d1fc2e773b96ab5d = L.marker(\n                [52.3678779, 4.8948936],\n                {}\n            ).addTo(marker_cluster_e3983cba9c3bf4ceb7cd078095406f88);\n        \n    \n            var marker_684be6fbfe1159445755f35137efe9c0 = L.marker(\n                [45.4524879, 9.1669784],\n                {}\n            ).addTo(marker_cluster_e3983cba9c3bf4ceb7cd078095406f88);\n        \n    \n            var marker_cfcf1e66b4c35a11b197937d1805a29c = L.marker(\n                [48.8398194, 2.3235877],\n                {}\n            ).addTo(marker_cluster_e3983cba9c3bf4ceb7cd078095406f88);\n        \n    \n            var marker_3843f8c8c2e8722b09c1bd90db4a4cd8 = L.marker(\n                [51.5116049, -0.1383145],\n                {}\n            ).addTo(marker_cluster_e3983cba9c3bf4ceb7cd078095406f88);\n        \n    \n            var marker_5208c5d2c644fd71dbb34da9adf6c4b3 = L.marker(\n                [45.480515, 9.160063],\n                {}\n            ).addTo(marker_cluster_e3983cba9c3bf4ceb7cd078095406f88);\n        \n    \n            var marker_39b053386aff2b1251d92743bec04a4e = L.marker(\n                [48.8772093, 2.2968266],\n                {}\n            ).addTo(marker_cluster_e3983cba9c3bf4ceb7cd078095406f88);\n        \n    \n            var marker_ce3cb0bcc9a9778f443e27acc46f0523 = L.marker(\n                [45.4802415, 9.2131919],\n                {}\n            ).addTo(marker_cluster_e3983cba9c3bf4ceb7cd078095406f88);\n        \n    \n            var marker_21cf42a39c2c897cdec1e25e676052a1 = L.marker(\n                [51.5458476, -0.0554113],\n                {}\n            ).addTo(marker_cluster_e3983cba9c3bf4ceb7cd078095406f88);\n        \n    \n            var marker_3c33ef622652705c6a1703e8a1011ee2 = L.marker(\n                [48.8920485, 2.3023791],\n                {}\n            ).addTo(marker_cluster_e3983cba9c3bf4ceb7cd078095406f88);\n        \n    \n            var marker_5626739f4050cee68a864af8924e7ab4 = L.marker(\n                [48.1776236, 16.3243588],\n                {}\n            ).addTo(marker_cluster_e3983cba9c3bf4ceb7cd078095406f88);\n        \n    \n            var marker_5500f95ccfebf432c577cb32641bf53d = L.marker(\n                [48.8595985, 2.3088076],\n                {}\n            ).addTo(marker_cluster_e3983cba9c3bf4ceb7cd078095406f88);\n        \n    \n            var marker_fd92908abd7b2608eea02373dbc160ad = L.marker(\n                [51.4944849, -0.1884174],\n                {}\n            ).addTo(marker_cluster_e3983cba9c3bf4ceb7cd078095406f88);\n        \n    \n            var marker_ce8e7886e29fabde3e8706701f8db940 = L.marker(\n                [48.849147, 2.3471935],\n                {}\n            ).addTo(marker_cluster_e3983cba9c3bf4ceb7cd078095406f88);\n        \n    \n            var marker_51d5afc1d4ecd404c98d9608fb80337a = L.marker(\n                [48.8491801, 2.3423357],\n                {}\n            ).addTo(marker_cluster_e3983cba9c3bf4ceb7cd078095406f88);\n        \n    \n            var marker_cee81d6d674b89fff3c0d212b5ef7e33 = L.marker(\n                [48.853299, 2.337993],\n                {}\n            ).addTo(marker_cluster_e3983cba9c3bf4ceb7cd078095406f88);\n        \n    \n            var marker_31b4f3f90652d2168a887f8400f6bdc5 = L.marker(\n                [48.8493082, 2.2743626],\n                {}\n            ).addTo(marker_cluster_e3983cba9c3bf4ceb7cd078095406f88);\n        \n    \n            var marker_ebf5bdb89a1cec1a907f936ae791aa99 = L.marker(\n                [48.8753446, 2.3167161],\n                {}\n            ).addTo(marker_cluster_e3983cba9c3bf4ceb7cd078095406f88);\n        \n    \n            var marker_c206484d79465c867b683a77c4544450 = L.marker(\n                [48.23356, 16.34569],\n                {}\n            ).addTo(marker_cluster_e3983cba9c3bf4ceb7cd078095406f88);\n        \n    \n            var marker_12cafb79ff0e5a7ea57ee9fba053d54f = L.marker(\n                [48.8713699, 2.3181191],\n                {}\n            ).addTo(marker_cluster_e3983cba9c3bf4ceb7cd078095406f88);\n        \n    \n            var marker_c017c54b4be1f898d21787f614e23946 = L.marker(\n                [48.8710605, 2.2933537],\n                {}\n            ).addTo(marker_cluster_e3983cba9c3bf4ceb7cd078095406f88);\n        \n    \n            var marker_fab0d2f7f8fe9877d5b6bee33b19ac74 = L.marker(\n                [48.875551, 2.2835191],\n                {}\n            ).addTo(marker_cluster_e3983cba9c3bf4ceb7cd078095406f88);\n        \n    \n            var marker_d15f982af9064a1255dddeae1cc36045 = L.marker(\n                [48.865467, 2.3038811],\n                {}\n            ).addTo(marker_cluster_e3983cba9c3bf4ceb7cd078095406f88);\n        \n    \n            var marker_69755bb1333041a423a7e4498aac4b66 = L.marker(\n                [48.8692566, 2.3339369],\n                {}\n            ).addTo(marker_cluster_e3983cba9c3bf4ceb7cd078095406f88);\n        \n    \n            var marker_da76961f1a268d4d04e610392fec9205 = L.marker(\n                [45.4656023, 9.1778675],\n                {}\n            ).addTo(marker_cluster_e3983cba9c3bf4ceb7cd078095406f88);\n        \n    \n            var marker_13a3137112ec25759035c0aa780278ec = L.marker(\n                [51.5052188, -0.088166],\n                {}\n            ).addTo(marker_cluster_e3983cba9c3bf4ceb7cd078095406f88);\n        \n    \n            var marker_e51f6327eff3f29ea937a018e6d4641e = L.marker(\n                [51.5052587, -0.099176],\n                {}\n            ).addTo(marker_cluster_e3983cba9c3bf4ceb7cd078095406f88);\n        \n    \n            var marker_7c6ca4d7c155d7a64107bb966b4d0c47 = L.marker(\n                [45.463135, 9.2102],\n                {}\n            ).addTo(marker_cluster_e3983cba9c3bf4ceb7cd078095406f88);\n        \n    \n            var marker_1c46332092de5fe185393cf2e0e8488e = L.marker(\n                [48.8732543, 2.343239],\n                {}\n            ).addTo(marker_cluster_e3983cba9c3bf4ceb7cd078095406f88);\n        \n    \n            var marker_7fe325fdcbf26db979e105c270f43b98 = L.marker(\n                [52.3657281, 4.8972883],\n                {}\n            ).addTo(marker_cluster_e3983cba9c3bf4ceb7cd078095406f88);\n        \n    \n            var marker_c94dd06b7cd06720557e1b074f584b8b = L.marker(\n                [48.8754371, 2.3434586],\n                {}\n            ).addTo(marker_cluster_e3983cba9c3bf4ceb7cd078095406f88);\n        \n    \n            var marker_612f771141261883aeb9b87d8ea3dce6 = L.marker(\n                [48.8412131, 2.3302954],\n                {}\n            ).addTo(marker_cluster_e3983cba9c3bf4ceb7cd078095406f88);\n        \n    \n            var marker_6177b2855af16571c7464bfa54c0277f = L.marker(\n                [48.2149414, 16.3365285],\n                {}\n            ).addTo(marker_cluster_e3983cba9c3bf4ceb7cd078095406f88);\n        \n    \n            var marker_903d28c238844bdc68a8fbb9368b1a19 = L.marker(\n                [48.881407, 2.3274204],\n                {}\n            ).addTo(marker_cluster_e3983cba9c3bf4ceb7cd078095406f88);\n        \n    \n            var marker_abd467152ef0ad705702372322f8be30 = L.marker(\n                [48.8645647, 2.2821827],\n                {}\n            ).addTo(marker_cluster_e3983cba9c3bf4ceb7cd078095406f88);\n        \n    \n            var marker_aa36a159ef22bae9bdd47520afb96678 = L.marker(\n                [48.8538608, 2.3429487],\n                {}\n            ).addTo(marker_cluster_e3983cba9c3bf4ceb7cd078095406f88);\n        \n    \n            var marker_c42ab19d89337f2415c02b845b9bc4dc = L.marker(\n                [45.4792738, 9.1459546],\n                {}\n            ).addTo(marker_cluster_e3983cba9c3bf4ceb7cd078095406f88);\n        \n    \n            var marker_4ec8a8b4dd0c60ec8cb3603fdd3dadb7 = L.marker(\n                [48.8746128, 2.3056956],\n                {}\n            ).addTo(marker_cluster_e3983cba9c3bf4ceb7cd078095406f88);\n        \n    \n            var marker_75331545e4b27f425416160a488ef60f = L.marker(\n                [48.8632723, 2.352691],\n                {}\n            ).addTo(marker_cluster_e3983cba9c3bf4ceb7cd078095406f88);\n        \n    \n            var marker_ed5ba9fbfda082466e2168bea42db89e = L.marker(\n                [41.4006708, 2.2087844],\n                {}\n            ).addTo(marker_cluster_e3983cba9c3bf4ceb7cd078095406f88);\n        \n    \n            var marker_c5e19db6adcca7a88a4eed6d83ef277d = L.marker(\n                [52.3357326, 4.8743947],\n                {}\n            ).addTo(marker_cluster_e3983cba9c3bf4ceb7cd078095406f88);\n        \n    \n            var marker_946e79f228d6e2196c6fb62e19d64bc6 = L.marker(\n                [41.3893478, 2.1209755],\n                {}\n            ).addTo(marker_cluster_e3983cba9c3bf4ceb7cd078095406f88);\n        \n    \n            var marker_003d5d2971c200d1e23597a23d0d711a = L.marker(\n                [48.8814056, 2.3282568],\n                {}\n            ).addTo(marker_cluster_e3983cba9c3bf4ceb7cd078095406f88);\n        \n    \n            var marker_81f4d971d07b94528d76a89664f79e60 = L.marker(\n                [45.4872511, 9.2237385],\n                {}\n            ).addTo(marker_cluster_e3983cba9c3bf4ceb7cd078095406f88);\n        \n    \n            var marker_eb78e35c42dae830d0772e52ffab1ea6 = L.marker(\n                [48.886687, 2.3449332],\n                {}\n            ).addTo(marker_cluster_e3983cba9c3bf4ceb7cd078095406f88);\n        \n    \n            var marker_556c73cf2a731dccb4a89aa317e60401 = L.marker(\n                [48.8694755, 2.3046954],\n                {}\n            ).addTo(marker_cluster_e3983cba9c3bf4ceb7cd078095406f88);\n        \n    \n            var marker_eb9f1edae1cc5daa63631cd4da9072b6 = L.marker(\n                [51.4936161, -0.1592347],\n                {}\n            ).addTo(marker_cluster_e3983cba9c3bf4ceb7cd078095406f88);\n        \n    \n            var marker_1a0b07b32fedc96a0d0802bb7f1df4d3 = L.marker(\n                [48.8719212, 2.2971404],\n                {}\n            ).addTo(marker_cluster_e3983cba9c3bf4ceb7cd078095406f88);\n        \n    \n            var marker_5de7ca424e5efb3d0b4ec8ab30c6345f = L.marker(\n                [41.3922919, 2.1622256],\n                {}\n            ).addTo(marker_cluster_e3983cba9c3bf4ceb7cd078095406f88);\n        \n    \n            var marker_2ed093924c890b3bc0148639c8e03eb3 = L.marker(\n                [48.8797331, 2.3206003],\n                {}\n            ).addTo(marker_cluster_e3983cba9c3bf4ceb7cd078095406f88);\n        \n    \n            var marker_1b0f5325aef20b366b267e05b10c00c7 = L.marker(\n                [52.3727871, 4.8900059],\n                {}\n            ).addTo(marker_cluster_e3983cba9c3bf4ceb7cd078095406f88);\n        \n    \n            var marker_8114e3e423096700f511e62055d9a697 = L.marker(\n                [41.4126508, 2.2090895],\n                {}\n            ).addTo(marker_cluster_e3983cba9c3bf4ceb7cd078095406f88);\n        \n    \n            var marker_e844b056cb13b893946b2321c2755884 = L.marker(\n                [51.4960283, -0.1686355],\n                {}\n            ).addTo(marker_cluster_e3983cba9c3bf4ceb7cd078095406f88);\n        \n    \n            var marker_6aa58e3351fe8336edeefc8dc2e0f1a5 = L.marker(\n                [48.8668564, 2.3286339],\n                {}\n            ).addTo(marker_cluster_e3983cba9c3bf4ceb7cd078095406f88);\n        \n    \n            var marker_36c9a4292cec02ca83c4d2efb8d2f702 = L.marker(\n                [48.8427564, 2.3305636],\n                {}\n            ).addTo(marker_cluster_e3983cba9c3bf4ceb7cd078095406f88);\n        \n    \n            var marker_3c6d138a2f91868612545e25fb62c599 = L.marker(\n                [51.498861, -0.1374897],\n                {}\n            ).addTo(marker_cluster_e3983cba9c3bf4ceb7cd078095406f88);\n        \n    \n            var marker_7ac023ca40b8782707bcd299ff1800c7 = L.marker(\n                [48.8474426, 2.3223783],\n                {}\n            ).addTo(marker_cluster_e3983cba9c3bf4ceb7cd078095406f88);\n        \n    \n            var marker_470f12ed859b4544e3fa8e263d7e9815 = L.marker(\n                [48.8820838, 2.3315849],\n                {}\n            ).addTo(marker_cluster_e3983cba9c3bf4ceb7cd078095406f88);\n        \n    \n            var marker_8d61c894ff94b5c1b174d73639f1ecea = L.marker(\n                [48.8538752, 2.3366123],\n                {}\n            ).addTo(marker_cluster_e3983cba9c3bf4ceb7cd078095406f88);\n        \n    \n            var marker_1a9b1934481448eba8c8db0a9585f7a0 = L.marker(\n                [48.8585626, 2.3299138],\n                {}\n            ).addTo(marker_cluster_e3983cba9c3bf4ceb7cd078095406f88);\n        \n    \n            var marker_7ecc6e671b423b3e6314aab68e81f438 = L.marker(\n                [45.4595203, 9.1770004],\n                {}\n            ).addTo(marker_cluster_e3983cba9c3bf4ceb7cd078095406f88);\n        \n    \n            var marker_1acf938c8f1acb4dd8284bdbb984d6ff = L.marker(\n                [48.8645309, 2.3315532],\n                {}\n            ).addTo(marker_cluster_e3983cba9c3bf4ceb7cd078095406f88);\n        \n    \n            var marker_2f94ff5230991db6a28585ec0d2de9da = L.marker(\n                [52.3607413, 4.8695315],\n                {}\n            ).addTo(marker_cluster_e3983cba9c3bf4ceb7cd078095406f88);\n        \n    \n            var marker_3e4b4f980b344ee961294f963985cfc7 = L.marker(\n                [52.3504558, 4.8770194],\n                {}\n            ).addTo(marker_cluster_e3983cba9c3bf4ceb7cd078095406f88);\n        \n    \n            var marker_6b042c7015a16271e4d74aff3206f1bc = L.marker(\n                [45.4657842, 9.1895321],\n                {}\n            ).addTo(marker_cluster_e3983cba9c3bf4ceb7cd078095406f88);\n        \n    \n            var marker_40a9ae71cfdbe88fa2e11faa4274f875 = L.marker(\n                [41.3939082, 2.1622556],\n                {}\n            ).addTo(marker_cluster_e3983cba9c3bf4ceb7cd078095406f88);\n        \n    \n            var marker_75da96a4868d916fe42ff82f2c2f8dd3 = L.marker(\n                [41.4047934, 2.1288527],\n                {}\n            ).addTo(marker_cluster_e3983cba9c3bf4ceb7cd078095406f88);\n        \n    \n            var marker_6f867da7d0b96fe10a21a501e991279e = L.marker(\n                [48.8716831, 2.3123759],\n                {}\n            ).addTo(marker_cluster_e3983cba9c3bf4ceb7cd078095406f88);\n        \n    \n            var marker_9a3a8f200752752ee5f7617a41d1afdf = L.marker(\n                [41.391393, 2.1668467],\n                {}\n            ).addTo(marker_cluster_e3983cba9c3bf4ceb7cd078095406f88);\n        \n    \n            var marker_5bb648730ff486d38e411b6988d7f4e2 = L.marker(\n                [48.8654874, 2.3348924],\n                {}\n            ).addTo(marker_cluster_e3983cba9c3bf4ceb7cd078095406f88);\n        \n    \n            var marker_7369505dfe9baaeecb2c41ed659ff430 = L.marker(\n                [45.4859983, 9.1637603],\n                {}\n            ).addTo(marker_cluster_e3983cba9c3bf4ceb7cd078095406f88);\n        \n    \n            var marker_2139a413ae0024db720675302873250c = L.marker(\n                [51.5020912, -0.1577795],\n                {}\n            ).addTo(marker_cluster_e3983cba9c3bf4ceb7cd078095406f88);\n        \n    \n            var marker_a3a2039649f245b63df7eb47ac65cf97 = L.marker(\n                [48.8637135, 2.2934759],\n                {}\n            ).addTo(marker_cluster_e3983cba9c3bf4ceb7cd078095406f88);\n        \n    \n            var marker_2909a408fc26b4f8acd85b6c0078396e = L.marker(\n                [51.4988977, -0.1562015],\n                {}\n            ).addTo(marker_cluster_e3983cba9c3bf4ceb7cd078095406f88);\n        \n    \n            var marker_1c6fb50baaa076a69ae6a780c6a3b549 = L.marker(\n                [48.231911, 16.4129493],\n                {}\n            ).addTo(marker_cluster_e3983cba9c3bf4ceb7cd078095406f88);\n        \n    \n            var marker_1c5e9e58098f0a8c556e4c3b204cda03 = L.marker(\n                [48.1667886, 16.344908],\n                {}\n            ).addTo(marker_cluster_e3983cba9c3bf4ceb7cd078095406f88);\n        \n    \n            var marker_50c984a437384193560ea522fa067298 = L.marker(\n                [51.5226361, -0.1602871],\n                {}\n            ).addTo(marker_cluster_e3983cba9c3bf4ceb7cd078095406f88);\n        \n    \n            var marker_18cf652c471c4eebbd8ed44ea006ed95 = L.marker(\n                [48.8460269, 2.2788281],\n                {}\n            ).addTo(marker_cluster_e3983cba9c3bf4ceb7cd078095406f88);\n        \n    \n            var marker_0d82b95de42ff50afc72ad308278bae0 = L.marker(\n                [48.8397623, 2.3235324],\n                {}\n            ).addTo(marker_cluster_e3983cba9c3bf4ceb7cd078095406f88);\n        \n    \n            var marker_95c8a02c919b6ecaa723e4fd0199de2d = L.marker(\n                [48.8364204, 2.3603332],\n                {}\n            ).addTo(marker_cluster_e3983cba9c3bf4ceb7cd078095406f88);\n        \n    \n            var marker_fc484e41e405fadddfc53e20cee99c15 = L.marker(\n                [45.4654912, 9.1889612],\n                {}\n            ).addTo(marker_cluster_e3983cba9c3bf4ceb7cd078095406f88);\n        \n    \n            var marker_4e26c925e766cb64223c678c6ca82e4e = L.marker(\n                [51.5125035, -0.1477438],\n                {}\n            ).addTo(marker_cluster_e3983cba9c3bf4ceb7cd078095406f88);\n        \n    \n            var marker_200ef16ef5adea6c82ae24f946e10d28 = L.marker(\n                [48.8766269, 2.3432886],\n                {}\n            ).addTo(marker_cluster_e3983cba9c3bf4ceb7cd078095406f88);\n        \n    \n            var marker_942a732f42f478aedfeadaaaf40e250c = L.marker(\n                [48.8315962, 2.3399796],\n                {}\n            ).addTo(marker_cluster_e3983cba9c3bf4ceb7cd078095406f88);\n        \n    \n            var marker_314501b5b4c3f32a836005e9ec24d444 = L.marker(\n                [41.3929366, 2.1653954],\n                {}\n            ).addTo(marker_cluster_e3983cba9c3bf4ceb7cd078095406f88);\n        \n    \n            var marker_2f7bc31dba9493c86fe6bdfe144f8fd8 = L.marker(\n                [41.3825777, 2.1400103],\n                {}\n            ).addTo(marker_cluster_e3983cba9c3bf4ceb7cd078095406f88);\n        \n    \n            var marker_2677fa330cd5d959e5f3a7c1e9ebd14f = L.marker(\n                [52.3743712, 4.8746196],\n                {}\n            ).addTo(marker_cluster_e3983cba9c3bf4ceb7cd078095406f88);\n        \n    \n            var marker_5592df5030587eafeb1a801246654c1d = L.marker(\n                [52.3840358, 4.9028572],\n                {}\n            ).addTo(marker_cluster_e3983cba9c3bf4ceb7cd078095406f88);\n        \n    \n            var marker_3d172851c0cb1a791a619dc2c65c3839 = L.marker(\n                [45.4580781, 9.1924205],\n                {}\n            ).addTo(marker_cluster_e3983cba9c3bf4ceb7cd078095406f88);\n        \n    \n            var marker_65cd72516abf991377445d9dabc3cf0b = L.marker(\n                [48.1877942, 16.2727214],\n                {}\n            ).addTo(marker_cluster_e3983cba9c3bf4ceb7cd078095406f88);\n        \n    \n            var marker_5d7eea262297fceb3d7771e8ef07e7d6 = L.marker(\n                [45.4693349, 9.2142383],\n                {}\n            ).addTo(marker_cluster_e3983cba9c3bf4ceb7cd078095406f88);\n        \n    \n            var marker_48c506d5963db345a829c7ffc91de955 = L.marker(\n                [45.4672309, 9.184154],\n                {}\n            ).addTo(marker_cluster_e3983cba9c3bf4ceb7cd078095406f88);\n        \n    \n            var marker_8d0b7ceae70e6643d4533302f81d51e6 = L.marker(\n                [48.8679466, 2.3289593],\n                {}\n            ).addTo(marker_cluster_e3983cba9c3bf4ceb7cd078095406f88);\n        \n    \n            var marker_9e4f7234f99e9a547492f1dd6298ad40 = L.marker(\n                [48.8661932, 2.3042141],\n                {}\n            ).addTo(marker_cluster_e3983cba9c3bf4ceb7cd078095406f88);\n        \n    \n            var marker_abb2ba3a9f45707d3e0ffe443acd6394 = L.marker(\n                [48.8607764, 2.3427564],\n                {}\n            ).addTo(marker_cluster_e3983cba9c3bf4ceb7cd078095406f88);\n        \n    \n            var marker_019cf96ec9a46530db14ea8cf2730ffe = L.marker(\n                [48.8719697, 2.3316014],\n                {}\n            ).addTo(marker_cluster_e3983cba9c3bf4ceb7cd078095406f88);\n        \n    \n            var marker_60fa1c6dc44d3fd7d3f529e3c42aae24 = L.marker(\n                [48.191373, 16.4082294],\n                {}\n            ).addTo(marker_cluster_e3983cba9c3bf4ceb7cd078095406f88);\n        \n    \n            var marker_e082c5e8ee22eece424019e3fd69a8fc = L.marker(\n                [48.8567042, 2.3277805],\n                {}\n            ).addTo(marker_cluster_e3983cba9c3bf4ceb7cd078095406f88);\n        \n    \n            var marker_f944626f0af54a6c6fac2323bc1bbec6 = L.marker(\n                [48.1868107, 16.3440157],\n                {}\n            ).addTo(marker_cluster_e3983cba9c3bf4ceb7cd078095406f88);\n        \n    \n            var marker_340609c058b97617eb030ff93a672315 = L.marker(\n                [45.4947129, 9.1418864],\n                {}\n            ).addTo(marker_cluster_e3983cba9c3bf4ceb7cd078095406f88);\n        \n    \n            var marker_cb9837dbcd10aace549fd2ac214bb640 = L.marker(\n                [48.871859, 2.2978177],\n                {}\n            ).addTo(marker_cluster_e3983cba9c3bf4ceb7cd078095406f88);\n        \n    \n            var marker_cb536695a9b22fdcd73badcd4a3db3f1 = L.marker(\n                [45.5005657, 9.1383663],\n                {}\n            ).addTo(marker_cluster_e3983cba9c3bf4ceb7cd078095406f88);\n        \n    \n            var marker_5efda5d7fbd74fca0fbf1f556461fbfc = L.marker(\n                [45.4521067, 9.1758135],\n                {}\n            ).addTo(marker_cluster_e3983cba9c3bf4ceb7cd078095406f88);\n        \n    \n            var marker_de8f86824f64faecef1ac031c3728742 = L.marker(\n                [48.8803752, 2.319591],\n                {}\n            ).addTo(marker_cluster_e3983cba9c3bf4ceb7cd078095406f88);\n        \n    \n            var marker_2a42059e76adcd22a17034a9a3758db1 = L.marker(\n                [45.4472099, 9.2090967],\n                {}\n            ).addTo(marker_cluster_e3983cba9c3bf4ceb7cd078095406f88);\n        \n    \n            var marker_7140a14195f79db983ad0edb47edf4e7 = L.marker(\n                [48.8715469, 2.3439622],\n                {}\n            ).addTo(marker_cluster_e3983cba9c3bf4ceb7cd078095406f88);\n        \n    \n            var marker_abbc95d86364b674444d83cc76fcc148 = L.marker(\n                [48.8661705, 2.331561],\n                {}\n            ).addTo(marker_cluster_e3983cba9c3bf4ceb7cd078095406f88);\n        \n    \n            var marker_d6f67e208fe07880d9e14e5521e5aff2 = L.marker(\n                [48.8691409, 2.3031503],\n                {}\n            ).addTo(marker_cluster_e3983cba9c3bf4ceb7cd078095406f88);\n        \n    \n            var marker_fa0fee7bd987e778982fa8699f65ccd6 = L.marker(\n                [45.4708973, 9.1840992],\n                {}\n            ).addTo(marker_cluster_e3983cba9c3bf4ceb7cd078095406f88);\n        \n    \n            var marker_265229060f5b0ccd6a1d4409781cef0b = L.marker(\n                [45.494861, 9.141551],\n                {}\n            ).addTo(marker_cluster_e3983cba9c3bf4ceb7cd078095406f88);\n        \n    \n            var marker_1a5582faf0d223c81aaf68a13149c5f9 = L.marker(\n                [51.5460628, -0.0700817],\n                {}\n            ).addTo(marker_cluster_e3983cba9c3bf4ceb7cd078095406f88);\n        \n    \n            var marker_b2775428b70a62c2d804d0d5f5e279d2 = L.marker(\n                [45.4565757, 9.1684824],\n                {}\n            ).addTo(marker_cluster_e3983cba9c3bf4ceb7cd078095406f88);\n        \n    \n            var marker_22006af332e0af9a444027466bc3ccef = L.marker(\n                [48.8454447, 2.3242814],\n                {}\n            ).addTo(marker_cluster_e3983cba9c3bf4ceb7cd078095406f88);\n        \n    \n            var marker_cb8edb47cad919c022137d3ddb9a6c2b = L.marker(\n                [48.8756604, 2.3252075],\n                {}\n            ).addTo(marker_cluster_e3983cba9c3bf4ceb7cd078095406f88);\n        \n    \n            var marker_599d7dcdb513bfc838fc0eaf25bc5ecd = L.marker(\n                [48.8536854, 2.3805796],\n                {}\n            ).addTo(marker_cluster_e3983cba9c3bf4ceb7cd078095406f88);\n        \n    \n            var marker_9093ef5a538a3807dc04b60b56f7544f = L.marker(\n                [48.1640345, 16.3216061],\n                {}\n            ).addTo(marker_cluster_e3983cba9c3bf4ceb7cd078095406f88);\n        \n    \n            var marker_b4d3f5205f9f25c1d66358990bf8808c = L.marker(\n                [48.8566336, 2.2852607],\n                {}\n            ).addTo(marker_cluster_e3983cba9c3bf4ceb7cd078095406f88);\n        \n    \n            var marker_a5b27eefa71c105d7afea73734b30d9e = L.marker(\n                [48.8756359, 2.3004967],\n                {}\n            ).addTo(marker_cluster_e3983cba9c3bf4ceb7cd078095406f88);\n        \n    \n            var marker_43138120365d6739967a2b384e32e5bd = L.marker(\n                [48.8728324, 2.3193886],\n                {}\n            ).addTo(marker_cluster_e3983cba9c3bf4ceb7cd078095406f88);\n        \n    \n            var marker_40a1e8814261353bff4666e60b8074f7 = L.marker(\n                [48.868414, 2.3213247],\n                {}\n            ).addTo(marker_cluster_e3983cba9c3bf4ceb7cd078095406f88);\n        \n    \n            var marker_c7994a01d708e38fed7667c8b84d376c = L.marker(\n                [48.8691325, 2.3021659],\n                {}\n            ).addTo(marker_cluster_e3983cba9c3bf4ceb7cd078095406f88);\n        \n    \n            var marker_56464e02eb2bd51b92f01df865fb9bc7 = L.marker(\n                [48.8663359, 2.2867935],\n                {}\n            ).addTo(marker_cluster_e3983cba9c3bf4ceb7cd078095406f88);\n        \n    \n            var marker_3a96a917b7ae997b8f3d4c9c6a2c3679 = L.marker(\n                [48.1990335, 16.3525051],\n                {}\n            ).addTo(marker_cluster_e3983cba9c3bf4ceb7cd078095406f88);\n        \n    \n            var marker_e6ebfb5cd65da743d3f9e64673db5f01 = L.marker(\n                [52.3600068, 4.9051643],\n                {}\n            ).addTo(marker_cluster_e3983cba9c3bf4ceb7cd078095406f88);\n        \n    \n            var marker_6aedacaaac42449084f02edc8b354815 = L.marker(\n                [48.8452789, 2.342295],\n                {}\n            ).addTo(marker_cluster_e3983cba9c3bf4ceb7cd078095406f88);\n        \n    \n            var marker_4e6a860902ac0314de779f91340ba4f2 = L.marker(\n                [51.4968406, -0.1675498],\n                {}\n            ).addTo(marker_cluster_e3983cba9c3bf4ceb7cd078095406f88);\n        \n    \n            var marker_3f1e1369de26f00aa344290d1fd67189 = L.marker(\n                [48.8503493, 2.3344305],\n                {}\n            ).addTo(marker_cluster_e3983cba9c3bf4ceb7cd078095406f88);\n        \n    \n            var marker_1476ec5f0705673bbb6ddd6a1d8d0d47 = L.marker(\n                [41.3949199, 2.1468594],\n                {}\n            ).addTo(marker_cluster_e3983cba9c3bf4ceb7cd078095406f88);\n        \n    \n            var marker_c1277102c0d59e2daf62f7b80d82fa18 = L.marker(\n                [51.5032524, -0.078179],\n                {}\n            ).addTo(marker_cluster_e3983cba9c3bf4ceb7cd078095406f88);\n        \n    \n            var marker_61c1ecaa58bd92d469d6401a91940e41 = L.marker(\n                [48.8489839, 2.348383],\n                {}\n            ).addTo(marker_cluster_e3983cba9c3bf4ceb7cd078095406f88);\n        \n    \n            var marker_4d338f018d8b0f42783cc39d0c17e589 = L.marker(\n                [41.3781685, 2.1786627],\n                {}\n            ).addTo(marker_cluster_e3983cba9c3bf4ceb7cd078095406f88);\n        \n    \n            var marker_c17865240f6c37d1e065ec0cc06e7fcd = L.marker(\n                [51.4944875, -0.2070605],\n                {}\n            ).addTo(marker_cluster_e3983cba9c3bf4ceb7cd078095406f88);\n        \n    \n            var marker_b81b180058ce24d548e1f269786ad87e = L.marker(\n                [41.3900104, 2.1422396],\n                {}\n            ).addTo(marker_cluster_e3983cba9c3bf4ceb7cd078095406f88);\n        \n    \n            var marker_bbdfc1cc8c338d166d01dac70ba1e4bf = L.marker(\n                [48.8848292, 2.3035189],\n                {}\n            ).addTo(marker_cluster_e3983cba9c3bf4ceb7cd078095406f88);\n        \n    \n            var marker_ee1a081c92577aabd8308af5456cae25 = L.marker(\n                [48.8699731, 2.2909401],\n                {}\n            ).addTo(marker_cluster_e3983cba9c3bf4ceb7cd078095406f88);\n        \n    \n            var marker_e594022dc475ba71cc0e68ab0dbebcb2 = L.marker(\n                [41.388682, 2.1316368],\n                {}\n            ).addTo(marker_cluster_e3983cba9c3bf4ceb7cd078095406f88);\n        \n    \n            var marker_d0b2bf6443fee4047fa5f6eb01476cad = L.marker(\n                [48.8601927, 2.318423],\n                {}\n            ).addTo(marker_cluster_e3983cba9c3bf4ceb7cd078095406f88);\n        \n    \n            var marker_23845a9368e02892d0a44c3117497cb7 = L.marker(\n                [48.8651994, 2.3045076],\n                {}\n            ).addTo(marker_cluster_e3983cba9c3bf4ceb7cd078095406f88);\n        \n    \n            var marker_3262852998bd9eee81bfbf1f875911d3 = L.marker(\n                [48.8565629, 2.3273623],\n                {}\n            ).addTo(marker_cluster_e3983cba9c3bf4ceb7cd078095406f88);\n        \n    \n            var marker_cec7594bf667c660c330ceb8ddaf6281 = L.marker(\n                [48.8655293, 2.3360102],\n                {}\n            ).addTo(marker_cluster_e3983cba9c3bf4ceb7cd078095406f88);\n        \n    \n            var marker_cff577b23924bea03d997f94e148f872 = L.marker(\n                [45.4699058, 9.1925024],\n                {}\n            ).addTo(marker_cluster_e3983cba9c3bf4ceb7cd078095406f88);\n        \n    \n            var marker_fc7084fe7fc1fc863fdc57cb9b8de712 = L.marker(\n                [48.8687804, 2.3610196],\n                {}\n            ).addTo(marker_cluster_e3983cba9c3bf4ceb7cd078095406f88);\n        \n    \n            var marker_8069b87abf534138d528be3c5e34eb36 = L.marker(\n                [48.8690198, 2.2891278],\n                {}\n            ).addTo(marker_cluster_e3983cba9c3bf4ceb7cd078095406f88);\n        \n    \n            var marker_43c1b2745f427a44315c980c9b0a1daf = L.marker(\n                [41.3957584, 2.1822402],\n                {}\n            ).addTo(marker_cluster_e3983cba9c3bf4ceb7cd078095406f88);\n        \n    \n            var marker_e08ef8d8097f6c6ba6423e57ba082e09 = L.marker(\n                [48.8759855, 2.293938],\n                {}\n            ).addTo(marker_cluster_e3983cba9c3bf4ceb7cd078095406f88);\n        \n    \n            var marker_781e3541af506bb83c7cdc04f88bfa5b = L.marker(\n                [48.878932, 2.3394182],\n                {}\n            ).addTo(marker_cluster_e3983cba9c3bf4ceb7cd078095406f88);\n        \n    \n            var marker_75e34a0ebb0de7543549fea8e53940b5 = L.marker(\n                [48.8661363, 2.3260648],\n                {}\n            ).addTo(marker_cluster_e3983cba9c3bf4ceb7cd078095406f88);\n        \n    \n            var marker_966c6160c5f3134902f5458255c99e40 = L.marker(\n                [41.3830582, 2.1778267],\n                {}\n            ).addTo(marker_cluster_e3983cba9c3bf4ceb7cd078095406f88);\n        \n    \n            var marker_b09f9a9c28a886e74881caddaf552185 = L.marker(\n                [45.4909585, 9.1614268],\n                {}\n            ).addTo(marker_cluster_e3983cba9c3bf4ceb7cd078095406f88);\n        \n    \n            var marker_b7cd7803cfa4ebe5285aa680fda4f669 = L.marker(\n                [48.8668228, 2.3257729],\n                {}\n            ).addTo(marker_cluster_e3983cba9c3bf4ceb7cd078095406f88);\n        \n    \n            var marker_f7de1b15f0129ab52217b2ace128b4c3 = L.marker(\n                [52.3594783, 4.895853],\n                {}\n            ).addTo(marker_cluster_e3983cba9c3bf4ceb7cd078095406f88);\n        \n    \n            var marker_63de74d82e10a55e9be148f8f7e5b9c9 = L.marker(\n                [45.4897688, 9.1549451],\n                {}\n            ).addTo(marker_cluster_e3983cba9c3bf4ceb7cd078095406f88);\n        \n    \n            var marker_bfa60ec74aaeb510072981f05e6f3327 = L.marker(\n                [51.5055381, -0.1396885],\n                {}\n            ).addTo(marker_cluster_e3983cba9c3bf4ceb7cd078095406f88);\n        \n    \n            var marker_585654acbd8b0926128f85ba44ec5fdf = L.marker(\n                [48.8535639, 2.3360169],\n                {}\n            ).addTo(marker_cluster_e3983cba9c3bf4ceb7cd078095406f88);\n        \n    \n            var marker_249866c9dcc8dd59b703c88b84a2d523 = L.marker(\n                [48.8699103, 2.2973386],\n                {}\n            ).addTo(marker_cluster_e3983cba9c3bf4ceb7cd078095406f88);\n        \n    \n            var marker_9aef94a8b1f863d4bda93e711ec334f1 = L.marker(\n                [52.3617751, 4.9118187],\n                {}\n            ).addTo(marker_cluster_e3983cba9c3bf4ceb7cd078095406f88);\n        \n    \n            var marker_8c00d3e90490b8c5587d3c48712406e2 = L.marker(\n                [48.8715079, 2.3122259],\n                {}\n            ).addTo(marker_cluster_e3983cba9c3bf4ceb7cd078095406f88);\n        \n    \n            var marker_daf8f4fdc388683413ecec8ccdb9c5c0 = L.marker(\n                [48.8780363, 2.2864907],\n                {}\n            ).addTo(marker_cluster_e3983cba9c3bf4ceb7cd078095406f88);\n        \n    \n            var marker_9fbe217ef8c9715c51a097a02b9d95b4 = L.marker(\n                [48.8615843, 2.3620652],\n                {}\n            ).addTo(marker_cluster_e3983cba9c3bf4ceb7cd078095406f88);\n        \n    \n            var marker_14759085626989114f4a5de07035b811 = L.marker(\n                [48.8430891, 2.4049867],\n                {}\n            ).addTo(marker_cluster_e3983cba9c3bf4ceb7cd078095406f88);\n        \n    \n            var marker_2dd05e419c5097ccc4008967a0430f36 = L.marker(\n                [41.3941625, 2.1597836],\n                {}\n            ).addTo(marker_cluster_e3983cba9c3bf4ceb7cd078095406f88);\n        \n    \n            var marker_21567b341960522b0c2f76ef1bc868b8 = L.marker(\n                [48.8672694, 2.2878666],\n                {}\n            ).addTo(marker_cluster_e3983cba9c3bf4ceb7cd078095406f88);\n        \n    \n            var marker_f8ee08cd7f59447e5651b20a89d6a3e3 = L.marker(\n                [45.4828787, 9.186346],\n                {}\n            ).addTo(marker_cluster_e3983cba9c3bf4ceb7cd078095406f88);\n        \n    \n            var marker_b8ad8ef2aa285d55bc4d04509ba1d6d1 = L.marker(\n                [45.4747809, 9.2059385],\n                {}\n            ).addTo(marker_cluster_e3983cba9c3bf4ceb7cd078095406f88);\n        \n    \n            var marker_8c35748da69245567a7726f06d935811 = L.marker(\n                [48.2176776, 16.3821364],\n                {}\n            ).addTo(marker_cluster_e3983cba9c3bf4ceb7cd078095406f88);\n        \n    \n            var marker_c13433a3752b0f17cf4afca86766776e = L.marker(\n                [48.8729666, 2.2926226],\n                {}\n            ).addTo(marker_cluster_e3983cba9c3bf4ceb7cd078095406f88);\n        \n    \n            var marker_a15732792ea06ceba98495006f7e8b83 = L.marker(\n                [51.5145986, -0.1270336],\n                {}\n            ).addTo(marker_cluster_e3983cba9c3bf4ceb7cd078095406f88);\n        \n    \n            var marker_dcfef79101c1e26b7175bbeca7acc982 = L.marker(\n                [48.8619373, 2.3040298],\n                {}\n            ).addTo(marker_cluster_e3983cba9c3bf4ceb7cd078095406f88);\n        \n    \n            var marker_31cc66f3b1d3922ac778f6cbf2d044fb = L.marker(\n                [48.8823398, 2.3364764],\n                {}\n            ).addTo(marker_cluster_e3983cba9c3bf4ceb7cd078095406f88);\n        \n    \n            var marker_f4961af4578f2f0f66192c056dd8138d = L.marker(\n                [45.4529643, 9.1962217],\n                {}\n            ).addTo(marker_cluster_e3983cba9c3bf4ceb7cd078095406f88);\n        \n    \n            var marker_21bde2ea2ad2f0458564a40afad2378d = L.marker(\n                [48.8740668, 2.3502172],\n                {}\n            ).addTo(marker_cluster_e3983cba9c3bf4ceb7cd078095406f88);\n        \n    \n            var marker_eb42fa27fd93ff8b56896590488b5888 = L.marker(\n                [48.8756435, 2.2938788],\n                {}\n            ).addTo(marker_cluster_e3983cba9c3bf4ceb7cd078095406f88);\n        \n    \n            var marker_50c22fa43cdded849cd4b05a9b680204 = L.marker(\n                [48.8519208, 2.338878],\n                {}\n            ).addTo(marker_cluster_e3983cba9c3bf4ceb7cd078095406f88);\n        \n    \n            var marker_394c0334209ebdff232920cc9c88176a = L.marker(\n                [45.4788051, 9.1446276],\n                {}\n            ).addTo(marker_cluster_e3983cba9c3bf4ceb7cd078095406f88);\n        \n    \n            var marker_6162ce7c0a8aa8ebba6cb842522175a8 = L.marker(\n                [48.8735418, 2.302442],\n                {}\n            ).addTo(marker_cluster_e3983cba9c3bf4ceb7cd078095406f88);\n        \n    \n            var marker_0e9f59c8293ae713aa91bd8527443b35 = L.marker(\n                [48.8585193, 2.3077243],\n                {}\n            ).addTo(marker_cluster_e3983cba9c3bf4ceb7cd078095406f88);\n        \n    \n            var marker_9f544c834444b7505aa0efbea477fcc5 = L.marker(\n                [48.1955998, 16.3826989],\n                {}\n            ).addTo(marker_cluster_e3983cba9c3bf4ceb7cd078095406f88);\n        \n    \n            var marker_8b92e48f15bb4655be70161aa7140eb5 = L.marker(\n                [48.8496819, 2.3402806],\n                {}\n            ).addTo(marker_cluster_e3983cba9c3bf4ceb7cd078095406f88);\n        \n    \n            var marker_e12c2c43861407a6807d2ae2825c76e2 = L.marker(\n                [48.8684165, 2.336869],\n                {}\n            ).addTo(marker_cluster_e3983cba9c3bf4ceb7cd078095406f88);\n        \n    \n            var marker_b28c4b3aa1440ab7cdbec4450901187c = L.marker(\n                [45.4657568, 9.1916674],\n                {}\n            ).addTo(marker_cluster_e3983cba9c3bf4ceb7cd078095406f88);\n        \n    \n            var marker_4c78573b85ede4a2b4bd54c0871f82ec = L.marker(\n                [48.8823141, 2.3316688],\n                {}\n            ).addTo(marker_cluster_e3983cba9c3bf4ceb7cd078095406f88);\n        \n    \n            var marker_97716504433d27ba3d10dde1c7f0348d = L.marker(\n                [48.2012505, 16.3731255],\n                {}\n            ).addTo(marker_cluster_e3983cba9c3bf4ceb7cd078095406f88);\n        \n    \n            var marker_065f556599eac84e9dc94a090f4c510d = L.marker(\n                [48.8749511, 2.3259532],\n                {}\n            ).addTo(marker_cluster_e3983cba9c3bf4ceb7cd078095406f88);\n        \n    \n            var marker_a349eeb521c96d03a9fc22f7c5e8616a = L.marker(\n                [48.8493499, 2.3430569],\n                {}\n            ).addTo(marker_cluster_e3983cba9c3bf4ceb7cd078095406f88);\n        \n    \n            var marker_e45794d7b27f9b2db78ac0de43a3c236 = L.marker(\n                [48.8678432, 2.3033075],\n                {}\n            ).addTo(marker_cluster_e3983cba9c3bf4ceb7cd078095406f88);\n        \n    \n            var marker_c38cf005529c7146d11bb29ad0eafe1f = L.marker(\n                [48.8723844, 2.3088663],\n                {}\n            ).addTo(marker_cluster_e3983cba9c3bf4ceb7cd078095406f88);\n        \n    \n            var marker_83ce2bd3243f895e6b39b4a29ac94c4b = L.marker(\n                [41.406146, 2.2008636],\n                {}\n            ).addTo(marker_cluster_e3983cba9c3bf4ceb7cd078095406f88);\n        \n    \n            var marker_1463611339f1028ea0d79a3320427462 = L.marker(\n                [48.8653685, 2.328218],\n                {}\n            ).addTo(marker_cluster_e3983cba9c3bf4ceb7cd078095406f88);\n        \n    \n            var marker_56639798262f96a75e3657b253790ae4 = L.marker(\n                [41.3985449, 2.1438237],\n                {}\n            ).addTo(marker_cluster_e3983cba9c3bf4ceb7cd078095406f88);\n        \n    \n            var marker_17823be526702362694c35c6d9c1631a = L.marker(\n                [45.4589731, 9.0687506],\n                {}\n            ).addTo(marker_cluster_e3983cba9c3bf4ceb7cd078095406f88);\n        \n    \n            var marker_8cfebdeef3e67f7eb9c5f9f7e203f49c = L.marker(\n                [48.8871283, 2.314205],\n                {}\n            ).addTo(marker_cluster_e3983cba9c3bf4ceb7cd078095406f88);\n        \n    \n            var marker_694ed76009e874d7d63e7545b01e691a = L.marker(\n                [48.8652582, 2.3329632],\n                {}\n            ).addTo(marker_cluster_e3983cba9c3bf4ceb7cd078095406f88);\n        \n    \n            var marker_63b5659b5b936c51fc9e03f7f4612d81 = L.marker(\n                [48.8656973, 2.2829776],\n                {}\n            ).addTo(marker_cluster_e3983cba9c3bf4ceb7cd078095406f88);\n        \n    \n            var marker_47d5c6049eba2f14063f9c152b662c7e = L.marker(\n                [48.8622723, 2.3495707],\n                {}\n            ).addTo(marker_cluster_e3983cba9c3bf4ceb7cd078095406f88);\n        \n    \n            var marker_5f05e14303b46725b23782171126a279 = L.marker(\n                [41.3822909, 2.1807447],\n                {}\n            ).addTo(marker_cluster_e3983cba9c3bf4ceb7cd078095406f88);\n        \n    \n            var marker_18959ff6ca9c805b57a95befb4e94435 = L.marker(\n                [48.857898, 2.3571978],\n                {}\n            ).addTo(marker_cluster_e3983cba9c3bf4ceb7cd078095406f88);\n        \n    \n            var marker_65050a94c6ff7b7ade8bea2cbe87468a = L.marker(\n                [48.8709627, 2.3154141],\n                {}\n            ).addTo(marker_cluster_e3983cba9c3bf4ceb7cd078095406f88);\n        \n    \n            var marker_8cd60c955759ae2c14b2358d3ce22faf = L.marker(\n                [45.4661781, 9.1588367],\n                {}\n            ).addTo(marker_cluster_e3983cba9c3bf4ceb7cd078095406f88);\n        \n    \n            var marker_30d0ef25a5b3a14efcf1bfaff6c90dc2 = L.marker(\n                [48.8534026, 2.3299043],\n                {}\n            ).addTo(marker_cluster_e3983cba9c3bf4ceb7cd078095406f88);\n        \n    \n            var marker_8321831c051ca64213c7a6e4377f89ab = L.marker(\n                [41.4106944, 2.136294],\n                {}\n            ).addTo(marker_cluster_e3983cba9c3bf4ceb7cd078095406f88);\n        \n    \n            var marker_9a9fd9134703e7af033c17670f7cdb20 = L.marker(\n                [48.851589, 2.2777274],\n                {}\n            ).addTo(marker_cluster_e3983cba9c3bf4ceb7cd078095406f88);\n        \n    \n            var marker_e4093b978c21cab98fd9c5006812e1cb = L.marker(\n                [48.830196, 2.3529539],\n                {}\n            ).addTo(marker_cluster_e3983cba9c3bf4ceb7cd078095406f88);\n        \n    \n            var marker_7ffda68daa2821bb6914d2472fa870fb = L.marker(\n                [48.8743481, 2.2897334],\n                {}\n            ).addTo(marker_cluster_e3983cba9c3bf4ceb7cd078095406f88);\n        \n    \n            var marker_5116d1ed7a93fb22d1f336bc9420e4c4 = L.marker(\n                [45.488764, 9.183057],\n                {}\n            ).addTo(marker_cluster_e3983cba9c3bf4ceb7cd078095406f88);\n        \n    \n            var marker_e40e597b9fdc4f339e4ffdc23c466f1b = L.marker(\n                [45.4701334, 9.1897405],\n                {}\n            ).addTo(marker_cluster_e3983cba9c3bf4ceb7cd078095406f88);\n        \n    \n            var marker_2851c4d59386774f6a4a743f52f6bb70 = L.marker(\n                [48.8738672, 2.3005894],\n                {}\n            ).addTo(marker_cluster_e3983cba9c3bf4ceb7cd078095406f88);\n        \n    \n            var marker_3966a90db73795b8bae8b51df28737d2 = L.marker(\n                [51.502485, -0.1539265],\n                {}\n            ).addTo(marker_cluster_e3983cba9c3bf4ceb7cd078095406f88);\n        \n    \n            var marker_7f65b995bbbe684139e8997bfb6bf156 = L.marker(\n                [48.8657394, 2.3274415],\n                {}\n            ).addTo(marker_cluster_e3983cba9c3bf4ceb7cd078095406f88);\n        \n    \n            var marker_c15420c4d2bd02c5be695580da816389 = L.marker(\n                [48.8573706, 2.3314669],\n                {}\n            ).addTo(marker_cluster_e3983cba9c3bf4ceb7cd078095406f88);\n        \n    \n            var marker_b122402278d26a0647cea83620661bad = L.marker(\n                [48.8644627, 2.3318473],\n                {}\n            ).addTo(marker_cluster_e3983cba9c3bf4ceb7cd078095406f88);\n        \n    \n            var marker_da1d2395de9c06b85c8d8e1126f866b0 = L.marker(\n                [48.8827492, 2.2982782],\n                {}\n            ).addTo(marker_cluster_e3983cba9c3bf4ceb7cd078095406f88);\n        \n    \n            var marker_4257d9b903d592fa7035c565f4471a02 = L.marker(\n                [48.8661991, 2.3328826],\n                {}\n            ).addTo(marker_cluster_e3983cba9c3bf4ceb7cd078095406f88);\n        \n    \n            var marker_311bf9fc037b9b7102ff9df338d8ca34 = L.marker(\n                [41.3833172, 2.1628318],\n                {}\n            ).addTo(marker_cluster_e3983cba9c3bf4ceb7cd078095406f88);\n        \n    \n            var marker_a45eb590c321c4ce87a65b7e5f30b256 = L.marker(\n                [48.850448, 2.2928845],\n                {}\n            ).addTo(marker_cluster_e3983cba9c3bf4ceb7cd078095406f88);\n        \n    \n            var marker_67aed0439e9399852295fed243bc8d04 = L.marker(\n                [48.8532269, 2.3457159],\n                {}\n            ).addTo(marker_cluster_e3983cba9c3bf4ceb7cd078095406f88);\n        \n    \n            var marker_256bc167801aff960b218fc5eeffb332 = L.marker(\n                [48.8734851, 2.3485111],\n                {}\n            ).addTo(marker_cluster_e3983cba9c3bf4ceb7cd078095406f88);\n        \n    \n            var marker_f289d8f96f09cf76365220f484316e20 = L.marker(\n                [45.5045259, 9.246461],\n                {}\n            ).addTo(marker_cluster_e3983cba9c3bf4ceb7cd078095406f88);\n        \n    \n            var marker_0b2ec7393412c518cf4b93e782658a99 = L.marker(\n                [48.8681455, 2.3313064],\n                {}\n            ).addTo(marker_cluster_e3983cba9c3bf4ceb7cd078095406f88);\n        \n    \n            var marker_90ce60b4b8b84fd64afcc99c0528f389 = L.marker(\n                [48.8673099, 2.2856528],\n                {}\n            ).addTo(marker_cluster_e3983cba9c3bf4ceb7cd078095406f88);\n        \n    \n            var marker_3d2fbf61f2dd34525079746a060574b3 = L.marker(\n                [41.3919114, 2.1765438],\n                {}\n            ).addTo(marker_cluster_e3983cba9c3bf4ceb7cd078095406f88);\n        \n    \n            var marker_256b8f68b637f0504c29ed8dc8aac479 = L.marker(\n                [48.8737702, 2.3201063],\n                {}\n            ).addTo(marker_cluster_e3983cba9c3bf4ceb7cd078095406f88);\n        \n    \n            var marker_cc2144fee348a30a37ccc1516c6dad6d = L.marker(\n                [48.8760884, 2.3456465],\n                {}\n            ).addTo(marker_cluster_e3983cba9c3bf4ceb7cd078095406f88);\n        \n    \n            var marker_8389df2bcd76867a6c83be6c8e9f3d18 = L.marker(\n                [48.8382542, 2.2903494],\n                {}\n            ).addTo(marker_cluster_e3983cba9c3bf4ceb7cd078095406f88);\n        \n    \n            var marker_db65bc4108ac2f3332c3d2d318566266 = L.marker(\n                [48.871309, 2.3277079],\n                {}\n            ).addTo(marker_cluster_e3983cba9c3bf4ceb7cd078095406f88);\n        \n    \n            var marker_692c9b44558ae6ffed8a50ba0bcab7f2 = L.marker(\n                [48.8710709, 2.3013119],\n                {}\n            ).addTo(marker_cluster_e3983cba9c3bf4ceb7cd078095406f88);\n        \n    \n            var marker_07d91080fc280d4703f01ca13c0d6323 = L.marker(\n                [41.3927749, 2.1674521],\n                {}\n            ).addTo(marker_cluster_e3983cba9c3bf4ceb7cd078095406f88);\n        \n    \n            var marker_cd61e953874522c8d6312454b76d5598 = L.marker(\n                [48.8196885, 2.3263505],\n                {}\n            ).addTo(marker_cluster_e3983cba9c3bf4ceb7cd078095406f88);\n        \n    \n            var marker_7b31c9ee356bbfd970595c69cfb5a5f8 = L.marker(\n                [48.8335233, 2.3191194],\n                {}\n            ).addTo(marker_cluster_e3983cba9c3bf4ceb7cd078095406f88);\n        \n    \n            var marker_f0ad7c58f88d38cff21352ce7d57dbd2 = L.marker(\n                [48.8796596, 2.3209155],\n                {}\n            ).addTo(marker_cluster_e3983cba9c3bf4ceb7cd078095406f88);\n        \n    \n            var marker_15676340435d8dfcf8098eb121882666 = L.marker(\n                [48.849574, 2.3798518],\n                {}\n            ).addTo(marker_cluster_e3983cba9c3bf4ceb7cd078095406f88);\n        \n    \n            var marker_ccd05ba655985cd6f829ccd05621be6e = L.marker(\n                [48.1537005, 16.2825822],\n                {}\n            ).addTo(marker_cluster_e3983cba9c3bf4ceb7cd078095406f88);\n        \n    \n            var marker_b535ecfda65446ef0aeec35131137682 = L.marker(\n                [41.3915897, 2.1720108],\n                {}\n            ).addTo(marker_cluster_e3983cba9c3bf4ceb7cd078095406f88);\n        \n    \n            var marker_7e46570153ceecb939cc48120f949f29 = L.marker(\n                [48.8644382, 2.3359148],\n                {}\n            ).addTo(marker_cluster_e3983cba9c3bf4ceb7cd078095406f88);\n        \n    \n            var marker_28acadef0217ce2274dd5474096da33c = L.marker(\n                [48.8321231, 2.3536172],\n                {}\n            ).addTo(marker_cluster_e3983cba9c3bf4ceb7cd078095406f88);\n        \n    \n            var marker_b682515945a1d3a161b9090b4e9b1faf = L.marker(\n                [48.20953, 16.35142],\n                {}\n            ).addTo(marker_cluster_e3983cba9c3bf4ceb7cd078095406f88);\n        \n    \n            var marker_a73f4465d7850d9d5fa9d8ab17a1ae10 = L.marker(\n                [48.8376887, 2.3063102],\n                {}\n            ).addTo(marker_cluster_e3983cba9c3bf4ceb7cd078095406f88);\n        \n    \n            var marker_7d7dc82e6d871f393e52fa037656702d = L.marker(\n                [48.8721692, 2.3262681],\n                {}\n            ).addTo(marker_cluster_e3983cba9c3bf4ceb7cd078095406f88);\n        \n    \n            var marker_a0dfff879bc7f6b44ecc42874ccf92f4 = L.marker(\n                [48.8178079, 2.3293636],\n                {}\n            ).addTo(marker_cluster_e3983cba9c3bf4ceb7cd078095406f88);\n        \n    \n            var marker_1aa610f7862ba4d5de600c186965446d = L.marker(\n                [41.4101934, 2.1695574],\n                {}\n            ).addTo(marker_cluster_e3983cba9c3bf4ceb7cd078095406f88);\n        \n    \n            var marker_88fed3f279757fdd8e05099bf72ade0c = L.marker(\n                [48.8718321, 2.3278866],\n                {}\n            ).addTo(marker_cluster_e3983cba9c3bf4ceb7cd078095406f88);\n        \n    \n            var marker_e9562afbee07cbea6d13fa76fbec772c = L.marker(\n                [45.4405621, 9.1921165],\n                {}\n            ).addTo(marker_cluster_e3983cba9c3bf4ceb7cd078095406f88);\n        \n    \n            var marker_6b7ba463ef745c6b68a389117a93743c = L.marker(\n                [48.8823111, 2.3132374],\n                {}\n            ).addTo(marker_cluster_e3983cba9c3bf4ceb7cd078095406f88);\n        \n    \n            var marker_f19b9ef32215fb9c46af368646f64b21 = L.marker(\n                [48.8457587, 2.3243071],\n                {}\n            ).addTo(marker_cluster_e3983cba9c3bf4ceb7cd078095406f88);\n        \n    \n            var marker_55fc9a70a689b9baec953a43a03b174a = L.marker(\n                [51.50303, -0.15242],\n                {}\n            ).addTo(marker_cluster_e3983cba9c3bf4ceb7cd078095406f88);\n        \n    \n            var marker_5c10bf97f0a6cd9f4444d79d31b70ea2 = L.marker(\n                [48.8516148, 2.3381293],\n                {}\n            ).addTo(marker_cluster_e3983cba9c3bf4ceb7cd078095406f88);\n        \n    \n            var marker_cdd47466f897975e3f1d7b971ce14d7b = L.marker(\n                [48.1513676, 16.4064709],\n                {}\n            ).addTo(marker_cluster_e3983cba9c3bf4ceb7cd078095406f88);\n        \n    \n            var marker_972e52e991ecf15822489bae519f1403 = L.marker(\n                [48.8488608, 2.3315257],\n                {}\n            ).addTo(marker_cluster_e3983cba9c3bf4ceb7cd078095406f88);\n        \n    \n            var marker_995d4dc1b9a234e5be7946c566be6906 = L.marker(\n                [48.8728492, 2.3073663],\n                {}\n            ).addTo(marker_cluster_e3983cba9c3bf4ceb7cd078095406f88);\n        \n    \n            var marker_15399d2aaf16c3f1a9b29350f1357329 = L.marker(\n                [48.8794223, 2.2957628],\n                {}\n            ).addTo(marker_cluster_e3983cba9c3bf4ceb7cd078095406f88);\n        \n    \n            var marker_755e3e8364dd75c9c31d9b0261a03d67 = L.marker(\n                [48.879314, 2.3560185],\n                {}\n            ).addTo(marker_cluster_e3983cba9c3bf4ceb7cd078095406f88);\n        \n    \n            var marker_4fffb6f265ac2f99db431ed19894bca9 = L.marker(\n                [48.8612535, 2.3426256],\n                {}\n            ).addTo(marker_cluster_e3983cba9c3bf4ceb7cd078095406f88);\n        \n    \n            var marker_9aabc2529f1653877a1d69fd483419c6 = L.marker(\n                [48.8671889, 2.326927],\n                {}\n            ).addTo(marker_cluster_e3983cba9c3bf4ceb7cd078095406f88);\n        \n    \n            var marker_a0a232cff3a72f538b93409e3239fe5d = L.marker(\n                [48.8789432, 2.3448623],\n                {}\n            ).addTo(marker_cluster_e3983cba9c3bf4ceb7cd078095406f88);\n        \n    \n            var marker_378a684cafbb22c1abe157f4eacb8d78 = L.marker(\n                [48.8752553, 2.286653],\n                {}\n            ).addTo(marker_cluster_e3983cba9c3bf4ceb7cd078095406f88);\n        \n    \n            var marker_a4db943d5f29a18c867f2d8774b89d5c = L.marker(\n                [45.4684949, 9.1550355],\n                {}\n            ).addTo(marker_cluster_e3983cba9c3bf4ceb7cd078095406f88);\n        \n    \n            var marker_6e4a61f41e556a84a659ad9608157135 = L.marker(\n                [41.39367, 2.1115418],\n                {}\n            ).addTo(marker_cluster_e3983cba9c3bf4ceb7cd078095406f88);\n        \n    \n            var marker_5e29efd9e886f2521ee9fe6bc1064b31 = L.marker(\n                [48.8416787, 2.3022862],\n                {}\n            ).addTo(marker_cluster_e3983cba9c3bf4ceb7cd078095406f88);\n        \n    \n            var marker_33176b56afcf478693509fa70801c365 = L.marker(\n                [48.8498439, 2.3244253],\n                {}\n            ).addTo(marker_cluster_e3983cba9c3bf4ceb7cd078095406f88);\n        \n    \n            var marker_3e363f1fc08dd97c76bf2a83af9cdd72 = L.marker(\n                [41.3948175, 2.1434702],\n                {}\n            ).addTo(marker_cluster_e3983cba9c3bf4ceb7cd078095406f88);\n        \n    \n            var marker_df38cf486a24450697a566b0158797a2 = L.marker(\n                [48.88657, 2.3588332],\n                {}\n            ).addTo(marker_cluster_e3983cba9c3bf4ceb7cd078095406f88);\n        \n    \n            var marker_f45673b6739087a3f722e7cd0af2930b = L.marker(\n                [48.2307014, 16.3552189],\n                {}\n            ).addTo(marker_cluster_e3983cba9c3bf4ceb7cd078095406f88);\n        \n    \n            var marker_81e11e987f8b2922faf822a7dfd87c67 = L.marker(\n                [48.8698184, 2.3208729],\n                {}\n            ).addTo(marker_cluster_e3983cba9c3bf4ceb7cd078095406f88);\n        \n    \n            var marker_a53df53dd4036813c27305769749508a = L.marker(\n                [52.3648077, 4.8853962],\n                {}\n            ).addTo(marker_cluster_e3983cba9c3bf4ceb7cd078095406f88);\n        \n    \n            var marker_d5d333868b8a9579c322e14bff465596 = L.marker(\n                [48.8471891, 2.3260138],\n                {}\n            ).addTo(marker_cluster_e3983cba9c3bf4ceb7cd078095406f88);\n        \n    \n            var marker_c84d8295cf015f69f4514cc6f6c384d4 = L.marker(\n                [48.2145071, 16.2845042],\n                {}\n            ).addTo(marker_cluster_e3983cba9c3bf4ceb7cd078095406f88);\n        \n&lt;/script&gt;\" style=\"position:absolute;width:100%;height:100%;left:0;top:0;border:none !important;\" allowfullscreen webkitallowfullscreen mozallowfullscreen></iframe></div></div>"
     },
     "execution_count": 11,
     "metadata": {},
     "output_type": "execute_result"
    }
   ],
   "source": [
    "# Filter unique hotels in dataframe\n",
    "hotels_unique = data[\n",
    "                     [\"hotel_address\", \"hotel_name\", \"lat\", \"lng\"]\n",
    "                    ].drop_duplicates()  \n",
    "\n",
    "# Add the map  \n",
    "m_1 = folium.Map(\n",
    "    tiles=\"openstreetmap\", \n",
    "    zoom_start=5, \n",
    "    location=[48.779124, 9.180090]\n",
    ")\n",
    "\n",
    "# Add points to the map  \n",
    "hotels = MarkerCluster()  \n",
    "for idx, row in hotels_unique.iterrows():\n",
    "    hotels.add_child(Marker([row[\"lat\"], row[\"lng\"]]))  \n",
    "m_1.add_child(hotels)  \n",
    "m_1  "
   ]
  },
  {
   "cell_type": "markdown",
   "metadata": {
    "collapsed": false,
    "pycharm": {
     "name": "#%% md\n"
    }
   },
   "source": [
    "*There are 1494 unique hotels with unique addresses in 6 cities. 2 new features will be created: city of hotel and distance to the centre of city from hotel.*<br>\n",
    "*Data of the centres of the cities was get from: https://simplemaps.com/data/world-cities*"
   ]
  },
  {
   "cell_type": "code",
   "execution_count": 12,
   "metadata": {
    "collapsed": false,
    "pycharm": {
     "name": "#%%\n"
    }
   },
   "outputs": [
    {
     "data": {
      "text/plain": "\u001B[35mDataset with centres coordinates\u001B[0m\n",
      "text/html": "<pre style=\"white-space:pre;overflow-x:auto;line-height:normal;font-family:Menlo,'DejaVu Sans Mono',consolas,'Courier New',monospace\"><span style=\"color: #800080; text-decoration-color: #800080\">Dataset with centres coordinates</span>\n</pre>\n"
     },
     "metadata": {},
     "output_type": "display_data"
    },
    {
     "data": {
      "text/plain": "    hotel_country hotel_city  cent_lat  cent_lng\n0  United Kingdom     London   51.5072   -0.1275\n1          France      Paris   48.8566    2.3522\n2     Netherlands  Amsterdam   52.3667    4.8833\n3           Italy      Milan   45.4669    9.1900\n4         Austria     Vienna   48.2083   16.3725\n5           Spain  Barcelona   41.3825    2.1769",
      "text/html": "<div>\n<style scoped>\n    .dataframe tbody tr th:only-of-type {\n        vertical-align: middle;\n    }\n\n    .dataframe tbody tr th {\n        vertical-align: top;\n    }\n\n    .dataframe thead th {\n        text-align: right;\n    }\n</style>\n<table border=\"1\" class=\"dataframe\">\n  <thead>\n    <tr style=\"text-align: right;\">\n      <th></th>\n      <th>hotel_country</th>\n      <th>hotel_city</th>\n      <th>cent_lat</th>\n      <th>cent_lng</th>\n    </tr>\n  </thead>\n  <tbody>\n    <tr>\n      <th>0</th>\n      <td>United Kingdom</td>\n      <td>London</td>\n      <td>51.5072</td>\n      <td>-0.1275</td>\n    </tr>\n    <tr>\n      <th>1</th>\n      <td>France</td>\n      <td>Paris</td>\n      <td>48.8566</td>\n      <td>2.3522</td>\n    </tr>\n    <tr>\n      <th>2</th>\n      <td>Netherlands</td>\n      <td>Amsterdam</td>\n      <td>52.3667</td>\n      <td>4.8833</td>\n    </tr>\n    <tr>\n      <th>3</th>\n      <td>Italy</td>\n      <td>Milan</td>\n      <td>45.4669</td>\n      <td>9.1900</td>\n    </tr>\n    <tr>\n      <th>4</th>\n      <td>Austria</td>\n      <td>Vienna</td>\n      <td>48.2083</td>\n      <td>16.3725</td>\n    </tr>\n    <tr>\n      <th>5</th>\n      <td>Spain</td>\n      <td>Barcelona</td>\n      <td>41.3825</td>\n      <td>2.1769</td>\n    </tr>\n  </tbody>\n</table>\n</div>"
     },
     "metadata": {},
     "output_type": "display_data"
    }
   ],
   "source": [
    "# Set city of hotel\n",
    "def get_city_hotel(address):\n",
    "    \"\"\"Get city from address\"\"\"  \n",
    "    \n",
    "    if \"United Kingdom\" in address:\n",
    "        city = \"London\"  \n",
    "    else:\n",
    "        city = address.split()[-2]  \n",
    "    return city\n",
    "\n",
    "# City of  hotel feature\n",
    "hotels_unique[\"hotel_city\"] = hotels_unique[\n",
    "                                        \"hotel_address\"].apply(get_city_hotel)\n",
    "\n",
    "\n",
    "\n",
    "# Import data of the centres of the cities\n",
    "centres_data = pd.read_csv(DATA_DIR + \"centres.csv\")\n",
    "print(\"[magenta]Dataset with centres coordinates\")\n",
    "display(centres_data)  \n",
    "\n",
    "# Add centres of the cities  \n",
    "hotels_unique = hotels_unique.merge(centres_data, how=\"left\", on=\"hotel_city\")  \n",
    "\n",
    "# Create distance to centre feature\n",
    "hotels_unique[\"cent_dist\"] = hotels_unique.apply(\n",
    "                                            lambda x: \n",
    "                                            distance.distance(           \n",
    "                                                (x[\"lat\"], x[\"lng\"]),\n",
    "                                                (x[\"cent_lat\"], x[\"cent_lng\"])\n",
    "                                            ).km, \n",
    "                                            axis=1\n",
    ")  \n",
    "\n",
    "# Add data to main dataframe  \n",
    "data = data.merge(hotels_unique, how=\"left\", on=[\"hotel_name\", \"lat\", \"lng\"])\n",
    "\n",
    "# Drop unnecessary columns \n",
    "data.drop([\n",
    "    \"hotel_address_x\", \"hotel_address_y\", \"lat\", \"lng\", \"cent_lat\", \n",
    "    \"cent_lng\",\"hotel_country\"\n",
    "    ], \n",
    "    axis=1, \n",
    "    inplace=True\n",
    ")  \n",
    "\n",
    "# Add city names to distinguish hotels with similar names  \n",
    "data[\"hotel_name\"] = data.apply(\n",
    "                            lambda x: \n",
    "                            (x[\"hotel_name\"] + \", \" + x[\"hotel_city\"]), \n",
    "                            axis=1\n",
    ")"
   ]
  },
  {
   "cell_type": "markdown",
   "metadata": {
    "collapsed": false,
    "pycharm": {
     "name": "#%% md\n"
    }
   },
   "source": [
    "***Encode hotel names***"
   ]
  },
  {
   "cell_type": "code",
   "execution_count": 13,
   "metadata": {
    "collapsed": false,
    "pycharm": {
     "name": "#%%\n"
    }
   },
   "outputs": [
    {
     "data": {
      "text/plain": "\u001B[35mNumber of filtered hotels: \u001B[0m\u001B[1;35m211\u001B[0m\n",
      "text/html": "<pre style=\"white-space:pre;overflow-x:auto;line-height:normal;font-family:Menlo,'DejaVu Sans Mono',consolas,'Courier New',monospace\"><span style=\"color: #800080; text-decoration-color: #800080\">Number of filtered hotels: </span><span style=\"color: #800080; text-decoration-color: #800080; font-weight: bold\">211</span>\n</pre>\n"
     },
     "metadata": {},
     "output_type": "display_data"
    },
    {
     "data": {
      "text/plain": "\u001B[35mNumber of result categories of hotel names: \u001B[0m\u001B[1;35m212\u001B[0m\n",
      "text/html": "<pre style=\"white-space:pre;overflow-x:auto;line-height:normal;font-family:Menlo,'DejaVu Sans Mono',consolas,'Courier New',monospace\"><span style=\"color: #800080; text-decoration-color: #800080\">Number of result categories of hotel names: </span><span style=\"color: #800080; text-decoration-color: #800080; font-weight: bold\">212</span>\n</pre>\n"
     },
     "metadata": {},
     "output_type": "display_data"
    }
   ],
   "source": [
    "# Choose unique hotels\n",
    "mask = data[\"sample\"] == 1 # as reviewers_score = 0 on sample = 0\n",
    "hotels_unique = data[mask].groupby(\n",
    "                                [\"hotel_name\", \"total_number_of_reviews\"]\n",
    "                                )[\"reviewer_score\"].agg(\n",
    "                                    [\"mean\"]\n",
    "                                    ).reset_index().rename(\n",
    "                                        columns={\"mean\":\"mean_rev_score\"}\n",
    ")  \n",
    "\n",
    "# Filter the most popular hotels to encode\n",
    "mask_hotel = (hotels_unique[\"mean_rev_score\"] >= 9) &\\\n",
    "                                (hotels_unique[\"total_number_of_reviews\"] > 350)  \n",
    "filtered_hotels = hotels_unique[mask_hotel]\n",
    "print(f\"[magenta]Number of filtered hotels: [magenta bold]{len(filtered_hotels)}\")\n",
    "\n",
    "# Create filtered hotel names feature\n",
    "hotels_unique[\"h_name_fix\"] = hotels_unique[\"hotel_name\"].apply(\n",
    "                                lambda name: name\n",
    "                                if name in filtered_hotels[\"hotel_name\"].values\n",
    "                                else \"other\"\n",
    ")  \n",
    "\n",
    "uh = hotels_unique[\"h_name_fix\"].nunique()  \n",
    "print(f\"[magenta]Number of result categories of hotel names: [magenta bold]{uh}\")\n",
    "\n",
    "# Hotel names encode  \n",
    "hotels_unique[\"h_name_fix\"] = hotels_unique[\"h_name_fix\"].astype(\"category\")  # for encoding\n",
    "\n",
    "ord_encoder = ce.OrdinalEncoder()  \n",
    "hotels_temp = ord_encoder.fit_transform(hotels_unique[[\"h_name_fix\"]])  \n",
    "hotels_temp.rename(columns = {\"h_name_fix\":\"hotel_enc\"}, inplace = True)  # to distinguish features  \n",
    "hotels_unique = pd.concat([hotels_unique, hotels_temp], axis=1)   \n",
    "\n",
    "# Drop unnecessary columns  \n",
    "hotels_unique.drop([\"h_name_fix\", \"mean_rev_score\"], axis=1, inplace=True)  \n",
    "\n",
    "# Gather data into main dataframe  \n",
    "data = data.merge(hotels_unique, how=\"left\", on=[\n",
    "                                    \"hotel_name\", \"total_number_of_reviews\"\n",
    "                                    ]\n",
    ")"
   ]
  },
  {
   "cell_type": "markdown",
   "metadata": {
    "collapsed": false,
    "pycharm": {
     "name": "#%% md\n"
    }
   },
   "source": [
    "***Encode the cities of the hotels***"
   ]
  },
  {
   "cell_type": "code",
   "execution_count": 17,
   "metadata": {
    "collapsed": false,
    "pycharm": {
     "name": "#%%\n"
    }
   },
   "outputs": [
    {
     "data": {
      "image/png": "[encoded data removed]"
     },
     "metadata": {},
     "output_type": "display_data"
    }
   ],
   "source": [
    "mask = data[\"sample\"] == 1 # as reviewers_score == 0 on sample == 0\n",
    "\n",
    "# Plot distribution of reviewers' scores by city\n",
    "fig = go.Figure()  \n",
    "fig.add_trace(go.Box(\n",
    "       x=data.loc[mask & (data[\"hotel_city\"] == \"Amsterdam\"), \"reviewer_score\"], \n",
    "       name=\" Amsterdam \"\n",
    "       )\n",
    "), \n",
    "fig.add_trace(go.Box(\n",
    "       x=data.loc[mask & (data[\"hotel_city\"] == \"Barcelona\"), \"reviewer_score\"], \n",
    "       name=\" Barcelona \"\n",
    "       )\n",
    "),  \n",
    "fig.add_trace(go.Box(\n",
    "       x=data.loc[mask & (data[\"hotel_city\"] == \"London\"), \"reviewer_score\"], \n",
    "       name=\" London \"\n",
    "       )\n",
    "),  \n",
    "fig.add_trace(go.Box(\n",
    "       x=data.loc[mask & (data[\"hotel_city\"] == \"Milan\"), \"reviewer_score\"], \n",
    "       name=\" Milan \"\n",
    "       )\n",
    "),  \n",
    "fig.add_trace(go.Box(\n",
    "       x=data.loc[mask & (data[\"hotel_city\"] == \"Paris\"), \"reviewer_score\"], \n",
    "       name=\" Paris \"\n",
    "       )\n",
    "),  \n",
    "fig.add_trace(go.Box(\n",
    "       x=data.loc[mask & (data[\"hotel_city\"] == \"Vienna\"), \"reviewer_score\"], \n",
    "       name=\" Vienna \"\n",
    "       )\n",
    ")  \n",
    "fig.update_layout(\n",
    "       font_family=\"Helvetica\",\n",
    "       title={\n",
    "              \"text\": \"Distribution of reviewers' scores by city\",\n",
    "              \"x\":0.08, \"xanchor\": \"left\",\n",
    "              \"y\":0.9, \"yanchor\": \"top\"\n",
    "              },\n",
    "       xaxis_tickfont_size=14,\n",
    "       yaxis=dict(tickfont_size=14),\n",
    "       legend=dict(\n",
    "              title = \"cities:\", \n",
    "              orientation=\"h\", \n",
    "              y=1, yanchor=\"bottom\", \n",
    "              x=1, xanchor=\"right\"\n",
    "              ),\n",
    "       width=1300,\n",
    "       height=600\n",
    ")  \n",
    "fig.show(\"png\")"
   ]
  },
  {
   "cell_type": "markdown",
   "metadata": {
    "collapsed": false,
    "pycharm": {
     "name": "#%% md\n"
    }
   },
   "source": [
    "***We can divide the cities into 3 groups by distribution of the reviewers' scores:***\n",
    "1. *Barcelona & Vienna: 2*\n",
    "2. *Amsterdam & Milan: 1*\n",
    "3. *London & Paris: 0*"
   ]
  },
  {
   "cell_type": "code",
   "execution_count": null,
   "metadata": {
    "collapsed": false,
    "pycharm": {
     "name": "#%%\n"
    }
   },
   "outputs": [],
   "source": [
    "def city_enc(city):\n",
    "    \"\"\" Encode cities \"\"\"\n",
    "    \n",
    "    if (city == \"Barcelona\") or (city == \"Vienna\"):\n",
    "        result = 2\n",
    "    if (city == \"Amsterdam\") or (city == \"Milan\"):\n",
    "        result = 1\n",
    "    if (city == \"London\") or (city == \"Paris\"):\n",
    "        result = 1\n",
    "    return result\n",
    "\n",
    "data[\"hotel_city_enc\"] = data[\"hotel_city\"].apply(city_enc)   "
   ]
  },
  {
   "cell_type": "markdown",
   "metadata": {
    "collapsed": false,
    "pycharm": {
     "name": "#%% md\n"
    }
   },
   "source": [
    "*As we know **average_score** and **reviewers score**, so we can calculate **their ratio**.*<br>\n",
    "*If the ratio is less than 1, then the average score of hotel grown, and we would mark it with 1.*<br>\n",
    "*In other cases(ratio is equal or more than 1) it will be marked with 0.*"
   ]
  },
  {
   "cell_type": "code",
   "execution_count": null,
   "metadata": {
    "collapsed": false,
    "pycharm": {
     "name": "#%%\n"
    }
   },
   "outputs": [],
   "source": [
    "# Filter necessary data   \n",
    "mask = data[\"sample\"] == 1 # as reviewers_score = 0 on sample = 0\n",
    "average_pivot = data[mask].groupby(\n",
    "                                [\"hotel_name\", \"average_score\"]\n",
    "                                )[\"reviewer_score\"].agg(\n",
    "                                    [\"mean\"]\n",
    "                                    ).reset_index().rename(\n",
    "                                        columns={\"mean\":\"mean_rev_score\"}\n",
    ")  \n",
    "\n",
    "# Calculate ratio of scores  \n",
    "average_pivot[\"growth_index\"] = round(\n",
    "                                    average_pivot[\"average_score\"]/\n",
    "                                    average_pivot[\"mean_rev_score\"], \n",
    "                                    3\n",
    ")  \n",
    "\n",
    "# Mark growth  \n",
    "average_pivot[\"hotel_growth_enc\"] = average_pivot[\"growth_index\"].apply(\n",
    "                                                    lambda x: 1 if x < 1 else 0\n",
    ")  \n",
    "print(f\"[magenta]Result pivot_table\")\n",
    "display(average_pivot)  \n",
    "\n",
    "# Drop unnecessary columns  \n",
    "average_pivot.drop([\"mean_rev_score\", \"growth_index\"], axis=1, inplace=True)  \n",
    "\n",
    "# Add new feature to main dataframe  \n",
    "data = data.merge(average_pivot, how=\"left\", on=[\"hotel_name\", \"average_score\"])  "
   ]
  },
  {
   "cell_type": "markdown",
   "metadata": {
    "pycharm": {
     "name": "#%% md\n"
    }
   },
   "source": [
    "*The feature **average_score** is self-sustaining data and there is **no need to transform it**.*"
   ]
  },
  {
   "cell_type": "markdown",
   "metadata": {
    "collapsed": false,
    "pycharm": {
     "name": "#%% md\n"
    }
   },
   "source": [
    "## The reviewers related data"
   ]
  },
  {
   "cell_type": "markdown",
   "metadata": {
    "collapsed": false,
    "pycharm": {
     "name": "#%% md\n"
    }
   },
   "source": [
    "*We have features: **additional_number_of_scoring**(scores without reviews) and **total_number_of_reviews**(scores with reviews).*<br>\n",
    "*Well, scores without reviews are rather **suspicious**, so let's calculate the ratio of number of scores without reviews and number of all scores.*"
   ]
  },
  {
   "cell_type": "code",
   "execution_count": null,
   "metadata": {
    "collapsed": false,
    "pycharm": {
     "name": "#%%\n"
    }
   },
   "outputs": [],
   "source": [
    "# Number of all scores\n",
    "all_scores = data[\"additional_number_of_scoring\"] + data[\"total_number_of_reviews\"]  \n",
    "\n",
    "# Calculate ratio of scores in percents  \n",
    "data[\"score_ratio\"] = round(                                  \n",
    "                            data[\"additional_number_of_scoring\"]/all_scores, \n",
    "                            2\n",
    "                           ) * 100  \n",
    "print(f\"[magenta]Unique ratio values\")\n",
    "print(data[\"score_ratio\"].value_counts())  \n",
    "\n",
    "\"\"\" \n",
    "    There are different values from 2 percents to 28 percents.\n",
    "    I think it is very suspicious, when ratio was higher than 25 percents.\n",
    "    So let's divide ratios in 3 groups:\n",
    "    ratio <= 20%, 20 < ratio < 25, ratio >= 25%  \n",
    "    \n",
    "\"\"\"\n",
    "\n",
    "# Encode level of suspicion  \n",
    "def ratio_encoding(ratio):\n",
    "    \"\"\" Encode level of suspicion \"\"\"  \n",
    "    \n",
    "    if ratio <= 20:\n",
    "        x = 0  \n",
    "    if (ratio > 20) and (ratio < 25):\n",
    "        x = 1  \n",
    "    if ratio >= 25:\n",
    "        x = 2  \n",
    "    return x  \n",
    "\n",
    "\n",
    "data[\"suspicion_enc\"] = data[\"score_ratio\"].apply(ratio_encoding)  \n",
    "\n",
    "data.drop([\"score_ratio\"], axis=1, inplace=True)  \n",
    "\n",
    "print(f\"[magenta]Amount of hotels by level of suspicion\")\n",
    "print(data[\"suspicion_enc\"].value_counts())  # amount of hotels by level of suspicion  "
   ]
  },
  {
   "cell_type": "markdown",
   "metadata": {
    "collapsed": false,
    "pycharm": {
     "name": "#%% md\n"
    }
   },
   "source": [
    "***Make date become date and days become numbers***"
   ]
  },
  {
   "cell_type": "code",
   "execution_count": null,
   "metadata": {
    "collapsed": false,
    "pycharm": {
     "name": "#%%\n"
    }
   },
   "outputs": [],
   "source": [
    "# Review_date fix  \n",
    "data[\"review_date\"] = pd.to_datetime(data[\"review_date\"])\n",
    "\n",
    "# Add month of review feature\n",
    "data[\"review_month\"] = data[\"review_date\"].apply(lambda x: x.month)\n",
    "\n",
    "# Add season of review feature\n",
    "def get_season(month):\n",
    "    \"\"\" Get season from month \"\"\"\n",
    "    \n",
    "    if month in [12, 1, 2]:\n",
    "        season = 0 # winter season\n",
    "    if month in [3, 4, 5]:\n",
    "        season = 1 # spring season\n",
    "    if month in [6, 7, 8]:\n",
    "        season = 2 # summer season\n",
    "    if month in [9, 10, 11]:\n",
    "        season = 3 # autumn season\n",
    "    return season\n",
    "\n",
    "\n",
    "data[\"review_season\"] = data[\"review_month\"].apply(get_season)\n",
    "\n",
    "# Days_since_review fix  \n",
    "data[\"days_since_review\"] = data[\"days_since_review\"].apply(\n",
    "                                               lambda x: int(x.split()[0])\n",
    ")  \n",
    "\n",
    "# Drop unnecessary columns\n",
    "data.drop([\"review_date\"], axis=1, inplace=True)"
   ]
  },
  {
   "cell_type": "markdown",
   "metadata": {
    "collapsed": false,
    "pycharm": {
     "name": "#%% md\n"
    }
   },
   "source": [
    "**Reviewers' nationalities**<br>\n",
    "*Reviewers' nationalities(countries) would be associated with their continents and thеn encoded.*<br>\n",
    "*The data of countries and their continents was downloaded from: https://worldpopulationreview.com/country-rankings/list-of-countries-by-continent and adapted for our purposes.*"
   ]
  },
  {
   "cell_type": "code",
   "execution_count": null,
   "metadata": {
    "collapsed": false,
    "pycharm": {
     "name": "#%%\n"
    }
   },
   "outputs": [],
   "source": [
    "# Load data of countries by continents  \n",
    "continents = pd.read_csv(DATA_DIR + \"continents.csv\")\n",
    "print(\"[magenta]Data of countries by continents\")\n",
    "display(continents)  \n",
    "\n",
    "# This is necessary as I found out later \n",
    "data[\"reviewer_nationality\"] = data[\"reviewer_nationality\"].apply(\n",
    "                                                            lambda x: x.strip()\n",
    ")  \n",
    "\n",
    "# Add data to main dataframe  \n",
    "data = data.merge(\n",
    "            continents, \n",
    "            how=\"left\", \n",
    "            left_on=\"reviewer_nationality\", \n",
    "            right_on=\"country\"\n",
    ")  \n",
    "\n",
    "# Let's check data\n",
    "print(\"[magenta]Columns with nulls\")\n",
    "get_nan_cols(data)\n",
    "print(\"[magenta]Null data\")\n",
    "display(data.loc[data[\"continent\"].isna(), \"reviewer_nationality\"].value_counts())\n",
    "\n",
    "# Oooops! We have NaN data for unrecognized countries\n",
    "# But the amount of missing values is rather small, \n",
    "# so just let's fill them with mode\n",
    "data[\"continent\"].fillna(data[\"continent\"].mode()[0], inplace=True)\n",
    "\n",
    "# Now let's look at the distribution of reviewers' score by continents\n",
    "mask = data[\"sample\"] == 1 # as reviewers_score = 0 on sample = 0\n",
    "fig = px.box(\n",
    "      data[mask],\n",
    "      x=\"reviewer_score\",\n",
    "      y=\"continent\",\n",
    "      color=\"continent\", \n",
    "      width=1300,\n",
    "      height=600,\n",
    "      labels={\"reviewer_score\":\"Reviewers' Scores\"}\n",
    ")  \n",
    "fig.update_layout(\n",
    "      font_family=\"Helvetica\",\n",
    "      title={\n",
    "            \"text\":\"Distribution of reviewers' scores by reviewers' continents\",\n",
    "            \"x\":0.1, \"xanchor\":\"left\",\n",
    "            \"y\":0.98, \"yanchor\":\"top\",\n",
    "            },\n",
    "      xaxis=dict(tickfont_size=14),\n",
    "      yaxis=dict(tickfont_size=14, title=\"\"),\n",
    "      legend=dict(\n",
    "            title=\"continets:\", \n",
    "            orientation=\"h\", \n",
    "            y=1, yanchor=\"bottom\", \n",
    "            x=1, xanchor=\"right\"\n",
    "            )\n",
    ")  \n",
    "fig.show(\"notebook\")  "
   ]
  },
  {
   "cell_type": "markdown",
   "metadata": {
    "collapsed": false,
    "pycharm": {
     "name": "#%% md\n"
    }
   },
   "source": [
    "*As we can see above, there is very clear differentiation of reviewers' scores by continents. Now let's encode them.*"
   ]
  },
  {
   "cell_type": "code",
   "execution_count": null,
   "metadata": {
    "collapsed": false,
    "pycharm": {
     "name": "#%%\n"
    }
   },
   "outputs": [],
   "source": [
    "def continents_encode(continent):\n",
    "    \"\"\" Encode reviewers' continents \"\"\"  \n",
    "    \n",
    "    if continent == \"North America\":\n",
    "        x = 6  \n",
    "    if continent == \"Oceania\":\n",
    "        x = 5  \n",
    "    if continent == \"South America\":\n",
    "        x = 4  \n",
    "    if continent == \"Africa\":\n",
    "        x = 3  \n",
    "    if continent == \"Europe\":\n",
    "        x = 2  \n",
    "    if continent == \"Asia\":\n",
    "        x = 1\n",
    "    return x  \n",
    "\n",
    "\n",
    "data[\"rev_continent_enc\"] = data[\"continent\"].apply(continents_encode)\n",
    "\n",
    "# Drop unnecessary columns\n",
    "data.drop([\"reviewer_nationality\", \"country\", \"continent\"], axis=1, inplace=True)"
   ]
  },
  {
   "cell_type": "markdown",
   "metadata": {
    "collapsed": false,
    "pycharm": {
     "name": "#%% md\n"
    }
   },
   "source": [
    "**Fix reviewer's tags**"
   ]
  },
  {
   "cell_type": "code",
   "execution_count": null,
   "metadata": {
    "collapsed": false,
    "pycharm": {
     "name": "#%%\n"
    }
   },
   "outputs": [],
   "source": [
    "# Tags overview  \n",
    "def raw_tag_grab(tag):\n",
    "    \"\"\" Get list of tags from raw string \"\"\"  \n",
    "    \n",
    "    tag = tag.lower().lstrip(\"[' \").rstrip(\" ']\").replace(\"' \", \"\").replace(\" '\", \"\")\n",
    "    lst = tag.split(\",\")\n",
    "    tag_list = list(map(lambda t: t.strip(), lst))  \n",
    "    return tag_list  \n",
    "\n",
    "# Make column with list of tags  \n",
    "data[\"tag_list\"] = data[\"tags\"].apply(raw_tag_grab)  \n",
    "\n",
    "# Make column with number of tags  \n",
    "data[\"num_tag\"] = data[\"tag_list\"].apply(lambda tag_list: len(tag_list))  \n",
    "\n",
    "# Look at the structure of the tags  \n",
    "mn = data[\"num_tag\"].min()  \n",
    "print(f\"[magenta]The minimum number of tags: [magenta bold]{mn}\")\n",
    "print(data.loc[data[\"num_tag\"] == 1, \"tag_list\"])  \n",
    "\n",
    "\n",
    "mx = data[\"num_tag\"].max()  \n",
    "print(f\"[magenta]The maximum number of tags: [magenta bold]{mx}\")\n",
    "print(data.loc[data[\"num_tag\"] == 6, \"tag_list\"])  "
   ]
  },
  {
   "cell_type": "markdown",
   "metadata": {
    "collapsed": false,
    "pycharm": {
     "name": "#%% md\n"
    }
   },
   "source": [
    "***The maximum*** *number of tags is **6**. They have the structure:*\n",
    " - *with pet* * \n",
    " - *type of trip* *\n",
    " - *type of reviewer*\n",
    " - *room description* *\n",
    " - *amount of stayed nights* *\n",
    " - *hotel room was submitted from a mobile device* *<br>\n",
    "\n",
    "\\* - *may be absent if less than the maximum*\n",
    "\n",
    "***The minimum*** *number of tags is **1**, there is only type of reviewer.*<br>\n",
    "*Now we can encode tags*"
   ]
  },
  {
   "cell_type": "code",
   "execution_count": null,
   "metadata": {
    "collapsed": false,
    "pycharm": {
     "name": "#%%\n"
    }
   },
   "outputs": [],
   "source": [
    "# Encode with a pet tag  \n",
    "def pet_tag_set(tag_list): \n",
    "    \n",
    "    if \"with a pet\" in tag_list:\n",
    "        pet = 1  \n",
    "        tag_list.remove(\"with a pet\")  \n",
    "    else:\n",
    "        pet = 0  \n",
    "    return pet  \n",
    "\n",
    "\n",
    "# Encode type of trip tag  \n",
    "def trip_tag_set(tag_list): \n",
    "    \n",
    "    if \"leisure trip\" in tag_list:\n",
    "        trip = 2  \n",
    "        tag_list.remove(\"leisure trip\")  \n",
    "    elif \"business trip\" in tag_list:\n",
    "        trip = 1  \n",
    "        tag_list.remove(\"business trip\")  \n",
    "    else:\n",
    "        trip = 0  \n",
    "    return trip  \n",
    "\n",
    "\n",
    "# Encode number of stayed nights tag  \n",
    "def nights_tag_set(tag_list):  \n",
    "    \n",
    "    for tag in tag_list:\n",
    "        if re.match(r\"stayed\\s\\d+\\snights?\", tag):\n",
    "            nights = int(re.findall(r\".(\\d+).*\", tag)[0])  \n",
    "            tag_list.remove(tag)  \n",
    "        else:\n",
    "                nights = 0  \n",
    "    return nights  \n",
    "\n",
    "\n",
    "# Encode submitted from a mobile device tag  \n",
    "def mob_dev_tag_set(tag_list):  \n",
    "    \n",
    "    if \"submitted from a mobile device\" in tag_list:\n",
    "        mob_dev = 1  \n",
    "        tag_list.remove(\"submitted from a mobile device\")  \n",
    "    else:\n",
    "        mob_dev = 0  \n",
    "    return mob_dev  \n",
    "\n",
    "\n",
    "# Apply functions and print some values  \n",
    "data[\"pet_tag\"] = data[\"tag_list\"].apply(pet_tag_set)   \n",
    "sum_pet = data[\"pet_tag\"].sum()  \n",
    "print(f\"[magenta]Number of reviewers with pet: [magenta bold]{sum_pet}\")\n",
    "\n",
    "data[\"trip_tag\"] = data[\"tag_list\"].apply(trip_tag_set)  \n",
    "bus_trip = data.loc[data[\"trip_tag\"] == 1, \"trip_tag\"].count()  \n",
    "print(f\"[magenta]Number of reviewers on a business trip: [magenta bold]{bus_trip}\")\n",
    "\n",
    "data[\"nights_tag\"] = data[\"tag_list\"].apply(nights_tag_set)  \n",
    "nght = data.loc[data[\"nights_tag\"] == 1, \"nights_tag\"].count()  \n",
    "print(f\"[magenta]Number of reviewers stayed for 1 night: [magenta bold]{nght}\")\n",
    "\n",
    "data[\"mob_dev_tag\"] = data[\"tag_list\"].apply(mob_dev_tag_set)  \n",
    "mob_dev = data[\"mob_dev_tag\"].sum()  \n",
    "print(\n",
    "    f\"[magenta]Number of reviewers submitted from a mobile device: \\\n",
    "[magenta bold]{mob_dev}\"\n",
    ")"
   ]
  },
  {
   "cell_type": "code",
   "execution_count": null,
   "metadata": {
    "collapsed": false,
    "pycharm": {
     "name": "#%%\n"
    }
   },
   "outputs": [],
   "source": [
    "# Get sets of unique reviewers' types and types of rooms  \n",
    "room_set = set()  \n",
    "traveller_set = set()  \n",
    "\n",
    "def room_type_grab(tag_list):\n",
    "    \"\"\" Fill set of types of rooms tag \"\"\"  \n",
    "    global room_set  \n",
    "    if len(tag_list) > 1:\n",
    "        room_set.add(tag_list[1])  \n",
    "        \n",
    "def trav_type_grab(tag_list):\n",
    "    \"\"\" Fill set of reviewers' types tag \"\"\"  \n",
    "    global traveller_set  \n",
    "    traveller_set.add(tag_list[0])  \n",
    "\n",
    "\n",
    "# Apply functions and print results\n",
    "data[\"tag_list\"].apply(room_type_grab)  \n",
    "print(f\"[magenta]Number of unique types of rooms: [magenta bold]{len(room_set)}\")\n",
    "\n",
    "data[\"tag_list\"].apply(trav_type_grab)  \n",
    "print(f\"[magenta]Unique reviewers' types:\\n[magenta bold]{traveller_set}\")\n",
    "\n",
    "# Create reviewer's type feature  \n",
    "data[\"rev_type\"] = data[\"tag_list\"].apply(\n",
    "                                        lambda x: x[0] \n",
    "                                        if (x[0] in traveller_set) \n",
    "                                        else \"other\"\n",
    ")    \n",
    "\n",
    "# Create features from type_of_room tag  \n",
    "def type_of_room_set(tag_list):\n",
    "    \n",
    "    types = [\n",
    "        \"premier\", \"superior\", \"deluxe\", \"classic\", \"guestroom\", \"standard\", \n",
    "        \"king\", \"queen\", \"club\", \"luxury\", \"suite\", \"executive\", \"junior\", \n",
    "        \"family\", \"basic\"\n",
    "    ]  \n",
    "    for tp in types:\n",
    "        if len(tag_list) > 1:\n",
    "            if tp in tag_list[1]:\n",
    "                return tp  \n",
    "            if (\"no window\" in tag_list[1]) or (\"without window\" in tag_list[1]):\n",
    "                return \"no window\"  \n",
    "    return \"other\"  \n",
    "\n",
    "# Create type of room feature\n",
    "data[\"room_type\"] = data[\"tag_list\"].apply(type_of_room_set)  \n",
    "\n",
    "# Create double rooms feature  \n",
    "data[\"roomX2\"] = data[\"tag_list\"].apply(\n",
    "                                    lambda x: 1                                \n",
    "                                    if ((len(x)>1) and (\n",
    "                                        (\"double\" in x[1]) or  \n",
    "                                        (\"twin\" in x[1]) or \n",
    "                                        (\"duplex\" in x[1])\n",
    "                                        )\n",
    "                                       ) \n",
    "                                    else 0\n",
    ")  \n",
    "\n",
    "# Create triple rooms feature  \n",
    "data[\"roomX3\"] = data[\"tag_list\"].apply(\n",
    "                                    lambda x: 1                           \n",
    "                                    if ((len(x)>1) and (\"triple\" in x[1])) \n",
    "                                    else 0\n",
    ")  \n",
    "\n",
    "# Create quadruple rooms feature  \n",
    "data[\"roomX4\"] = data[\"tag_list\"].apply(\n",
    "                                    lambda x: 1                              \n",
    "                                    if ((len(x)>1) and (\"quadruple\" in x[1])) \n",
    "                                    else 0\n",
    ")  \n",
    "\n",
    "# Create rooms with nice view feature  \n",
    "data[\"with_view\"] = data[\"tag_list\"].apply(\n",
    "                                        lambda x: 1                          \n",
    "                                        if ((len(x)>1) and (\"view\" in x[1])) \n",
    "                                        else 0\n",
    ")  "
   ]
  },
  {
   "cell_type": "code",
   "execution_count": null,
   "metadata": {
    "collapsed": false,
    "pycharm": {
     "name": "#%%\n"
    }
   },
   "outputs": [],
   "source": [
    "# Encode reviewers' types and types of rooms  \n",
    "# Reviewers' types  \n",
    "rev_encoder = ce.OneHotEncoder(cols=[\"rev_type\"], use_cat_names=True)  \n",
    "rev_data= rev_encoder.fit_transform(data[\"rev_type\"])  \n",
    "data = pd.concat([data, rev_data], axis=1)  \n",
    "\n",
    "# Types of rooms\n",
    "room_encoder = ce.OneHotEncoder(cols=[\"room_type\"], use_cat_names=True)  \n",
    "room_data = room_encoder.fit_transform(data[\"room_type\"])  \n",
    "data = pd.concat([data, room_data], axis=1)  \n",
    "\n",
    "\n",
    "# Make heavy light  \n",
    "data[\n",
    "     [\"hotel_city_enc\", \"hotel_growth_enc\", \"suspicion_enc\",\n",
    "      \"rev_continent_enc\", \"num_tag\", \"pet_tag\", \"trip_tag\", \"nights_tag\", \n",
    "      \"mob_dev_tag\", \"roomX2\", \"roomX3\", \"roomX4\", \"with_view\", \n",
    "      \"rev_type_couple\", \"rev_type_solo traveler\", \n",
    "      \"rev_type_family with young children\",\"rev_type_group\", \n",
    "      \"rev_type_family with older children\", \"rev_type_travelers with friends\", \n",
    "      \"room_type_suite\", \"room_type_standard\", \"room_type_other\", \n",
    "      \"room_type_superior\", \"room_type_king\", \"room_type_luxury\", \n",
    "      \"room_type_executive\", \"room_type_family\", \"room_type_deluxe\", \n",
    "      \"room_type_no window\", \"room_type_premier\", \"room_type_basic\", \n",
    "      \"room_type_classic\", \"room_type_queen\", \"room_type_guestroom\", \n",
    "      \"room_type_club\", \"room_type_junior\"]\n",
    "    ] = data[\n",
    "             [\"hotel_city_enc\", \"hotel_growth_enc\",\n",
    "              \"suspicion_enc\", \"rev_continent_enc\", \"num_tag\", \"pet_tag\", \n",
    "              \"trip_tag\", \"nights_tag\", \"mob_dev_tag\", \"roomX2\", \"roomX3\", \n",
    "              \"roomX4\", \"with_view\", \"rev_type_couple\", \"rev_type_solo traveler\", \n",
    "              \"rev_type_family with young children\",\"rev_type_group\", \n",
    "              \"rev_type_family with older children\", \n",
    "              \"rev_type_travelers with friends\", \"room_type_suite\", \n",
    "              \"room_type_standard\", \"room_type_other\", \"room_type_superior\", \n",
    "              \"room_type_king\", \"room_type_luxury\", \"room_type_executive\", \n",
    "              \"room_type_family\", \"room_type_deluxe\", \"room_type_no window\", \n",
    "              \"room_type_premier\", \"room_type_basic\", \"room_type_classic\", \n",
    "              \"room_type_queen\", \"room_type_guestroom\", \"room_type_club\", \n",
    "              \"room_type_junior\"]\n",
    "            ].astype(\"int8\")  "
   ]
  },
  {
   "cell_type": "code",
   "execution_count": null,
   "metadata": {
    "collapsed": false,
    "pycharm": {
     "name": "#%%\n"
    }
   },
   "outputs": [],
   "source": [
    "# Distribution of reviewers' scores by lengths of tags\n",
    "mask = data[\"sample\"] == 1 # as reviewers_score = 0 on sample = 0  \n",
    "fig = go.Figure()  \n",
    "fig.add_trace(go.Box(\n",
    "       y=data.loc[mask & (data[\"num_tag\"] == 1), \"reviewer_score\"], \n",
    "       name=\" 1 tag \"\n",
    "       )\n",
    "),  \n",
    "fig.add_trace(go.Box(\n",
    "       y=data.loc[mask & (data[\"num_tag\"] == 2), \"reviewer_score\"], \n",
    "       name=\" 2 tags \"\n",
    "       )\n",
    "),  \n",
    "fig.add_trace(go.Box(\n",
    "       y=data.loc[mask & (data[\"num_tag\"] == 3), \"reviewer_score\"], \n",
    "       name=\" 3 tags \"\n",
    "       )\n",
    "),  \n",
    "fig.add_trace(go.Box(\n",
    "       y=data.loc[mask & (data[\"num_tag\"] == 4), \"reviewer_score\"], \n",
    "       name=\" 4 tags \"\n",
    "       )\n",
    "),  \n",
    "fig.add_trace(go.Box(\n",
    "       y=data.loc[mask & (data[\"num_tag\"] == 5), \"reviewer_score\"], \n",
    "       name=\" 5 tags \"\n",
    "       )\n",
    "),  \n",
    "fig.add_trace(go.Box(\n",
    "       y=data.loc[mask & (data[\"num_tag\"] == 6), \"reviewer_score\"], \n",
    "       name=\" 6 tags \"\n",
    "       )\n",
    ")\n",
    "fig.update_layout(\n",
    "       font_family=\"Helvetica\",\n",
    "       title={\n",
    "              \"text\":\"Distribution of reviewers' scores by number of tags\",\n",
    "              \"x\":0.07, \"xanchor\":\"left\",\n",
    "              \"y\":0.9, \"yanchor\":\"top\",\n",
    "              },\n",
    "       xaxis=dict(tickfont_size=14),\n",
    "       yaxis=dict(tickfont_size=14, title=\"Score\"),\n",
    "       legend=dict(\n",
    "              title=\"number of tags:\", \n",
    "              orientation=\"h\", \n",
    "              y=1, yanchor=\"bottom\", \n",
    "              x=1, xanchor=\"right\"\n",
    "              ),\n",
    "       width= 1300,\n",
    "       height= 600\n",
    ")  \n",
    "fig.show(\"notebook\")"
   ]
  },
  {
   "cell_type": "code",
   "execution_count": null,
   "metadata": {
    "collapsed": false,
    "pycharm": {
     "name": "#%%\n"
    }
   },
   "outputs": [],
   "source": [
    "# There is direct correlation between reviewers' scores and number of tags\n",
    "# So, let's encode them  \n",
    "def num_tag_enc(length):\n",
    "    \n",
    "    if length == 1:\n",
    "        result = 0  \n",
    "    elif length == 2:\n",
    "        result = 1  \n",
    "    elif (length >= 3) and (length <= 5):\n",
    "        result = 2  \n",
    "    elif length == 6:\n",
    "        result = 3  \n",
    "    return result  \n",
    "\n",
    "data[\"num_tag_enc\"] = data[\"num_tag\"].apply(num_tag_enc)  "
   ]
  },
  {
   "cell_type": "code",
   "execution_count": null,
   "metadata": {
    "collapsed": false,
    "pycharm": {
     "name": "#%%\n"
    }
   },
   "outputs": [],
   "source": [
    "# Distribution of reviewers' scores by reviewers' types\n",
    "mask = data[\"sample\"] == 1 # as reviewers_score = 0 on sample = 0  \n",
    "rev_types_pivot = pd.pivot_table(\n",
    "                                 data[mask],\n",
    "                                 index=\"rev_type\", \n",
    "                                 values=\"reviewer_score\", \n",
    "                                 aggfunc=\"mean\"\n",
    "                                ).reset_index()\n",
    "\n",
    "\n",
    "fig = px.bar(\n",
    "      rev_types_pivot,\n",
    "      x=\"rev_type\",\n",
    "      y=round(rev_types_pivot[\"reviewer_score\"], 3),\n",
    "      color=\"rev_type\",\n",
    "      labels={\"rev_type\":\"Reviewers' types\"},\n",
    "      width=1000,\n",
    "      height=600,\n",
    "      text_auto=True\n",
    ")\n",
    "fig.update_layout(\n",
    "      font_family=\"Helvetica\",\n",
    "      title={\n",
    "            \"text\":\"Distribution of reviewers' scores by reviewers' types\",\n",
    "            \"x\":0.07, \"xanchor\":\"left\",\n",
    "            \"y\":0.97, \"yanchor\":\"top\",\n",
    "            },\n",
    "      xaxis=dict(tickfont_size=14),\n",
    "      yaxis=dict(tickfont_size=14, title=\"Scores\"),\n",
    "      legend=dict(title=\"reviewers' types:\")\n",
    ")  \n",
    "fig.update_traces(textfont_size=14, textposition=\"outside\")  \n",
    "fig.show(\"notebook\")  "
   ]
  },
  {
   "cell_type": "markdown",
   "metadata": {
    "collapsed": false,
    "pycharm": {
     "name": "#%% md\n"
    }
   },
   "source": [
    "*The means of reviewers' scores are mostly similar for each type of reviewers. But the **lowest values** are for **solo travellers** and for **families with young children**.*<br>\n",
    "*I think we have such result because people from this types have **less emotional involovement** and so they are **more critical**.*"
   ]
  },
  {
   "cell_type": "code",
   "execution_count": null,
   "metadata": {
    "collapsed": false,
    "pycharm": {
     "name": "#%%\n"
    }
   },
   "outputs": [],
   "source": [
    "# Distribution of reviewers' scores by types of rooms\n",
    "mask = data[\"sample\"] == 1 # as reviewers_score = 0 on sample = 0\n",
    "room_types_pivot = pd.pivot_table(\n",
    "                                  data[mask],\n",
    "                                  index=\"room_type\", \n",
    "                                  values=\"reviewer_score\", \n",
    "                                  aggfunc=\"mean\"\n",
    "                                 ).reset_index()\n",
    "\n",
    "\n",
    "fig = px.bar(\n",
    "       room_types_pivot,\n",
    "       x=\"room_type\",\n",
    "       y=round(room_types_pivot[\"reviewer_score\"], 2),\n",
    "       color=\"room_type\",\n",
    "       labels={\"room_type\":\"Types of Rooms\"},\n",
    "       width=1300,\n",
    "       height=500,\n",
    "       text_auto=True\n",
    ")\n",
    "fig.update_layout(\n",
    "       font_family=\"Helvetica\",\n",
    "       title={\n",
    "              \"text\":\"Distribution of reviewers' scores by types of rooms\",\n",
    "              \"x\":0.07, \"xanchor\":\"left\",\n",
    "              \"y\":0.97, \"yanchor\":\"top\",},\n",
    "       xaxis=dict(tickfont_size=14),\n",
    "       yaxis=dict(tickfont_size=14, title = \"Scores\"),\n",
    "       legend=dict(title=\"types of rooms:\")\n",
    ")  \n",
    "fig.update_traces(textfont_size=14, textposition=\"outside\")  \n",
    "fig.show(\"notebook\") "
   ]
  },
  {
   "cell_type": "markdown",
   "metadata": {
    "collapsed": false,
    "pycharm": {
     "name": "#%% md\n"
    }
   },
   "source": [
    "*On the plot above we can mark such a thing: **the lowest scores** are for tags, which charcterize the rooms like **basic, guestroom or room without window**.*<br> \n",
    "*On the other hand **the highest scores** are for tags, which tell us about **premium segment** of rooms. I think, it’s pretty obvious.*"
   ]
  },
  {
   "cell_type": "code",
   "execution_count": null,
   "metadata": {
    "collapsed": false,
    "pycharm": {
     "name": "#%%\n"
    }
   },
   "outputs": [],
   "source": [
    "# Drop unnecessary columns  \n",
    "data.drop(\n",
    "    [\"tags\" ,\"tag_list\", \"room_type\", \"rev_type\", \"num_tag\"], \n",
    "    axis=1, \n",
    "    inplace=True\n",
    ")  "
   ]
  },
  {
   "cell_type": "markdown",
   "metadata": {
    "collapsed": false,
    "pycharm": {
     "name": "#%% md\n"
    }
   },
   "source": [
    "**Fix and analyze reviews**"
   ]
  },
  {
   "cell_type": "code",
   "execution_count": null,
   "metadata": {
    "pycharm": {
     "name": "#%%\n"
    }
   },
   "outputs": [],
   "source": [
    "# Analyze reviews with SpaCy\n",
    "nlp = eng_spacysentiment.load()\n",
    "data[\"posrev_sc_pos\"] = data[\"positive_review\"].apply(\n",
    "                                        lambda x: nlp(x).cats[\"positive\"]\n",
    ")\n",
    "data[\"negrev_sc_neg\"] = data[\"negative_review\"].apply(\n",
    "                                        lambda x: nlp(x).cats[\"negative\"]\n",
    ")"
   ]
  },
  {
   "cell_type": "code",
   "execution_count": null,
   "metadata": {
    "pycharm": {
     "name": "#%%\n"
    }
   },
   "outputs": [],
   "source": [
    "# Analyze reviews with Blobber\n",
    "tb = Blobber(analyzer=NaiveBayesAnalyzer())\n",
    "\n",
    "data[\"posrev_tb_neg\"] = data[\"positive_review\"].apply(\n",
    "                                        lambda x: tb(x).sentiment.p_neg\n",
    ")\n",
    "data[\"posrev_tb_negclass\"] = data[\"posrev_tb_neg\"].apply(\n",
    "                                        lambda x: 1 if x > 0.5 else 0\n",
    ")\n",
    "data[\"negrev_tb_neg\"] = data[\"negative_review\"].apply(\n",
    "                                        lambda x: tb(x).sentiment.p_neg\n",
    ")\n",
    "data[\"negrev_tb_negclass\"] = data[\"negrev_tb_neg\"].apply(\n",
    "                                        lambda x: 1 if x > 0.5 else 0\n",
    ")"
   ]
  },
  {
   "cell_type": "code",
   "execution_count": null,
   "metadata": {
    "pycharm": {
     "name": "#%%\n"
    }
   },
   "outputs": [],
   "source": [
    "# Analyze reviews with Afinn analyzer\n",
    "\n",
    "data[\"negative_review_tmp\"] = data[\"negative_review\"].apply(\n",
    "                                        lambda x: x.replace(\"No Negative\", \"\")\n",
    ")\n",
    "data[\"positive_review_tmp\"] = data[\"positive_review\"].apply(\n",
    "                                        lambda x: x.replace(\"No Positive\", \"\")\n",
    ")\n",
    "\n",
    "afinn = Afinn()\n",
    "data[\"review_sum\"] = data[\"negative_review_tmp\"] + \\\n",
    "                                            \" \" + data[\"positive_review_tmp\"]\n",
    "data[\"afinn_score\"] = data[\"review_sum\"].apply(lambda x: afinn.score(x))"
   ]
  },
  {
   "cell_type": "code",
   "execution_count": null,
   "metadata": {
    "pycharm": {
     "name": "#%%\n"
    }
   },
   "outputs": [],
   "source": [
    "# Positive and negative review initial fix\n",
    "\n",
    "def get_pos_rev(text):\n",
    "    \"\"\" Positive review fix \"\"\"\n",
    "\n",
    "    neg_set = {                                                  # values mean negative\n",
    "        \"no positive\", \"na\", \"n a\", \"nil\", \"no\", \"non\", \n",
    "        \"nada\", \"nope\", \"zero\", \"none\", \"null\", \"none really\",\n",
    "        \"no thing\", \"nothing\", \"nothing really\"\n",
    "    }\n",
    "\n",
    "    text = text.lower().strip()\n",
    "    if len(text) <= 15:\n",
    "        text = str(TextBlob(text).correct()) # correct spell\n",
    "\n",
    "    for i in neg_set:\n",
    "        if text == i:\n",
    "            text = \"negative\"\n",
    "    return text\n",
    "\n",
    "\n",
    "def get_neg_rev(text):\n",
    "    \"\"\" Negative review fix \"\"\"\n",
    "\n",
    "    pos_set = {                                                  # values mean positive\n",
    "        \"no negative\", \"na\", \"n a\",  \"nil\", \"no\", \"non\", \n",
    "        \"nada\", \"nope\", \"zero\", \"none\", \"null\", \"no complaints\"\n",
    "        \"keinerlei beanstandung\", \"none really\", \"no thing\",\n",
    "        \"nothing\", \"nothing really\"\n",
    "    }\n",
    "\n",
    "    text = text.lower().strip()\n",
    "    if len(text) <= 15:\n",
    "        text = str(TextBlob(text).correct())  # correct spell\n",
    "\n",
    "    for i in pos_set:\n",
    "        if text == i:\n",
    "            text = \"positive\"\n",
    "    return text\n",
    "\n",
    "\n",
    "data[\"positive_review_fix\"] = data[\"positive_review\"].apply(get_pos_rev)\n",
    "data[\"negative_review_fix\"] = data[\"negative_review\"].apply(get_neg_rev)"
   ]
  },
  {
   "cell_type": "code",
   "execution_count": null,
   "metadata": {
    "pycharm": {
     "name": "#%%\n"
    }
   },
   "outputs": [],
   "source": [
    "# Polarity, subjectivity and modality of reviews with Pattern\n",
    "\n",
    "# Polarity\n",
    "data[\"negrev_pat_pol\"] = data[\"negative_review_fix\"].apply(\n",
    "                                                    lambda x: sentiment(x)[0]\n",
    ")\n",
    "data[\"posrev_pat_pol\"] = data[\"positive_review_fix\"].apply(\n",
    "                                                    lambda x: sentiment(x)[0]\n",
    ")\n",
    "\n",
    "# Subjectivity\n",
    "data[\"negrev_pat_sub\"] = data[\"negative_review_fix\"].apply(\n",
    "                                                    lambda x: sentiment(x)[1]\n",
    ")\n",
    "data[\"posrev_pat_sub\"] = data[\"positive_review_fix\"].apply(\n",
    "                                                    lambda x: sentiment(x)[1]\n",
    ")\n",
    "\n",
    "# Modality\n",
    "data[\"negrev_pat_mod\"] = data[\"negative_review_fix\"].apply(\n",
    "                                        lambda x: modality(Sentence(parse(x)))\n",
    ")\n",
    "data[\"posrev_pat_mod\"] = data[\"positive_review_fix\"].apply(\n",
    "                                        lambda x: modality(Sentence(parse(x)))\n",
    ")\n"
   ]
  },
  {
   "cell_type": "code",
   "execution_count": null,
   "metadata": {
    "collapsed": false,
    "pycharm": {
     "name": "#%%\n"
    }
   },
   "outputs": [],
   "source": [
    "# Further transformation of reviews\n",
    "\n",
    "# Create a list of stopwords\n",
    "garbage = nltk.corpus.stopwords.words(\"english\")\n",
    "garbage.extend([w.lower() for w in nltk.corpus.names.words()])\n",
    "\n",
    "# Clean up reviews\n",
    "def filter_review(text):\n",
    "    \"\"\" Filter text of review \"\"\"\n",
    "\n",
    "    rev_str = str()\n",
    "    rev_lst = [word.strip() for word in nltk.word_tokenize(text)]\n",
    "    for word in rev_lst:\n",
    "        if word.isalpha() and (word not in garbage) and\\\n",
    "                (len(word) > 2) and ((word != \"\") or (word != \" \")):\n",
    "            rev_str = rev_str + word + \" \"\n",
    "    return rev_str\n",
    "\n",
    "\n",
    "data[\"positive_review_fixed\"] = data[\"positive_review_fix\"].apply(filter_review)\n",
    "data[\"negative_review_fixed\"] = data[\"negative_review_fix\"].apply(filter_review)"
   ]
  },
  {
   "cell_type": "markdown",
   "metadata": {
    "pycharm": {
     "name": "#%% md\n"
    }
   },
   "source": [
    "*Choose most common words in reviews with highest and lowest scores and calculate ratio between number of these words and all words in review*"
   ]
  },
  {
   "cell_type": "code",
   "execution_count": null,
   "metadata": {
    "collapsed": false,
    "pycharm": {
     "name": "#%%\n"
    }
   },
   "outputs": [],
   "source": [
    "positive_words = list()\n",
    "negative_words = list()\n",
    "\n",
    "def get_pos_words(text):\n",
    "    \"\"\" Get unique positive words \"\"\"\n",
    "    \n",
    "    global positive_words\n",
    "    lst = text.split(\" \")\n",
    "    word_list = list(map(lambda w: w.strip(), lst))\n",
    "    for word in word_list:\n",
    "        positive_words.append(word)\n",
    "    return None\n",
    "\n",
    "def get_neg_words(text):\n",
    "    \"\"\" Get unique negative words \"\"\"\n",
    "    \n",
    "    global negative_words\n",
    "    lst = text.split(\" \")\n",
    "    word_list = list(map(lambda w: w.strip(), lst))\n",
    "    for word in word_list:\n",
    "        negative_words.append(word)\n",
    "    return None\n",
    "\n",
    "\n",
    "# Filter reviews with highest and lowest scores\n",
    "mask = data[\"sample\"] == 1\n",
    "mask1 = data[\"reviewer_score\"] >= 9.5\n",
    "mask2 = data[\"reviewer_score\"] <= 3.0\n",
    "data.loc[(mask & mask1), \"positive_review_fixed\"].apply(get_pos_words)\n",
    "data.loc[(mask & mask2), \"negative_review_fixed\"].apply(get_neg_words)\n",
    "\n",
    "# Create frequency distributions for each list of words\n",
    "# and remove common words for both\n",
    "positive_fd = nltk.FreqDist(positive_words)\n",
    "negative_fd = nltk.FreqDist(negative_words)\n",
    "\n",
    "print(\n",
    "    f\"[magenta]Initial number of words in positive_fd dictionary: \\\n",
    "[magenta bold]{len(positive_fd)}\"\n",
    ")\n",
    "print(\n",
    "    f\"[magenta]Initial number of words in negative_fd dictionary: \\\n",
    "[magenta bold]{len(negative_fd)}\"\n",
    ")\n",
    "\n",
    "common_words = set(positive_fd).intersection(negative_fd)\n",
    "for word in common_words:\n",
    "    del positive_fd[word]\n",
    "    del negative_fd[word]\n",
    "\n",
    "print(\n",
    "    f\"[magenta]Number of words in common_words set: \\\n",
    "[magenta bold]{len(common_words)}\"\n",
    ")\n",
    "print(\n",
    "    f\"[magenta]Result number of words in positive_fd dictionary: \\\n",
    "[magenta bold]{len(positive_fd)}\"\n",
    ")\n",
    "print(\n",
    "    f\"[magenta]Result number of words in negative_fd dictionary: \\\n",
    "[magenta bold]{len(negative_fd)}\"\n",
    ")\n",
    "\n",
    "# Choose most common unique words in positive and negative reviews\n",
    "top_neg = {word for word, count in negative_fd.most_common()}\n",
    "top_pos = {word for word, count in positive_fd.most_common(len(top_neg))}\n",
    "\n",
    "\n",
    "# Count ratio between number of most common words and all words in review\n",
    "def get_positive_word_ratio(text):\n",
    "    \"\"\" Ratio with most common positive words \"\"\"\n",
    "\n",
    "    wrd_lst = [word.strip() for word in nltk.word_tokenize(text)]\n",
    "    lngth = len(wrd_lst)\n",
    "    wrd_cnt = 0\n",
    "    if lngth == 0:\n",
    "        return 0\n",
    "    for i in top_pos:\n",
    "        if i in wrd_lst:\n",
    "            wrd_cnt += 1\n",
    "    return wrd_cnt / lngth\n",
    "\n",
    "\n",
    "data[\"pos_pos_words_ratio\"] = data[\"positive_review_fixed\"].apply(\n",
    "                                                        get_positive_word_ratio\n",
    ")\n",
    "data[\"neg_pos_words_ratio\"] = data[\"negative_review_fixed\"].apply(\n",
    "                                                        get_positive_word_ratio\n",
    ")\n",
    "\n",
    "def get_negative_word_ratio(text):\n",
    "    \"\"\" Ratio with most common negative words \"\"\"\n",
    "\n",
    "    wrd_lst = [word.strip() for word in nltk.word_tokenize(text)]\n",
    "    lngth = len(wrd_lst)\n",
    "    wrd_cnt = 0\n",
    "    if lngth == 0:\n",
    "        return 0\n",
    "    for i in top_neg:\n",
    "        if i in wrd_lst:\n",
    "            wrd_cnt += 1\n",
    "    return wrd_cnt / lngth\n",
    "\n",
    "\n",
    "data[\"pos_neg_words_ratio\"] = data[\"positive_review_fixed\"].apply(\n",
    "                                                        get_negative_word_ratio\n",
    ")\n",
    "data[\"neg_neg_words_ratio\"] = data[\"negative_review_fixed\"].apply(\n",
    "                                                        get_negative_word_ratio\n",
    ")"
   ]
  },
  {
   "cell_type": "code",
   "execution_count": null,
   "metadata": {
    "pycharm": {
     "name": "#%%\n"
    }
   },
   "outputs": [],
   "source": [
    "# Analyze reviews with Vader Sentiment Intensity Analyzer\n",
    "\n",
    "# Update analyzer lexicon for better analysis\n",
    "analyzer = SentimentIntensityAnalyzer()\n",
    "\n",
    "print(\n",
    "    f\"[magenta]Initial number of words in VADER lexicon: \\\n",
    "[magenta bold]{len(analyzer.lexicon)}\"\n",
    ")\n",
    "\n",
    "for word in top_neg:\n",
    "    if word in analyzer.lexicon:\n",
    "        analyzer.lexicon[word] -= 0.5\n",
    "    else:\n",
    "        analyzer.lexicon[word] = -1\n",
    "        \n",
    "for word in top_pos:\n",
    "    if word in analyzer.lexicon:\n",
    "        analyzer.lexicon[word] += 0.5\n",
    "    else:\n",
    "        analyzer.lexicon[word] = 1\n",
    "\n",
    "print(\n",
    "    f\"[magenta]Result number of words in VADER lexicon: \\\n",
    "[magenta bold]{len(analyzer.lexicon)}\"\n",
    ")\n",
    "\n",
    "\n",
    "# Negative reviews Sentiment Intensity Analysis\n",
    "data[\"negrev_vdr_neg\"] = data[\"negative_review\"].apply(\n",
    "                                lambda x: analyzer.polarity_scores(x)[\"neg\"]\n",
    ")\n",
    "data[\"negrev_vdr_neu\"] = data[\"negative_review\"].apply(\n",
    "                                lambda x: analyzer.polarity_scores(x)[\"neu\"]\n",
    ")\n",
    "data[\"negrev_vdr_pos\"] = data[\"negative_review\"].apply(\n",
    "                                lambda x: analyzer.polarity_scores(x)[\"pos\"]\n",
    ")\n",
    "data[\"negrev_vdr_compound\"] = data[\"negative_review\"].apply(\n",
    "                                lambda x: analyzer.polarity_scores(x)[\"compound\"]\n",
    ")\n",
    "\n",
    "# Positive reviews Sentiment Intensity Analysis\n",
    "data[\"posrev_vdr_neg\"] = data[\"positive_review\"].apply(\n",
    "                                lambda x: analyzer.polarity_scores(x)[\"neg\"]\n",
    ")\n",
    "data[\"posrev_vdr_neu\"] = data[\"positive_review\"].apply(\n",
    "                                lambda x: analyzer.polarity_scores(x)[\"neu\"]\n",
    ")\n",
    "data[\"posrev_vdr_pos\"] = data[\"positive_review\"].apply(\n",
    "                                lambda x: analyzer.polarity_scores(x)[\"pos\"]\n",
    ")\n",
    "data[\"posrev_vdr_compound\"] = data[\"positive_review\"].apply(\n",
    "                                lambda x: analyzer.polarity_scores(x)[\"compound\"]\n",
    ")"
   ]
  },
  {
   "cell_type": "markdown",
   "metadata": {
    "collapsed": false,
    "pycharm": {
     "name": "#%% md\n"
    }
   },
   "source": [
    "**Word counts in positive and negative reviews**<br>\n",
    "*Correlation of words numbers in reviews and reviewers' scores*"
   ]
  },
  {
   "cell_type": "code",
   "execution_count": null,
   "metadata": {
    "collapsed": false,
    "pycharm": {
     "name": "#%%\n"
    }
   },
   "outputs": [],
   "source": [
    "mask = data[\"sample\"] == 1 # as reviewers_score = 0 on sample = 0\n",
    "data_grp = data[mask].groupby([\"reviewer_score\"])[[\n",
    "                            \"review_total_negative_word_counts\",\n",
    "                            \"review_total_positive_word_counts\"\n",
    "                            ]].agg({\n",
    "                                \"review_total_negative_word_counts\":[\"max\", \"mean\"],\n",
    "                                \"review_total_positive_word_counts\":[\"max\", \"mean\"],\n",
    "                                }).reset_index()\n",
    "\n",
    "nw_max = list(data_grp[\"review_total_negative_word_counts\"][\"max\"].values)\n",
    "nw_mean = list(round(data_grp[\"review_total_negative_word_counts\"][\"mean\"]).values)\n",
    "\n",
    "pw_max = list(data_grp[\"review_total_positive_word_counts\"][\"max\"].values)\n",
    "pw_mean = list(round(data_grp[\"review_total_positive_word_counts\"][\"mean\"]).values)\n",
    "\n",
    "scores = list(map(str, data_grp[\"reviewer_score\"].values))"
   ]
  },
  {
   "cell_type": "code",
   "execution_count": null,
   "metadata": {
    "collapsed": false,
    "pycharm": {
     "name": "#%%\n"
    }
   },
   "outputs": [],
   "source": [
    "# Plot the mean and the maximum of negative and positive words counts\n",
    "fig = make_subplots(rows=2, cols=2, specs=[[{'type': 'polar'}]*2]*2)\n",
    "fig.add_trace(go.Scatterpolar(\n",
    "    name = \"Mean negative words count\",\n",
    "    r = nw_mean,\n",
    "    theta = scores,\n",
    "), 1, 1)\n",
    "fig.add_trace(go.Scatterpolar(\n",
    "    name = \"Max negative words count\",\n",
    "    r = nw_max,\n",
    "    theta = scores,\n",
    "), 2, 1)\n",
    "fig.add_trace(go.Scatterpolar(\n",
    "    name = \"Mean positive words count\",\n",
    "    r = pw_mean,\n",
    "    theta = scores,\n",
    "), 1, 2)\n",
    "fig.add_trace(go.Scatterpolar(\n",
    "    name = \"Max positive words count\",\n",
    "    r = pw_max,\n",
    "    theta = scores,\n",
    "), 2, 2)\n",
    "fig.update_traces(fill='toself')\n",
    "fig.update_layout(\n",
    "    font_family=\"Helvetica\",\n",
    "    title={\n",
    "        \"text\":\"Correlation of words counts and scores\",\n",
    "        \"x\":0.45, \"xanchor\":\"center\"\n",
    "        },\n",
    "    height=1000,\n",
    "    \n",
    "    polar = dict(\n",
    "        radialaxis_angle = 90,\n",
    "        angularaxis = dict(\n",
    "            direction = \"clockwise\",\n",
    "            period = 6)\n",
    "    ),\n",
    "    polar2 = dict(\n",
    "        radialaxis_angle = 90,\n",
    "        angularaxis = dict(\n",
    "            direction = \"clockwise\",\n",
    "            period = 6),\n",
    "    ),\n",
    "    polar3 = dict(\n",
    "        radialaxis_angle = 90,\n",
    "        angularaxis = dict(\n",
    "            direction = \"clockwise\",\n",
    "            period = 6)\n",
    "    ),\n",
    "    polar4 = dict(\n",
    "        radialaxis_angle = 90,\n",
    "        angularaxis = dict(\n",
    "            direction = \"clockwise\",\n",
    "            period = 6)\n",
    "    )\n",
    ")\n",
    "fig.show(\"notebook\")"
   ]
  },
  {
   "cell_type": "markdown",
   "metadata": {
    "collapsed": false,
    "pycharm": {
     "name": "#%% md\n"
    }
   },
   "source": [
    "*As we can see above, there are two types of correlations:*<br>\n",
    " - *positive correlation for positive words count(as the **larger** number of **positive** words the **higher score**)*\n",
    " - *negative correlation for negative words count(as the **larger** number of **negative** words the **lower score**)*\n",
    "\n",
    "*This is obvious enough.*<br>\n",
    "*So, we can make new feature: difference of words. This will be normalized difference of numbers of positive and negative words.*"
   ]
  },
  {
   "cell_type": "code",
   "execution_count": null,
   "metadata": {
    "collapsed": false,
    "pycharm": {
     "name": "#%%\n"
    }
   },
   "outputs": [],
   "source": [
    "# Count difference of positive and negative words counts\n",
    "data[\"diff_words\"] = data[\"review_total_positive_word_counts\"] -\\\n",
    "                                    data[\"review_total_negative_word_counts\"]\n",
    "\n",
    "# Normalize difference\n",
    "mm_scaler = preprocessing.MinMaxScaler()\n",
    "data[\"diff_words_norm\"] = pd.DataFrame(\n",
    "    mm_scaler.fit_transform(pd.DataFrame(data[\"diff_words\"])),\n",
    "    columns=[\"diff_words\"]\n",
    ")\n",
    "\n",
    "# Positive words prevalence marker\n",
    "data[\"pos_words_marker\"] = data[\"diff_words\"].apply(lambda x: 1 if x > 0 else 0)\n",
    "\n",
    "# Positive words counts to all words in review ratio\n",
    "data[\"word_counts_sum\"] = data[\"review_total_positive_word_counts\"] +\\\n",
    "                                    data[\"review_total_negative_word_counts\"]\n",
    "\n",
    "# If sum of words is 0, ratio will be equal 0.5\n",
    "data[\"pos_words_ratio\"] = data.apply(\n",
    "                            lambda x: 0.5\n",
    "                            if x[\"word_counts_sum\"] == 0\n",
    "                            else x[\"review_total_positive_word_counts\"] / \\\n",
    "                                                        x[\"word_counts_sum\"],\n",
    "                            axis=1\n",
    ")\n",
    "\n",
    "# Drop unnecessary columns\n",
    "data.drop([\"diff_words\", \"word_counts_sum\"], axis=1, inplace=True)"
   ]
  },
  {
   "cell_type": "markdown",
   "metadata": {
    "collapsed": false,
    "pycharm": {
     "name": "#%% md\n"
    }
   },
   "source": [
    "*We shall **not change** feature **'total_number_of_reviews_reviewer_has_given'**, because it is numeric and has less then 200 unique values, so **we can use it as it is**.*"
   ]
  },
  {
   "cell_type": "code",
   "execution_count": null,
   "metadata": {
    "collapsed": false,
    "pycharm": {
     "name": "#%%\n"
    }
   },
   "outputs": [],
   "source": [
    "# Check if there is missed data\n",
    "get_nan_cols(data)\n",
    "# Look at final dataset\n",
    "data.info()"
   ]
  },
  {
   "cell_type": "code",
   "execution_count": null,
   "metadata": {
    "collapsed": false,
    "pycharm": {
     "name": "#%%\n"
    }
   },
   "outputs": [],
   "source": [
    "# A copy of dataset if something would go wrong\n",
    "df_cp = data.copy()"
   ]
  },
  {
   "cell_type": "code",
   "execution_count": null,
   "metadata": {
    "collapsed": false,
    "pycharm": {
     "name": "#%%\n"
    }
   },
   "outputs": [],
   "source": [
    "# Delete nonnumeric data\n",
    "print(\n",
    "    f\"[magenta]Initial number of features: [magenta bold]{len(df_cp.columns)-2}\"\n",
    ")\n",
    "\n",
    "object_columns = [col for col in df_cp.columns if df_cp[col].dtypes == \"object\"]\n",
    "\n",
    "df_cp.drop(object_columns, axis = 1, inplace=True)\n",
    "\n",
    "print(\n",
    "    f\"[magenta]Number of features after deleting nonnumeric columns: \\\n",
    "[magenta bold]{len(df_cp.columns)-2}\"\n",
    ")"
   ]
  },
  {
   "cell_type": "markdown",
   "metadata": {
    "collapsed": false,
    "pycharm": {
     "name": "#%% md\n"
    }
   },
   "source": [
    "*Now check data for **multicollinearity**.*<br>\n",
    "*There are two types of data: **numerical** and **categorical**, so use different methods for multicollinearity counting.*<br>\n",
    "*Divide data into two groups.*"
   ]
  },
  {
   "cell_type": "code",
   "execution_count": null,
   "metadata": {
    "collapsed": false,
    "pycharm": {
     "name": "#%%\n"
    }
   },
   "outputs": [],
   "source": [
    "# Numerical data\n",
    "num_feats = [\n",
    "    \"review_total_negative_word_counts\", \"review_total_positive_word_counts\", \n",
    "    \"days_since_review\", \"cent_dist\", \"total_number_of_reviews_reviewer_has_given\", \n",
    "    \"negrev_vdr_neg\", \"negrev_vdr_neu\", \"negrev_vdr_pos\", \"negrev_vdr_compound\",\n",
    "    \"posrev_vdr_neg\", \"posrev_vdr_neu\", \"posrev_vdr_pos\", \"posrev_vdr_compound\", \n",
    "    \"posrev_tb_neg\", \"posrev_tb_negclass\",\"negrev_tb_neg\", \"negrev_tb_negclass\", \n",
    "    \"afinn_score\", \"diff_words_norm\",\"pos_words_marker\", \"pos_words_ratio\",\n",
    "    \"pos_pos_words_ratio\", \"pos_neg_words_ratio\", \"neg_pos_words_ratio\",\n",
    "    \"neg_neg_words_ratio\", \"posrev_sc_pos\", \"negrev_sc_neg\",\n",
    "    \"negrev_pat_pol\", \"negrev_pat_sub\", \"posrev_pat_pol\", \"posrev_pat_sub\",\n",
    "    \"negrev_pat_mod\", \"posrev_pat_mod\"\n",
    "]\n",
    "\n",
    "# Categorical data\n",
    "cat_feats = [\n",
    "    \"additional_number_of_scoring\", \"average_score\", \"total_number_of_reviews\",\n",
    "    \"hotel_enc\", \"hotel_city_enc\", \"hotel_growth_enc\", \"suspicion_enc\",\n",
    "    \"rev_continent_enc\", \"pet_tag\", \"trip_tag\", \"nights_tag\", \"mob_dev_tag\",\n",
    "    \"roomX2\", \"roomX3\", \"roomX4\", \"with_view\", \"rev_type_couple\",\n",
    "    \"rev_type_solo traveler\", \"rev_type_family with young children\",\n",
    "    \"rev_type_group\", \"rev_type_family with older children\", \"review_season\",\n",
    "    \"rev_type_travelers with friends\", \"room_type_suite\", \"room_type_standard\",\n",
    "    \"room_type_other\", \"room_type_superior\", \"room_type_king\", \"room_type_luxury\",\n",
    "    \"room_type_executive\", \"room_type_family\", \"room_type_deluxe\", \n",
    "    \"room_type_no window\", \"room_type_premier\", \"room_type_basic\", \n",
    "    \"room_type_classic\", \"room_type_queen\", \"room_type_guestroom\", \n",
    "    \"room_type_club\", \"room_type_junior\", \"num_tag_enc\", \"review_month\"\n",
    "]\n",
    "\n",
    "print(\n",
    "    f\"[magenta]Number of features with numerical data: \\\n",
    "[magenta bold]{len(num_feats)}\"\n",
    ")\n",
    "print(\n",
    "    f\"[magenta]Number of features with categorical data: \\\n",
    "[magenta bold]{len(cat_feats)}\"\n",
    ")"
   ]
  },
  {
   "cell_type": "code",
   "execution_count": null,
   "metadata": {
    "collapsed": false,
    "pycharm": {
     "name": "#%%\n"
    }
   },
   "outputs": [],
   "source": [
    "# Look at numeric data correlation\n",
    "corr = df_cp[num_feats].corr(\"pearson\").round(2)\n",
    "mask_plot = np.triu(np.ones_like(corr, dtype=bool))\n",
    "df_mask = corr.mask(mask_plot)\n",
    "\n",
    "fig = ff.create_annotated_heatmap(\n",
    "    z=df_mask.to_numpy(), \n",
    "    x=df_mask.columns.tolist(),\n",
    "    y=df_mask.columns.tolist(),\n",
    "    colorscale=px.colors.diverging.oxy,\n",
    "    showscale=True, \n",
    "    ygap=1, \n",
    "    xgap=1,\n",
    ")\n",
    "\n",
    "fig.update_xaxes(side=\"bottom\")\n",
    "fig.update_layout(\n",
    "    title_text=\"Correlation of numeric data by Pearson\", \n",
    "    title_x=0.5, \n",
    "    width=1500, \n",
    "    height=1300,\n",
    "    xaxis_showgrid=False,\n",
    "    yaxis_showgrid=False,\n",
    "    xaxis_zeroline=False,\n",
    "    yaxis_zeroline=False,\n",
    "    yaxis_autorange=\"reversed\",\n",
    "    template=\"plotly_white\"\n",
    ")\n",
    "fig.show(\"notebook\")"
   ]
  },
  {
   "cell_type": "code",
   "execution_count": null,
   "metadata": {
    "collapsed": false,
    "pycharm": {
     "name": "#%%\n"
    }
   },
   "outputs": [],
   "source": [
    "# Considering specifics of sentiment analysis data, \n",
    "# let's delete data with correlation higher than 0.8\n",
    "df_cp.drop([\n",
    "    \"negrev_vdr_neu\", \"review_total_negative_word_counts\",\n",
    "    \"pos_words_marker\"\n",
    "     ],\n",
    "    axis=1,\n",
    "    inplace=True\n",
    ")"
   ]
  },
  {
   "cell_type": "code",
   "execution_count": null,
   "metadata": {
    "collapsed": false,
    "pycharm": {
     "name": "#%%\n"
    }
   },
   "outputs": [],
   "source": [
    "# Look at categorical data correlation\n",
    "corr = df_cp[cat_feats].corr(\"spearman\").round(2)\n",
    "mask_plot = np.triu(np.ones_like(corr, dtype=bool))\n",
    "df_mask = corr.mask(mask_plot)\n",
    "\n",
    "fig = ff.create_annotated_heatmap(\n",
    "    z=df_mask.to_numpy(), \n",
    "    x=df_mask.columns.tolist(),\n",
    "    y=df_mask.columns.tolist(),\n",
    "    colorscale=px.colors.diverging.oxy,\n",
    "    showscale=True, \n",
    "    ygap=1, \n",
    "    xgap=1,\n",
    ")\n",
    "\n",
    "fig.update_xaxes(side=\"bottom\")\n",
    "fig.update_layout(\n",
    "    title_text=\"Correlation of categorical data by Spearman\", \n",
    "    title_x=0.5, \n",
    "    width=1500, \n",
    "    height=1300,\n",
    "    xaxis_showgrid=False,\n",
    "    yaxis_showgrid=False,\n",
    "    xaxis_zeroline=False,\n",
    "    yaxis_zeroline=False,\n",
    "    yaxis_autorange=\"reversed\",\n",
    "    template=\"plotly_white\"\n",
    ")\n",
    "fig.show(\"notebook\")"
   ]
  },
  {
   "cell_type": "code",
   "execution_count": null,
   "metadata": {
    "collapsed": false,
    "pycharm": {
     "name": "#%%\n"
    }
   },
   "outputs": [],
   "source": [
    "# Delete data with correlation higher than 0.8\n",
    "df_cp.drop([\"additional_number_of_scoring\"], axis=1, inplace=True)\n",
    "\n",
    "print(\n",
    "    f\"[magenta]Resulting number of features for model training: \\\n",
    "[magenta bold]{df_cp.shape[1]-2}\"\n",
    ")"
   ]
  },
  {
   "cell_type": "code",
   "execution_count": null,
   "metadata": {
    "collapsed": false,
    "pycharm": {
     "name": "#%%\n"
    }
   },
   "outputs": [],
   "source": [
    "# Look at the importance of the features using ANOVA test\n",
    "X = df_cp.loc[df_cp[\"sample\"]==1].drop([\"sample\", \"reviewer_score\"], axis=1)\n",
    "y = df_cp.loc[df_cp[\"sample\"]==1, \"reviewer_score\"].values\n",
    "\n",
    "# As we have negative values in data, we can not use chi2 test\n",
    "# So, we shall use ANOVA for all features\n",
    "imp_feats = pd.Series(f_classif(X, y)[0], index = X.columns)\n",
    "imp_feats.sort_values(inplace = True)\n",
    "\n",
    "fig=px.bar(\n",
    "    imp_feats,\n",
    "    orientation=\"h\",\n",
    "    text_auto=\" .5\",\n",
    "    height = 1200,\n",
    "    width=1400,\n",
    "    color=imp_feats.values,\n",
    "    title=\"Importance of features according to ANOVA test\",\n",
    "    labels={\"color\":\"Score range\"}\n",
    ")\n",
    "fig.update_layout(\n",
    "    font_family=\"Helvetica\",\n",
    "    xaxis=dict(tickfont_size=14, title=\"Score\"),\n",
    "    yaxis=dict(tickfont_size=12, title=\"Features\")\n",
    ")\n",
    "fig.update_traces(\n",
    "    textfont_size=12, \n",
    "    textangle=0, \n",
    "    textposition=\"outside\", \n",
    "    cliponaxis=False\n",
    ")\n",
    "fig.show(\"notebook\")\n"
   ]
  },
  {
   "cell_type": "code",
   "execution_count": null,
   "metadata": {
    "collapsed": false,
    "pycharm": {
     "name": "#%%\n"
    }
   },
   "outputs": [],
   "source": [
    "# Remove features with score less than 3.5\n",
    "feats_drop = [\n",
    "    \"room_type_junior\", \"room_type_club\", \"room_type_executive\",\n",
    "    \"room_type_family\", \"rev_type_travelers with friends\", \"pet_tag\", \"roomX4\", \n",
    "    \"rev_type_family with older children\", \"room_type_king\", \"roomX2\", \n",
    "    \"room_type_basic\", \"num_tag_enc\", \"roomX3\", \"rev_type_group\", \n",
    "    \"room_type_queen\", \"room_type_luxury\", \"rev_type_family with young children\", \n",
    "    \"room_type_premier\", \"days_since_review\", \"room_type_suite\", \n",
    "    \"room_type_deluxe\", \"room_type_guestroom\"\n",
    "]\n",
    "\n",
    "df_cp.drop(feats_drop, axis=1, inplace=True)\n",
    "print(\n",
    "    f\"[magenta]Resulting number of features for model training: \\\n",
    "[magenta bold]{df_cp.shape[1]-2}\"\n",
    ")"
   ]
  },
  {
   "cell_type": "code",
   "execution_count": null,
   "metadata": {
    "collapsed": false,
    "pycharm": {
     "name": "#%%\n"
    }
   },
   "outputs": [],
   "source": [
    "# Allocate train and test parts\n",
    "train_data = df_cp.query(\"sample == 1\").drop([\"sample\"], axis=1)\n",
    "test_data = df_cp.query(\"sample == 0\").drop([\"sample\"], axis=1)\n",
    "\n",
    "y = train_data.reviewer_score.values            # target feature\n",
    "X = train_data.drop([\"reviewer_score\"], axis=1)"
   ]
  },
  {
   "cell_type": "code",
   "execution_count": null,
   "metadata": {
    "collapsed": false,
    "pycharm": {
     "name": "#%%\n"
    }
   },
   "outputs": [],
   "source": [
    "# Use train_test_split function for dividing data\n",
    "# Allocate 20% of data for validation\n",
    "X_train, X_test, y_train, y_test = train_test_split(\n",
    "                                                X, y,\n",
    "                                                test_size=0.2,\n",
    "                                                random_state=RANDOM_SEED\n",
    ")"
   ]
  },
  {
   "cell_type": "code",
   "execution_count": null,
   "metadata": {
    "collapsed": false,
    "pycharm": {
     "name": "#%%\n"
    }
   },
   "outputs": [],
   "source": [
    "# Check result data\n",
    "test_data.shape, train_data.shape, X.shape, X_train.shape, X_test.shape"
   ]
  },
  {
   "cell_type": "code",
   "execution_count": null,
   "metadata": {
    "collapsed": false,
    "pycharm": {
     "name": "#%%\n"
    }
   },
   "outputs": [],
   "source": [
    "# Create model\n",
    "model = RandomForestRegressor(\n",
    "    n_estimators=100, \n",
    "    verbose=1, \n",
    "    n_jobs=-1, \n",
    "    random_state=RANDOM_SEED\n",
    ")"
   ]
  },
  {
   "cell_type": "code",
   "execution_count": null,
   "metadata": {
    "collapsed": false,
    "pycharm": {
     "name": "#%%\n"
    }
   },
   "outputs": [],
   "source": [
    "# Train model on train data\n",
    "model.fit(X_train, y_train)\n",
    "\n",
    "# Use pretrained model to predict scores of the hotels in test part\n",
    "# Write predictions into y_pred\n",
    "y_pred = model.predict(X_test)"
   ]
  },
  {
   "cell_type": "code",
   "execution_count": null,
   "metadata": {
    "collapsed": false,
    "pycharm": {
     "name": "#%%\n"
    }
   },
   "outputs": [],
   "source": [
    "# Compare predicted values(y_pred) with real data(y_test) and how they differ\n",
    "# Use metric: Mean Absolute Percentage Error (MAPE)\n",
    "print(\n",
    "    f\"[magenta]MAPE: \\\n",
    "[magenta bold]{round(metrics.mean_absolute_percentage_error(y_test, y_pred)*100, 5)}\"\n",
    ")"
   ]
  },
  {
   "cell_type": "code",
   "execution_count": null,
   "metadata": {
    "collapsed": false,
    "pycharm": {
     "name": "#%%\n"
    }
   },
   "outputs": [],
   "source": [
    "# The most important features for model\n",
    "plt.rcParams[\"figure.figsize\"] = (10,10)\n",
    "feat_importances = pd.Series(model.feature_importances_, index=X.columns)\n",
    "feat_importances.nlargest(50).plot(kind=\"barh\", color=\"purple\")"
   ]
  },
  {
   "cell_type": "code",
   "execution_count": null,
   "metadata": {
    "pycharm": {
     "name": "#%%\n"
    }
   },
   "outputs": [],
   "source": [
    "# Predict target feature\n",
    "test_data = test_data.drop(['reviewer_score'], axis=1)\n",
    "predict_submission = model.predict(test_data)\n",
    "sample_submission[\"reviewer_score\"] = predict_submission\n",
    "sample_submission.to_csv(\"submission.csv\", index=False)\n",
    "sample_submission.head(10)"
   ]
  }
 ],
 "metadata": {
  "kernelspec": {
   "display_name": "Python 3.9.12 ('SFDS')",
   "language": "python",
   "name": "python3"
  },
  "language_info": {
   "codemirror_mode": {
    "name": "ipython",
    "version": 3
   },
   "file_extension": ".py",
   "mimetype": "text/x-python",
   "name": "python",
   "nbconvert_exporter": "python",
   "pygments_lexer": "ipython3",
   "version": "3.9.12"
  },
  "vscode": {
   "interpreter": {
    "hash": "98c2faa37bcfea62705d2fbc0dd7d204fd26954790a864faa64b2a1e0de25972"
   }
  }
 },
 "nbformat": 4,
 "nbformat_minor": 4
}